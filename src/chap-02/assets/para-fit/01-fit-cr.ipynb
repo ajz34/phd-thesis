{
 "cells": [
  {
   "cell_type": "code",
   "execution_count": 1,
   "id": "18f9dc95-d657-4fad-9e75-ae62168feb60",
   "metadata": {},
   "outputs": [],
   "source": [
    "import pandas as pd\n",
    "import json\n",
    "import numpy as np\n",
    "import scipy\n",
    "import scipy.optimize"
   ]
  },
  {
   "cell_type": "code",
   "execution_count": 2,
   "id": "0a4f5001-e0f2-448e-8ba3-9d90fe987ec8",
   "metadata": {},
   "outputs": [],
   "source": [
    "def eng_by_coeff(df, coeff):\n",
    "    res = None\n",
    "    for entry, val in coeff.items():\n",
    "        if res is None: res = val * df.loc[entry]\n",
    "        else: res += val * df.loc[entry]\n",
    "    return res"
   ]
  },
  {
   "cell_type": "markdown",
   "id": "26b357d1-9eea-4adf-a9df-44f5afd60013",
   "metadata": {},
   "source": [
    "## Read data"
   ]
  },
  {
   "cell_type": "code",
   "execution_count": 3,
   "id": "7471fcc0-f16a-47c7-b021-46539433982c",
   "metadata": {},
   "outputs": [],
   "source": [
    "with open(\"../MN15_REF.json\") as f:\n",
    "    MN15_REF = json.load(f)\n",
    "with open(\"../GMTKN55_REF.json\") as f:\n",
    "    GMTKN55_REF = json.load(f)"
   ]
  },
  {
   "cell_type": "code",
   "execution_count": 4,
   "id": "892e8c13-2241-4f0b-b497-55b40c0e4d6a",
   "metadata": {},
   "outputs": [],
   "source": [
    "df_GMTKN55_b3lyp = pd.read_csv(\"../GMTKN55_b3lyp.csv\", header=[0, 1], index_col=[0])\n",
    "df_MN15_b3lyp = pd.read_csv(\"../MN15_b3lyp.csv\", header=[0, 1], index_col=[0])"
   ]
  },
  {
   "cell_type": "code",
   "execution_count": 5,
   "id": "8de1da1e-f376-4789-b156-064b6e02b482",
   "metadata": {},
   "outputs": [],
   "source": [
    "df_react_GMTKN55 = pd.DataFrame(\n",
    "    index=list(df_GMTKN55_b3lyp.index) + [\"ref\"],\n",
    "    columns=pd.MultiIndex.from_tuples([v.split(\"/\") for v in GMTKN55_REF.keys()]),\n",
    "    data=0.0)\n",
    "for entry, info in GMTKN55_REF.items():\n",
    "    dataset, idx = entry.split(\"/\")\n",
    "    for syst, stoi in zip(info[\"systems\"], info[\"stoichiometry\"]):\n",
    "        dat, syst = syst.split(\"/\")\n",
    "        df_react_GMTKN55[(dataset, idx)] += stoi * df_GMTKN55_b3lyp[dat][syst]\n",
    "        df_react_GMTKN55.loc[\"ref\", (dataset, idx)] = info[\"ref\"]"
   ]
  },
  {
   "cell_type": "code",
   "execution_count": 6,
   "id": "e7bb2dc9-30b7-4450-bbb7-b7626b81f6ce",
   "metadata": {},
   "outputs": [],
   "source": [
    "df_react_MN15 = pd.DataFrame(\n",
    "    index=list(df_MN15_b3lyp.index) + [\"ref\", \"bond\"],\n",
    "    columns=pd.MultiIndex.from_tuples([v.split(\"/\") for v in MN15_REF.keys()]),\n",
    "    data=0.0)\n",
    "for entry, info in MN15_REF.items():\n",
    "    dataset, idx = entry.split(\"/\")\n",
    "    for syst, stoi in zip(info[\"systems\"], info[\"stoichiometry\"]):\n",
    "        df_react_MN15[(dataset, idx)] += stoi * df_MN15_b3lyp[dataset][syst]\n",
    "        df_react_MN15.loc[\"ref\", (dataset, idx)] = info[\"ref\"]\n",
    "        df_react_MN15.loc[\"bond\", (dataset, idx)] = info[\"bond\"]"
   ]
  },
  {
   "cell_type": "markdown",
   "id": "0a285c29-94a0-4dc5-aa9e-6ca6be269953",
   "metadata": {},
   "source": [
    "## Existing Data"
   ]
  },
  {
   "cell_type": "code",
   "execution_count": 7,
   "id": "49bbc810-dadf-41b9-839e-3e1eeb251a87",
   "metadata": {},
   "outputs": [],
   "source": [
    "para_exist = {\n",
    "    \"B3LYP\": {\n",
    "        \"eng_noxc\": 1,\n",
    "        \"eng_exx_HF\": 0.2,\n",
    "        \"eng_purexc_LDA_X\": 0.08,\n",
    "        \"eng_purexc_GGA_X_B88\": 0.72,\n",
    "        \"eng_purexc_LDA_C_VWN_RPA\": 0.19,\n",
    "        \"eng_purexc_GGA_C_LYP\": 0.81\n",
    "    },\n",
    "    \"B3LYP5\": {\n",
    "        \"eng_noxc\": 1,\n",
    "        \"eng_exx_HF\": 0.2,\n",
    "        \"eng_purexc_LDA_X\": 0.08,\n",
    "        \"eng_purexc_GGA_X_B88\": 0.72,\n",
    "        \"eng_purexc_LDA_C_VWN\": 0.19,\n",
    "        \"eng_purexc_GGA_C_LYP\": 0.81\n",
    "    },\n",
    "    \"XYG3\": {\n",
    "        \"eng_noxc\": 1,\n",
    "        \"eng_exx_HF\": 0.8033,\n",
    "        \"eng_purexc_LDA_X\": -0.0140,\n",
    "        \"eng_purexc_GGA_X_B88\": 0.2107,\n",
    "        \"eng_purexc_GGA_C_LYP\": 0.6789,\n",
    "        \"eng_corr_MP2\": 0.3211\n",
    "    },\n",
    "    \"revXYG3\": {\n",
    "        \"eng_noxc\": 1,\n",
    "        \"eng_exx_HF\": 0.9196,\n",
    "        \"eng_purexc_LDA_X\": -0.0222,\n",
    "        \"eng_purexc_GGA_X_B88\": 0.1026,\n",
    "        \"eng_purexc_GGA_C_LYP\": 0.6059,\n",
    "        \"eng_corr_MP2\": 0.3941\n",
    "    },\n",
    "    \"revXYGJ-OS\": {\n",
    "        \"eng_noxc\": 1,\n",
    "        \"eng_exx_HF\": 0.8877,\n",
    "        \"eng_purexc_LDA_X\": 0.1123,\n",
    "        \"eng_purexc_LDA_C_VWN_RPA\": -0.0697,\n",
    "        \"eng_purexc_GGA_C_LYP\": 0.6167,\n",
    "        \"eng_corr_MP2_OS\": 0.5485,\n",
    "    },\n",
    "    \"XYG5\": {\n",
    "        \"eng_noxc\": 1,\n",
    "        \"eng_exx_HF\": 0.9150,\n",
    "        \"eng_purexc_LDA_X\": 0.0612,\n",
    "        \"eng_purexc_GGA_X_B88\": 0.0238,\n",
    "        \"eng_purexc_LDA_C_VWN_RPA\": 0,\n",
    "        \"eng_purexc_GGA_C_LYP\": 0.4957,\n",
    "        \"eng_corr_MP2_OS\": 0.4548,\n",
    "        \"eng_corr_MP2_SS\": 0.2764,\n",
    "    },\n",
    "    \"XYG6\": {\n",
    "        \"eng_noxc\": 1,\n",
    "        \"eng_exx_HF\": 0.9105,\n",
    "        \"eng_purexc_LDA_X\": 0.1576,\n",
    "        \"eng_purexc_GGA_X_B88\": -0.0681,\n",
    "        \"eng_purexc_LDA_C_VWN_RPA\": 0.1800,\n",
    "        \"eng_purexc_GGA_C_LYP\": 0.2244,\n",
    "        \"eng_corr_MP2_OS\": 0.4695,\n",
    "        \"eng_corr_MP2_SS\": 0.2426,\n",
    "    },\n",
    "    \"XYG7\": {\n",
    "        \"eng_noxc\": 1,\n",
    "        \"eng_exx_HF\": 0.8971,\n",
    "        \"eng_purexc_LDA_X\": 0.2055,\n",
    "        \"eng_purexc_GGA_X_B88\": -0.1408,\n",
    "        \"eng_purexc_LDA_C_VWN_RPA\": 0.4056,\n",
    "        \"eng_purexc_GGA_C_LYP\": 0.1159,\n",
    "        \"eng_corr_MP2_OS\": 0.4052,\n",
    "        \"eng_corr_MP2_SS\": 0.2589,\n",
    "    },\n",
    "}"
   ]
  },
  {
   "cell_type": "markdown",
   "id": "e295878b-ac34-4df3-92c7-cfa918f2b447",
   "metadata": {},
   "source": [
    "## Useful functions"
   ]
  },
  {
   "cell_type": "code",
   "execution_count": 8,
   "id": "867ce362-e5fa-496f-9f48-741b3451aca4",
   "metadata": {},
   "outputs": [],
   "source": [
    "def err_wtmad2(para):\n",
    "    r = eng_by_coeff(df_react_GMTKN55, para) * 627.51\n",
    "    d = r - df_react_GMTKN55.loc[\"ref\"]\n",
    "\n",
    "    err = 0\n",
    "    for dataset in d.index.levels[0]:\n",
    "        err += 56.84 * d[dataset].abs().sum() / df_react_GMTKN55.loc[\"ref\"][dataset].abs().mean()\n",
    "    err /= df_react_GMTKN55.columns.size\n",
    "    return err"
   ]
  },
  {
   "cell_type": "code",
   "execution_count": 9,
   "id": "66250c6e-420e-40fb-bac8-aed38607606d",
   "metadata": {},
   "outputs": [],
   "source": [
    "def err_our(para, to_list=False):\n",
    "    err_wt = err_wtmad2(para)\n",
    "    ret = {\"GMTKN55\": err_wt}\n",
    "    \n",
    "    r = eng_by_coeff(df_react_MN15, para) * 627.51\n",
    "    d = (r - df_react_MN15.loc[\"ref\"]) / df_react_MN15.loc[\"bond\"]\n",
    "\n",
    "    for dataset in d.index.levels[0]:\n",
    "        ret[dataset] = d[dataset].abs().mean()\n",
    "    ret = pd.Series(ret)\n",
    "    \n",
    "    if to_list:\n",
    "        return ret\n",
    "    else:\n",
    "        ret /= 25\n",
    "        ret[\"GMTKN55\"]     *= 12\n",
    "        ret[\"MR-MGM-BE4\"]  *= 3\n",
    "        ret[\"MR-MGN-BE17\"] *= 2\n",
    "        ret[\"MR-TM-BE13\"]  *= 3\n",
    "        ret[\"SR-MGM-BE9\"]  *= 2\n",
    "        ret[\"SR-TM-BE17\"]  *= 3\n",
    "        return ret.sum()"
   ]
  },
  {
   "cell_type": "code",
   "execution_count": null,
   "id": "0eb787c0-b471-47bd-bf05-233da31d5dd2",
   "metadata": {},
   "outputs": [],
   "source": []
  },
  {
   "cell_type": "code",
   "execution_count": 10,
   "id": "57ea88c0-f52c-4945-a673-4326bb58174b",
   "metadata": {},
   "outputs": [
    {
     "data": {
      "text/plain": [
       "15.901263668183562"
      ]
     },
     "execution_count": 10,
     "metadata": {},
     "output_type": "execute_result"
    }
   ],
   "source": [
    "err_wtmad2(para_exist[\"B3LYP\"])"
   ]
  },
  {
   "cell_type": "code",
   "execution_count": 11,
   "id": "bbb49f28-64e8-4189-83f4-b9710ca49a97",
   "metadata": {},
   "outputs": [
    {
     "data": {
      "text/plain": [
       "2.008436604756705"
      ]
     },
     "execution_count": 11,
     "metadata": {},
     "output_type": "execute_result"
    }
   ],
   "source": [
    "err_wtmad2(para_exist[\"XYG7\"])"
   ]
  },
  {
   "cell_type": "code",
   "execution_count": 12,
   "id": "898abed4-ca7b-4bef-a9a2-18d84debad73",
   "metadata": {},
   "outputs": [],
   "source": [
    "def get_para_xyg7(arr):\n",
    "    return {\n",
    "        \"eng_noxc\": 1,\n",
    "        \"eng_exx_HF\": arr[0],\n",
    "        \"eng_purexc_LDA_X\": arr[1],\n",
    "        \"eng_purexc_GGA_X_B88\": arr[2],\n",
    "        \"eng_purexc_LDA_C_VWN_RPA\": arr[3],\n",
    "        \"eng_purexc_GGA_C_LYP\": arr[4],\n",
    "        \"eng_corr_MP2_OS\": arr[5],\n",
    "        \"eng_corr_MP2_SS\": arr[6],\n",
    "    }\n",
    "    "
   ]
  },
  {
   "cell_type": "code",
   "execution_count": 13,
   "id": "8ca4fac1-6945-4410-9e9f-1ef79f15172e",
   "metadata": {},
   "outputs": [],
   "source": [
    "def str_arr(arr):\n",
    "    return \"[\" + \", \".join([f\"{i:.6f}\" for i in arr]) + \"]\""
   ]
  },
  {
   "cell_type": "markdown",
   "id": "99d71a2f-efee-453b-8af3-3c4872ae6767",
   "metadata": {},
   "source": [
    "## Optimize: without cr"
   ]
  },
  {
   "cell_type": "markdown",
   "id": "633e1b9b-70a2-47e9-85ec-31c2486b339e",
   "metadata": {},
   "source": [
    "### XYG7 reoptimize"
   ]
  },
  {
   "cell_type": "code",
   "execution_count": 14,
   "id": "7c33d9ce-041f-48c6-ba0a-b92e72df913c",
   "metadata": {},
   "outputs": [],
   "source": [
    "def get_para_xyg7(arr):\n",
    "    c_x, c_s, c_b88, c_vwn, c_lyp, c_os, c_ss = arr\n",
    "    return {\n",
    "        \"eng_noxc\": 1,\n",
    "        \"eng_exx_HF\": c_x,\n",
    "        \"eng_purexc_LDA_X\": c_s,\n",
    "        \"eng_purexc_GGA_X_B88\": c_b88,\n",
    "        \"eng_purexc_LDA_C_VWN\": c_vwn,\n",
    "        \"eng_purexc_GGA_C_LYP\": c_lyp,\n",
    "        \"eng_corr_MP2_OS\": c_os,\n",
    "        \"eng_corr_MP2_SS\": c_ss,\n",
    "    }"
   ]
  },
  {
   "cell_type": "code",
   "execution_count": 15,
   "id": "96b2e628-6279-4684-9dda-ac169b8c25c4",
   "metadata": {},
   "outputs": [
    {
     "name": "stdout",
     "output_type": "stream",
     "text": [
      "[0.889795, 0.221816, -0.140156, 0.466689, 0.075388, 0.388785, 0.260960] 2.072687\n",
      "[0.888990, 0.221251, -0.140540, 0.466808, 0.075414, 0.389434, 0.261179] 2.064998\n",
      "[0.887542, 0.220760, -0.140900, 0.467391, 0.075791, 0.391640, 0.262012] 2.055536\n",
      "[0.886519, 0.220656, -0.140680, 0.468264, 0.076303, 0.394651, 0.263103] 2.050437\n",
      "[0.887225, 0.220071, -0.139725, 0.468815, 0.076146, 0.395598, 0.262886] 2.046310\n",
      "[0.889030, 0.217743, -0.137206, 0.470352, 0.075515, 0.398234, 0.262124] 2.038565\n",
      "[0.891671, 0.213355, -0.133393, 0.472911, 0.074409, 0.402853, 0.260896] 2.030757\n",
      "[0.892924, 0.209352, -0.130128, 0.475631, 0.073576, 0.408202, 0.260663] 2.026455\n",
      "[0.893474, 0.208059, -0.129366, 0.476397, 0.073233, 0.409662, 0.260778] 2.026260\n",
      "[0.893660, 0.208666, -0.130200, 0.475862, 0.073222, 0.408563, 0.261164] 2.026030\n",
      "[0.894273, 0.208046, -0.130034, 0.476207, 0.072902, 0.409251, 0.261703] 2.025716\n",
      "[0.897473, 0.205567, -0.130546, 0.477247, 0.071179, 0.411294, 0.265255] 2.024338\n",
      "[0.898723, 0.203801, -0.129928, 0.477909, 0.069313, 0.412537, 0.267869] 2.024050\n",
      "[0.896929, 0.204628, -0.128211, 0.476863, 0.067195, 0.409749, 0.268621] 2.023657\n",
      "[0.898313, 0.203853, -0.128687, 0.477222, 0.066519, 0.410540, 0.270409] 2.022905\n",
      "[0.898378, 0.204089, -0.128996, 0.477029, 0.065435, 0.410258, 0.272686] 2.022445\n",
      "[0.898202, 0.204169, -0.127900, 0.476569, 0.062591, 0.408795, 0.275914] 2.021951\n",
      "[0.898270, 0.203687, -0.127326, 0.476908, 0.062460, 0.409207, 0.275544] 2.021767\n",
      "[0.898198, 0.203614, -0.127200, 0.477028, 0.062575, 0.409380, 0.275271] 2.021747\n"
     ]
    }
   ],
   "source": [
    "obj = lambda arr: err_wtmad2(get_para_xyg7(arr))\n",
    "res = scipy.optimize.minimize(\n",
    "    obj,\n",
    "    [0.8865, 0.2162, -0.1432, 0.4658, 0.0739, 0.3870, 0.2595],\n",
    "    method=\"L-BFGS-B\",\n",
    "    options={\"ftol\": 1e-5},\n",
    "    callback=lambda arr: print(str_arr(arr), f\"{obj(arr):.6f}\"),\n",
    ")"
   ]
  },
  {
   "cell_type": "code",
   "execution_count": 16,
   "id": "e25e5b9a-0c7d-4fdd-a585-6589bf2f5d43",
   "metadata": {},
   "outputs": [
    {
     "data": {
      "text/plain": [
       "GMTKN55         2.021747\n",
       "MR-MGM-BE4     19.112914\n",
       "MR-MGN-BE17     2.595663\n",
       "MR-TM-BE13     12.384993\n",
       "SR-MGM-BE9      2.081580\n",
       "SR-TM-BE17      6.909309\n",
       "dtype: float64"
      ]
     },
     "execution_count": 16,
     "metadata": {},
     "output_type": "execute_result"
    }
   ],
   "source": [
    "err_our(get_para_xyg7(res.x), True)"
   ]
  },
  {
   "cell_type": "code",
   "execution_count": 17,
   "id": "141524e3-cacd-42c0-94be-da948847d91a",
   "metadata": {},
   "outputs": [
    {
     "data": {
      "text/plain": [
       "GMTKN55         2.008437\n",
       "MR-MGM-BE4     17.806289\n",
       "MR-MGN-BE17     2.632873\n",
       "MR-TM-BE13     12.119385\n",
       "SR-MGM-BE9      2.548175\n",
       "SR-TM-BE17      6.754149\n",
       "dtype: float64"
      ]
     },
     "execution_count": 17,
     "metadata": {},
     "output_type": "execute_result"
    }
   ],
   "source": [
    "err_our(para_exist[\"XYG7\"], True)"
   ]
  },
  {
   "cell_type": "markdown",
   "id": "6e99d24e-f032-4b1a-8863-65e366063d9c",
   "metadata": {},
   "source": [
    "### XYG6 reoptimize"
   ]
  },
  {
   "cell_type": "code",
   "execution_count": 18,
   "id": "02f5a687-b0e7-4386-87d3-43702c5bae44",
   "metadata": {},
   "outputs": [],
   "source": [
    "def get_para_xyg6(arr):\n",
    "    c_x, c_b88, c_vwn, c_lyp, c_os, c_ss = arr\n",
    "    return {\n",
    "        \"eng_noxc\": 1,\n",
    "        \"eng_exx_HF\": c_x,\n",
    "        \"eng_purexc_LDA_X\": (1 - c_x - c_b88),\n",
    "        \"eng_purexc_GGA_X_B88\": c_b88,\n",
    "        \"eng_purexc_LDA_C_VWN_RPA\": c_vwn,\n",
    "        \"eng_purexc_GGA_C_LYP\": c_lyp,\n",
    "        \"eng_corr_MP2_OS\": c_os,\n",
    "        \"eng_corr_MP2_SS\": c_ss,\n",
    "    }"
   ]
  },
  {
   "cell_type": "code",
   "execution_count": 19,
   "id": "28c7db2d-2930-4578-80a3-a1c7b8f495bd",
   "metadata": {},
   "outputs": [
    {
     "name": "stdout",
     "output_type": "stream",
     "text": [
      "[0.912243, -0.065554, 0.180076, 0.223600, 0.468093, 0.241146] 2.163202\n",
      "[0.910768, -0.061893, 0.182865, 0.224147, 0.468243, 0.239887] 2.154637\n",
      "[0.903982, -0.050728, 0.193089, 0.226870, 0.469433, 0.236199] 2.142930\n",
      "[0.900273, -0.049780, 0.199606, 0.230323, 0.464362, 0.233406] 2.132375\n",
      "[0.897008, -0.050461, 0.204466, 0.233077, 0.457790, 0.231313] 2.128167\n",
      "[0.895134, -0.049287, 0.205958, 0.233302, 0.455913, 0.230714] 2.127222\n",
      "[0.890498, -0.047518, 0.208032, 0.232851, 0.450445, 0.230240] 2.126931\n",
      "[0.892464, -0.048153, 0.206174, 0.232145, 0.453345, 0.231271] 2.125959\n",
      "[0.893037, -0.048028, 0.205098, 0.231280, 0.454678, 0.232142] 2.125679\n",
      "[0.893928, -0.047317, 0.205737, 0.229316, 0.455560, 0.235233] 2.125481\n",
      "[0.893211, -0.045936, 0.209551, 0.227026, 0.453203, 0.239566] 2.124513\n",
      "[0.893434, -0.045315, 0.212394, 0.224838, 0.451223, 0.243410] 2.124061\n",
      "[0.893583, -0.044739, 0.215219, 0.222981, 0.449414, 0.246860] 2.123861\n",
      "[0.893528, -0.044586, 0.216119, 0.222481, 0.448815, 0.247827] 2.123815\n",
      "[0.893428, -0.044708, 0.217314, 0.222423, 0.447759, 0.248274] 2.123703\n",
      "[0.893062, -0.045180, 0.217382, 0.222957, 0.447277, 0.247417] 2.123611\n",
      "[0.892926, -0.045226, 0.216376, 0.223418, 0.448117, 0.246283] 2.123582\n",
      "[0.892621, -0.044902, 0.217283, 0.223128, 0.447815, 0.246366] 2.123528\n",
      "[0.891654, -0.045180, 0.218210, 0.221983, 0.447126, 0.245712] 2.123455\n",
      "[0.891630, -0.045491, 0.218196, 0.221421, 0.447249, 0.245705] 2.123444\n"
     ]
    }
   ],
   "source": [
    "obj = lambda arr: err_wtmad2(get_para_xyg6(arr))\n",
    "res = scipy.optimize.minimize(\n",
    "    obj,\n",
    "    [0.9105, -0.0681, 0.1800, 0.2244, 0.4695, 0.2426],\n",
    "    method=\"L-BFGS-B\",\n",
    "    options={\"ftol\": 1e-5},\n",
    "    callback=lambda arr: print(str_arr(arr), f\"{obj(arr):.6f}\"),\n",
    ")"
   ]
  },
  {
   "cell_type": "code",
   "execution_count": 20,
   "id": "e8f58dbb-7742-414e-9fe4-23b1ba6bc9fc",
   "metadata": {},
   "outputs": [
    {
     "data": {
      "text/plain": [
       "GMTKN55         2.123444\n",
       "MR-MGM-BE4     21.905722\n",
       "MR-MGN-BE17     3.638219\n",
       "MR-TM-BE13     12.695500\n",
       "SR-MGM-BE9      1.733340\n",
       "SR-TM-BE17      6.960193\n",
       "dtype: float64"
      ]
     },
     "execution_count": 20,
     "metadata": {},
     "output_type": "execute_result"
    }
   ],
   "source": [
    "err_our(get_para_xyg6(res.x), to_list=True)"
   ]
  },
  {
   "cell_type": "code",
   "execution_count": 21,
   "id": "27587726-e0fb-4f0e-ae06-da94ff428ae8",
   "metadata": {},
   "outputs": [
    {
     "data": {
      "text/plain": [
       "GMTKN55         2.181838\n",
       "MR-MGM-BE4     22.850564\n",
       "MR-MGN-BE17     3.972678\n",
       "MR-TM-BE13     13.198827\n",
       "SR-MGM-BE9      1.778138\n",
       "SR-TM-BE17      7.225776\n",
       "dtype: float64"
      ]
     },
     "execution_count": 21,
     "metadata": {},
     "output_type": "execute_result"
    }
   ],
   "source": [
    "err_our(para_exist[\"XYG6\"], True)"
   ]
  },
  {
   "cell_type": "markdown",
   "id": "67bbb761-ba21-4781-9584-877ad1048dc0",
   "metadata": {},
   "source": [
    "### XYG7 (with M15)"
   ]
  },
  {
   "cell_type": "code",
   "execution_count": 22,
   "id": "5e70d132-b65f-4dfb-af41-3a3efa0425c3",
   "metadata": {},
   "outputs": [
    {
     "name": "stdout",
     "output_type": "stream",
     "text": [
      "[0.893550, 0.224605, -0.136477, 0.466756, 0.075120, 0.385231, 0.259364] 5.471884\n",
      "[0.893077, 0.222517, -0.137541, 0.466323, 0.074446, 0.382378, 0.257921] 5.378454\n",
      "[0.893744, 0.220375, -0.138420, 0.466042, 0.073857, 0.374125, 0.254016] 5.308049\n",
      "[0.896452, 0.222098, -0.136369, 0.466193, 0.073852, 0.368439, 0.251621] 5.238056\n",
      "[0.897145, 0.225606, -0.133136, 0.466989, 0.074523, 0.363001, 0.249445] 5.186455\n",
      "[0.896063, 0.229309, -0.129545, 0.468187, 0.075452, 0.357076, 0.247125] 5.183938\n",
      "[0.895399, 0.229543, -0.129129, 0.468467, 0.075615, 0.353656, 0.245638] 5.166270\n",
      "[0.887270, 0.234429, -0.125011, 0.471107, 0.077879, 0.347550, 0.243420] 5.121307\n",
      "[0.822245, 0.273262, -0.091622, 0.492503, 0.095993, 0.289627, 0.221643] 4.911240\n",
      "[0.747819, 0.307581, -0.061094, 0.518604, 0.117388, 0.246834, 0.203650] 4.763234\n",
      "[0.740630, 0.310590, -0.056968, 0.523087, 0.120440, 0.241014, 0.199203] 4.752571\n",
      "[0.722947, 0.314162, -0.047927, 0.538245, 0.130221, 0.231731, 0.185772] 4.733939\n",
      "[0.730602, 0.310684, -0.051265, 0.535267, 0.127882, 0.236666, 0.188170] 4.731390\n",
      "[0.734444, 0.308417, -0.052779, 0.535852, 0.128010, 0.239937, 0.187914] 4.727194\n",
      "[0.731199, 0.309829, -0.051200, 0.541476, 0.131798, 0.238865, 0.184385] 4.718771\n",
      "[0.730509, 0.309962, -0.050641, 0.544180, 0.133436, 0.239044, 0.182752] 4.716848\n",
      "[0.726042, 0.310226, -0.047698, 0.552728, 0.138673, 0.237323, 0.175979] 4.711052\n",
      "[0.719785, 0.309995, -0.043235, 0.568364, 0.148145, 0.235958, 0.164167] 4.708675\n",
      "[0.718364, 0.310429, -0.041885, 0.570232, 0.149208, 0.234681, 0.162310] 4.707748\n",
      "[0.720254, 0.309727, -0.042981, 0.569032, 0.148402, 0.235938, 0.163422] 4.707686\n",
      "[0.720358, 0.309687, -0.043025, 0.568990, 0.148369, 0.235995, 0.163456] 4.707660\n"
     ]
    }
   ],
   "source": [
    "obj = lambda arr: err_our(get_para_xyg7(arr))\n",
    "res = scipy.optimize.minimize(\n",
    "    obj,\n",
    "    [0.8865, 0.2162, -0.1432, 0.4658, 0.0739, 0.3870, 0.2595],\n",
    "    method=\"L-BFGS-B\",\n",
    "    options={\"ftol\": 1e-5},\n",
    "    callback=lambda arr: print(str_arr(arr), f\"{obj(arr):.6f}\"),\n",
    ")"
   ]
  },
  {
   "cell_type": "code",
   "execution_count": 23,
   "id": "cf2bc5e2-3713-4483-baa0-f56c3e54bf2c",
   "metadata": {},
   "outputs": [
    {
     "data": {
      "text/plain": [
       "GMTKN55        4.254253\n",
       "MR-MGM-BE4     7.645300\n",
       "MR-MGN-BE17    3.660645\n",
       "MR-TM-BE13     5.762221\n",
       "SR-MGM-BE9     2.161583\n",
       "SR-TM-BE17     4.924480\n",
       "dtype: float64"
      ]
     },
     "execution_count": 23,
     "metadata": {},
     "output_type": "execute_result"
    }
   ],
   "source": [
    "err_our(get_para_xyg7(res.x), True)"
   ]
  },
  {
   "cell_type": "markdown",
   "id": "343ca09c-91bf-40f5-b797-2240e85e7d6d",
   "metadata": {},
   "source": [
    "### XYG6 (with M15)"
   ]
  },
  {
   "cell_type": "code",
   "execution_count": 24,
   "id": "b56aa787-ee6e-446b-b718-56883c4115b0",
   "metadata": {},
   "outputs": [
    {
     "name": "stdout",
     "output_type": "stream",
     "text": [
      "[0.926575, -0.060488, 0.175134, 0.218282, 0.444600, 0.230987] 6.065552\n",
      "[0.914471, -0.088311, 0.181350, 0.230736, 0.410705, 0.224826] 5.528478\n",
      "[0.879178, -0.099793, 0.200254, 0.245178, 0.369885, 0.215939] 5.268296\n",
      "[0.852146, -0.090249, 0.219451, 0.254051, 0.349315, 0.203299] 5.113604\n",
      "[0.746686, -0.031193, 0.333896, 0.308049, 0.263957, 0.140774] 4.741742\n",
      "[0.739657, -0.026573, 0.342210, 0.311703, 0.253057, 0.133633] 4.705575\n",
      "[0.745254, -0.023775, 0.338237, 0.308404, 0.260955, 0.135757] 4.685078\n",
      "[0.746159, -0.023491, 0.337582, 0.307903, 0.262172, 0.136144] 4.683756\n",
      "[0.747703, -0.017895, 0.338417, 0.306685, 0.265190, 0.134729] 4.675237\n",
      "[0.745379, -0.014642, 0.341422, 0.307560, 0.263952, 0.132732] 4.675056\n",
      "[0.745249, -0.014530, 0.339736, 0.306313, 0.264571, 0.133178] 4.673429\n",
      "[0.747061, -0.014876, 0.334661, 0.302947, 0.267407, 0.134921] 4.672823\n",
      "[0.741008, -0.015783, 0.327137, 0.297625, 0.265483, 0.135847] 4.667273\n",
      "[0.740278, -0.015227, 0.327714, 0.297588, 0.265020, 0.135525] 4.667209\n",
      "[0.740861, -0.014924, 0.328331, 0.297894, 0.265334, 0.135441] 4.667040\n",
      "[0.741024, -0.014948, 0.328390, 0.297907, 0.265411, 0.135482] 4.666987\n",
      "[0.741027, -0.014948, 0.328391, 0.297907, 0.265412, 0.135483] 4.666986\n"
     ]
    }
   ],
   "source": [
    "obj = lambda arr: err_our(get_para_xyg6(arr))\n",
    "res = scipy.optimize.minimize(\n",
    "    obj,\n",
    "    [0.9105, -0.0681, 0.1800, 0.2244, 0.4695, 0.2426],\n",
    "    method=\"L-BFGS-B\",\n",
    "    options={\"ftol\": 1e-5},\n",
    "    callback=lambda arr: print(str_arr(arr), f\"{obj(arr):.6f}\"),\n",
    ")"
   ]
  },
  {
   "cell_type": "code",
   "execution_count": 25,
   "id": "63fb4ebf-4acf-4e45-8da8-645df89e6cfa",
   "metadata": {},
   "outputs": [
    {
     "data": {
      "text/plain": [
       "GMTKN55        4.111681\n",
       "MR-MGM-BE4     8.298238\n",
       "MR-MGN-BE17    3.893899\n",
       "MR-TM-BE13     5.381641\n",
       "SR-MGM-BE9     2.188687\n",
       "SR-TM-BE17     4.709890\n",
       "dtype: float64"
      ]
     },
     "execution_count": 25,
     "metadata": {},
     "output_type": "execute_result"
    }
   ],
   "source": [
    "err_our(get_para_xyg6(res.x), True)"
   ]
  },
  {
   "cell_type": "markdown",
   "id": "f0a3302e-1fb8-42dc-8776-8b713a050967",
   "metadata": {},
   "source": [
    "## Optimize: with cr"
   ]
  },
  {
   "cell_type": "markdown",
   "id": "f229addb-a216-465f-8ce3-9936416dcaa9",
   "metadata": {},
   "source": [
    "### Our Model: XYG6+1/cr"
   ]
  },
  {
   "cell_type": "code",
   "execution_count": 26,
   "id": "a245275b-81ee-4eaa-8c4f-76a9522ddc2d",
   "metadata": {},
   "outputs": [],
   "source": [
    "def get_para_cr(arr):\n",
    "    c_x, c_b88, c_vwn, c_lyp, c_os, c_ss, c_cr = arr\n",
    "    return {\n",
    "        \"eng_noxc\": 1,\n",
    "        \"eng_exx_HF\": c_x,\n",
    "        \"eng_purexc_LDA_X\": (1 - c_x - c_b88),\n",
    "        \"eng_purexc_GGA_X_B88\": c_b88,\n",
    "        \"eng_purexc_LDA_C_VWN_RPA\": c_vwn,\n",
    "        \"eng_purexc_GGA_C_LYP\": c_lyp,\n",
    "        \"eng_corr_MP2_OS\": c_os * (1 - c_cr),\n",
    "        \"eng_corr_MP2_SS\": c_ss * (1 - c_cr),\n",
    "        \"eng_corr_MP2CR_OS\": c_os * c_cr,\n",
    "        \"eng_corr_MP2CR_SS\": c_ss * c_cr,\n",
    "    }"
   ]
  },
  {
   "cell_type": "code",
   "execution_count": 27,
   "id": "9fdffc9b-bb42-4965-b402-e92227c2ed28",
   "metadata": {},
   "outputs": [
    {
     "name": "stdout",
     "output_type": "stream",
     "text": [
      "[0.899658, -0.072373, 0.183045, 0.227762, 0.478606, 0.247490, 0.697940] 3.550672\n",
      "[0.890048, -0.065840, 0.181199, 0.224042, 0.484784, 0.247645, 0.690711] 3.508918\n",
      "[0.880375, -0.054375, 0.177077, 0.216910, 0.489671, 0.246053, 0.680689] 3.468873\n",
      "[0.877868, -0.045584, 0.172851, 0.210671, 0.488050, 0.242787, 0.673985] 3.411851\n",
      "[0.874487, -0.041648, 0.170841, 0.207671, 0.488661, 0.241867, 0.669616] 3.405798\n",
      "[0.868980, -0.043300, 0.167357, 0.204430, 0.483210, 0.241870, 0.660313] 3.377336\n",
      "[0.862963, -0.052050, 0.166830, 0.204897, 0.473784, 0.234658, 0.643912] 3.338836\n",
      "[0.853711, -0.059303, 0.167508, 0.203877, 0.463117, 0.219856, 0.609198] 3.297333\n",
      "[0.852470, -0.060124, 0.168007, 0.203863, 0.461975, 0.217235, 0.603191] 3.290269\n",
      "[0.851581, -0.061029, 0.168683, 0.204002, 0.460751, 0.214444, 0.597198] 3.283117\n",
      "[0.851546, -0.061062, 0.168713, 0.204008, 0.460703, 0.214325, 0.596939] 3.282793\n",
      "[0.851546, -0.061062, 0.168713, 0.204008, 0.460703, 0.214325, 0.596938] 3.282791\n"
     ]
    }
   ],
   "source": [
    "obj = lambda arr: err_our(get_para_cr(arr))\n",
    "res = scipy.optimize.minimize(\n",
    "    obj,\n",
    "    [0.9105, -0.0681, 0.1800, 0.2244, 0.4695, 0.2426, 0.7],\n",
    "    method=\"L-BFGS-B\",\n",
    "    options={\"ftol\": 1e-5},\n",
    "    callback=lambda arr: print(str_arr(arr), f\"{obj(arr):.6f}\"),\n",
    ")"
   ]
  },
  {
   "cell_type": "code",
   "execution_count": 28,
   "id": "446ce87f-b869-40d3-8f28-ac7104130df8",
   "metadata": {},
   "outputs": [
    {
     "data": {
      "text/plain": [
       "GMTKN55        2.360751\n",
       "MR-MGM-BE4     3.239840\n",
       "MR-MGN-BE17    1.653429\n",
       "MR-TM-BE13     7.395569\n",
       "SR-MGM-BE9     1.974187\n",
       "SR-TM-BE17     4.859773\n",
       "dtype: float64"
      ]
     },
     "execution_count": 28,
     "metadata": {},
     "output_type": "execute_result"
    }
   ],
   "source": [
    "err_our(get_para_cr(res.x), to_list=True)"
   ]
  },
  {
   "cell_type": "code",
   "execution_count": 29,
   "id": "0a7a6244-0e50-4bcb-8e0f-47c0c9c7154f",
   "metadata": {},
   "outputs": [
    {
     "data": {
      "text/plain": [
       "{'eng_noxc': 1,\n",
       " 'eng_exx_HF': 0.840881,\n",
       " 'eng_purexc_LDA_X': 0.19187400000000002,\n",
       " 'eng_purexc_GGA_X_B88': -0.032755,\n",
       " 'eng_purexc_LDA_C_VWN_RPA': 0.170599,\n",
       " 'eng_purexc_GGA_C_LYP': 0.196057,\n",
       " 'eng_corr_MP2_OS': 0.18754346655400003,\n",
       " 'eng_corr_MP2_SS': 0.08151453505600001,\n",
       " 'eng_corr_MP2CR_OS': 0.270413533446,\n",
       " 'eng_corr_MP2CR_SS': 0.117533464944}"
      ]
     },
     "execution_count": 29,
     "metadata": {},
     "output_type": "execute_result"
    }
   ],
   "source": [
    "get_para_cr([0.840881, -0.032755, 0.170599, 0.196057, 0.457957, 0.199048, 0.590478])"
   ]
  },
  {
   "cell_type": "markdown",
   "id": "cb1b170e-94fd-41ef-90d3-e1a00e096713",
   "metadata": {},
   "source": [
    "### Our Model (GMTKN55 only)"
   ]
  },
  {
   "cell_type": "code",
   "execution_count": 30,
   "id": "d021a425-3fe0-4f0f-918f-8aead0483905",
   "metadata": {},
   "outputs": [
    {
     "name": "stdout",
     "output_type": "stream",
     "text": [
      "[0.898371, -0.074284, 0.182164, 0.227845, 0.478882, 0.249018, 0.698720] 2.425865\n",
      "[0.893821, -0.070956, 0.182135, 0.226801, 0.484618, 0.251370, 0.697581] 2.352645\n",
      "[0.881944, -0.053052, 0.179970, 0.219671, 0.502145, 0.257480, 0.693491] 2.183231\n",
      "[0.879575, -0.038707, 0.177040, 0.213115, 0.512141, 0.261661, 0.690331] 2.086356\n",
      "[0.878867, -0.026789, 0.173696, 0.206952, 0.520740, 0.266965, 0.686975] 2.068751\n",
      "[0.880271, -0.030908, 0.174060, 0.208465, 0.517771, 0.266632, 0.687576] 2.061076\n",
      "[0.883457, -0.035142, 0.172921, 0.208679, 0.515574, 0.270299, 0.686832] 2.050097\n",
      "[0.889515, -0.038657, 0.169147, 0.206482, 0.514665, 0.279933, 0.683916] 2.033059\n",
      "[0.898706, -0.037504, 0.161803, 0.199924, 0.518034, 0.303285, 0.675148] 2.008845\n",
      "[0.898979, -0.033334, 0.160894, 0.197915, 0.518839, 0.313045, 0.670677] 2.002958\n",
      "[0.897789, -0.029434, 0.162775, 0.198224, 0.517009, 0.317427, 0.667957] 1.998846\n",
      "[0.895288, -0.023009, 0.167781, 0.200269, 0.511529, 0.324701, 0.663090] 1.992960\n",
      "[0.894708, -0.018289, 0.171570, 0.202075, 0.504564, 0.334022, 0.657643] 1.988779\n",
      "[0.892992, -0.016910, 0.175997, 0.205520, 0.497760, 0.335595, 0.655651] 1.984916\n",
      "[0.891819, -0.015114, 0.178983, 0.207696, 0.494668, 0.339087, 0.652882] 1.983470\n",
      "[0.893073, -0.016331, 0.178677, 0.207960, 0.494103, 0.340166, 0.652390] 1.982871\n",
      "[0.893264, -0.016599, 0.178643, 0.208294, 0.494505, 0.339209, 0.652335] 1.982711\n",
      "[0.893514, -0.017063, 0.178632, 0.208944, 0.495400, 0.337533, 0.652178] 1.982584\n",
      "[0.893275, -0.016532, 0.179734, 0.210584, 0.495305, 0.336010, 0.650963] 1.982542\n",
      "[0.893515, -0.016592, 0.179308, 0.210699, 0.495022, 0.336427, 0.650144] 1.982282\n",
      "[0.893610, -0.016272, 0.178063, 0.211240, 0.494329, 0.336747, 0.647466] 1.981801\n",
      "[0.894351, -0.015764, 0.177040, 0.214125, 0.493840, 0.335508, 0.641565] 1.981324\n",
      "[0.894915, -0.015695, 0.176128, 0.214802, 0.494678, 0.335274, 0.639364] 1.980918\n",
      "[0.895914, -0.015430, 0.175410, 0.218159, 0.494818, 0.334314, 0.632998] 1.980342\n",
      "[0.897008, -0.015790, 0.172829, 0.221923, 0.494789, 0.333271, 0.624177] 1.979547\n",
      "[0.897353, -0.016053, 0.169866, 0.225719, 0.493928, 0.332411, 0.614910] 1.978667\n",
      "[0.897879, -0.017872, 0.163220, 0.230902, 0.494972, 0.327670, 0.601769] 1.978035\n",
      "[0.897333, -0.017082, 0.163690, 0.229942, 0.494773, 0.328195, 0.603319] 1.977558\n",
      "[0.897441, -0.016877, 0.162726, 0.231734, 0.494876, 0.327125, 0.599542] 1.977364\n",
      "[0.897599, -0.015704, 0.159051, 0.239659, 0.493923, 0.323555, 0.582967] 1.977046\n",
      "[0.896938, -0.015376, 0.159115, 0.239949, 0.493489, 0.323086, 0.582700] 1.976813\n",
      "[0.895854, -0.014414, 0.158884, 0.241170, 0.492618, 0.322104, 0.580492] 1.976637\n",
      "[0.895734, -0.014224, 0.157145, 0.243449, 0.492300, 0.320674, 0.575285] 1.976561\n",
      "[0.895762, -0.014095, 0.154447, 0.247233, 0.491972, 0.318295, 0.566970] 1.976498\n",
      "[0.895609, -0.014030, 0.154386, 0.247532, 0.491938, 0.317961, 0.566829] 1.976482\n"
     ]
    }
   ],
   "source": [
    "obj = lambda arr: err_wtmad2(get_para_cr(arr))\n",
    "res = scipy.optimize.minimize(\n",
    "    obj,\n",
    "    [0.9105, -0.0681, 0.1800, 0.2244, 0.4695, 0.2426, 0.7],\n",
    "    method=\"L-BFGS-B\",\n",
    "    options={\"ftol\": 1e-5},\n",
    "    callback=lambda arr: print(str_arr(arr), f\"{obj(arr):.6f}\"),\n",
    ")"
   ]
  },
  {
   "cell_type": "code",
   "execution_count": 31,
   "id": "55392ccc-50fb-4225-90a5-97e8022b740b",
   "metadata": {},
   "outputs": [
    {
     "data": {
      "text/plain": [
       "GMTKN55         1.976482\n",
       "MR-MGM-BE4      7.133091\n",
       "MR-MGN-BE17     2.190803\n",
       "MR-TM-BE13     10.382881\n",
       "SR-MGM-BE9      1.538939\n",
       "SR-TM-BE17      5.783074\n",
       "dtype: float64"
      ]
     },
     "execution_count": 31,
     "metadata": {},
     "output_type": "execute_result"
    }
   ],
   "source": [
    "err_our(get_para_cr(res.x), to_list=True)"
   ]
  },
  {
   "cell_type": "markdown",
   "id": "4d56f830-4712-4be5-b948-8da916e45762",
   "metadata": {},
   "source": [
    "## Optimize: with sIEPA"
   ]
  },
  {
   "cell_type": "markdown",
   "id": "c1572d4f-b153-4a44-af09-4dcc00474847",
   "metadata": {},
   "source": [
    "### Our Model: XYG6+1/sIEPA"
   ]
  },
  {
   "cell_type": "code",
   "execution_count": 32,
   "id": "22982b28-aa0e-45f8-a253-bdb27bfeb407",
   "metadata": {},
   "outputs": [],
   "source": [
    "def get_para_siepa(arr):\n",
    "    c_x, c_b88, c_vwn, c_lyp, c_os, c_ss, c_siepa = arr\n",
    "    return {\n",
    "        \"eng_noxc\": 1,\n",
    "        \"eng_exx_HF\": c_x,\n",
    "        \"eng_purexc_LDA_X\": (1 - c_x - c_b88),\n",
    "        \"eng_purexc_GGA_X_B88\": c_b88,\n",
    "        \"eng_purexc_LDA_C_VWN_RPA\": c_vwn,\n",
    "        \"eng_purexc_GGA_C_LYP\": c_lyp,\n",
    "        \"eng_corr_MP2_OS\": c_os * (1 - c_siepa),\n",
    "        \"eng_corr_MP2_SS\": c_ss * (1 - c_siepa),\n",
    "        \"eng_corr_SIEPA_OS\": c_os * c_siepa,\n",
    "        \"eng_corr_SIEPA_SS\": c_ss * c_siepa,\n",
    "    }"
   ]
  },
  {
   "cell_type": "code",
   "execution_count": 33,
   "id": "9a6f0947-7ae2-45c0-a4cd-98d17f9d422c",
   "metadata": {},
   "outputs": [
    {
     "name": "stdout",
     "output_type": "stream",
     "text": [
      "[0.924312, -0.060613, 0.175777, 0.218850, 0.449568, 0.232392, 0.700795] 5.223028\n",
      "[0.916559, -0.081291, 0.180610, 0.228265, 0.420194, 0.223922, 0.704791] 4.839432\n",
      "[0.900308, -0.093174, 0.188557, 0.236615, 0.404785, 0.218726, 0.709016] 4.725992\n",
      "[0.888372, -0.103718, 0.195292, 0.243791, 0.383430, 0.210217, 0.713460] 4.695793\n",
      "[0.864662, -0.084573, 0.212481, 0.248386, 0.374145, 0.193285, 0.721553] 4.501217\n",
      "[0.788330, -0.033356, 0.273918, 0.270049, 0.340424, 0.137501, 0.751118] 4.268063\n",
      "[0.774452, -0.031578, 0.286595, 0.276795, 0.325137, 0.124921, 0.758703] 4.222986\n",
      "[0.759819, -0.032258, 0.300354, 0.284002, 0.306730, 0.108117, 0.769638] 4.165738\n",
      "[0.758826, -0.031459, 0.301238, 0.284272, 0.306331, 0.107286, 0.770118] 4.165635\n",
      "[0.753449, -0.028156, 0.306104, 0.286009, 0.303078, 0.102344, 0.773063] 4.161597\n",
      "[0.750531, -0.025824, 0.316760, 0.287633, 0.302965, 0.091697, 0.788387] 4.150832\n",
      "[0.780794, -0.038866, 0.348533, 0.282641, 0.333982, 0.060521, 0.872773] 4.149852\n",
      "[0.777438, -0.039758, 0.330951, 0.280387, 0.327962, 0.077512, 0.843974] 4.121382\n",
      "[0.786374, -0.051394, 0.315746, 0.271685, 0.332818, 0.091572, 0.842486] 4.105799\n",
      "[0.804350, -0.070033, 0.322859, 0.250458, 0.356369, 0.076280, 0.921608] 4.052800\n",
      "[0.839550, -0.108619, 0.339735, 0.204346, 0.405238, 0.040640, 1.095100] 3.977230\n",
      "[0.846669, -0.108675, 0.336340, 0.194809, 0.415016, 0.040776, 1.112259] 3.968702\n",
      "[0.872892, -0.155512, 0.337463, 0.122672, 0.466021, 0.006970, 1.330214] 3.875534\n",
      "[0.872535, -0.168880, 0.334288, 0.090435, 0.479073, -0.003939, 1.416823] 3.797492\n",
      "[0.872367, -0.169380, 0.334347, 0.088991, 0.479653, -0.004638, 1.421022] 3.794339\n",
      "[0.872365, -0.169383, 0.334347, 0.088981, 0.479657, -0.004643, 1.421052] 3.794331\n"
     ]
    }
   ],
   "source": [
    "obj = lambda arr: err_our(get_para_siepa(arr))\n",
    "res = scipy.optimize.minimize(\n",
    "    obj,\n",
    "    [0.9105, -0.0681, 0.1800, 0.2244, 0.4695, 0.2426, 0.7],\n",
    "    method=\"L-BFGS-B\",\n",
    "    options={\"ftol\": 1e-5},\n",
    "    callback=lambda arr: print(str_arr(arr), f\"{obj(arr):.6f}\"),\n",
    ")"
   ]
  },
  {
   "cell_type": "code",
   "execution_count": 34,
   "id": "656c8bfc-44f8-480e-84a2-0a57015f0869",
   "metadata": {},
   "outputs": [
    {
     "data": {
      "text/plain": [
       "GMTKN55        2.943800\n",
       "MR-MGM-BE4     3.624001\n",
       "MR-MGN-BE17    2.417903\n",
       "MR-TM-BE13     7.750066\n",
       "SR-MGM-BE9     1.874516\n",
       "SR-TM-BE17     5.608546\n",
       "dtype: float64"
      ]
     },
     "execution_count": 34,
     "metadata": {},
     "output_type": "execute_result"
    }
   ],
   "source": [
    "err_our(get_para_siepa(res.x), to_list=True)"
   ]
  },
  {
   "cell_type": "markdown",
   "id": "84aa8afa-9114-4953-8881-369c48aaa66e",
   "metadata": {},
   "source": [
    "### Our Model (GMTKN55 only)"
   ]
  },
  {
   "cell_type": "code",
   "execution_count": 35,
   "id": "1925809e-e868-4a6f-b2ea-ecf58930e4d9",
   "metadata": {},
   "outputs": [
    {
     "name": "stdout",
     "output_type": "stream",
     "text": [
      "[0.912926, -0.064220, 0.179776, 0.222990, 0.467568, 0.240472, 0.699955] 2.180265\n",
      "[0.909127, -0.059877, 0.182261, 0.223205, 0.468828, 0.239117, 0.699811] 2.161923\n",
      "[0.895187, -0.043019, 0.194360, 0.225387, 0.471040, 0.232468, 0.699122] 2.136638\n",
      "[0.893037, -0.043696, 0.197287, 0.227285, 0.465393, 0.229914, 0.698980] 2.124439\n",
      "[0.886132, -0.042915, 0.206052, 0.232157, 0.452076, 0.223950, 0.698508] 2.118717\n",
      "[0.887765, -0.044126, 0.203971, 0.231227, 0.455219, 0.225849, 0.698614] 2.115861\n",
      "[0.887576, -0.044201, 0.204210, 0.231378, 0.454860, 0.225759, 0.698599] 2.115822\n",
      "[0.887268, -0.044321, 0.204549, 0.231562, 0.454611, 0.225828, 0.698570] 2.115740\n",
      "[0.887177, -0.044166, 0.204629, 0.231562, 0.454632, 0.225779, 0.698565] 2.115724\n"
     ]
    }
   ],
   "source": [
    "obj = lambda arr: err_wtmad2(get_para_siepa(arr))\n",
    "res = scipy.optimize.minimize(\n",
    "    obj,\n",
    "    [0.9105, -0.0681, 0.1800, 0.2244, 0.4695, 0.2426, 0.7],\n",
    "    method=\"L-BFGS-B\",\n",
    "    options={\"ftol\": 1e-5},\n",
    "    callback=lambda arr: print(str_arr(arr), f\"{obj(arr):.6f}\"),\n",
    ")"
   ]
  },
  {
   "cell_type": "code",
   "execution_count": 36,
   "id": "f5b223d2-9ec7-4e03-ae5f-eed0c9d7073a",
   "metadata": {},
   "outputs": [
    {
     "data": {
      "text/plain": [
       "GMTKN55         2.115724\n",
       "MR-MGM-BE4     15.616177\n",
       "MR-MGN-BE17     3.058427\n",
       "MR-TM-BE13     12.261220\n",
       "SR-MGM-BE9      1.705065\n",
       "SR-TM-BE17      6.772356\n",
       "dtype: float64"
      ]
     },
     "execution_count": 36,
     "metadata": {},
     "output_type": "execute_result"
    }
   ],
   "source": [
    "err_our(get_para_siepa(res.x), to_list=True)"
   ]
  },
  {
   "cell_type": "markdown",
   "id": "db0cd567-9e16-4d0f-86c5-669b03163051",
   "metadata": {},
   "source": [
    "## Optimize: with IEPA"
   ]
  },
  {
   "cell_type": "markdown",
   "id": "65054206-12e3-409e-a70a-52f3797e9d26",
   "metadata": {},
   "source": [
    "### Our Model: XYG6+1/IEPA"
   ]
  },
  {
   "cell_type": "code",
   "execution_count": 37,
   "id": "72e9c48e-38a4-4c99-860d-51e69ba2bca1",
   "metadata": {},
   "outputs": [],
   "source": [
    "def get_para_iepa(arr):\n",
    "    c_x, c_b88, c_vwn, c_lyp, c_os, c_ss, c_iepa = arr\n",
    "    return {\n",
    "        \"eng_noxc\": 1,\n",
    "        \"eng_exx_HF\": c_x,\n",
    "        \"eng_purexc_LDA_X\": (1 - c_x - c_b88),\n",
    "        \"eng_purexc_GGA_X_B88\": c_b88,\n",
    "        \"eng_purexc_LDA_C_VWN_RPA\": c_vwn,\n",
    "        \"eng_purexc_GGA_C_LYP\": c_lyp,\n",
    "        \"eng_corr_MP2_OS\": c_os * (1 - c_iepa),\n",
    "        \"eng_corr_MP2_SS\": c_ss * (1 - c_iepa),\n",
    "        \"eng_corr_IEPA_OS\": c_os * c_iepa,\n",
    "        \"eng_corr_IEPA_SS\": c_ss * c_iepa,\n",
    "    }"
   ]
  },
  {
   "cell_type": "code",
   "execution_count": 38,
   "id": "8239b151-1b94-499d-a1d7-d9fbdaf514f5",
   "metadata": {},
   "outputs": [
    {
     "name": "stdout",
     "output_type": "stream",
     "text": [
      "[0.926941, -0.057065, 0.174871, 0.217162, 0.446896, 0.230468, 0.700478] 5.276477\n",
      "[0.925248, -0.059253, 0.175721, 0.218389, 0.441074, 0.228158, 0.701064] 5.229288\n",
      "[0.911543, -0.071859, 0.181481, 0.226146, 0.424887, 0.222827, 0.703367] 5.047758\n",
      "[0.874379, -0.086916, 0.198243, 0.241933, 0.387637, 0.206128, 0.708771] 4.880349\n",
      "[0.815773, -0.051674, 0.238590, 0.257497, 0.346874, 0.165203, 0.717521] 4.486291\n",
      "[0.757430, -0.012816, 0.286938, 0.277038, 0.308466, 0.119689, 0.729137] 4.276690\n",
      "[0.737102, 0.005080, 0.307795, 0.285307, 0.298796, 0.102510, 0.735336] 4.240435\n",
      "[0.732995, 0.012288, 0.315889, 0.286450, 0.299194, 0.101431, 0.743486] 4.238081\n",
      "[0.738504, 0.007791, 0.310431, 0.284500, 0.301891, 0.105313, 0.741212] 4.233081\n",
      "[0.741960, 0.004386, 0.307454, 0.283743, 0.303163, 0.107184, 0.740722] 4.229327\n",
      "[0.742877, 0.003130, 0.306248, 0.283276, 0.303387, 0.107644, 0.741370] 4.227521\n",
      "[0.743794, 0.002615, 0.305892, 0.282280, 0.304231, 0.108760, 0.745871] 4.226111\n",
      "[0.738250, 0.002667, 0.309494, 0.281797, 0.300265, 0.106426, 0.762192] 4.221158\n",
      "[0.733997, 0.005807, 0.317986, 0.278702, 0.297339, 0.104695, 0.803606] 4.204427\n",
      "[0.725808, 0.007696, 0.334030, 0.268291, 0.291641, 0.103282, 0.913187] 4.165081\n",
      "[0.719048, 0.010764, 0.350145, 0.257679, 0.287086, 0.102322, 1.021153] 4.127648\n",
      "[0.717967, 0.010984, 0.353018, 0.255201, 0.286624, 0.101978, 1.044711] 4.119937\n",
      "[0.716738, 0.010362, 0.358916, 0.247743, 0.286580, 0.102390, 1.107496] 4.097256\n",
      "[0.716713, 0.010348, 0.359038, 0.247565, 0.286591, 0.102392, 1.108931] 4.096728\n",
      "[0.716712, 0.010348, 0.359041, 0.247560, 0.286592, 0.102392, 1.108974] 4.096712\n"
     ]
    }
   ],
   "source": [
    "obj = lambda arr: err_our(get_para_iepa(arr))\n",
    "res = scipy.optimize.minimize(\n",
    "    obj,\n",
    "    [0.9105, -0.0681, 0.1800, 0.2244, 0.4695, 0.2426, 0.7],\n",
    "    method=\"L-BFGS-B\",\n",
    "    options={\"ftol\": 1e-5},\n",
    "    callback=lambda arr: print(str_arr(arr), f\"{obj(arr):.6f}\"),\n",
    ")"
   ]
  },
  {
   "cell_type": "code",
   "execution_count": 39,
   "id": "e2b0d51b-be42-4d6a-9d84-344d2b8b1ce5",
   "metadata": {},
   "outputs": [
    {
     "data": {
      "text/plain": [
       "GMTKN55        4.405915\n",
       "MR-MGM-BE4     2.622221\n",
       "MR-MGN-BE17    3.968204\n",
       "MR-TM-BE13     5.304111\n",
       "SR-MGM-BE9     2.026431\n",
       "SR-TM-BE17     4.592854\n",
       "dtype: float64"
      ]
     },
     "execution_count": 39,
     "metadata": {},
     "output_type": "execute_result"
    }
   ],
   "source": [
    "err_our(get_para_iepa(res.x), to_list=True)"
   ]
  },
  {
   "cell_type": "markdown",
   "id": "eb6fa94b-fa28-4c08-a4d5-fc99522ed23b",
   "metadata": {},
   "source": [
    "### Our Model (GMTKN55 only)"
   ]
  },
  {
   "cell_type": "code",
   "execution_count": 40,
   "id": "13c86808-32c0-4a81-a9c1-ce1b95575ff7",
   "metadata": {},
   "outputs": [
    {
     "name": "stdout",
     "output_type": "stream",
     "text": [
      "[0.916744, -0.057785, 0.178592, 0.220256, 0.464041, 0.237461, 0.699021] 2.905162\n",
      "[0.906019, -0.045452, 0.181416, 0.218616, 0.464232, 0.234847, 0.694561] 2.821621\n",
      "[0.872662, -0.016777, 0.191805, 0.217691, 0.464704, 0.229339, 0.680776] 2.724588\n",
      "[0.873923, -0.019509, 0.195239, 0.221120, 0.457978, 0.227987, 0.677111] 2.692063\n",
      "[0.868703, -0.022685, 0.214954, 0.236934, 0.431212, 0.221049, 0.655722] 2.635997\n",
      "[0.860904, -0.014622, 0.222379, 0.240500, 0.427523, 0.220692, 0.643176] 2.610978\n",
      "[0.856659, -0.005605, 0.229160, 0.244740, 0.427281, 0.228145, 0.614864] 2.580238\n",
      "[0.857372, -0.000145, 0.235334, 0.249930, 0.423981, 0.236650, 0.582411] 2.551047\n",
      "[0.859601, 0.040740, 0.257923, 0.278580, 0.394088, 0.323245, 0.282020] 2.421172\n",
      "[0.893139, 0.029176, 0.251220, 0.288968, 0.418526, 0.328477, 0.196956] 2.318054\n",
      "[0.905548, 0.005810, 0.233491, 0.289185, 0.428103, 0.308957, 0.179569] 2.242772\n",
      "[0.906742, -0.014498, 0.194146, 0.282442, 0.431582, 0.289487, 0.086704] 2.154706\n",
      "[0.896073, -0.020284, 0.186789, 0.277710, 0.426480, 0.288127, 0.098472] 2.142454\n",
      "[0.898545, -0.020031, 0.181535, 0.273946, 0.436078, 0.280391, 0.109207] 2.129467\n",
      "[0.898721, -0.015648, 0.186082, 0.277830, 0.434694, 0.285873, 0.084812] 2.126545\n",
      "[0.893561, -0.015334, 0.185726, 0.275799, 0.436232, 0.276503, 0.102583] 2.121640\n",
      "[0.893074, -0.019346, 0.182771, 0.275922, 0.439620, 0.268256, 0.096815] 2.118498\n",
      "[0.887659, -0.027309, 0.177411, 0.276973, 0.448223, 0.239773, 0.082543] 2.116166\n",
      "[0.890572, -0.025752, 0.177556, 0.276732, 0.446003, 0.248113, 0.079359] 2.114193\n",
      "[0.890954, -0.025084, 0.179363, 0.276376, 0.445371, 0.249192, 0.090769] 2.114189\n"
     ]
    }
   ],
   "source": [
    "obj = lambda arr: err_wtmad2(get_para_iepa(arr))\n",
    "res = scipy.optimize.minimize(\n",
    "    obj,\n",
    "    [0.9105, -0.0681, 0.1800, 0.2244, 0.4695, 0.2426, 0.7],\n",
    "    method=\"L-BFGS-B\",\n",
    "    options={\"ftol\": 1e-5},\n",
    "    callback=lambda arr: print(str_arr(arr), f\"{obj(arr):.6f}\"),\n",
    ")"
   ]
  },
  {
   "cell_type": "code",
   "execution_count": 41,
   "id": "f1d8d4db-ac7f-4b61-a10a-0ec8f8ad0730",
   "metadata": {},
   "outputs": [
    {
     "data": {
      "text/plain": [
       "GMTKN55         2.114189\n",
       "MR-MGM-BE4     20.924739\n",
       "MR-MGN-BE17     3.434654\n",
       "MR-TM-BE13     12.642269\n",
       "SR-MGM-BE9      1.725337\n",
       "SR-TM-BE17      6.924705\n",
       "dtype: float64"
      ]
     },
     "execution_count": 41,
     "metadata": {},
     "output_type": "execute_result"
    }
   ],
   "source": [
    "err_our(get_para_iepa(res.x), to_list=True)"
   ]
  },
  {
   "cell_type": "code",
   "execution_count": null,
   "id": "a588d79e-98aa-4a77-94ec-26c046214ae4",
   "metadata": {},
   "outputs": [],
   "source": []
  },
  {
   "cell_type": "code",
   "execution_count": null,
   "id": "5e1234d3-58af-4923-a35a-40f940b0d793",
   "metadata": {},
   "outputs": [],
   "source": []
  },
  {
   "cell_type": "code",
   "execution_count": null,
   "id": "debb168e-b2e8-498c-95fd-0433a5e9cbbe",
   "metadata": {},
   "outputs": [],
   "source": []
  },
  {
   "cell_type": "code",
   "execution_count": null,
   "id": "456c203d-239b-43af-a05d-2dfdc7ce05b7",
   "metadata": {},
   "outputs": [],
   "source": []
  },
  {
   "cell_type": "code",
   "execution_count": null,
   "id": "a29fc24f-40a7-47c1-b81b-66ed8ab3e3fc",
   "metadata": {},
   "outputs": [],
   "source": []
  },
  {
   "cell_type": "code",
   "execution_count": null,
   "id": "05033799-f12b-4b6b-967d-fadc6e17ac6b",
   "metadata": {},
   "outputs": [],
   "source": []
  },
  {
   "cell_type": "code",
   "execution_count": null,
   "id": "24a3001d-227e-4885-9d18-c99642d272d7",
   "metadata": {},
   "outputs": [],
   "source": []
  },
  {
   "cell_type": "code",
   "execution_count": null,
   "id": "6068b246-904f-485f-aef6-ed81ea794edb",
   "metadata": {},
   "outputs": [],
   "source": []
  },
  {
   "cell_type": "code",
   "execution_count": null,
   "id": "e6aef954-6762-4215-b6e5-4ee27fc75820",
   "metadata": {},
   "outputs": [],
   "source": []
  }
 ],
 "metadata": {
  "kernelspec": {
   "display_name": "Python 3 (ipykernel)",
   "language": "python",
   "name": "python3"
  },
  "language_info": {
   "codemirror_mode": {
    "name": "ipython",
    "version": 3
   },
   "file_extension": ".py",
   "mimetype": "text/x-python",
   "name": "python",
   "nbconvert_exporter": "python",
   "pygments_lexer": "ipython3",
   "version": "3.10.13"
  },
  "toc-autonumbering": true
 },
 "nbformat": 4,
 "nbformat_minor": 5
}
