{
 "cells": [
  {
   "cell_type": "code",
   "execution_count": 19,
   "id": "e80fbf32-7a06-4154-a8e2-93d0ba8fac2d",
   "metadata": {
    "tags": []
   },
   "outputs": [],
   "source": [
    "import warnings\n",
    "import sys\n",
    "from pyscf import data\n",
    "\n",
    "warnings.filterwarnings(\"ignore\")"
   ]
  },
  {
   "cell_type": "code",
   "execution_count": 20,
   "id": "803488aa-4cdd-466d-acdd-4fc22accf85b",
   "metadata": {
    "tags": []
   },
   "outputs": [],
   "source": [
    "import numpy as np\n",
    "import pandas as pd\n",
    "import h5py\n",
    "from collections import OrderedDict\n",
    "from atom_rdf_pack.atom_rdf import get_rmsd_error, rad"
   ]
  },
  {
   "cell_type": "code",
   "execution_count": 3,
   "id": "530423bb-b73f-4884-b49f-68c9afe4206d",
   "metadata": {
    "tags": []
   },
   "outputs": [],
   "source": [
    "atom_config = [\"B+1\", \"B+3\", \"C+2\", \"C+4\", \"N+3\", \"N+5\", \"O+4\", \"O+6\", \"F+5\", \"F+7\", \"Ne+0\", \"Ne+6\", \"Ne+8\"]\n",
    "atom_config_with_be = atom_config + [\"Be+0\"]"
   ]
  },
  {
   "cell_type": "code",
   "execution_count": 4,
   "id": "28dc65bd-44e8-4065-9669-98bd33e312e7",
   "metadata": {
    "tags": []
   },
   "outputs": [],
   "source": [
    "atom_cfg = [(l, l.split(\"+\")[0], int(l.split(\"+\")[1])) for l in atom_config]\n",
    "atom_cfg_with_be = [(l, l.split(\"+\")[0], int(l.split(\"+\")[1])) for l in atom_config_with_be]"
   ]
  },
  {
   "cell_type": "code",
   "execution_count": 5,
   "id": "6facf996-0279-4a5e-ae4f-d6a39c77bbbf",
   "metadata": {
    "tags": []
   },
   "outputs": [],
   "source": [
    "def h5group_to_dict(grp):\n",
    "    dct = {}\n",
    "    for key, val in grp.items():\n",
    "        if isinstance(val, h5py.Dataset):\n",
    "            dct[key] = val[()]\n",
    "        else:\n",
    "            dct[key] = h5group_to_dict(val)\n",
    "    return dct"
   ]
  },
  {
   "cell_type": "code",
   "execution_count": 6,
   "id": "5a8b89c8-9d0c-4ad0-b6a5-a3cb8ba6b355",
   "metadata": {
    "tags": []
   },
   "outputs": [],
   "source": [
    "def get_rdf_error(dct1, dct2):\n",
    "    return pd.Series({key: get_rmsd_error(dct1[key], dct2[key], scale=key) for key in [\"RHO\", \"GRD\", \"LR\"]}) / data.nist.BOHR"
   ]
  },
  {
   "cell_type": "markdown",
   "id": "2e7433d9-7050-4365-b806-ee71acde2448",
   "metadata": {},
   "source": [
    "## Read RDF Files"
   ]
  },
  {
   "cell_type": "code",
   "execution_count": 7,
   "id": "94e2d544-32ce-443b-81f5-65e6812142e1",
   "metadata": {
    "tags": []
   },
   "outputs": [
    {
     "name": "stdout",
     "output_type": "stream",
     "text": [
      "CPU times: user 300 ms, sys: 420 ms, total: 720 ms\n",
      "Wall time: 1.51 s\n"
     ]
    }
   ],
   "source": [
    "%%time\n",
    "with h5py.File(\"rdf.h5\", \"r\") as f:\n",
    "    rdf_dict = h5group_to_dict(f)"
   ]
  },
  {
   "cell_type": "code",
   "execution_count": 8,
   "id": "fdc530f5-adc5-4783-a378-97056c07ede4",
   "metadata": {
    "tags": []
   },
   "outputs": [],
   "source": [
    "basis_list = [\n",
    "    \"aug-cc-pwcvdz\", \"aug-cc-pwcvtz\", \"aug-cc-pwcvqz\", \"aug-cc-pwcv5z\",\n",
    "    \"aug-cc-pcvdz\", \"aug-cc-pcvtz\", \"aug-cc-pcvqz\", \"aug-cc-pcv5z\",\n",
    "    \"aug-cc-pvdz\", \"aug-cc-pvtz\", \"aug-cc-pvqz\", \"aug-cc-pv5z\",\n",
    "    \"cc-pvdz\", \"cc-pvtz\", \"cc-pvqz\", \"cc-pv5z\",\n",
    "    \"def2-svpd\", \"def2-tzvpd\", \"def2-qzvpd\",\n",
    "    \"aug-pc-1\", \"aug-pc-2\", \"aug-pc-3\", \"aug-pc-4\",\n",
    "    \"aug-pcX-1\", \"aug-pcX-2\", \"aug-pcX-3\", \"aug-pcX-4\"]"
   ]
  },
  {
   "cell_type": "markdown",
   "id": "5a4df4ce-3bb8-4766-82a2-1f05fbc03cb8",
   "metadata": {},
   "source": [
    "## Error of HF/MP2"
   ]
  },
  {
   "cell_type": "code",
   "execution_count": 9,
   "id": "52a1f8dd-f3a6-467e-a295-6313538e8958",
   "metadata": {
    "tags": []
   },
   "outputs": [
    {
     "data": {
      "text/html": [
       "<div>\n",
       "<style scoped>\n",
       "    .dataframe tbody tr th:only-of-type {\n",
       "        vertical-align: middle;\n",
       "    }\n",
       "\n",
       "    .dataframe tbody tr th {\n",
       "        vertical-align: top;\n",
       "    }\n",
       "\n",
       "    .dataframe thead th {\n",
       "        text-align: right;\n",
       "    }\n",
       "</style>\n",
       "<table border=\"1\" class=\"dataframe\">\n",
       "  <thead>\n",
       "    <tr style=\"text-align: right;\">\n",
       "      <th></th>\n",
       "      <th>B+1</th>\n",
       "      <th>B+3</th>\n",
       "      <th>C+2</th>\n",
       "      <th>C+4</th>\n",
       "      <th>N+3</th>\n",
       "      <th>N+5</th>\n",
       "      <th>O+4</th>\n",
       "      <th>O+6</th>\n",
       "      <th>F+5</th>\n",
       "      <th>F+7</th>\n",
       "      <th>Ne+0</th>\n",
       "      <th>Ne+6</th>\n",
       "      <th>Ne+8</th>\n",
       "      <th>Be+0</th>\n",
       "    </tr>\n",
       "  </thead>\n",
       "  <tbody>\n",
       "    <tr>\n",
       "      <th>RHO</th>\n",
       "      <td>0.822068</td>\n",
       "      <td>0.009760</td>\n",
       "      <td>0.942920</td>\n",
       "      <td>0.006070</td>\n",
       "      <td>1.068673</td>\n",
       "      <td>0.004094</td>\n",
       "      <td>1.190525</td>\n",
       "      <td>0.002920</td>\n",
       "      <td>1.305503</td>\n",
       "      <td>0.002172</td>\n",
       "      <td>0.747197</td>\n",
       "      <td>1.413852</td>\n",
       "      <td>0.001669</td>\n",
       "      <td>0.744851</td>\n",
       "    </tr>\n",
       "    <tr>\n",
       "      <th>GRD</th>\n",
       "      <td>0.309928</td>\n",
       "      <td>0.010204</td>\n",
       "      <td>0.493397</td>\n",
       "      <td>0.007735</td>\n",
       "      <td>0.709245</td>\n",
       "      <td>0.006170</td>\n",
       "      <td>0.952849</td>\n",
       "      <td>0.005084</td>\n",
       "      <td>1.221043</td>\n",
       "      <td>0.004293</td>\n",
       "      <td>0.282969</td>\n",
       "      <td>1.511796</td>\n",
       "      <td>0.003691</td>\n",
       "      <td>0.166261</td>\n",
       "    </tr>\n",
       "    <tr>\n",
       "      <th>LR</th>\n",
       "      <td>0.100475</td>\n",
       "      <td>0.004738</td>\n",
       "      <td>0.201226</td>\n",
       "      <td>0.004282</td>\n",
       "      <td>0.347781</td>\n",
       "      <td>0.003976</td>\n",
       "      <td>0.545597</td>\n",
       "      <td>0.003745</td>\n",
       "      <td>0.799583</td>\n",
       "      <td>0.003561</td>\n",
       "      <td>0.081245</td>\n",
       "      <td>1.114343</td>\n",
       "      <td>0.003406</td>\n",
       "      <td>0.039263</td>\n",
       "    </tr>\n",
       "  </tbody>\n",
       "</table>\n",
       "</div>"
      ],
      "text/plain": [
       "          B+1       B+3       C+2       C+4       N+3       N+5       O+4  \\\n",
       "RHO  0.822068  0.009760  0.942920  0.006070  1.068673  0.004094  1.190525   \n",
       "GRD  0.309928  0.010204  0.493397  0.007735  0.709245  0.006170  0.952849   \n",
       "LR   0.100475  0.004738  0.201226  0.004282  0.347781  0.003976  0.545597   \n",
       "\n",
       "          O+6       F+5       F+7      Ne+0      Ne+6      Ne+8      Be+0  \n",
       "RHO  0.002920  1.305503  0.002172  0.747197  1.413852  0.001669  0.744851  \n",
       "GRD  0.005084  1.221043  0.004293  0.282969  1.511796  0.003691  0.166261  \n",
       "LR   0.003745  0.799583  0.003561  0.081245  1.114343  0.003406  0.039263  "
      ]
     },
     "execution_count": 9,
     "metadata": {},
     "output_type": "execute_result"
    }
   ],
   "source": [
    "t = {}\n",
    "for atom in atom_config_with_be:\n",
    "    t[atom] = get_rdf_error(rdf_dict[\"MP2\"][\"aug-cc-pwcv5z\"][atom], rdf_dict[\"CCSD\"][\"aug-cc-pwcv5z\"][atom])\n",
    "pd.DataFrame(t)"
   ]
  },
  {
   "cell_type": "code",
   "execution_count": 10,
   "id": "417b705c-10e2-43f5-886d-80c6143086c2",
   "metadata": {
    "tags": []
   },
   "outputs": [
    {
     "data": {
      "text/plain": [
       "RHO    0.590162\n",
       "GRD    0.406048\n",
       "LR     0.232373\n",
       "dtype: float64"
      ]
     },
     "execution_count": 10,
     "metadata": {},
     "output_type": "execute_result"
    }
   ],
   "source": [
    "pd.DataFrame(t).T.mean()"
   ]
  },
  {
   "cell_type": "code",
   "execution_count": 11,
   "id": "8816b23b-426f-4ccc-864d-785618bf43e9",
   "metadata": {
    "tags": []
   },
   "outputs": [
    {
     "data": {
      "text/plain": [
       "RHO    1.413852\n",
       "GRD    1.511796\n",
       "LR     1.114343\n",
       "dtype: float64"
      ]
     },
     "execution_count": 11,
     "metadata": {},
     "output_type": "execute_result"
    }
   ],
   "source": [
    "pd.DataFrame(t).T.max()"
   ]
  },
  {
   "cell_type": "code",
   "execution_count": null,
   "id": "d2d1e729-19b2-499e-8b22-95216c81fb83",
   "metadata": {},
   "outputs": [],
   "source": []
  },
  {
   "cell_type": "code",
   "execution_count": 12,
   "id": "06b2b3d5-f3ff-4d40-9471-e6b98a5f1dce",
   "metadata": {
    "tags": []
   },
   "outputs": [
    {
     "data": {
      "text/html": [
       "<div>\n",
       "<style scoped>\n",
       "    .dataframe tbody tr th:only-of-type {\n",
       "        vertical-align: middle;\n",
       "    }\n",
       "\n",
       "    .dataframe tbody tr th {\n",
       "        vertical-align: top;\n",
       "    }\n",
       "\n",
       "    .dataframe thead th {\n",
       "        text-align: right;\n",
       "    }\n",
       "</style>\n",
       "<table border=\"1\" class=\"dataframe\">\n",
       "  <thead>\n",
       "    <tr style=\"text-align: right;\">\n",
       "      <th></th>\n",
       "      <th>B+1</th>\n",
       "      <th>B+3</th>\n",
       "      <th>C+2</th>\n",
       "      <th>C+4</th>\n",
       "      <th>N+3</th>\n",
       "      <th>N+5</th>\n",
       "      <th>O+4</th>\n",
       "      <th>O+6</th>\n",
       "      <th>F+5</th>\n",
       "      <th>F+7</th>\n",
       "      <th>Ne+0</th>\n",
       "      <th>Ne+6</th>\n",
       "      <th>Ne+8</th>\n",
       "      <th>Be+0</th>\n",
       "    </tr>\n",
       "  </thead>\n",
       "  <tbody>\n",
       "    <tr>\n",
       "      <th>RHO</th>\n",
       "      <td>1.657700</td>\n",
       "      <td>0.043472</td>\n",
       "      <td>1.654443</td>\n",
       "      <td>0.032144</td>\n",
       "      <td>1.725015</td>\n",
       "      <td>0.025017</td>\n",
       "      <td>1.827710</td>\n",
       "      <td>0.020202</td>\n",
       "      <td>1.942326</td>\n",
       "      <td>0.016717</td>\n",
       "      <td>2.526159</td>\n",
       "      <td>2.060685</td>\n",
       "      <td>0.014119</td>\n",
       "      <td>1.858608</td>\n",
       "    </tr>\n",
       "    <tr>\n",
       "      <th>GRD</th>\n",
       "      <td>0.483349</td>\n",
       "      <td>0.058818</td>\n",
       "      <td>0.712446</td>\n",
       "      <td>0.051790</td>\n",
       "      <td>0.990533</td>\n",
       "      <td>0.046818</td>\n",
       "      <td>1.309969</td>\n",
       "      <td>0.042986</td>\n",
       "      <td>1.664883</td>\n",
       "      <td>0.039907</td>\n",
       "      <td>1.191905</td>\n",
       "      <td>2.052249</td>\n",
       "      <td>0.037356</td>\n",
       "      <td>0.314682</td>\n",
       "    </tr>\n",
       "    <tr>\n",
       "      <th>LR</th>\n",
       "      <td>0.123419</td>\n",
       "      <td>0.047613</td>\n",
       "      <td>0.252768</td>\n",
       "      <td>0.050796</td>\n",
       "      <td>0.444576</td>\n",
       "      <td>0.053790</td>\n",
       "      <td>0.705611</td>\n",
       "      <td>0.056501</td>\n",
       "      <td>1.042189</td>\n",
       "      <td>0.059035</td>\n",
       "      <td>0.408708</td>\n",
       "      <td>1.460903</td>\n",
       "      <td>0.061385</td>\n",
       "      <td>0.053297</td>\n",
       "    </tr>\n",
       "  </tbody>\n",
       "</table>\n",
       "</div>"
      ],
      "text/plain": [
       "          B+1       B+3       C+2       C+4       N+3       N+5       O+4  \\\n",
       "RHO  1.657700  0.043472  1.654443  0.032144  1.725015  0.025017  1.827710   \n",
       "GRD  0.483349  0.058818  0.712446  0.051790  0.990533  0.046818  1.309969   \n",
       "LR   0.123419  0.047613  0.252768  0.050796  0.444576  0.053790  0.705611   \n",
       "\n",
       "          O+6       F+5       F+7      Ne+0      Ne+6      Ne+8      Be+0  \n",
       "RHO  0.020202  1.942326  0.016717  2.526159  2.060685  0.014119  1.858608  \n",
       "GRD  0.042986  1.664883  0.039907  1.191905  2.052249  0.037356  0.314682  \n",
       "LR   0.056501  1.042189  0.059035  0.408708  1.460903  0.061385  0.053297  "
      ]
     },
     "execution_count": 12,
     "metadata": {},
     "output_type": "execute_result"
    }
   ],
   "source": [
    "t = {}\n",
    "for atom in atom_config_with_be:\n",
    "    t[atom] = get_rdf_error(rdf_dict[\"HF\"][\"aug-cc-pwcv5z\"][atom], rdf_dict[\"CCSD\"][\"aug-cc-pwcv5z\"][atom])\n",
    "pd.DataFrame(t)"
   ]
  },
  {
   "cell_type": "code",
   "execution_count": 13,
   "id": "b21bf27e-705b-4e0f-bf3b-d8ed71aa8ffb",
   "metadata": {
    "tags": []
   },
   "outputs": [
    {
     "data": {
      "text/plain": [
       "RHO    1.100308\n",
       "GRD    0.642692\n",
       "LR     0.344328\n",
       "dtype: float64"
      ]
     },
     "execution_count": 13,
     "metadata": {},
     "output_type": "execute_result"
    }
   ],
   "source": [
    "pd.DataFrame(t).T.mean()"
   ]
  },
  {
   "cell_type": "code",
   "execution_count": 14,
   "id": "9b0b4d83-64b2-465a-bf6a-d04cb4911b91",
   "metadata": {
    "tags": []
   },
   "outputs": [
    {
     "data": {
      "text/plain": [
       "RHO    2.526159\n",
       "GRD    2.052249\n",
       "LR     1.460903\n",
       "dtype: float64"
      ]
     },
     "execution_count": 14,
     "metadata": {},
     "output_type": "execute_result"
    }
   ],
   "source": [
    "pd.DataFrame(t).T.max()"
   ]
  },
  {
   "cell_type": "code",
   "execution_count": null,
   "id": "dda2dde8-9631-4b5e-9915-4c6bd17c0f92",
   "metadata": {},
   "outputs": [],
   "source": []
  },
  {
   "cell_type": "markdown",
   "id": "676b4bb8-e5d5-4cfb-871c-6077e12ee726",
   "metadata": {},
   "source": [
    "## Summarized table of basis error"
   ]
  },
  {
   "cell_type": "code",
   "execution_count": 15,
   "id": "93af0773-fdef-4e8f-a64d-425a65d14c1e",
   "metadata": {
    "tags": []
   },
   "outputs": [],
   "source": [
    "basdep_dct = {}\n",
    "for atom in atom_config:\n",
    "    basdep_dct[atom] = {}\n",
    "    for basis in basis_list:\n",
    "        err = get_rdf_error(rdf_dict[\"CCSD\"][basis][atom], rdf_dict[\"CCSD\"][\"aug-cc-pwcv5z\"][atom])\n",
    "        for task in [\"RHO\", \"GRD\", \"LR\"]:\n",
    "            basdep_dct[atom][(basis, task)] = err[task]"
   ]
  },
  {
   "cell_type": "code",
   "execution_count": 16,
   "id": "7d0b1ac7-6e88-4e5a-9d36-5db9547c4b28",
   "metadata": {},
   "outputs": [],
   "source": [
    "res_mean = pd.DataFrame.from_dict(basdep_dct).T.mean()\n",
    "res_mean = pd.DataFrame({basis: res_mean[basis] for basis in basis_list}).T"
   ]
  },
  {
   "cell_type": "code",
   "execution_count": 17,
   "id": "141ee618-0604-4f34-8b31-5d1abc9e772e",
   "metadata": {},
   "outputs": [],
   "source": [
    "res_Ne8 = pd.DataFrame.from_dict(basdep_dct)[\"Ne+8\"]\n",
    "res_Ne8 = pd.DataFrame({basis: res_Ne8[basis] for basis in basis_list}).T"
   ]
  },
  {
   "cell_type": "code",
   "execution_count": 18,
   "id": "f6efcc42-262b-4c7a-9ce0-38d2c27b19b7",
   "metadata": {},
   "outputs": [
    {
     "data": {
      "text/html": [
       "<div>\n",
       "<style scoped>\n",
       "    .dataframe tbody tr th:only-of-type {\n",
       "        vertical-align: middle;\n",
       "    }\n",
       "\n",
       "    .dataframe tbody tr th {\n",
       "        vertical-align: top;\n",
       "    }\n",
       "\n",
       "    .dataframe thead th {\n",
       "        text-align: right;\n",
       "    }\n",
       "</style>\n",
       "<table border=\"1\" class=\"dataframe\">\n",
       "  <thead>\n",
       "    <tr style=\"text-align: right;\">\n",
       "      <th></th>\n",
       "      <th>RHO</th>\n",
       "      <th>GRD</th>\n",
       "      <th>LR</th>\n",
       "    </tr>\n",
       "  </thead>\n",
       "  <tbody>\n",
       "    <tr>\n",
       "      <th>aug-cc-pwcvdz</th>\n",
       "      <td>1.114948</td>\n",
       "      <td>1.301351</td>\n",
       "      <td>7.713953</td>\n",
       "    </tr>\n",
       "    <tr>\n",
       "      <th>aug-cc-pwcvtz</th>\n",
       "      <td>0.449337</td>\n",
       "      <td>0.798273</td>\n",
       "      <td>6.721336</td>\n",
       "    </tr>\n",
       "    <tr>\n",
       "      <th>aug-cc-pwcvqz</th>\n",
       "      <td>0.155297</td>\n",
       "      <td>0.253384</td>\n",
       "      <td>3.581307</td>\n",
       "    </tr>\n",
       "    <tr>\n",
       "      <th>aug-cc-pwcv5z</th>\n",
       "      <td>0.000000</td>\n",
       "      <td>0.000000</td>\n",
       "      <td>0.000000</td>\n",
       "    </tr>\n",
       "    <tr>\n",
       "      <th>aug-cc-pcvdz</th>\n",
       "      <td>1.410593</td>\n",
       "      <td>1.475342</td>\n",
       "      <td>7.725743</td>\n",
       "    </tr>\n",
       "    <tr>\n",
       "      <th>aug-cc-pcvtz</th>\n",
       "      <td>0.493062</td>\n",
       "      <td>0.805136</td>\n",
       "      <td>6.718991</td>\n",
       "    </tr>\n",
       "    <tr>\n",
       "      <th>aug-cc-pcvqz</th>\n",
       "      <td>0.156169</td>\n",
       "      <td>0.254968</td>\n",
       "      <td>3.580981</td>\n",
       "    </tr>\n",
       "    <tr>\n",
       "      <th>aug-cc-pcv5z</th>\n",
       "      <td>0.004015</td>\n",
       "      <td>0.005277</td>\n",
       "      <td>0.007591</td>\n",
       "    </tr>\n",
       "    <tr>\n",
       "      <th>aug-cc-pvdz</th>\n",
       "      <td>1.880921</td>\n",
       "      <td>2.499310</td>\n",
       "      <td>7.896936</td>\n",
       "    </tr>\n",
       "    <tr>\n",
       "      <th>aug-cc-pvtz</th>\n",
       "      <td>0.677586</td>\n",
       "      <td>0.903439</td>\n",
       "      <td>6.739854</td>\n",
       "    </tr>\n",
       "    <tr>\n",
       "      <th>aug-cc-pvqz</th>\n",
       "      <td>0.246102</td>\n",
       "      <td>0.365618</td>\n",
       "      <td>3.597051</td>\n",
       "    </tr>\n",
       "    <tr>\n",
       "      <th>aug-cc-pv5z</th>\n",
       "      <td>0.100065</td>\n",
       "      <td>0.147230</td>\n",
       "      <td>0.115615</td>\n",
       "    </tr>\n",
       "    <tr>\n",
       "      <th>cc-pvdz</th>\n",
       "      <td>1.829105</td>\n",
       "      <td>2.485256</td>\n",
       "      <td>7.895770</td>\n",
       "    </tr>\n",
       "    <tr>\n",
       "      <th>cc-pvtz</th>\n",
       "      <td>0.692177</td>\n",
       "      <td>0.914143</td>\n",
       "      <td>6.743412</td>\n",
       "    </tr>\n",
       "    <tr>\n",
       "      <th>cc-pvqz</th>\n",
       "      <td>0.254679</td>\n",
       "      <td>0.365853</td>\n",
       "      <td>3.597072</td>\n",
       "    </tr>\n",
       "    <tr>\n",
       "      <th>cc-pv5z</th>\n",
       "      <td>0.098345</td>\n",
       "      <td>0.147455</td>\n",
       "      <td>0.116941</td>\n",
       "    </tr>\n",
       "    <tr>\n",
       "      <th>def2-svpd</th>\n",
       "      <td>4.138081</td>\n",
       "      <td>5.057354</td>\n",
       "      <td>18.223527</td>\n",
       "    </tr>\n",
       "    <tr>\n",
       "      <th>def2-tzvpd</th>\n",
       "      <td>0.483855</td>\n",
       "      <td>0.695532</td>\n",
       "      <td>4.838814</td>\n",
       "    </tr>\n",
       "    <tr>\n",
       "      <th>def2-qzvpd</th>\n",
       "      <td>0.184453</td>\n",
       "      <td>0.282529</td>\n",
       "      <td>2.775220</td>\n",
       "    </tr>\n",
       "    <tr>\n",
       "      <th>aug-pc-1</th>\n",
       "      <td>1.941224</td>\n",
       "      <td>3.715455</td>\n",
       "      <td>18.177976</td>\n",
       "    </tr>\n",
       "    <tr>\n",
       "      <th>aug-pc-2</th>\n",
       "      <td>1.977088</td>\n",
       "      <td>2.856644</td>\n",
       "      <td>7.145984</td>\n",
       "    </tr>\n",
       "    <tr>\n",
       "      <th>aug-pc-3</th>\n",
       "      <td>0.359669</td>\n",
       "      <td>0.648367</td>\n",
       "      <td>0.907091</td>\n",
       "    </tr>\n",
       "    <tr>\n",
       "      <th>aug-pc-4</th>\n",
       "      <td>0.121689</td>\n",
       "      <td>0.218030</td>\n",
       "      <td>1.612183</td>\n",
       "    </tr>\n",
       "    <tr>\n",
       "      <th>aug-pcX-1</th>\n",
       "      <td>1.484562</td>\n",
       "      <td>2.716081</td>\n",
       "      <td>17.013043</td>\n",
       "    </tr>\n",
       "    <tr>\n",
       "      <th>aug-pcX-2</th>\n",
       "      <td>8.955606</td>\n",
       "      <td>2.448600</td>\n",
       "      <td>6.535260</td>\n",
       "    </tr>\n",
       "    <tr>\n",
       "      <th>aug-pcX-3</th>\n",
       "      <td>30.622612</td>\n",
       "      <td>10.032294</td>\n",
       "      <td>5.279954</td>\n",
       "    </tr>\n",
       "    <tr>\n",
       "      <th>aug-pcX-4</th>\n",
       "      <td>36.656456</td>\n",
       "      <td>11.369900</td>\n",
       "      <td>5.867216</td>\n",
       "    </tr>\n",
       "  </tbody>\n",
       "</table>\n",
       "</div>"
      ],
      "text/plain": [
       "                     RHO        GRD         LR\n",
       "aug-cc-pwcvdz   1.114948   1.301351   7.713953\n",
       "aug-cc-pwcvtz   0.449337   0.798273   6.721336\n",
       "aug-cc-pwcvqz   0.155297   0.253384   3.581307\n",
       "aug-cc-pwcv5z   0.000000   0.000000   0.000000\n",
       "aug-cc-pcvdz    1.410593   1.475342   7.725743\n",
       "aug-cc-pcvtz    0.493062   0.805136   6.718991\n",
       "aug-cc-pcvqz    0.156169   0.254968   3.580981\n",
       "aug-cc-pcv5z    0.004015   0.005277   0.007591\n",
       "aug-cc-pvdz     1.880921   2.499310   7.896936\n",
       "aug-cc-pvtz     0.677586   0.903439   6.739854\n",
       "aug-cc-pvqz     0.246102   0.365618   3.597051\n",
       "aug-cc-pv5z     0.100065   0.147230   0.115615\n",
       "cc-pvdz         1.829105   2.485256   7.895770\n",
       "cc-pvtz         0.692177   0.914143   6.743412\n",
       "cc-pvqz         0.254679   0.365853   3.597072\n",
       "cc-pv5z         0.098345   0.147455   0.116941\n",
       "def2-svpd       4.138081   5.057354  18.223527\n",
       "def2-tzvpd      0.483855   0.695532   4.838814\n",
       "def2-qzvpd      0.184453   0.282529   2.775220\n",
       "aug-pc-1        1.941224   3.715455  18.177976\n",
       "aug-pc-2        1.977088   2.856644   7.145984\n",
       "aug-pc-3        0.359669   0.648367   0.907091\n",
       "aug-pc-4        0.121689   0.218030   1.612183\n",
       "aug-pcX-1       1.484562   2.716081  17.013043\n",
       "aug-pcX-2       8.955606   2.448600   6.535260\n",
       "aug-pcX-3      30.622612  10.032294   5.279954\n",
       "aug-pcX-4      36.656456  11.369900   5.867216"
      ]
     },
     "execution_count": 18,
     "metadata": {},
     "output_type": "execute_result"
    }
   ],
   "source": [
    "res_mean"
   ]
  },
  {
   "cell_type": "code",
   "execution_count": null,
   "id": "9dba376d-50d8-49ef-8242-a11356e1c3b0",
   "metadata": {},
   "outputs": [],
   "source": []
  },
  {
   "cell_type": "code",
   "execution_count": null,
   "id": "dbfa02a6-9533-4813-9e67-480c0c7f3ab0",
   "metadata": {},
   "outputs": [],
   "source": []
  },
  {
   "cell_type": "code",
   "execution_count": null,
   "id": "2df94f50-748a-4fc6-9159-2fe97e3bafc3",
   "metadata": {},
   "outputs": [],
   "source": []
  },
  {
   "cell_type": "code",
   "execution_count": null,
   "id": "bcf5a3ce-2eef-44d3-8926-3c110795c716",
   "metadata": {},
   "outputs": [],
   "source": []
  },
  {
   "cell_type": "code",
   "execution_count": null,
   "id": "d4a33155-09a8-4a0e-82d9-11451d606288",
   "metadata": {},
   "outputs": [],
   "source": []
  },
  {
   "cell_type": "code",
   "execution_count": null,
   "id": "e29cd4d3-2499-421b-bd37-166196da0086",
   "metadata": {},
   "outputs": [],
   "source": []
  },
  {
   "cell_type": "code",
   "execution_count": null,
   "id": "865fab67-30c3-4972-b58e-d88936ec8469",
   "metadata": {},
   "outputs": [],
   "source": []
  }
 ],
 "metadata": {
  "kernelspec": {
   "display_name": "Python 3 (ipykernel)",
   "language": "python",
   "name": "python3"
  },
  "language_info": {
   "codemirror_mode": {
    "name": "ipython",
    "version": 3
   },
   "file_extension": ".py",
   "mimetype": "text/x-python",
   "name": "python",
   "nbconvert_exporter": "python",
   "pygments_lexer": "ipython3",
   "version": "3.10.13"
  }
 },
 "nbformat": 4,
 "nbformat_minor": 5
}
