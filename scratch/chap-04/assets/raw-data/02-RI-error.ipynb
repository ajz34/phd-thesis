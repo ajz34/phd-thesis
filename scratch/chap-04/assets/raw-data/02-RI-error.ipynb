{
 "cells": [
  {
   "cell_type": "code",
   "execution_count": 1,
   "id": "d58b552f-46d0-4750-bf38-47cf8034477c",
   "metadata": {
    "tags": []
   },
   "outputs": [],
   "source": [
    "import warnings\n",
    "import sys\n",
    "from pyscf import data\n",
    "\n",
    "warnings.filterwarnings(\"ignore\")"
   ]
  },
  {
   "cell_type": "code",
   "execution_count": 2,
   "id": "672f91ab-95ee-48f6-80b1-1ece75f40a7a",
   "metadata": {
    "tags": []
   },
   "outputs": [],
   "source": [
    "import numpy as np\n",
    "import pandas as pd\n",
    "import h5py\n",
    "from atom_rdf_pack.atom_rdf import get_rmsd_error, rad\n",
    "from matplotlib import pyplot as plt"
   ]
  },
  {
   "cell_type": "code",
   "execution_count": 3,
   "id": "8a833e7e-05b0-4e91-afad-10a2e7e02758",
   "metadata": {
    "tags": []
   },
   "outputs": [],
   "source": [
    "atom_config = [\"B+1\", \"B+3\", \"C+2\", \"C+4\", \"N+3\", \"N+5\", \"O+4\", \"O+6\", \"F+5\", \"F+7\", \"Ne+0\", \"Ne+6\", \"Ne+8\"]\n",
    "atom_config_with_be = atom_config + [\"Be+0\"]"
   ]
  },
  {
   "cell_type": "code",
   "execution_count": 4,
   "id": "521fb4c8-7440-4754-86e6-30f0954496c3",
   "metadata": {
    "tags": []
   },
   "outputs": [],
   "source": [
    "atom_cfg = [(l, l.split(\"+\")[0], int(l.split(\"+\")[1])) for l in atom_config]\n",
    "atom_cfg_with_be = [(l, l.split(\"+\")[0], int(l.split(\"+\")[1])) for l in atom_config_with_be]"
   ]
  },
  {
   "cell_type": "code",
   "execution_count": 5,
   "id": "778cbe4b-916d-4dc1-9bc6-4cfae46f6176",
   "metadata": {
    "tags": []
   },
   "outputs": [],
   "source": [
    "def h5group_to_dict(grp):\n",
    "    dct = {}\n",
    "    for key, val in grp.items():\n",
    "        if isinstance(val, h5py.Dataset):\n",
    "            dct[key] = val[()]\n",
    "        else:\n",
    "            dct[key] = h5group_to_dict(val)\n",
    "    return dct"
   ]
  },
  {
   "cell_type": "code",
   "execution_count": 6,
   "id": "191f7735-11e2-4002-87b3-2ebb31aef44b",
   "metadata": {
    "tags": []
   },
   "outputs": [],
   "source": [
    "def get_rdf_error(dct1, dct2):\n",
    "    return pd.Series({key: get_rmsd_error(dct1[key], dct2[key], scale=key) for key in [\"RHO\", \"GRD\", \"LR\"]}) / data.nist.BOHR"
   ]
  },
  {
   "cell_type": "code",
   "execution_count": 7,
   "id": "f1e6aa23-d066-4adb-812e-fbdc7888e44d",
   "metadata": {
    "tags": []
   },
   "outputs": [],
   "source": [
    "basis_pvxz = [\"aug-cc-pvdz\", \"aug-cc-pvtz\", \"aug-cc-pvqz\", \"aug-cc-pv5z\"]\n",
    "basis_pwcvxz = [\"aug-cc-pwcvdz\", \"aug-cc-pwcvtz\", \"aug-cc-pwcvqz\", \"aug-cc-pwcv5z\"]"
   ]
  },
  {
   "cell_type": "code",
   "execution_count": null,
   "id": "b73a2730-6b6e-4d9f-bcd0-79c6dc919c52",
   "metadata": {},
   "outputs": [],
   "source": []
  },
  {
   "cell_type": "markdown",
   "id": "b1451268-4ea7-4ac6-bd5d-89c438edc15d",
   "metadata": {},
   "source": [
    "# Density Part"
   ]
  },
  {
   "cell_type": "code",
   "execution_count": 8,
   "id": "74ae5d91-1868-4a44-b3e9-c7b4b9e90db6",
   "metadata": {
    "tags": []
   },
   "outputs": [
    {
     "name": "stdout",
     "output_type": "stream",
     "text": [
      "CPU times: user 370 ms, sys: 338 ms, total: 709 ms\n",
      "Wall time: 1.56 s\n"
     ]
    }
   ],
   "source": [
    "%%time\n",
    "with h5py.File(\"rdf.h5\", \"r\") as f:\n",
    "    rdf_dict = h5group_to_dict(f)"
   ]
  },
  {
   "cell_type": "code",
   "execution_count": 9,
   "id": "ca432f2a-7ec3-443f-afe7-5404b2b242b2",
   "metadata": {
    "tags": []
   },
   "outputs": [
    {
     "name": "stdout",
     "output_type": "stream",
     "text": [
      "CPU times: user 146 ms, sys: 130 ms, total: 276 ms\n",
      "Wall time: 605 ms\n"
     ]
    }
   ],
   "source": [
    "%%time\n",
    "with h5py.File(\"rdf-ri.h5\", \"r\") as f:\n",
    "    rdf_ri_dict = h5group_to_dict(f)"
   ]
  },
  {
   "cell_type": "markdown",
   "id": "2870aae7-fea4-4479-ba6a-1fc9ac5b7b2a",
   "metadata": {
    "tags": []
   },
   "source": [
    "## HF"
   ]
  },
  {
   "cell_type": "code",
   "execution_count": 10,
   "id": "20dfa406-4791-41ca-98b1-674b67dccd42",
   "metadata": {
    "tags": []
   },
   "outputs": [],
   "source": [
    "dct_ri = {}\n",
    "for atom in atom_config:\n",
    "    dct_ri[atom] = {}\n",
    "    for basis in basis_pvxz:\n",
    "        err = get_rdf_error(rdf_ri_dict['HF-RI'][basis][atom], rdf_dict['HF'][basis][atom])\n",
    "        for task in [\"RHO\", \"GRD\", \"LR\"]:\n",
    "            dct_ri[atom][(basis, task)] = err[task]"
   ]
  },
  {
   "cell_type": "code",
   "execution_count": 11,
   "id": "0792e2a7-124d-460d-8020-b02bf4ea11a6",
   "metadata": {
    "tags": []
   },
   "outputs": [
    {
     "data": {
      "text/html": [
       "<style type=\"text/css\">\n",
       "</style>\n",
       "<table id=\"T_5c615\">\n",
       "  <thead>\n",
       "    <tr>\n",
       "      <th class=\"blank level0\" >&nbsp;</th>\n",
       "      <th id=\"T_5c615_level0_col0\" class=\"col_heading level0 col0\" >RHO</th>\n",
       "      <th id=\"T_5c615_level0_col1\" class=\"col_heading level0 col1\" >GRD</th>\n",
       "      <th id=\"T_5c615_level0_col2\" class=\"col_heading level0 col2\" >LR</th>\n",
       "    </tr>\n",
       "  </thead>\n",
       "  <tbody>\n",
       "    <tr>\n",
       "      <th id=\"T_5c615_level0_row0\" class=\"row_heading level0 row0\" >aug-cc-pvdz</th>\n",
       "      <td id=\"T_5c615_row0_col0\" class=\"data row0 col0\" >1.48E-04</td>\n",
       "      <td id=\"T_5c615_row0_col1\" class=\"data row0 col1\" >6.81E-05</td>\n",
       "      <td id=\"T_5c615_row0_col2\" class=\"data row0 col2\" >2.32E-05</td>\n",
       "    </tr>\n",
       "    <tr>\n",
       "      <th id=\"T_5c615_level0_row1\" class=\"row_heading level0 row1\" >aug-cc-pvtz</th>\n",
       "      <td id=\"T_5c615_row1_col0\" class=\"data row1 col0\" >1.46E-04</td>\n",
       "      <td id=\"T_5c615_row1_col1\" class=\"data row1 col1\" >8.61E-05</td>\n",
       "      <td id=\"T_5c615_row1_col2\" class=\"data row1 col2\" >4.69E-05</td>\n",
       "    </tr>\n",
       "    <tr>\n",
       "      <th id=\"T_5c615_level0_row2\" class=\"row_heading level0 row2\" >aug-cc-pvqz</th>\n",
       "      <td id=\"T_5c615_row2_col0\" class=\"data row2 col0\" >1.92E-04</td>\n",
       "      <td id=\"T_5c615_row2_col1\" class=\"data row2 col1\" >1.09E-04</td>\n",
       "      <td id=\"T_5c615_row2_col2\" class=\"data row2 col2\" >5.87E-05</td>\n",
       "    </tr>\n",
       "    <tr>\n",
       "      <th id=\"T_5c615_level0_row3\" class=\"row_heading level0 row3\" >aug-cc-pv5z</th>\n",
       "      <td id=\"T_5c615_row3_col0\" class=\"data row3 col0\" >2.30E-04</td>\n",
       "      <td id=\"T_5c615_row3_col1\" class=\"data row3 col1\" >1.31E-04</td>\n",
       "      <td id=\"T_5c615_row3_col2\" class=\"data row3 col2\" >6.82E-05</td>\n",
       "    </tr>\n",
       "  </tbody>\n",
       "</table>\n"
      ],
      "text/plain": [
       "<pandas.io.formats.style.Styler at 0x7f2b5b5cbcd0>"
      ]
     },
     "execution_count": 11,
     "metadata": {},
     "output_type": "execute_result"
    }
   ],
   "source": [
    "tab_mean = pd.DataFrame.from_dict(dct_ri).T.mean()\n",
    "tab_mean = pd.DataFrame({basis: tab_mean[basis] for basis in basis_pvxz}).T\n",
    "tab_hf_pre_mean = tab_mean\n",
    "tab_mean.style.format(\"{:.2E}\")"
   ]
  },
  {
   "cell_type": "code",
   "execution_count": 12,
   "id": "74d0d087-98fe-45af-b3c2-cbd252e8281c",
   "metadata": {
    "tags": []
   },
   "outputs": [
    {
     "data": {
      "text/html": [
       "<style type=\"text/css\">\n",
       "</style>\n",
       "<table id=\"T_4f5e6\">\n",
       "  <thead>\n",
       "    <tr>\n",
       "      <th class=\"blank level0\" >&nbsp;</th>\n",
       "      <th id=\"T_4f5e6_level0_col0\" class=\"col_heading level0 col0\" >RHO</th>\n",
       "      <th id=\"T_4f5e6_level0_col1\" class=\"col_heading level0 col1\" >GRD</th>\n",
       "      <th id=\"T_4f5e6_level0_col2\" class=\"col_heading level0 col2\" >LR</th>\n",
       "    </tr>\n",
       "  </thead>\n",
       "  <tbody>\n",
       "    <tr>\n",
       "      <th id=\"T_4f5e6_level0_row0\" class=\"row_heading level0 row0\" >aug-cc-pvdz</th>\n",
       "      <td id=\"T_4f5e6_row0_col0\" class=\"data row0 col0\" >1.28E-03</td>\n",
       "      <td id=\"T_4f5e6_row0_col1\" class=\"data row0 col1\" >5.51E-04</td>\n",
       "      <td id=\"T_4f5e6_row0_col2\" class=\"data row0 col2\" >1.45E-04</td>\n",
       "    </tr>\n",
       "    <tr>\n",
       "      <th id=\"T_4f5e6_level0_row1\" class=\"row_heading level0 row1\" >aug-cc-pvtz</th>\n",
       "      <td id=\"T_4f5e6_row1_col0\" class=\"data row1 col0\" >9.45E-04</td>\n",
       "      <td id=\"T_4f5e6_row1_col1\" class=\"data row1 col1\" >3.92E-04</td>\n",
       "      <td id=\"T_4f5e6_row1_col2\" class=\"data row1 col2\" >1.52E-04</td>\n",
       "    </tr>\n",
       "    <tr>\n",
       "      <th id=\"T_4f5e6_level0_row2\" class=\"row_heading level0 row2\" >aug-cc-pvqz</th>\n",
       "      <td id=\"T_4f5e6_row2_col0\" class=\"data row2 col0\" >6.04E-04</td>\n",
       "      <td id=\"T_4f5e6_row2_col1\" class=\"data row2 col1\" >4.06E-04</td>\n",
       "      <td id=\"T_4f5e6_row2_col2\" class=\"data row2 col2\" >2.50E-04</td>\n",
       "    </tr>\n",
       "    <tr>\n",
       "      <th id=\"T_4f5e6_level0_row3\" class=\"row_heading level0 row3\" >aug-cc-pv5z</th>\n",
       "      <td id=\"T_4f5e6_row3_col0\" class=\"data row3 col0\" >1.40E-03</td>\n",
       "      <td id=\"T_4f5e6_row3_col1\" class=\"data row3 col1\" >7.45E-04</td>\n",
       "      <td id=\"T_4f5e6_row3_col2\" class=\"data row3 col2\" >3.04E-04</td>\n",
       "    </tr>\n",
       "  </tbody>\n",
       "</table>\n"
      ],
      "text/plain": [
       "<pandas.io.formats.style.Styler at 0x7f2b5b5fe050>"
      ]
     },
     "execution_count": 12,
     "metadata": {},
     "output_type": "execute_result"
    }
   ],
   "source": [
    "tab_max = pd.DataFrame.from_dict(dct_ri).T.max()\n",
    "tab_max = pd.DataFrame({basis: tab_max[basis] for basis in basis_pvxz}).T\n",
    "tab_hf_pre_max = tab_max\n",
    "tab_max.style.format(\"{:.2E}\")"
   ]
  },
  {
   "cell_type": "code",
   "execution_count": null,
   "id": "064976c8-300f-425d-b935-10a7e1cc30d5",
   "metadata": {},
   "outputs": [],
   "source": []
  },
  {
   "cell_type": "code",
   "execution_count": 13,
   "id": "9e1cfee3-b7da-411a-9429-2b29a3e516c6",
   "metadata": {
    "tags": []
   },
   "outputs": [],
   "source": [
    "dct_etb = {}\n",
    "for atom in atom_config:\n",
    "    dct_etb[atom] = {}\n",
    "    for basis in basis_pvxz + basis_pwcvxz:\n",
    "        err = get_rdf_error(rdf_ri_dict['HF-ETB'][basis][atom], rdf_dict['HF'][basis][atom])\n",
    "        for task in [\"RHO\", \"GRD\", \"LR\"]:\n",
    "            dct_etb[atom][(basis, task)] = err[task]"
   ]
  },
  {
   "cell_type": "code",
   "execution_count": 14,
   "id": "2cc85a16-0368-4489-b00a-73064c0822be",
   "metadata": {
    "tags": []
   },
   "outputs": [
    {
     "data": {
      "text/html": [
       "<style type=\"text/css\">\n",
       "</style>\n",
       "<table id=\"T_4903d\">\n",
       "  <thead>\n",
       "    <tr>\n",
       "      <th class=\"blank level0\" >&nbsp;</th>\n",
       "      <th id=\"T_4903d_level0_col0\" class=\"col_heading level0 col0\" >RHO</th>\n",
       "      <th id=\"T_4903d_level0_col1\" class=\"col_heading level0 col1\" >GRD</th>\n",
       "      <th id=\"T_4903d_level0_col2\" class=\"col_heading level0 col2\" >LR</th>\n",
       "    </tr>\n",
       "  </thead>\n",
       "  <tbody>\n",
       "    <tr>\n",
       "      <th id=\"T_4903d_level0_row0\" class=\"row_heading level0 row0\" >aug-cc-pvdz</th>\n",
       "      <td id=\"T_4903d_row0_col0\" class=\"data row0 col0\" >3.18E-05</td>\n",
       "      <td id=\"T_4903d_row0_col1\" class=\"data row0 col1\" >1.36E-05</td>\n",
       "      <td id=\"T_4903d_row0_col2\" class=\"data row0 col2\" >3.88E-06</td>\n",
       "    </tr>\n",
       "    <tr>\n",
       "      <th id=\"T_4903d_level0_row1\" class=\"row_heading level0 row1\" >aug-cc-pvtz</th>\n",
       "      <td id=\"T_4903d_row1_col0\" class=\"data row1 col0\" >1.32E-05</td>\n",
       "      <td id=\"T_4903d_row1_col1\" class=\"data row1 col1\" >5.51E-06</td>\n",
       "      <td id=\"T_4903d_row1_col2\" class=\"data row1 col2\" >2.58E-06</td>\n",
       "    </tr>\n",
       "    <tr>\n",
       "      <th id=\"T_4903d_level0_row2\" class=\"row_heading level0 row2\" >aug-cc-pvqz</th>\n",
       "      <td id=\"T_4903d_row2_col0\" class=\"data row2 col0\" >5.74E-06</td>\n",
       "      <td id=\"T_4903d_row2_col1\" class=\"data row2 col1\" >3.93E-06</td>\n",
       "      <td id=\"T_4903d_row2_col2\" class=\"data row2 col2\" >2.24E-06</td>\n",
       "    </tr>\n",
       "    <tr>\n",
       "      <th id=\"T_4903d_level0_row3\" class=\"row_heading level0 row3\" >aug-cc-pv5z</th>\n",
       "      <td id=\"T_4903d_row3_col0\" class=\"data row3 col0\" >2.94E-06</td>\n",
       "      <td id=\"T_4903d_row3_col1\" class=\"data row3 col1\" >1.65E-06</td>\n",
       "      <td id=\"T_4903d_row3_col2\" class=\"data row3 col2\" >9.00E-07</td>\n",
       "    </tr>\n",
       "    <tr>\n",
       "      <th id=\"T_4903d_level0_row4\" class=\"row_heading level0 row4\" >aug-cc-pwcvdz</th>\n",
       "      <td id=\"T_4903d_row4_col0\" class=\"data row4 col0\" >3.43E-05</td>\n",
       "      <td id=\"T_4903d_row4_col1\" class=\"data row4 col1\" >1.67E-05</td>\n",
       "      <td id=\"T_4903d_row4_col2\" class=\"data row4 col2\" >6.96E-06</td>\n",
       "    </tr>\n",
       "    <tr>\n",
       "      <th id=\"T_4903d_level0_row5\" class=\"row_heading level0 row5\" >aug-cc-pwcvtz</th>\n",
       "      <td id=\"T_4903d_row5_col0\" class=\"data row5 col0\" >1.47E-05</td>\n",
       "      <td id=\"T_4903d_row5_col1\" class=\"data row5 col1\" >8.75E-06</td>\n",
       "      <td id=\"T_4903d_row5_col2\" class=\"data row5 col2\" >8.05E-06</td>\n",
       "    </tr>\n",
       "    <tr>\n",
       "      <th id=\"T_4903d_level0_row6\" class=\"row_heading level0 row6\" >aug-cc-pwcvqz</th>\n",
       "      <td id=\"T_4903d_row6_col0\" class=\"data row6 col0\" >1.07E-05</td>\n",
       "      <td id=\"T_4903d_row6_col1\" class=\"data row6 col1\" >9.34E-06</td>\n",
       "      <td id=\"T_4903d_row6_col2\" class=\"data row6 col2\" >9.62E-06</td>\n",
       "    </tr>\n",
       "    <tr>\n",
       "      <th id=\"T_4903d_level0_row7\" class=\"row_heading level0 row7\" >aug-cc-pwcv5z</th>\n",
       "      <td id=\"T_4903d_row7_col0\" class=\"data row7 col0\" >6.03E-06</td>\n",
       "      <td id=\"T_4903d_row7_col1\" class=\"data row7 col1\" >5.49E-06</td>\n",
       "      <td id=\"T_4903d_row7_col2\" class=\"data row7 col2\" >8.52E-06</td>\n",
       "    </tr>\n",
       "  </tbody>\n",
       "</table>\n"
      ],
      "text/plain": [
       "<pandas.io.formats.style.Styler at 0x7f2b5b5fd510>"
      ]
     },
     "execution_count": 14,
     "metadata": {},
     "output_type": "execute_result"
    }
   ],
   "source": [
    "tab_mean = pd.DataFrame.from_dict(dct_etb).T.mean()\n",
    "tab_mean = pd.DataFrame({basis: tab_mean[basis] for basis in basis_pvxz + basis_pwcvxz}).T\n",
    "tab_hf_etb_mean = tab_mean\n",
    "tab_mean.style.format(\"{:.2E}\")"
   ]
  },
  {
   "cell_type": "code",
   "execution_count": 15,
   "id": "ed32eab1-301e-41ce-b273-e30edfea7c5a",
   "metadata": {
    "tags": []
   },
   "outputs": [
    {
     "data": {
      "text/html": [
       "<style type=\"text/css\">\n",
       "</style>\n",
       "<table id=\"T_05da2\">\n",
       "  <thead>\n",
       "    <tr>\n",
       "      <th class=\"blank level0\" >&nbsp;</th>\n",
       "      <th id=\"T_05da2_level0_col0\" class=\"col_heading level0 col0\" >RHO</th>\n",
       "      <th id=\"T_05da2_level0_col1\" class=\"col_heading level0 col1\" >GRD</th>\n",
       "      <th id=\"T_05da2_level0_col2\" class=\"col_heading level0 col2\" >LR</th>\n",
       "    </tr>\n",
       "  </thead>\n",
       "  <tbody>\n",
       "    <tr>\n",
       "      <th id=\"T_05da2_level0_row0\" class=\"row_heading level0 row0\" >aug-cc-pvdz</th>\n",
       "      <td id=\"T_05da2_row0_col0\" class=\"data row0 col0\" >3.28E-04</td>\n",
       "      <td id=\"T_05da2_row0_col1\" class=\"data row0 col1\" >1.42E-04</td>\n",
       "      <td id=\"T_05da2_row0_col2\" class=\"data row0 col2\" >3.67E-05</td>\n",
       "    </tr>\n",
       "    <tr>\n",
       "      <th id=\"T_05da2_level0_row1\" class=\"row_heading level0 row1\" >aug-cc-pvtz</th>\n",
       "      <td id=\"T_05da2_row1_col0\" class=\"data row1 col0\" >1.59E-04</td>\n",
       "      <td id=\"T_05da2_row1_col1\" class=\"data row1 col1\" >6.14E-05</td>\n",
       "      <td id=\"T_05da2_row1_col2\" class=\"data row1 col2\" >2.68E-05</td>\n",
       "    </tr>\n",
       "    <tr>\n",
       "      <th id=\"T_05da2_level0_row2\" class=\"row_heading level0 row2\" >aug-cc-pvqz</th>\n",
       "      <td id=\"T_05da2_row2_col0\" class=\"data row2 col0\" >4.65E-05</td>\n",
       "      <td id=\"T_05da2_row2_col1\" class=\"data row2 col1\" >2.61E-05</td>\n",
       "      <td id=\"T_05da2_row2_col2\" class=\"data row2 col2\" >1.17E-05</td>\n",
       "    </tr>\n",
       "    <tr>\n",
       "      <th id=\"T_05da2_level0_row3\" class=\"row_heading level0 row3\" >aug-cc-pv5z</th>\n",
       "      <td id=\"T_05da2_row3_col0\" class=\"data row3 col0\" >1.11E-05</td>\n",
       "      <td id=\"T_05da2_row3_col1\" class=\"data row3 col1\" >5.56E-06</td>\n",
       "      <td id=\"T_05da2_row3_col2\" class=\"data row3 col2\" >2.78E-06</td>\n",
       "    </tr>\n",
       "    <tr>\n",
       "      <th id=\"T_05da2_level0_row4\" class=\"row_heading level0 row4\" >aug-cc-pwcvdz</th>\n",
       "      <td id=\"T_05da2_row4_col0\" class=\"data row4 col0\" >3.46E-04</td>\n",
       "      <td id=\"T_05da2_row4_col1\" class=\"data row4 col1\" >1.51E-04</td>\n",
       "      <td id=\"T_05da2_row4_col2\" class=\"data row4 col2\" >4.42E-05</td>\n",
       "    </tr>\n",
       "    <tr>\n",
       "      <th id=\"T_05da2_level0_row5\" class=\"row_heading level0 row5\" >aug-cc-pwcvtz</th>\n",
       "      <td id=\"T_05da2_row5_col0\" class=\"data row5 col0\" >1.43E-04</td>\n",
       "      <td id=\"T_05da2_row5_col1\" class=\"data row5 col1\" >7.08E-05</td>\n",
       "      <td id=\"T_05da2_row5_col2\" class=\"data row5 col2\" >6.48E-05</td>\n",
       "    </tr>\n",
       "    <tr>\n",
       "      <th id=\"T_05da2_level0_row6\" class=\"row_heading level0 row6\" >aug-cc-pwcvqz</th>\n",
       "      <td id=\"T_05da2_row6_col0\" class=\"data row6 col0\" >9.34E-05</td>\n",
       "      <td id=\"T_05da2_row6_col1\" class=\"data row6 col1\" >7.45E-05</td>\n",
       "      <td id=\"T_05da2_row6_col2\" class=\"data row6 col2\" >5.69E-05</td>\n",
       "    </tr>\n",
       "    <tr>\n",
       "      <th id=\"T_05da2_level0_row7\" class=\"row_heading level0 row7\" >aug-cc-pwcv5z</th>\n",
       "      <td id=\"T_05da2_row7_col0\" class=\"data row7 col0\" >2.05E-05</td>\n",
       "      <td id=\"T_05da2_row7_col1\" class=\"data row7 col1\" >1.71E-05</td>\n",
       "      <td id=\"T_05da2_row7_col2\" class=\"data row7 col2\" >2.57E-05</td>\n",
       "    </tr>\n",
       "  </tbody>\n",
       "</table>\n"
      ],
      "text/plain": [
       "<pandas.io.formats.style.Styler at 0x7f2b5b5fcb20>"
      ]
     },
     "execution_count": 15,
     "metadata": {},
     "output_type": "execute_result"
    }
   ],
   "source": [
    "tab_max = pd.DataFrame.from_dict(dct_etb).T.max()\n",
    "tab_max = pd.DataFrame({basis: tab_max[basis] for basis in basis_pvxz + basis_pwcvxz}).T\n",
    "tab_hf_etb_max = tab_max\n",
    "tab_max.style.format(\"{:.2E}\")"
   ]
  },
  {
   "cell_type": "markdown",
   "id": "12b75f00-a902-4077-b1d7-3e0f0ce4da00",
   "metadata": {
    "tags": []
   },
   "source": [
    "## MP2"
   ]
  },
  {
   "cell_type": "code",
   "execution_count": 16,
   "id": "57a4e7fe-3079-4795-b679-f405330d8cf4",
   "metadata": {
    "tags": []
   },
   "outputs": [],
   "source": [
    "dct_ri = {}\n",
    "for atom in atom_config:\n",
    "    dct_ri[atom] = {}\n",
    "    for basis in basis_pvxz + basis_pwcvxz:\n",
    "        err = get_rdf_error(rdf_ri_dict['MP2-RI'][basis][atom], rdf_dict['MP2'][basis][atom])\n",
    "        for task in [\"RHO\", \"GRD\", \"LR\"]:\n",
    "            dct_ri[atom][(basis, task)] = err[task]"
   ]
  },
  {
   "cell_type": "code",
   "execution_count": 17,
   "id": "526abeb0-11d4-4137-9c8d-029d258ed02e",
   "metadata": {
    "tags": []
   },
   "outputs": [
    {
     "data": {
      "text/html": [
       "<style type=\"text/css\">\n",
       "</style>\n",
       "<table id=\"T_62546\">\n",
       "  <thead>\n",
       "    <tr>\n",
       "      <th class=\"blank level0\" >&nbsp;</th>\n",
       "      <th id=\"T_62546_level0_col0\" class=\"col_heading level0 col0\" >RHO</th>\n",
       "      <th id=\"T_62546_level0_col1\" class=\"col_heading level0 col1\" >GRD</th>\n",
       "      <th id=\"T_62546_level0_col2\" class=\"col_heading level0 col2\" >LR</th>\n",
       "    </tr>\n",
       "  </thead>\n",
       "  <tbody>\n",
       "    <tr>\n",
       "      <th id=\"T_62546_level0_row0\" class=\"row_heading level0 row0\" >aug-cc-pvdz</th>\n",
       "      <td id=\"T_62546_row0_col0\" class=\"data row0 col0\" >2.37E-04</td>\n",
       "      <td id=\"T_62546_row0_col1\" class=\"data row0 col1\" >5.99E-02</td>\n",
       "      <td id=\"T_62546_row0_col2\" class=\"data row0 col2\" >7.34E-03</td>\n",
       "    </tr>\n",
       "    <tr>\n",
       "      <th id=\"T_62546_level0_row1\" class=\"row_heading level0 row1\" >aug-cc-pvtz</th>\n",
       "      <td id=\"T_62546_row1_col0\" class=\"data row1 col0\" >1.50E-04</td>\n",
       "      <td id=\"T_62546_row1_col1\" class=\"data row1 col1\" >1.33E-01</td>\n",
       "      <td id=\"T_62546_row1_col2\" class=\"data row1 col2\" >3.52E-02</td>\n",
       "    </tr>\n",
       "    <tr>\n",
       "      <th id=\"T_62546_level0_row2\" class=\"row_heading level0 row2\" >aug-cc-pvqz</th>\n",
       "      <td id=\"T_62546_row2_col0\" class=\"data row2 col0\" >9.05E-05</td>\n",
       "      <td id=\"T_62546_row2_col1\" class=\"data row2 col1\" >1.40E-01</td>\n",
       "      <td id=\"T_62546_row2_col2\" class=\"data row2 col2\" >3.23E-02</td>\n",
       "    </tr>\n",
       "    <tr>\n",
       "      <th id=\"T_62546_level0_row3\" class=\"row_heading level0 row3\" >aug-cc-pv5z</th>\n",
       "      <td id=\"T_62546_row3_col0\" class=\"data row3 col0\" >6.28E-05</td>\n",
       "      <td id=\"T_62546_row3_col1\" class=\"data row3 col1\" >1.52E-01</td>\n",
       "      <td id=\"T_62546_row3_col2\" class=\"data row3 col2\" >3.77E-02</td>\n",
       "    </tr>\n",
       "    <tr>\n",
       "      <th id=\"T_62546_level0_row4\" class=\"row_heading level0 row4\" >aug-cc-pwcvdz</th>\n",
       "      <td id=\"T_62546_row4_col0\" class=\"data row4 col0\" >1.90E-04</td>\n",
       "      <td id=\"T_62546_row4_col1\" class=\"data row4 col1\" >1.19E-01</td>\n",
       "      <td id=\"T_62546_row4_col2\" class=\"data row4 col2\" >4.40E-02</td>\n",
       "    </tr>\n",
       "    <tr>\n",
       "      <th id=\"T_62546_level0_row5\" class=\"row_heading level0 row5\" >aug-cc-pwcvtz</th>\n",
       "      <td id=\"T_62546_row5_col0\" class=\"data row5 col0\" >6.98E-05</td>\n",
       "      <td id=\"T_62546_row5_col1\" class=\"data row5 col1\" >1.53E-01</td>\n",
       "      <td id=\"T_62546_row5_col2\" class=\"data row5 col2\" >4.08E-02</td>\n",
       "    </tr>\n",
       "    <tr>\n",
       "      <th id=\"T_62546_level0_row6\" class=\"row_heading level0 row6\" >aug-cc-pwcvqz</th>\n",
       "      <td id=\"T_62546_row6_col0\" class=\"data row6 col0\" >5.51E-05</td>\n",
       "      <td id=\"T_62546_row6_col1\" class=\"data row6 col1\" >1.56E-01</td>\n",
       "      <td id=\"T_62546_row6_col2\" class=\"data row6 col2\" >4.05E-02</td>\n",
       "    </tr>\n",
       "    <tr>\n",
       "      <th id=\"T_62546_level0_row7\" class=\"row_heading level0 row7\" >aug-cc-pwcv5z</th>\n",
       "      <td id=\"T_62546_row7_col0\" class=\"data row7 col0\" >2.70E-05</td>\n",
       "      <td id=\"T_62546_row7_col1\" class=\"data row7 col1\" >1.58E-01</td>\n",
       "      <td id=\"T_62546_row7_col2\" class=\"data row7 col2\" >4.20E-02</td>\n",
       "    </tr>\n",
       "  </tbody>\n",
       "</table>\n"
      ],
      "text/plain": [
       "<pandas.io.formats.style.Styler at 0x7f2b5b5fc700>"
      ]
     },
     "execution_count": 17,
     "metadata": {},
     "output_type": "execute_result"
    }
   ],
   "source": [
    "tab_mean = pd.DataFrame.from_dict(dct_ri).T.mean()\n",
    "tab_mean = pd.DataFrame({basis: tab_mean[basis] for basis in basis_pvxz + basis_pwcvxz}).T\n",
    "tab_mp2_pre_mean = tab_mean\n",
    "tab_mean.style.format(\"{:.2E}\")"
   ]
  },
  {
   "cell_type": "code",
   "execution_count": 18,
   "id": "622f5c22-a591-4758-bc68-d206a0ff300f",
   "metadata": {
    "tags": []
   },
   "outputs": [
    {
     "data": {
      "text/html": [
       "<style type=\"text/css\">\n",
       "</style>\n",
       "<table id=\"T_acdd0\">\n",
       "  <thead>\n",
       "    <tr>\n",
       "      <th class=\"blank level0\" >&nbsp;</th>\n",
       "      <th id=\"T_acdd0_level0_col0\" class=\"col_heading level0 col0\" >RHO</th>\n",
       "      <th id=\"T_acdd0_level0_col1\" class=\"col_heading level0 col1\" >GRD</th>\n",
       "      <th id=\"T_acdd0_level0_col2\" class=\"col_heading level0 col2\" >LR</th>\n",
       "    </tr>\n",
       "  </thead>\n",
       "  <tbody>\n",
       "    <tr>\n",
       "      <th id=\"T_acdd0_level0_row0\" class=\"row_heading level0 row0\" >aug-cc-pvdz</th>\n",
       "      <td id=\"T_acdd0_row0_col0\" class=\"data row0 col0\" >6.69E-04</td>\n",
       "      <td id=\"T_acdd0_row0_col1\" class=\"data row0 col1\" >2.79E-01</td>\n",
       "      <td id=\"T_acdd0_row0_col2\" class=\"data row0 col2\" >2.07E-02</td>\n",
       "    </tr>\n",
       "    <tr>\n",
       "      <th id=\"T_acdd0_level0_row1\" class=\"row_heading level0 row1\" >aug-cc-pvtz</th>\n",
       "      <td id=\"T_acdd0_row1_col0\" class=\"data row1 col0\" >8.05E-04</td>\n",
       "      <td id=\"T_acdd0_row1_col1\" class=\"data row1 col1\" >7.98E-01</td>\n",
       "      <td id=\"T_acdd0_row1_col2\" class=\"data row1 col2\" >1.86E-01</td>\n",
       "    </tr>\n",
       "    <tr>\n",
       "      <th id=\"T_acdd0_level0_row2\" class=\"row_heading level0 row2\" >aug-cc-pvqz</th>\n",
       "      <td id=\"T_acdd0_row2_col0\" class=\"data row2 col0\" >4.58E-04</td>\n",
       "      <td id=\"T_acdd0_row2_col1\" class=\"data row2 col1\" >7.96E-01</td>\n",
       "      <td id=\"T_acdd0_row2_col2\" class=\"data row2 col2\" >1.76E-01</td>\n",
       "    </tr>\n",
       "    <tr>\n",
       "      <th id=\"T_acdd0_level0_row3\" class=\"row_heading level0 row3\" >aug-cc-pv5z</th>\n",
       "      <td id=\"T_acdd0_row3_col0\" class=\"data row3 col0\" >2.13E-04</td>\n",
       "      <td id=\"T_acdd0_row3_col1\" class=\"data row3 col1\" >8.39E-01</td>\n",
       "      <td id=\"T_acdd0_row3_col2\" class=\"data row3 col2\" >1.96E-01</td>\n",
       "    </tr>\n",
       "    <tr>\n",
       "      <th id=\"T_acdd0_level0_row4\" class=\"row_heading level0 row4\" >aug-cc-pwcvdz</th>\n",
       "      <td id=\"T_acdd0_row4_col0\" class=\"data row4 col0\" >5.81E-04</td>\n",
       "      <td id=\"T_acdd0_row4_col1\" class=\"data row4 col1\" >3.81E-01</td>\n",
       "      <td id=\"T_acdd0_row4_col2\" class=\"data row4 col2\" >1.36E-01</td>\n",
       "    </tr>\n",
       "    <tr>\n",
       "      <th id=\"T_acdd0_level0_row5\" class=\"row_heading level0 row5\" >aug-cc-pwcvtz</th>\n",
       "      <td id=\"T_acdd0_row5_col0\" class=\"data row5 col0\" >6.21E-04</td>\n",
       "      <td id=\"T_acdd0_row5_col1\" class=\"data row5 col1\" >9.37E-01</td>\n",
       "      <td id=\"T_acdd0_row5_col2\" class=\"data row5 col2\" >2.22E-01</td>\n",
       "    </tr>\n",
       "    <tr>\n",
       "      <th id=\"T_acdd0_level0_row6\" class=\"row_heading level0 row6\" >aug-cc-pwcvqz</th>\n",
       "      <td id=\"T_acdd0_row6_col0\" class=\"data row6 col0\" >4.34E-04</td>\n",
       "      <td id=\"T_acdd0_row6_col1\" class=\"data row6 col1\" >9.09E-01</td>\n",
       "      <td id=\"T_acdd0_row6_col2\" class=\"data row6 col2\" >2.11E-01</td>\n",
       "    </tr>\n",
       "    <tr>\n",
       "      <th id=\"T_acdd0_level0_row7\" class=\"row_heading level0 row7\" >aug-cc-pwcv5z</th>\n",
       "      <td id=\"T_acdd0_row7_col0\" class=\"data row7 col0\" >1.50E-04</td>\n",
       "      <td id=\"T_acdd0_row7_col1\" class=\"data row7 col1\" >9.03E-01</td>\n",
       "      <td id=\"T_acdd0_row7_col2\" class=\"data row7 col2\" >2.09E-01</td>\n",
       "    </tr>\n",
       "  </tbody>\n",
       "</table>\n"
      ],
      "text/plain": [
       "<pandas.io.formats.style.Styler at 0x7f2b5b257160>"
      ]
     },
     "execution_count": 18,
     "metadata": {},
     "output_type": "execute_result"
    }
   ],
   "source": [
    "tab_max = pd.DataFrame.from_dict(dct_ri).T.max()\n",
    "tab_max = pd.DataFrame({basis: tab_max[basis] for basis in basis_pvxz + basis_pwcvxz}).T\n",
    "tab_mp2_pre_max = tab_max\n",
    "tab_max.style.format(\"{:.2E}\")"
   ]
  },
  {
   "cell_type": "code",
   "execution_count": null,
   "id": "9f0b6cbb-c493-4c38-800b-349d7c5fdb17",
   "metadata": {},
   "outputs": [],
   "source": []
  },
  {
   "cell_type": "code",
   "execution_count": 19,
   "id": "1c678dd8-1d1e-44ce-b3ca-c0482bda066a",
   "metadata": {
    "tags": []
   },
   "outputs": [],
   "source": [
    "dct_etb = {}\n",
    "for atom in atom_config:\n",
    "    dct_etb[atom] = {}\n",
    "    for basis in basis_pvxz + basis_pwcvxz:\n",
    "        err = get_rdf_error(rdf_ri_dict['MP2-ETB'][basis][atom], rdf_dict['MP2'][basis][atom])\n",
    "        for task in [\"RHO\", \"GRD\", \"LR\"]:\n",
    "            dct_etb[atom][(basis, task)] = err[task]"
   ]
  },
  {
   "cell_type": "code",
   "execution_count": 20,
   "id": "167ef26f-d2f7-4342-86a6-783b68a468ca",
   "metadata": {
    "tags": []
   },
   "outputs": [
    {
     "data": {
      "text/html": [
       "<style type=\"text/css\">\n",
       "</style>\n",
       "<table id=\"T_25bc5\">\n",
       "  <thead>\n",
       "    <tr>\n",
       "      <th class=\"blank level0\" >&nbsp;</th>\n",
       "      <th id=\"T_25bc5_level0_col0\" class=\"col_heading level0 col0\" >RHO</th>\n",
       "      <th id=\"T_25bc5_level0_col1\" class=\"col_heading level0 col1\" >GRD</th>\n",
       "      <th id=\"T_25bc5_level0_col2\" class=\"col_heading level0 col2\" >LR</th>\n",
       "    </tr>\n",
       "  </thead>\n",
       "  <tbody>\n",
       "    <tr>\n",
       "      <th id=\"T_25bc5_level0_row0\" class=\"row_heading level0 row0\" >aug-cc-pvdz</th>\n",
       "      <td id=\"T_25bc5_row0_col0\" class=\"data row0 col0\" >8.97E-06</td>\n",
       "      <td id=\"T_25bc5_row0_col1\" class=\"data row0 col1\" >5.99E-02</td>\n",
       "      <td id=\"T_25bc5_row0_col2\" class=\"data row0 col2\" >7.34E-03</td>\n",
       "    </tr>\n",
       "    <tr>\n",
       "      <th id=\"T_25bc5_level0_row1\" class=\"row_heading level0 row1\" >aug-cc-pvtz</th>\n",
       "      <td id=\"T_25bc5_row1_col0\" class=\"data row1 col0\" >2.01E-05</td>\n",
       "      <td id=\"T_25bc5_row1_col1\" class=\"data row1 col1\" >1.33E-01</td>\n",
       "      <td id=\"T_25bc5_row1_col2\" class=\"data row1 col2\" >3.52E-02</td>\n",
       "    </tr>\n",
       "    <tr>\n",
       "      <th id=\"T_25bc5_level0_row2\" class=\"row_heading level0 row2\" >aug-cc-pvqz</th>\n",
       "      <td id=\"T_25bc5_row2_col0\" class=\"data row2 col0\" >8.21E-04</td>\n",
       "      <td id=\"T_25bc5_row2_col1\" class=\"data row2 col1\" >1.40E-01</td>\n",
       "      <td id=\"T_25bc5_row2_col2\" class=\"data row2 col2\" >3.23E-02</td>\n",
       "    </tr>\n",
       "    <tr>\n",
       "      <th id=\"T_25bc5_level0_row3\" class=\"row_heading level0 row3\" >aug-cc-pv5z</th>\n",
       "      <td id=\"T_25bc5_row3_col0\" class=\"data row3 col0\" >2.28E-03</td>\n",
       "      <td id=\"T_25bc5_row3_col1\" class=\"data row3 col1\" >1.53E-01</td>\n",
       "      <td id=\"T_25bc5_row3_col2\" class=\"data row3 col2\" >3.77E-02</td>\n",
       "    </tr>\n",
       "    <tr>\n",
       "      <th id=\"T_25bc5_level0_row4\" class=\"row_heading level0 row4\" >aug-cc-pwcvdz</th>\n",
       "      <td id=\"T_25bc5_row4_col0\" class=\"data row4 col0\" >7.73E-06</td>\n",
       "      <td id=\"T_25bc5_row4_col1\" class=\"data row4 col1\" >1.19E-01</td>\n",
       "      <td id=\"T_25bc5_row4_col2\" class=\"data row4 col2\" >4.40E-02</td>\n",
       "    </tr>\n",
       "    <tr>\n",
       "      <th id=\"T_25bc5_level0_row5\" class=\"row_heading level0 row5\" >aug-cc-pwcvtz</th>\n",
       "      <td id=\"T_25bc5_row5_col0\" class=\"data row5 col0\" >2.05E-05</td>\n",
       "      <td id=\"T_25bc5_row5_col1\" class=\"data row5 col1\" >1.53E-01</td>\n",
       "      <td id=\"T_25bc5_row5_col2\" class=\"data row5 col2\" >4.08E-02</td>\n",
       "    </tr>\n",
       "    <tr>\n",
       "      <th id=\"T_25bc5_level0_row6\" class=\"row_heading level0 row6\" >aug-cc-pwcvqz</th>\n",
       "      <td id=\"T_25bc5_row6_col0\" class=\"data row6 col0\" >8.50E-04</td>\n",
       "      <td id=\"T_25bc5_row6_col1\" class=\"data row6 col1\" >1.56E-01</td>\n",
       "      <td id=\"T_25bc5_row6_col2\" class=\"data row6 col2\" >4.06E-02</td>\n",
       "    </tr>\n",
       "    <tr>\n",
       "      <th id=\"T_25bc5_level0_row7\" class=\"row_heading level0 row7\" >aug-cc-pwcv5z</th>\n",
       "      <td id=\"T_25bc5_row7_col0\" class=\"data row7 col0\" >2.37E-03</td>\n",
       "      <td id=\"T_25bc5_row7_col1\" class=\"data row7 col1\" >1.58E-01</td>\n",
       "      <td id=\"T_25bc5_row7_col2\" class=\"data row7 col2\" >4.19E-02</td>\n",
       "    </tr>\n",
       "  </tbody>\n",
       "</table>\n"
      ],
      "text/plain": [
       "<pandas.io.formats.style.Styler at 0x7f2b5b257e50>"
      ]
     },
     "execution_count": 20,
     "metadata": {},
     "output_type": "execute_result"
    }
   ],
   "source": [
    "tab_mean = pd.DataFrame.from_dict(dct_etb).T.mean()\n",
    "tab_mean = pd.DataFrame({basis: tab_mean[basis] for basis in basis_pvxz + basis_pwcvxz}).T\n",
    "tab_mp2_etb_mean = tab_mean\n",
    "tab_mean.style.format(\"{:.2E}\")"
   ]
  },
  {
   "cell_type": "code",
   "execution_count": 21,
   "id": "dfc51ac7-cf12-4d7b-b3b3-e7a63c2f9ae1",
   "metadata": {
    "tags": []
   },
   "outputs": [
    {
     "data": {
      "text/html": [
       "<style type=\"text/css\">\n",
       "</style>\n",
       "<table id=\"T_f3c95\">\n",
       "  <thead>\n",
       "    <tr>\n",
       "      <th class=\"blank level0\" >&nbsp;</th>\n",
       "      <th id=\"T_f3c95_level0_col0\" class=\"col_heading level0 col0\" >RHO</th>\n",
       "      <th id=\"T_f3c95_level0_col1\" class=\"col_heading level0 col1\" >GRD</th>\n",
       "      <th id=\"T_f3c95_level0_col2\" class=\"col_heading level0 col2\" >LR</th>\n",
       "    </tr>\n",
       "  </thead>\n",
       "  <tbody>\n",
       "    <tr>\n",
       "      <th id=\"T_f3c95_level0_row0\" class=\"row_heading level0 row0\" >aug-cc-pvdz</th>\n",
       "      <td id=\"T_f3c95_row0_col0\" class=\"data row0 col0\" >7.34E-05</td>\n",
       "      <td id=\"T_f3c95_row0_col1\" class=\"data row0 col1\" >2.79E-01</td>\n",
       "      <td id=\"T_f3c95_row0_col2\" class=\"data row0 col2\" >2.07E-02</td>\n",
       "    </tr>\n",
       "    <tr>\n",
       "      <th id=\"T_f3c95_level0_row1\" class=\"row_heading level0 row1\" >aug-cc-pvtz</th>\n",
       "      <td id=\"T_f3c95_row1_col0\" class=\"data row1 col0\" >7.04E-05</td>\n",
       "      <td id=\"T_f3c95_row1_col1\" class=\"data row1 col1\" >7.99E-01</td>\n",
       "      <td id=\"T_f3c95_row1_col2\" class=\"data row1 col2\" >1.86E-01</td>\n",
       "    </tr>\n",
       "    <tr>\n",
       "      <th id=\"T_f3c95_level0_row2\" class=\"row_heading level0 row2\" >aug-cc-pvqz</th>\n",
       "      <td id=\"T_f3c95_row2_col0\" class=\"data row2 col0\" >1.01E-02</td>\n",
       "      <td id=\"T_f3c95_row2_col1\" class=\"data row2 col1\" >7.97E-01</td>\n",
       "      <td id=\"T_f3c95_row2_col2\" class=\"data row2 col2\" >1.77E-01</td>\n",
       "    </tr>\n",
       "    <tr>\n",
       "      <th id=\"T_f3c95_level0_row3\" class=\"row_heading level0 row3\" >aug-cc-pv5z</th>\n",
       "      <td id=\"T_f3c95_row3_col0\" class=\"data row3 col0\" >1.49E-02</td>\n",
       "      <td id=\"T_f3c95_row3_col1\" class=\"data row3 col1\" >8.38E-01</td>\n",
       "      <td id=\"T_f3c95_row3_col2\" class=\"data row3 col2\" >1.97E-01</td>\n",
       "    </tr>\n",
       "    <tr>\n",
       "      <th id=\"T_f3c95_level0_row4\" class=\"row_heading level0 row4\" >aug-cc-pwcvdz</th>\n",
       "      <td id=\"T_f3c95_row4_col0\" class=\"data row4 col0\" >4.33E-05</td>\n",
       "      <td id=\"T_f3c95_row4_col1\" class=\"data row4 col1\" >3.81E-01</td>\n",
       "      <td id=\"T_f3c95_row4_col2\" class=\"data row4 col2\" >1.36E-01</td>\n",
       "    </tr>\n",
       "    <tr>\n",
       "      <th id=\"T_f3c95_level0_row5\" class=\"row_heading level0 row5\" >aug-cc-pwcvtz</th>\n",
       "      <td id=\"T_f3c95_row5_col0\" class=\"data row5 col0\" >8.81E-05</td>\n",
       "      <td id=\"T_f3c95_row5_col1\" class=\"data row5 col1\" >9.37E-01</td>\n",
       "      <td id=\"T_f3c95_row5_col2\" class=\"data row5 col2\" >2.22E-01</td>\n",
       "    </tr>\n",
       "    <tr>\n",
       "      <th id=\"T_f3c95_level0_row6\" class=\"row_heading level0 row6\" >aug-cc-pwcvqz</th>\n",
       "      <td id=\"T_f3c95_row6_col0\" class=\"data row6 col0\" >1.04E-02</td>\n",
       "      <td id=\"T_f3c95_row6_col1\" class=\"data row6 col1\" >9.10E-01</td>\n",
       "      <td id=\"T_f3c95_row6_col2\" class=\"data row6 col2\" >2.11E-01</td>\n",
       "    </tr>\n",
       "    <tr>\n",
       "      <th id=\"T_f3c95_level0_row7\" class=\"row_heading level0 row7\" >aug-cc-pwcv5z</th>\n",
       "      <td id=\"T_f3c95_row7_col0\" class=\"data row7 col0\" >1.46E-02</td>\n",
       "      <td id=\"T_f3c95_row7_col1\" class=\"data row7 col1\" >9.02E-01</td>\n",
       "      <td id=\"T_f3c95_row7_col2\" class=\"data row7 col2\" >2.09E-01</td>\n",
       "    </tr>\n",
       "  </tbody>\n",
       "</table>\n"
      ],
      "text/plain": [
       "<pandas.io.formats.style.Styler at 0x7f2b5b257d60>"
      ]
     },
     "execution_count": 21,
     "metadata": {},
     "output_type": "execute_result"
    }
   ],
   "source": [
    "tab_max = pd.DataFrame.from_dict(dct_etb).T.max()\n",
    "tab_max = pd.DataFrame({basis: tab_max[basis] for basis in basis_pvxz + basis_pwcvxz}).T\n",
    "tab_mp2_etb_max = tab_max\n",
    "tab_max.style.format(\"{:.2E}\")"
   ]
  },
  {
   "cell_type": "code",
   "execution_count": null,
   "id": "4023f6e5-bec1-420f-b04a-a72006d2f264",
   "metadata": {},
   "outputs": [],
   "source": []
  },
  {
   "cell_type": "markdown",
   "id": "5781994e-7ec8-4d59-9c11-fda297d0917e",
   "metadata": {
    "tags": []
   },
   "source": [
    "## Plot curve"
   ]
  },
  {
   "cell_type": "code",
   "execution_count": 22,
   "id": "483cc64c-7be5-467c-bd8a-978bdc0210b6",
   "metadata": {},
   "outputs": [
    {
     "data": {
      "image/png": "[encoded data removed]",
      "text/plain": [
       "<Figure size 550x320 with 1 Axes>"
      ]
     },
     "metadata": {},
     "output_type": "display_data"
    }
   ],
   "source": [
    "fig, ax = plt.subplots(figsize=(5.5, 3.2))\n",
    "\n",
    "ax.plot([2, 3, 4, 5], tab_hf_pre_max[\"RHO\"][basis_pvxz],   linestyle=\":\", color=\"C0\", marker=\"v\")\n",
    "ax.plot([2, 3, 4, 5], tab_hf_etb_max[\"RHO\"][basis_pvxz],   linestyle=\":\", color=\"C0\", marker=\"o\")\n",
    "ax.plot([2, 3, 4, 5], tab_hf_etb_max[\"RHO\"][basis_pwcvxz], linestyle=\"-\", color=\"C0\", marker=\"o\")\n",
    "ax.plot([2, 3, 4, 5], tab_hf_pre_max[\"GRD\"][basis_pvxz],   linestyle=\":\", color=\"C1\", marker=\"v\")\n",
    "ax.plot([2, 3, 4, 5], tab_hf_etb_max[\"GRD\"][basis_pvxz],   linestyle=\":\", color=\"C1\", marker=\"o\")\n",
    "ax.plot([2, 3, 4, 5], tab_hf_etb_max[\"GRD\"][basis_pwcvxz], linestyle=\"-\", color=\"C1\", marker=\"o\")\n",
    "ax.plot([2, 3, 4, 5], tab_hf_pre_max[\"LR\" ][basis_pvxz],   linestyle=\":\", color=\"C2\", marker=\"v\")\n",
    "ax.plot([2, 3, 4, 5], tab_hf_etb_max[\"LR\" ][basis_pvxz],   linestyle=\":\", color=\"C2\", marker=\"o\")\n",
    "ax.plot([2, 3, 4, 5], tab_hf_etb_max[\"LR\" ][basis_pwcvxz], linestyle=\"-\", color=\"C2\", marker=\"o\")\n",
    "\n",
    "ax.set_xticks([2, 3, 4, 5])\n",
    "ax.set_xticklabels([\"D\", \"T\", \"Q\", \"5\"])\n",
    "ax.set_xlim(1.8, 5.2)\n",
    "ax.set_yscale(\"log\")\n",
    "\n",
    "ax.set_xlabel(\"Basis Cardinal Number $X$\")\n",
    "ax.set_ylabel(\"maxMNAE\")\n",
    "ax.set_title(\"RI approximation maxMNAE of\\nHF Density\")\n",
    "\n",
    "l1 = ax.plot([0], [1e-4], linestyle=\":\", marker=\"v\", color=\"C0\", label=\"aug-cc-pV$X$Z-jkfit\")\n",
    "l2 = ax.plot([0], [1e-4], linestyle=\":\", marker=\"o\", color=\"C0\", label=\"aug-cc-pV$X$Z ETB\")\n",
    "l3 = ax.plot([0], [1e-4], linestyle=\"-\", marker=\"o\", color=\"C0\", label=\"aug-cc-p$\\omega$CV$X$Z ETB\")\n",
    "g1 = ax.plot([0], [1e-4], linestyle=\"-\", color=\"C0\", label=\"RHO\")\n",
    "g2 = ax.plot([0], [1e-4], linestyle=\"-\", color=\"C1\", label=\"GRD\")\n",
    "g3 = ax.plot([0], [1e-4], linestyle=\"-\", color=\"C2\", label=\"LR\")\n",
    "label_lines = [l1, l2, l3, g1, g2, g3]\n",
    "\n",
    "leg = plt.legend([l[0] for l in label_lines], [l[0].get_label() for l in label_lines], loc=\"center left\", bbox_to_anchor=(1.02, 0.5))\n",
    "\n",
    "fig.tight_layout()\n",
    "fig.savefig(\"../HF-RI-err.pdf\", transparent=True, bbox_extra_artists=leg)"
   ]
  },
  {
   "cell_type": "code",
   "execution_count": 23,
   "id": "f2373af7-ac6c-4dca-9133-2bded8f7394a",
   "metadata": {
    "tags": []
   },
   "outputs": [
    {
     "data": {
      "image/png": "[encoded data removed]",
      "text/plain": [
       "<Figure size 550x320 with 1 Axes>"
      ]
     },
     "metadata": {},
     "output_type": "display_data"
    }
   ],
   "source": [
    "fig, ax = plt.subplots(figsize=(5.5, 3.2))\n",
    "\n",
    "ax.plot([2, 3, 4, 5], tab_hf_pre_mean[\"RHO\"][basis_pvxz],   linestyle=\":\", color=\"C0\", marker=\"v\")\n",
    "ax.plot([2, 3, 4, 5], tab_hf_etb_mean[\"RHO\"][basis_pvxz],   linestyle=\":\", color=\"C0\", marker=\"o\")\n",
    "ax.plot([2, 3, 4, 5], tab_hf_etb_mean[\"RHO\"][basis_pwcvxz], linestyle=\"-\", color=\"C0\", marker=\"o\")\n",
    "ax.plot([2, 3, 4, 5], tab_hf_pre_mean[\"GRD\"][basis_pvxz],   linestyle=\":\", color=\"C1\", marker=\"v\")\n",
    "ax.plot([2, 3, 4, 5], tab_hf_etb_mean[\"GRD\"][basis_pvxz],   linestyle=\":\", color=\"C1\", marker=\"o\")\n",
    "ax.plot([2, 3, 4, 5], tab_hf_etb_mean[\"GRD\"][basis_pwcvxz], linestyle=\"-\", color=\"C1\", marker=\"o\")\n",
    "ax.plot([2, 3, 4, 5], tab_hf_pre_mean[\"LR\" ][basis_pvxz],   linestyle=\":\", color=\"C2\", marker=\"v\")\n",
    "ax.plot([2, 3, 4, 5], tab_hf_etb_mean[\"LR\" ][basis_pvxz],   linestyle=\":\", color=\"C2\", marker=\"o\")\n",
    "ax.plot([2, 3, 4, 5], tab_hf_etb_mean[\"LR\" ][basis_pwcvxz], linestyle=\"-\", color=\"C2\", marker=\"o\")\n",
    "\n",
    "ax.set_xticks([2, 3, 4, 5])\n",
    "ax.set_xticklabels([\"D\", \"T\", \"Q\", \"5\"])\n",
    "ax.set_xlim(1.8, 5.2)\n",
    "ax.set_yscale(\"log\")\n",
    "\n",
    "ax.set_xlabel(\"Basis Cardinal Number $X$\")\n",
    "ax.set_ylabel(\"meanMNAE\")\n",
    "ax.set_title(\"RI approximation meanMNAE of\\nHF Density\")\n",
    "\n",
    "l1 = ax.plot([0], [1e-4], linestyle=\":\", marker=\"v\", color=\"C0\", label=\"aug-cc-pV$X$Z-jkfit\")\n",
    "l2 = ax.plot([0], [1e-4], linestyle=\":\", marker=\"o\", color=\"C0\", label=\"aug-cc-pV$X$Z ETB\")\n",
    "l3 = ax.plot([0], [1e-4], linestyle=\"-\", marker=\"o\", color=\"C0\", label=\"aug-cc-p$\\omega$CV$X$Z ETB\")\n",
    "g1 = ax.plot([0], [1e-4], linestyle=\"-\", color=\"C0\", label=\"RHO\")\n",
    "g2 = ax.plot([0], [1e-4], linestyle=\"-\", color=\"C1\", label=\"GRD\")\n",
    "g3 = ax.plot([0], [1e-4], linestyle=\"-\", color=\"C2\", label=\"LR\")\n",
    "label_lines = [l1, l2, l3, g1, g2, g3]\n",
    "\n",
    "leg = plt.legend([l[0] for l in label_lines], [l[0].get_label() for l in label_lines], loc=\"center left\", bbox_to_anchor=(1.02, 0.5))\n",
    "\n",
    "fig.tight_layout()\n",
    "fig.savefig(\"../HF-RI-mean.pdf\", transparent=True, bbox_extra_artists=leg)"
   ]
  },
  {
   "cell_type": "code",
   "execution_count": 24,
   "id": "5ae5144f-137c-4e56-a68e-c8fbeabdbf51",
   "metadata": {},
   "outputs": [
    {
     "data": {
      "image/png": "[encoded data removed]",
      "text/plain": [
       "<Figure size 550x320 with 1 Axes>"
      ]
     },
     "metadata": {},
     "output_type": "display_data"
    }
   ],
   "source": [
    "fig, ax = plt.subplots(figsize=(5.5, 3.2))\n",
    "\n",
    "ax.plot([2, 3, 4, 5], tab_mp2_pre_max[\"RHO\"][basis_pvxz],   linestyle=\":\", color=\"C0\", marker=\"v\")\n",
    "ax.plot([2, 3, 4, 5], tab_mp2_etb_max[\"RHO\"][basis_pvxz],   linestyle=\":\", color=\"C0\", marker=\"o\")\n",
    "ax.plot([2, 3, 4, 5], tab_mp2_pre_max[\"RHO\"][basis_pwcvxz], linestyle=\"-\", color=\"C0\", marker=\"v\")\n",
    "ax.plot([2, 3, 4, 5], tab_mp2_etb_max[\"RHO\"][basis_pwcvxz], linestyle=\"-\", color=\"C0\", marker=\"o\")\n",
    "ax.plot([2, 3, 4, 5], tab_mp2_pre_max[\"GRD\"][basis_pvxz],   linestyle=\":\", color=\"C1\", marker=\"v\")\n",
    "ax.plot([2, 3, 4, 5], tab_mp2_etb_max[\"GRD\"][basis_pvxz],   linestyle=\":\", color=\"C1\", marker=\"o\")\n",
    "ax.plot([2, 3, 4, 5], tab_mp2_pre_max[\"GRD\"][basis_pwcvxz], linestyle=\"-\", color=\"C1\", marker=\"v\")\n",
    "ax.plot([2, 3, 4, 5], tab_mp2_etb_max[\"GRD\"][basis_pwcvxz], linestyle=\"-\", color=\"C1\", marker=\"o\")\n",
    "ax.plot([2, 3, 4, 5], tab_mp2_pre_max[\"LR\" ][basis_pvxz],   linestyle=\":\", color=\"C2\", marker=\"v\")\n",
    "ax.plot([2, 3, 4, 5], tab_mp2_etb_max[\"LR\" ][basis_pvxz],   linestyle=\":\", color=\"C2\", marker=\"o\")\n",
    "ax.plot([2, 3, 4, 5], tab_mp2_pre_max[\"LR\" ][basis_pwcvxz], linestyle=\"-\", color=\"C2\", marker=\"v\")\n",
    "ax.plot([2, 3, 4, 5], tab_mp2_etb_max[\"LR\" ][basis_pwcvxz], linestyle=\"-\", color=\"C2\", marker=\"o\")\n",
    "\n",
    "ax.set_xticks([2, 3, 4, 5])\n",
    "ax.set_xticklabels([\"D\", \"T\", \"Q\", \"5\"])\n",
    "ax.set_xlim(1.8, 5.2)\n",
    "ax.set_yscale(\"log\")\n",
    "\n",
    "ax.set_xlabel(\"Basis Cardinal Number $X$\")\n",
    "ax.set_ylabel(\"maxMNAE\")\n",
    "ax.set_title(\"RI approximation maxMNAE of\\nCorrelation contribution of MP2 Density\")\n",
    "\n",
    "l1 = ax.plot([0], [1e-4], linestyle=\":\", marker=\"v\", color=\"C0\", label=\"aug-cc-pV$X$Z-rifit\")\n",
    "l2 = ax.plot([0], [1e-4], linestyle=\"-\", marker=\"v\", color=\"C0\", label=\"aug-cc-p$\\omega$CV$X$Z-rifit\")\n",
    "l3 = ax.plot([0], [1e-4], linestyle=\":\", marker=\"o\", color=\"C0\", label=\"aug-cc-pV$X$Z ETB\")\n",
    "l4 = ax.plot([0], [1e-4], linestyle=\"-\", marker=\"o\", color=\"C0\", label=\"aug-cc-p$\\omega$CV$X$Z ETB\")\n",
    "g1 = ax.plot([0], [1e-4], linestyle=\"-\", color=\"C0\", label=\"RHO\")\n",
    "g2 = ax.plot([0], [1e-4], linestyle=\"-\", color=\"C1\", label=\"GRD\")\n",
    "g3 = ax.plot([0], [1e-4], linestyle=\"-\", color=\"C2\", label=\"LR\")\n",
    "label_lines = [l1, l2, l3, l4, g1, g2, g3]\n",
    "\n",
    "leg = plt.legend([l[0] for l in label_lines], [l[0].get_label() for l in label_lines], loc=\"center left\", bbox_to_anchor=(1.02, 0.5))\n",
    "\n",
    "fig.tight_layout()\n",
    "fig.savefig(\"../MP2-RI-err.pdf\", transparent=True, bbox_extra_artists=leg)"
   ]
  },
  {
   "cell_type": "code",
   "execution_count": 25,
   "id": "f99f4a4f-f014-4c68-b09c-46d8a8829724",
   "metadata": {},
   "outputs": [
    {
     "data": {
      "image/png": "[encoded data removed]",
      "text/plain": [
       "<Figure size 550x320 with 1 Axes>"
      ]
     },
     "metadata": {},
     "output_type": "display_data"
    }
   ],
   "source": [
    "fig, ax = plt.subplots(figsize=(5.5, 3.2))\n",
    "\n",
    "ax.plot([2, 3, 4, 5], tab_mp2_pre_mean[\"RHO\"][basis_pvxz],   linestyle=\":\", color=\"C0\", marker=\"v\")\n",
    "ax.plot([2, 3, 4, 5], tab_mp2_etb_mean[\"RHO\"][basis_pvxz],   linestyle=\":\", color=\"C0\", marker=\"o\")\n",
    "ax.plot([2, 3, 4, 5], tab_mp2_pre_mean[\"RHO\"][basis_pwcvxz], linestyle=\"-\", color=\"C0\", marker=\"v\")\n",
    "ax.plot([2, 3, 4, 5], tab_mp2_etb_mean[\"RHO\"][basis_pwcvxz], linestyle=\"-\", color=\"C0\", marker=\"o\")\n",
    "ax.plot([2, 3, 4, 5], tab_mp2_pre_mean[\"GRD\"][basis_pvxz],   linestyle=\":\", color=\"C1\", marker=\"v\")\n",
    "ax.plot([2, 3, 4, 5], tab_mp2_etb_mean[\"GRD\"][basis_pvxz],   linestyle=\":\", color=\"C1\", marker=\"o\")\n",
    "ax.plot([2, 3, 4, 5], tab_mp2_pre_mean[\"GRD\"][basis_pwcvxz], linestyle=\"-\", color=\"C1\", marker=\"v\")\n",
    "ax.plot([2, 3, 4, 5], tab_mp2_etb_mean[\"GRD\"][basis_pwcvxz], linestyle=\"-\", color=\"C1\", marker=\"o\")\n",
    "ax.plot([2, 3, 4, 5], tab_mp2_pre_mean[\"LR\" ][basis_pvxz],   linestyle=\":\", color=\"C2\", marker=\"v\")\n",
    "ax.plot([2, 3, 4, 5], tab_mp2_etb_mean[\"LR\" ][basis_pvxz],   linestyle=\":\", color=\"C2\", marker=\"o\")\n",
    "ax.plot([2, 3, 4, 5], tab_mp2_pre_mean[\"LR\" ][basis_pwcvxz], linestyle=\"-\", color=\"C2\", marker=\"v\")\n",
    "ax.plot([2, 3, 4, 5], tab_mp2_etb_mean[\"LR\" ][basis_pwcvxz], linestyle=\"-\", color=\"C2\", marker=\"o\")\n",
    "\n",
    "ax.set_xticks([2, 3, 4, 5])\n",
    "ax.set_xticklabels([\"D\", \"T\", \"Q\", \"5\"])\n",
    "ax.set_xlim(1.8, 5.2)\n",
    "ax.set_yscale(\"log\")\n",
    "\n",
    "ax.set_xlabel(\"Basis Cardinal Number $X$\")\n",
    "ax.set_ylabel(\"meanMNAE\")\n",
    "ax.set_title(\"RI approximation meanMNAE of\\nCorrelation contribution of MP2 Density\")\n",
    "\n",
    "l1 = ax.plot([0], [1e-4], linestyle=\":\", marker=\"v\", color=\"C0\", label=\"aug-cc-pV$X$Z-rifit\")\n",
    "l2 = ax.plot([0], [1e-4], linestyle=\"-\", marker=\"v\", color=\"C0\", label=\"aug-cc-p$\\omega$CV$X$Z-rifit\")\n",
    "l3 = ax.plot([0], [1e-4], linestyle=\":\", marker=\"o\", color=\"C0\", label=\"aug-cc-pV$X$Z ETB\")\n",
    "l4 = ax.plot([0], [1e-4], linestyle=\"-\", marker=\"o\", color=\"C0\", label=\"aug-cc-p$\\omega$CV$X$Z ETB\")\n",
    "g1 = ax.plot([0], [1e-4], linestyle=\"-\", color=\"C0\", label=\"RHO\")\n",
    "g2 = ax.plot([0], [1e-4], linestyle=\"-\", color=\"C1\", label=\"GRD\")\n",
    "g3 = ax.plot([0], [1e-4], linestyle=\"-\", color=\"C2\", label=\"LR\")\n",
    "label_lines = [l1, l2, l3, l4, g1, g2, g3]\n",
    "\n",
    "leg = plt.legend([l[0] for l in label_lines], [l[0].get_label() for l in label_lines], loc=\"center left\", bbox_to_anchor=(1.02, 0.5))\n",
    "\n",
    "fig.tight_layout()\n",
    "fig.savefig(\"../MP2-RI-mean.pdf\", transparent=True, bbox_extra_artists=leg)"
   ]
  },
  {
   "cell_type": "code",
   "execution_count": null,
   "id": "f981445d-dab6-4ce5-917e-3e36d56c79cf",
   "metadata": {},
   "outputs": [],
   "source": []
  },
  {
   "cell_type": "markdown",
   "id": "20c6b595-8439-48b6-ae0a-adca3e9cda36",
   "metadata": {},
   "source": [
    "# Energy Part"
   ]
  },
  {
   "cell_type": "code",
   "execution_count": 26,
   "id": "38f1e6ba-d783-4776-9fa4-5fb37d131bd8",
   "metadata": {
    "tags": []
   },
   "outputs": [],
   "source": [
    "atom_2e = [\"B+3\", \"C+4\", \"N+5\", \"O+6\", \"F+7\", \"Ne+8\"]\n",
    "atom_4e = [\"B+1\", \"C+2\", \"N+3\", \"O+4\", \"F+5\", \"Ne+6\"]"
   ]
  },
  {
   "cell_type": "code",
   "execution_count": 30,
   "id": "e5c7545c-011a-4285-b3c3-b8816af9fe22",
   "metadata": {
    "tags": []
   },
   "outputs": [
    {
     "name": "stdout",
     "output_type": "stream",
     "text": [
      "CPU times: user 71.9 ms, sys: 81.9 ms, total: 154 ms\n",
      "Wall time: 298 ms\n"
     ]
    }
   ],
   "source": [
    "%%time\n",
    "with h5py.File(\"etot.h5\", \"r\") as f:\n",
    "    eng_dict = h5group_to_dict(f)"
   ]
  },
  {
   "cell_type": "code",
   "execution_count": 31,
   "id": "25c4891a-2be8-489d-b32b-244c949ad86b",
   "metadata": {
    "tags": []
   },
   "outputs": [
    {
     "name": "stdout",
     "output_type": "stream",
     "text": [
      "CPU times: user 32.7 ms, sys: 32.6 ms, total: 65.3 ms\n",
      "Wall time: 168 ms\n"
     ]
    }
   ],
   "source": [
    "%%time\n",
    "with h5py.File(\"etot-ri.h5\", \"r\") as f:\n",
    "    eng_ri_dict = h5group_to_dict(f)"
   ]
  },
  {
   "cell_type": "markdown",
   "id": "3b78b0fc-aab8-4ce6-b148-d0bf25550202",
   "metadata": {
    "tags": []
   },
   "source": [
    "## Parse data"
   ]
  },
  {
   "cell_type": "code",
   "execution_count": 32,
   "id": "0bdc77d3-46d9-4319-9f52-8b072581a68a",
   "metadata": {
    "tags": []
   },
   "outputs": [
    {
     "data": {
      "text/html": [
       "<div>\n",
       "<style scoped>\n",
       "    .dataframe tbody tr th:only-of-type {\n",
       "        vertical-align: middle;\n",
       "    }\n",
       "\n",
       "    .dataframe tbody tr th {\n",
       "        vertical-align: top;\n",
       "    }\n",
       "\n",
       "    .dataframe thead th {\n",
       "        text-align: right;\n",
       "    }\n",
       "</style>\n",
       "<table border=\"1\" class=\"dataframe\">\n",
       "  <thead>\n",
       "    <tr style=\"text-align: right;\">\n",
       "      <th></th>\n",
       "      <th>aug-cc-pvdz</th>\n",
       "      <th>aug-cc-pvtz</th>\n",
       "      <th>aug-cc-pvqz</th>\n",
       "      <th>aug-cc-pv5z</th>\n",
       "      <th>aug-cc-pwcvdz</th>\n",
       "      <th>aug-cc-pwcvtz</th>\n",
       "      <th>aug-cc-pwcvqz</th>\n",
       "      <th>aug-cc-pwcv5z</th>\n",
       "    </tr>\n",
       "  </thead>\n",
       "  <tbody>\n",
       "    <tr>\n",
       "      <th>B+3</th>\n",
       "      <td>61.214265</td>\n",
       "      <td>61.257201</td>\n",
       "      <td>61.261400</td>\n",
       "      <td>61.261694</td>\n",
       "      <td>61.234656</td>\n",
       "      <td>61.258708</td>\n",
       "      <td>61.261329</td>\n",
       "      <td>61.261698</td>\n",
       "    </tr>\n",
       "    <tr>\n",
       "      <th>C+4</th>\n",
       "      <td>109.980534</td>\n",
       "      <td>110.127029</td>\n",
       "      <td>110.130072</td>\n",
       "      <td>110.131146</td>\n",
       "      <td>110.070388</td>\n",
       "      <td>110.127178</td>\n",
       "      <td>110.129864</td>\n",
       "      <td>110.131205</td>\n",
       "    </tr>\n",
       "    <tr>\n",
       "      <th>N+5</th>\n",
       "      <td>172.363909</td>\n",
       "      <td>172.673797</td>\n",
       "      <td>172.681014</td>\n",
       "      <td>172.684585</td>\n",
       "      <td>172.577491</td>\n",
       "      <td>172.676636</td>\n",
       "      <td>172.680531</td>\n",
       "      <td>172.684691</td>\n",
       "    </tr>\n",
       "    <tr>\n",
       "      <th>O+6</th>\n",
       "      <td>248.352679</td>\n",
       "      <td>248.855197</td>\n",
       "      <td>248.878718</td>\n",
       "      <td>248.886763</td>\n",
       "      <td>248.723822</td>\n",
       "      <td>248.870860</td>\n",
       "      <td>248.877898</td>\n",
       "      <td>248.886897</td>\n",
       "    </tr>\n",
       "    <tr>\n",
       "      <th>F+7</th>\n",
       "      <td>337.895713</td>\n",
       "      <td>338.645189</td>\n",
       "      <td>338.706518</td>\n",
       "      <td>338.720020</td>\n",
       "      <td>338.485326</td>\n",
       "      <td>338.692192</td>\n",
       "      <td>338.705479</td>\n",
       "      <td>338.720200</td>\n",
       "    </tr>\n",
       "    <tr>\n",
       "      <th>Ne+8</th>\n",
       "      <td>440.975142</td>\n",
       "      <td>442.034729</td>\n",
       "      <td>442.154281</td>\n",
       "      <td>442.175944</td>\n",
       "      <td>441.849348</td>\n",
       "      <td>442.131549</td>\n",
       "      <td>442.153271</td>\n",
       "      <td>442.176219</td>\n",
       "    </tr>\n",
       "  </tbody>\n",
       "</table>\n",
       "</div>"
      ],
      "text/plain": [
       "      aug-cc-pvdz  aug-cc-pvtz  aug-cc-pvqz  aug-cc-pv5z  aug-cc-pwcvdz  \\\n",
       "B+3     61.214265    61.257201    61.261400    61.261694      61.234656   \n",
       "C+4    109.980534   110.127029   110.130072   110.131146     110.070388   \n",
       "N+5    172.363909   172.673797   172.681014   172.684585     172.577491   \n",
       "O+6    248.352679   248.855197   248.878718   248.886763     248.723822   \n",
       "F+7    337.895713   338.645189   338.706518   338.720020     338.485326   \n",
       "Ne+8   440.975142   442.034729   442.154281   442.175944     441.849348   \n",
       "\n",
       "      aug-cc-pwcvtz  aug-cc-pwcvqz  aug-cc-pwcv5z  \n",
       "B+3       61.258708      61.261329      61.261698  \n",
       "C+4      110.127178     110.129864     110.131205  \n",
       "N+5      172.676636     172.680531     172.684691  \n",
       "O+6      248.870860     248.877898     248.886897  \n",
       "F+7      338.692192     338.705479     338.720200  \n",
       "Ne+8     442.131549     442.153271     442.176219  "
      ]
     },
     "execution_count": 32,
     "metadata": {},
     "output_type": "execute_result"
    }
   ],
   "source": [
    "hf_conv = data.nist.HARTREE2EV * (\n",
    "    + pd.DataFrame(eng_dict[\"HF\"]).loc[atom_2e][basis_pvxz + basis_pwcvxz]\n",
    "    - np.array(pd.DataFrame(eng_dict[\"HF\"]).loc[atom_4e][basis_pvxz + basis_pwcvxz]))\n",
    "hf_conv"
   ]
  },
  {
   "cell_type": "code",
   "execution_count": 33,
   "id": "da0fa94a-7e88-452d-b05b-9ef3d16d4d9f",
   "metadata": {
    "tags": []
   },
   "outputs": [
    {
     "data": {
      "text/html": [
       "<div>\n",
       "<style scoped>\n",
       "    .dataframe tbody tr th:only-of-type {\n",
       "        vertical-align: middle;\n",
       "    }\n",
       "\n",
       "    .dataframe tbody tr th {\n",
       "        vertical-align: top;\n",
       "    }\n",
       "\n",
       "    .dataframe thead th {\n",
       "        text-align: right;\n",
       "    }\n",
       "</style>\n",
       "<table border=\"1\" class=\"dataframe\">\n",
       "  <thead>\n",
       "    <tr style=\"text-align: right;\">\n",
       "      <th></th>\n",
       "      <th>aug-cc-pvdz</th>\n",
       "      <th>aug-cc-pvtz</th>\n",
       "      <th>aug-cc-pvqz</th>\n",
       "      <th>aug-cc-pv5z</th>\n",
       "    </tr>\n",
       "  </thead>\n",
       "  <tbody>\n",
       "    <tr>\n",
       "      <th>B+3</th>\n",
       "      <td>61.214264</td>\n",
       "      <td>61.257213</td>\n",
       "      <td>61.261404</td>\n",
       "      <td>61.261699</td>\n",
       "    </tr>\n",
       "    <tr>\n",
       "      <th>C+4</th>\n",
       "      <td>109.980511</td>\n",
       "      <td>110.127023</td>\n",
       "      <td>110.130046</td>\n",
       "      <td>110.131126</td>\n",
       "    </tr>\n",
       "    <tr>\n",
       "      <th>N+5</th>\n",
       "      <td>172.363901</td>\n",
       "      <td>172.673825</td>\n",
       "      <td>172.681041</td>\n",
       "      <td>172.684603</td>\n",
       "    </tr>\n",
       "    <tr>\n",
       "      <th>O+6</th>\n",
       "      <td>248.352705</td>\n",
       "      <td>248.855247</td>\n",
       "      <td>248.878795</td>\n",
       "      <td>248.886816</td>\n",
       "    </tr>\n",
       "    <tr>\n",
       "      <th>F+7</th>\n",
       "      <td>337.895758</td>\n",
       "      <td>338.645262</td>\n",
       "      <td>338.706638</td>\n",
       "      <td>338.720102</td>\n",
       "    </tr>\n",
       "    <tr>\n",
       "      <th>Ne+8</th>\n",
       "      <td>440.975231</td>\n",
       "      <td>442.034828</td>\n",
       "      <td>442.154461</td>\n",
       "      <td>442.176066</td>\n",
       "    </tr>\n",
       "  </tbody>\n",
       "</table>\n",
       "</div>"
      ],
      "text/plain": [
       "      aug-cc-pvdz  aug-cc-pvtz  aug-cc-pvqz  aug-cc-pv5z\n",
       "B+3     61.214264    61.257213    61.261404    61.261699\n",
       "C+4    109.980511   110.127023   110.130046   110.131126\n",
       "N+5    172.363901   172.673825   172.681041   172.684603\n",
       "O+6    248.352705   248.855247   248.878795   248.886816\n",
       "F+7    337.895758   338.645262   338.706638   338.720102\n",
       "Ne+8   440.975231   442.034828   442.154461   442.176066"
      ]
     },
     "execution_count": 33,
     "metadata": {},
     "output_type": "execute_result"
    }
   ],
   "source": [
    "hf_pre = data.nist.HARTREE2EV * (\n",
    "    + pd.DataFrame(eng_ri_dict[\"HF-RI\"]).loc[atom_2e][basis_pvxz]\n",
    "    - np.array(pd.DataFrame(eng_ri_dict[\"HF-RI\"]).loc[atom_4e][basis_pvxz]))\n",
    "hf_pre"
   ]
  },
  {
   "cell_type": "code",
   "execution_count": 34,
   "id": "8a46f6ce-4a9e-4e34-b55e-1b2309bdc932",
   "metadata": {
    "tags": []
   },
   "outputs": [
    {
     "data": {
      "text/html": [
       "<div>\n",
       "<style scoped>\n",
       "    .dataframe tbody tr th:only-of-type {\n",
       "        vertical-align: middle;\n",
       "    }\n",
       "\n",
       "    .dataframe tbody tr th {\n",
       "        vertical-align: top;\n",
       "    }\n",
       "\n",
       "    .dataframe thead th {\n",
       "        text-align: right;\n",
       "    }\n",
       "</style>\n",
       "<table border=\"1\" class=\"dataframe\">\n",
       "  <thead>\n",
       "    <tr style=\"text-align: right;\">\n",
       "      <th></th>\n",
       "      <th>aug-cc-pvdz</th>\n",
       "      <th>aug-cc-pvtz</th>\n",
       "      <th>aug-cc-pvqz</th>\n",
       "      <th>aug-cc-pv5z</th>\n",
       "      <th>aug-cc-pwcvdz</th>\n",
       "      <th>aug-cc-pwcvtz</th>\n",
       "      <th>aug-cc-pwcvqz</th>\n",
       "      <th>aug-cc-pwcv5z</th>\n",
       "    </tr>\n",
       "  </thead>\n",
       "  <tbody>\n",
       "    <tr>\n",
       "      <th>B+3</th>\n",
       "      <td>61.214266</td>\n",
       "      <td>61.257201</td>\n",
       "      <td>61.261400</td>\n",
       "      <td>61.261695</td>\n",
       "      <td>61.234657</td>\n",
       "      <td>61.258709</td>\n",
       "      <td>61.261329</td>\n",
       "      <td>61.261698</td>\n",
       "    </tr>\n",
       "    <tr>\n",
       "      <th>C+4</th>\n",
       "      <td>109.980538</td>\n",
       "      <td>110.127029</td>\n",
       "      <td>110.130072</td>\n",
       "      <td>110.131146</td>\n",
       "      <td>110.070392</td>\n",
       "      <td>110.127178</td>\n",
       "      <td>110.129864</td>\n",
       "      <td>110.131206</td>\n",
       "    </tr>\n",
       "    <tr>\n",
       "      <th>N+5</th>\n",
       "      <td>172.363917</td>\n",
       "      <td>172.673797</td>\n",
       "      <td>172.681014</td>\n",
       "      <td>172.684586</td>\n",
       "      <td>172.577500</td>\n",
       "      <td>172.676635</td>\n",
       "      <td>172.680531</td>\n",
       "      <td>172.684692</td>\n",
       "    </tr>\n",
       "    <tr>\n",
       "      <th>O+6</th>\n",
       "      <td>248.352689</td>\n",
       "      <td>248.855197</td>\n",
       "      <td>248.878718</td>\n",
       "      <td>248.886763</td>\n",
       "      <td>248.723833</td>\n",
       "      <td>248.870860</td>\n",
       "      <td>248.877898</td>\n",
       "      <td>248.886897</td>\n",
       "    </tr>\n",
       "    <tr>\n",
       "      <th>F+7</th>\n",
       "      <td>337.895723</td>\n",
       "      <td>338.645189</td>\n",
       "      <td>338.706519</td>\n",
       "      <td>338.720020</td>\n",
       "      <td>338.485338</td>\n",
       "      <td>338.692193</td>\n",
       "      <td>338.705480</td>\n",
       "      <td>338.720200</td>\n",
       "    </tr>\n",
       "    <tr>\n",
       "      <th>Ne+8</th>\n",
       "      <td>440.975155</td>\n",
       "      <td>442.034729</td>\n",
       "      <td>442.154283</td>\n",
       "      <td>442.175944</td>\n",
       "      <td>441.849363</td>\n",
       "      <td>442.131551</td>\n",
       "      <td>442.153273</td>\n",
       "      <td>442.176220</td>\n",
       "    </tr>\n",
       "  </tbody>\n",
       "</table>\n",
       "</div>"
      ],
      "text/plain": [
       "      aug-cc-pvdz  aug-cc-pvtz  aug-cc-pvqz  aug-cc-pv5z  aug-cc-pwcvdz  \\\n",
       "B+3     61.214266    61.257201    61.261400    61.261695      61.234657   \n",
       "C+4    109.980538   110.127029   110.130072   110.131146     110.070392   \n",
       "N+5    172.363917   172.673797   172.681014   172.684586     172.577500   \n",
       "O+6    248.352689   248.855197   248.878718   248.886763     248.723833   \n",
       "F+7    337.895723   338.645189   338.706519   338.720020     338.485338   \n",
       "Ne+8   440.975155   442.034729   442.154283   442.175944     441.849363   \n",
       "\n",
       "      aug-cc-pwcvtz  aug-cc-pwcvqz  aug-cc-pwcv5z  \n",
       "B+3       61.258709      61.261329      61.261698  \n",
       "C+4      110.127178     110.129864     110.131206  \n",
       "N+5      172.676635     172.680531     172.684692  \n",
       "O+6      248.870860     248.877898     248.886897  \n",
       "F+7      338.692193     338.705480     338.720200  \n",
       "Ne+8     442.131551     442.153273     442.176220  "
      ]
     },
     "execution_count": 34,
     "metadata": {},
     "output_type": "execute_result"
    }
   ],
   "source": [
    "hf_etb = data.nist.HARTREE2EV * (\n",
    "    + pd.DataFrame(eng_ri_dict[\"HF-ETB\"]).loc[atom_2e][basis_pvxz + basis_pwcvxz]\n",
    "    - np.array(pd.DataFrame(eng_ri_dict[\"HF-ETB\"]).loc[atom_4e][basis_pvxz + basis_pwcvxz]))\n",
    "hf_etb"
   ]
  },
  {
   "cell_type": "code",
   "execution_count": 35,
   "id": "6bd12efd-f931-4bb4-a0a8-80d9588d8d0b",
   "metadata": {
    "tags": []
   },
   "outputs": [
    {
     "data": {
      "text/html": [
       "<div>\n",
       "<style scoped>\n",
       "    .dataframe tbody tr th:only-of-type {\n",
       "        vertical-align: middle;\n",
       "    }\n",
       "\n",
       "    .dataframe tbody tr th {\n",
       "        vertical-align: top;\n",
       "    }\n",
       "\n",
       "    .dataframe thead th {\n",
       "        text-align: right;\n",
       "    }\n",
       "</style>\n",
       "<table border=\"1\" class=\"dataframe\">\n",
       "  <thead>\n",
       "    <tr style=\"text-align: right;\">\n",
       "      <th></th>\n",
       "      <th>aug-cc-pvdz</th>\n",
       "      <th>aug-cc-pvtz</th>\n",
       "      <th>aug-cc-pvqz</th>\n",
       "      <th>aug-cc-pv5z</th>\n",
       "      <th>aug-cc-pwcvdz</th>\n",
       "      <th>aug-cc-pwcvtz</th>\n",
       "      <th>aug-cc-pwcvqz</th>\n",
       "      <th>aug-cc-pwcv5z</th>\n",
       "    </tr>\n",
       "  </thead>\n",
       "  <tbody>\n",
       "    <tr>\n",
       "      <th>B+3</th>\n",
       "      <td>62.119395</td>\n",
       "      <td>62.273538</td>\n",
       "      <td>62.376681</td>\n",
       "      <td>62.415543</td>\n",
       "      <td>62.231835</td>\n",
       "      <td>62.405195</td>\n",
       "      <td>62.455105</td>\n",
       "      <td>62.472280</td>\n",
       "    </tr>\n",
       "    <tr>\n",
       "      <th>C+4</th>\n",
       "      <td>111.079568</td>\n",
       "      <td>111.345257</td>\n",
       "      <td>111.469163</td>\n",
       "      <td>111.513932</td>\n",
       "      <td>111.277704</td>\n",
       "      <td>111.504720</td>\n",
       "      <td>111.562895</td>\n",
       "      <td>111.583588</td>\n",
       "    </tr>\n",
       "    <tr>\n",
       "      <th>N+5</th>\n",
       "      <td>173.649861</td>\n",
       "      <td>174.078046</td>\n",
       "      <td>174.224878</td>\n",
       "      <td>174.277927</td>\n",
       "      <td>173.981660</td>\n",
       "      <td>174.264074</td>\n",
       "      <td>174.330188</td>\n",
       "      <td>174.355836</td>\n",
       "    </tr>\n",
       "    <tr>\n",
       "      <th>O+6</th>\n",
       "      <td>249.817690</td>\n",
       "      <td>250.424804</td>\n",
       "      <td>250.610350</td>\n",
       "      <td>250.674253</td>\n",
       "      <td>250.312008</td>\n",
       "      <td>250.651591</td>\n",
       "      <td>250.729952</td>\n",
       "      <td>250.762269</td>\n",
       "    </tr>\n",
       "    <tr>\n",
       "      <th>F+7</th>\n",
       "      <td>339.535858</td>\n",
       "      <td>340.382773</td>\n",
       "      <td>340.621834</td>\n",
       "      <td>340.694363</td>\n",
       "      <td>340.249829</td>\n",
       "      <td>340.661918</td>\n",
       "      <td>340.751986</td>\n",
       "      <td>340.791054</td>\n",
       "    </tr>\n",
       "    <tr>\n",
       "      <th>Ne+8</th>\n",
       "      <td>442.786964</td>\n",
       "      <td>443.940932</td>\n",
       "      <td>444.249851</td>\n",
       "      <td>444.333516</td>\n",
       "      <td>443.784198</td>\n",
       "      <td>444.286401</td>\n",
       "      <td>444.388219</td>\n",
       "      <td>444.436157</td>\n",
       "    </tr>\n",
       "  </tbody>\n",
       "</table>\n",
       "</div>"
      ],
      "text/plain": [
       "      aug-cc-pvdz  aug-cc-pvtz  aug-cc-pvqz  aug-cc-pv5z  aug-cc-pwcvdz  \\\n",
       "B+3     62.119395    62.273538    62.376681    62.415543      62.231835   \n",
       "C+4    111.079568   111.345257   111.469163   111.513932     111.277704   \n",
       "N+5    173.649861   174.078046   174.224878   174.277927     173.981660   \n",
       "O+6    249.817690   250.424804   250.610350   250.674253     250.312008   \n",
       "F+7    339.535858   340.382773   340.621834   340.694363     340.249829   \n",
       "Ne+8   442.786964   443.940932   444.249851   444.333516     443.784198   \n",
       "\n",
       "      aug-cc-pwcvtz  aug-cc-pwcvqz  aug-cc-pwcv5z  \n",
       "B+3       62.405195      62.455105      62.472280  \n",
       "C+4      111.504720     111.562895     111.583588  \n",
       "N+5      174.264074     174.330188     174.355836  \n",
       "O+6      250.651591     250.729952     250.762269  \n",
       "F+7      340.661918     340.751986     340.791054  \n",
       "Ne+8     444.286401     444.388219     444.436157  "
      ]
     },
     "execution_count": 35,
     "metadata": {},
     "output_type": "execute_result"
    }
   ],
   "source": [
    "mp2_conv = data.nist.HARTREE2EV * (\n",
    "    + pd.DataFrame(eng_dict[\"MP2\"]).loc[atom_2e][basis_pvxz + basis_pwcvxz]\n",
    "    - np.array(pd.DataFrame(eng_dict[\"MP2\"]).loc[atom_4e][basis_pvxz + basis_pwcvxz]))\n",
    "mp2_conv"
   ]
  },
  {
   "cell_type": "code",
   "execution_count": 36,
   "id": "fbc7fa35-95bc-42c6-a052-da3877734e24",
   "metadata": {
    "tags": []
   },
   "outputs": [
    {
     "data": {
      "text/html": [
       "<div>\n",
       "<style scoped>\n",
       "    .dataframe tbody tr th:only-of-type {\n",
       "        vertical-align: middle;\n",
       "    }\n",
       "\n",
       "    .dataframe tbody tr th {\n",
       "        vertical-align: top;\n",
       "    }\n",
       "\n",
       "    .dataframe thead th {\n",
       "        text-align: right;\n",
       "    }\n",
       "</style>\n",
       "<table border=\"1\" class=\"dataframe\">\n",
       "  <thead>\n",
       "    <tr style=\"text-align: right;\">\n",
       "      <th></th>\n",
       "      <th>aug-cc-pvdz</th>\n",
       "      <th>aug-cc-pvtz</th>\n",
       "      <th>aug-cc-pvqz</th>\n",
       "      <th>aug-cc-pv5z</th>\n",
       "      <th>aug-cc-pwcvdz</th>\n",
       "      <th>aug-cc-pwcvtz</th>\n",
       "      <th>aug-cc-pwcvqz</th>\n",
       "      <th>aug-cc-pwcv5z</th>\n",
       "    </tr>\n",
       "  </thead>\n",
       "  <tbody>\n",
       "    <tr>\n",
       "      <th>B+3</th>\n",
       "      <td>62.119286</td>\n",
       "      <td>62.273502</td>\n",
       "      <td>62.376652</td>\n",
       "      <td>62.415523</td>\n",
       "      <td>62.231740</td>\n",
       "      <td>62.405183</td>\n",
       "      <td>62.455093</td>\n",
       "      <td>62.472274</td>\n",
       "    </tr>\n",
       "    <tr>\n",
       "      <th>C+4</th>\n",
       "      <td>111.079504</td>\n",
       "      <td>111.345217</td>\n",
       "      <td>111.469132</td>\n",
       "      <td>111.513902</td>\n",
       "      <td>111.277644</td>\n",
       "      <td>111.504706</td>\n",
       "      <td>111.562880</td>\n",
       "      <td>111.583578</td>\n",
       "    </tr>\n",
       "    <tr>\n",
       "      <th>N+5</th>\n",
       "      <td>173.649668</td>\n",
       "      <td>174.077969</td>\n",
       "      <td>174.224824</td>\n",
       "      <td>174.277897</td>\n",
       "      <td>173.981492</td>\n",
       "      <td>174.264049</td>\n",
       "      <td>174.330165</td>\n",
       "      <td>174.355827</td>\n",
       "    </tr>\n",
       "    <tr>\n",
       "      <th>O+6</th>\n",
       "      <td>249.817430</td>\n",
       "      <td>250.424698</td>\n",
       "      <td>250.610274</td>\n",
       "      <td>250.674215</td>\n",
       "      <td>250.311802</td>\n",
       "      <td>250.651567</td>\n",
       "      <td>250.729927</td>\n",
       "      <td>250.762258</td>\n",
       "    </tr>\n",
       "    <tr>\n",
       "      <th>F+7</th>\n",
       "      <td>339.535539</td>\n",
       "      <td>340.382651</td>\n",
       "      <td>340.621792</td>\n",
       "      <td>340.694318</td>\n",
       "      <td>340.249597</td>\n",
       "      <td>340.661893</td>\n",
       "      <td>340.751972</td>\n",
       "      <td>340.791039</td>\n",
       "    </tr>\n",
       "    <tr>\n",
       "      <th>Ne+8</th>\n",
       "      <td>442.786708</td>\n",
       "      <td>443.940759</td>\n",
       "      <td>444.249794</td>\n",
       "      <td>444.333473</td>\n",
       "      <td>443.784054</td>\n",
       "      <td>444.286372</td>\n",
       "      <td>444.388203</td>\n",
       "      <td>444.436142</td>\n",
       "    </tr>\n",
       "  </tbody>\n",
       "</table>\n",
       "</div>"
      ],
      "text/plain": [
       "      aug-cc-pvdz  aug-cc-pvtz  aug-cc-pvqz  aug-cc-pv5z  aug-cc-pwcvdz  \\\n",
       "B+3     62.119286    62.273502    62.376652    62.415523      62.231740   \n",
       "C+4    111.079504   111.345217   111.469132   111.513902     111.277644   \n",
       "N+5    173.649668   174.077969   174.224824   174.277897     173.981492   \n",
       "O+6    249.817430   250.424698   250.610274   250.674215     250.311802   \n",
       "F+7    339.535539   340.382651   340.621792   340.694318     340.249597   \n",
       "Ne+8   442.786708   443.940759   444.249794   444.333473     443.784054   \n",
       "\n",
       "      aug-cc-pwcvtz  aug-cc-pwcvqz  aug-cc-pwcv5z  \n",
       "B+3       62.405183      62.455093      62.472274  \n",
       "C+4      111.504706     111.562880     111.583578  \n",
       "N+5      174.264049     174.330165     174.355827  \n",
       "O+6      250.651567     250.729927     250.762258  \n",
       "F+7      340.661893     340.751972     340.791039  \n",
       "Ne+8     444.286372     444.388203     444.436142  "
      ]
     },
     "execution_count": 36,
     "metadata": {},
     "output_type": "execute_result"
    }
   ],
   "source": [
    "mp2_pre = data.nist.HARTREE2EV * (\n",
    "    + pd.DataFrame(eng_ri_dict[\"MP2-RI\"]).loc[atom_2e][basis_pvxz + basis_pwcvxz]\n",
    "    - np.array(pd.DataFrame(eng_ri_dict[\"MP2-RI\"]).loc[atom_4e][basis_pvxz + basis_pwcvxz]))\n",
    "mp2_pre"
   ]
  },
  {
   "cell_type": "code",
   "execution_count": 37,
   "id": "e2dc0318-9ab9-4551-994e-c0e5e44d23cc",
   "metadata": {
    "tags": []
   },
   "outputs": [
    {
     "data": {
      "text/html": [
       "<div>\n",
       "<style scoped>\n",
       "    .dataframe tbody tr th:only-of-type {\n",
       "        vertical-align: middle;\n",
       "    }\n",
       "\n",
       "    .dataframe tbody tr th {\n",
       "        vertical-align: top;\n",
       "    }\n",
       "\n",
       "    .dataframe thead th {\n",
       "        text-align: right;\n",
       "    }\n",
       "</style>\n",
       "<table border=\"1\" class=\"dataframe\">\n",
       "  <thead>\n",
       "    <tr style=\"text-align: right;\">\n",
       "      <th></th>\n",
       "      <th>aug-cc-pvdz</th>\n",
       "      <th>aug-cc-pvtz</th>\n",
       "      <th>aug-cc-pvqz</th>\n",
       "      <th>aug-cc-pv5z</th>\n",
       "      <th>aug-cc-pwcvdz</th>\n",
       "      <th>aug-cc-pwcvtz</th>\n",
       "      <th>aug-cc-pwcvqz</th>\n",
       "      <th>aug-cc-pwcv5z</th>\n",
       "    </tr>\n",
       "  </thead>\n",
       "  <tbody>\n",
       "    <tr>\n",
       "      <th>B+3</th>\n",
       "      <td>62.119388</td>\n",
       "      <td>62.273517</td>\n",
       "      <td>62.376619</td>\n",
       "      <td>62.410636</td>\n",
       "      <td>62.231826</td>\n",
       "      <td>62.405174</td>\n",
       "      <td>62.455072</td>\n",
       "      <td>62.467352</td>\n",
       "    </tr>\n",
       "    <tr>\n",
       "      <th>C+4</th>\n",
       "      <td>111.079557</td>\n",
       "      <td>111.345237</td>\n",
       "      <td>111.469119</td>\n",
       "      <td>111.509175</td>\n",
       "      <td>111.277691</td>\n",
       "      <td>111.504698</td>\n",
       "      <td>111.562865</td>\n",
       "      <td>111.578801</td>\n",
       "    </tr>\n",
       "    <tr>\n",
       "      <th>N+5</th>\n",
       "      <td>173.649848</td>\n",
       "      <td>174.078021</td>\n",
       "      <td>174.224825</td>\n",
       "      <td>174.273367</td>\n",
       "      <td>173.981644</td>\n",
       "      <td>174.264047</td>\n",
       "      <td>174.330137</td>\n",
       "      <td>174.351246</td>\n",
       "    </tr>\n",
       "    <tr>\n",
       "      <th>O+6</th>\n",
       "      <td>249.817683</td>\n",
       "      <td>250.424782</td>\n",
       "      <td>250.610296</td>\n",
       "      <td>250.669918</td>\n",
       "      <td>250.311997</td>\n",
       "      <td>250.651568</td>\n",
       "      <td>250.729886</td>\n",
       "      <td>250.757907</td>\n",
       "    </tr>\n",
       "    <tr>\n",
       "      <th>F+7</th>\n",
       "      <td>339.535851</td>\n",
       "      <td>340.382751</td>\n",
       "      <td>340.621777</td>\n",
       "      <td>340.690117</td>\n",
       "      <td>340.249818</td>\n",
       "      <td>340.661895</td>\n",
       "      <td>340.751912</td>\n",
       "      <td>340.786776</td>\n",
       "    </tr>\n",
       "    <tr>\n",
       "      <th>Ne+8</th>\n",
       "      <td>442.786953</td>\n",
       "      <td>443.940905</td>\n",
       "      <td>444.249796</td>\n",
       "      <td>444.329326</td>\n",
       "      <td>443.784184</td>\n",
       "      <td>444.286374</td>\n",
       "      <td>444.388141</td>\n",
       "      <td>444.431939</td>\n",
       "    </tr>\n",
       "  </tbody>\n",
       "</table>\n",
       "</div>"
      ],
      "text/plain": [
       "      aug-cc-pvdz  aug-cc-pvtz  aug-cc-pvqz  aug-cc-pv5z  aug-cc-pwcvdz  \\\n",
       "B+3     62.119388    62.273517    62.376619    62.410636      62.231826   \n",
       "C+4    111.079557   111.345237   111.469119   111.509175     111.277691   \n",
       "N+5    173.649848   174.078021   174.224825   174.273367     173.981644   \n",
       "O+6    249.817683   250.424782   250.610296   250.669918     250.311997   \n",
       "F+7    339.535851   340.382751   340.621777   340.690117     340.249818   \n",
       "Ne+8   442.786953   443.940905   444.249796   444.329326     443.784184   \n",
       "\n",
       "      aug-cc-pwcvtz  aug-cc-pwcvqz  aug-cc-pwcv5z  \n",
       "B+3       62.405174      62.455072      62.467352  \n",
       "C+4      111.504698     111.562865     111.578801  \n",
       "N+5      174.264047     174.330137     174.351246  \n",
       "O+6      250.651568     250.729886     250.757907  \n",
       "F+7      340.661895     340.751912     340.786776  \n",
       "Ne+8     444.286374     444.388141     444.431939  "
      ]
     },
     "execution_count": 37,
     "metadata": {},
     "output_type": "execute_result"
    }
   ],
   "source": [
    "mp2_etb = data.nist.HARTREE2EV * (\n",
    "    + pd.DataFrame(eng_ri_dict[\"MP2-ETB\"]).loc[atom_2e][basis_pvxz + basis_pwcvxz]\n",
    "    - np.array(pd.DataFrame(eng_ri_dict[\"MP2-ETB\"]).loc[atom_4e][basis_pvxz + basis_pwcvxz]))\n",
    "mp2_etb"
   ]
  },
  {
   "cell_type": "markdown",
   "id": "ee2a0a13-5486-46f4-a361-2bbf46028024",
   "metadata": {},
   "source": [
    "## Plot curve"
   ]
  },
  {
   "cell_type": "code",
   "execution_count": 38,
   "id": "32081b1a-6b14-4d93-b7ad-b607cdf55027",
   "metadata": {
    "tags": []
   },
   "outputs": [
    {
     "data": {
      "image/png": "[encoded data removed]",
      "text/plain": [
       "<Figure size 550x320 with 1 Axes>"
      ]
     },
     "metadata": {},
     "output_type": "display_data"
    }
   ],
   "source": [
    "fig, ax = plt.subplots(figsize=(5.5, 3.2))\n",
    "\n",
    "ax.plot([2, 3, 4, 5], (hf_pre - hf_conv)[basis_pvxz].abs().max(),   linestyle=\":\", color=\"C0\", marker=\"v\")\n",
    "ax.plot([2, 3, 4, 5], (hf_etb - hf_conv)[basis_pvxz].abs().max(),   linestyle=\":\", color=\"C0\", marker=\"o\")\n",
    "ax.plot([2, 3, 4, 5], (hf_etb - hf_conv)[basis_pwcvxz].abs().max(), linestyle=\"-\", color=\"C0\", marker=\"o\")\n",
    "\n",
    "ax.set_xticks([2, 3, 4, 5])\n",
    "ax.set_xticklabels([\"D\", \"T\", \"Q\", \"5\"])\n",
    "ax.set_xlim(1.8, 5.2)\n",
    "ax.set_yscale(\"log\")\n",
    "\n",
    "ax.set_xlabel(\"Basis Cardinal Number $X$\")\n",
    "ax.set_ylabel(\"Maximum Error / eV\")\n",
    "ax.set_title(\"RI approximation Error to\\nIonization Energy of HF\")\n",
    "\n",
    "l1 = ax.plot([0], [1e-4], linestyle=\":\", marker=\"v\", color=\"C0\", label=\"aug-cc-pV$X$Z-jkfit\")\n",
    "l2 = ax.plot([0], [1e-4], linestyle=\":\", marker=\"o\", color=\"C0\", label=\"aug-cc-pV$X$Z ETB\")\n",
    "l3 = ax.plot([0], [1e-4], linestyle=\"-\", marker=\"o\", color=\"C0\", label=\"aug-cc-p$\\omega$CV$X$Z ETB\")\n",
    "label_lines = [l1, l2, l3]\n",
    "\n",
    "leg = plt.legend([l[0] for l in label_lines], [l[0].get_label() for l in label_lines], loc=\"center left\", bbox_to_anchor=(1.02, 0.5))\n",
    "\n",
    "fig.tight_layout()\n",
    "fig.savefig(\"../HF-RI-eng.pdf\", transparent=True, bbox_extra_artists=leg)"
   ]
  },
  {
   "cell_type": "code",
   "execution_count": 39,
   "id": "93662a70-c150-451a-a131-247c367f7437",
   "metadata": {
    "tags": []
   },
   "outputs": [
    {
     "data": {
      "image/png": "[encoded data removed]",
      "text/plain": [
       "<Figure size 550x320 with 1 Axes>"
      ]
     },
     "metadata": {},
     "output_type": "display_data"
    }
   ],
   "source": [
    "fig, ax = plt.subplots(figsize=(5.5, 3.2))\n",
    "\n",
    "ax.plot([2, 3, 4, 5], (mp2_pre - mp2_conv)[basis_pvxz].abs().max(),   linestyle=\":\", color=\"C0\", marker=\"v\")\n",
    "ax.plot([2, 3, 4, 5], (mp2_pre - mp2_conv)[basis_pwcvxz].abs().max(), linestyle=\"-\", color=\"C0\", marker=\"v\")\n",
    "ax.plot([2, 3, 4, 5], (mp2_etb - mp2_conv)[basis_pvxz].abs().max(),   linestyle=\":\", color=\"C0\", marker=\"o\")\n",
    "ax.plot([2, 3, 4, 5], (mp2_etb - mp2_conv)[basis_pwcvxz].abs().max(), linestyle=\"-\", color=\"C0\", marker=\"o\")\n",
    "\n",
    "ax.set_xticks([2, 3, 4, 5])\n",
    "ax.set_xticklabels([\"D\", \"T\", \"Q\", \"5\"])\n",
    "ax.set_xlim(1.8, 5.2)\n",
    "ax.set_yscale(\"log\")\n",
    "\n",
    "ax.set_xlabel(\"Basis Cardinal Number $X$\")\n",
    "ax.set_ylabel(\"Maximum Error / eV\")\n",
    "ax.set_title(\"RI approximation Error to\\nIonization Energy of MP2 Correlation\")\n",
    "\n",
    "l1 = ax.plot([0], [1e-4], linestyle=\":\", marker=\"v\", color=\"C0\", label=\"aug-cc-pV$X$Z-rifit\")\n",
    "l2 = ax.plot([0], [1e-4], linestyle=\"-\", marker=\"v\", color=\"C0\", label=\"aug-cc-p$\\omega$CV$X$Z-rifit\")\n",
    "l3 = ax.plot([0], [1e-4], linestyle=\":\", marker=\"o\", color=\"C0\", label=\"aug-cc-pV$X$Z ETB\")\n",
    "l4 = ax.plot([0], [1e-4], linestyle=\"-\", marker=\"o\", color=\"C0\", label=\"aug-cc-p$\\omega$CV$X$Z ETB\")\n",
    "label_lines = [l1, l2, l3, l4]\n",
    "\n",
    "leg = plt.legend([l[0] for l in label_lines], [l[0].get_label() for l in label_lines], loc=\"center left\", bbox_to_anchor=(1.02, 0.5))\n",
    "\n",
    "fig.tight_layout()\n",
    "fig.savefig(\"../MP2-RI-eng.pdf\", transparent=True, bbox_extra_artists=leg)"
   ]
  },
  {
   "cell_type": "code",
   "execution_count": 40,
   "id": "19e2311b-686d-4a9b-a177-b343954cc93a",
   "metadata": {
    "tags": []
   },
   "outputs": [
    {
     "data": {
      "text/html": [
       "<div>\n",
       "<style scoped>\n",
       "    .dataframe tbody tr th:only-of-type {\n",
       "        vertical-align: middle;\n",
       "    }\n",
       "\n",
       "    .dataframe tbody tr th {\n",
       "        vertical-align: top;\n",
       "    }\n",
       "\n",
       "    .dataframe thead th {\n",
       "        text-align: right;\n",
       "    }\n",
       "</style>\n",
       "<table border=\"1\" class=\"dataframe\">\n",
       "  <thead>\n",
       "    <tr style=\"text-align: right;\">\n",
       "      <th></th>\n",
       "      <th>aug-cc-pwcvdz</th>\n",
       "      <th>aug-cc-pwcvtz</th>\n",
       "      <th>aug-cc-pwcvqz</th>\n",
       "      <th>aug-cc-pwcv5z</th>\n",
       "    </tr>\n",
       "  </thead>\n",
       "  <tbody>\n",
       "    <tr>\n",
       "      <th>B+3</th>\n",
       "      <td>-0.000009</td>\n",
       "      <td>-0.000021</td>\n",
       "      <td>-0.000033</td>\n",
       "      <td>-0.004928</td>\n",
       "    </tr>\n",
       "    <tr>\n",
       "      <th>C+4</th>\n",
       "      <td>-0.000013</td>\n",
       "      <td>-0.000022</td>\n",
       "      <td>-0.000029</td>\n",
       "      <td>-0.004787</td>\n",
       "    </tr>\n",
       "    <tr>\n",
       "      <th>N+5</th>\n",
       "      <td>-0.000016</td>\n",
       "      <td>-0.000027</td>\n",
       "      <td>-0.000051</td>\n",
       "      <td>-0.004589</td>\n",
       "    </tr>\n",
       "    <tr>\n",
       "      <th>O+6</th>\n",
       "      <td>-0.000011</td>\n",
       "      <td>-0.000023</td>\n",
       "      <td>-0.000066</td>\n",
       "      <td>-0.004362</td>\n",
       "    </tr>\n",
       "    <tr>\n",
       "      <th>F+7</th>\n",
       "      <td>-0.000011</td>\n",
       "      <td>-0.000023</td>\n",
       "      <td>-0.000074</td>\n",
       "      <td>-0.004277</td>\n",
       "    </tr>\n",
       "    <tr>\n",
       "      <th>Ne+8</th>\n",
       "      <td>-0.000014</td>\n",
       "      <td>-0.000027</td>\n",
       "      <td>-0.000078</td>\n",
       "      <td>-0.004218</td>\n",
       "    </tr>\n",
       "  </tbody>\n",
       "</table>\n",
       "</div>"
      ],
      "text/plain": [
       "      aug-cc-pwcvdz  aug-cc-pwcvtz  aug-cc-pwcvqz  aug-cc-pwcv5z\n",
       "B+3       -0.000009      -0.000021      -0.000033      -0.004928\n",
       "C+4       -0.000013      -0.000022      -0.000029      -0.004787\n",
       "N+5       -0.000016      -0.000027      -0.000051      -0.004589\n",
       "O+6       -0.000011      -0.000023      -0.000066      -0.004362\n",
       "F+7       -0.000011      -0.000023      -0.000074      -0.004277\n",
       "Ne+8      -0.000014      -0.000027      -0.000078      -0.004218"
      ]
     },
     "execution_count": 40,
     "metadata": {},
     "output_type": "execute_result"
    }
   ],
   "source": [
    "(mp2_etb - mp2_conv)[basis_pwcvxz]"
   ]
  },
  {
   "cell_type": "code",
   "execution_count": null,
   "id": "7a9be03c-c738-49e8-9845-f7f93f6c6844",
   "metadata": {
    "tags": []
   },
   "outputs": [],
   "source": []
  },
  {
   "cell_type": "code",
   "execution_count": null,
   "id": "37cae707-3d9e-40f0-99a5-0d16869c8daf",
   "metadata": {
    "tags": []
   },
   "outputs": [],
   "source": []
  },
  {
   "cell_type": "code",
   "execution_count": null,
   "id": "5b2ca17e-0569-4968-b5bc-61b4a19e2273",
   "metadata": {},
   "outputs": [],
   "source": []
  }
 ],
 "metadata": {
  "kernelspec": {
   "display_name": "Python 3 (ipykernel)",
   "language": "python",
   "name": "python3"
  },
  "language_info": {
   "codemirror_mode": {
    "name": "ipython",
    "version": 3
   },
   "file_extension": ".py",
   "mimetype": "text/x-python",
   "name": "python",
   "nbconvert_exporter": "python",
   "pygments_lexer": "ipython3",
   "version": "3.10.13"
  }
 },
 "nbformat": 4,
 "nbformat_minor": 5
}
