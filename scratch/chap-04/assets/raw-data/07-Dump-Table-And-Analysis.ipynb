{
 "cells": [
  {
   "cell_type": "code",
   "execution_count": 1,
   "id": "2560611e-1592-4845-9cc4-e6118b5ebe4f",
   "metadata": {},
   "outputs": [],
   "source": [
    "import warnings\n",
    "\n",
    "warnings.filterwarnings(\"ignore\")"
   ]
  },
  {
   "cell_type": "code",
   "execution_count": 2,
   "id": "3afd4bfc-39da-428b-adac-0819ec613d7c",
   "metadata": {},
   "outputs": [],
   "source": [
    "import pandas as pd\n",
    "import numpy as np\n",
    "import h5py\n",
    "from matplotlib import pyplot as plt\n",
    "from matplotlib.path import Path\n",
    "from sklearn.gaussian_process import GaussianProcessRegressor\n",
    "from sklearn.gaussian_process.kernels import RBF, WhiteKernel, ConstantKernel\n",
    "from sklearn.kernel_ridge import KernelRidge\n",
    "import scipy\n",
    "from scipy.constants import physical_constants"
   ]
  },
  {
   "cell_type": "code",
   "execution_count": 3,
   "id": "49dd4ef7-b890-4bd7-a32a-a8837848e7e9",
   "metadata": {},
   "outputs": [],
   "source": [
    "def h5group_to_dict(grp):\n",
    "    dct = {}\n",
    "    for key, val in grp.items():\n",
    "        if isinstance(val, h5py.Dataset):\n",
    "            dct[key] = val[()]\n",
    "        else:\n",
    "            dct[key] = h5group_to_dict(val)\n",
    "    return dct"
   ]
  },
  {
   "cell_type": "markdown",
   "id": "bb273842-5cf2-4d31-9e97-1cfa1ce660ad",
   "metadata": {},
   "source": [
    "### Generate Error Table"
   ]
  },
  {
   "cell_type": "code",
   "execution_count": 4,
   "id": "fd41b1c8-3b05-408f-82bf-4fca70b8cea6",
   "metadata": {},
   "outputs": [],
   "source": [
    "tab_xc = pd.read_csv(\"functionals.csv\", encoding=\"UTF-8\", index_col=[0])\n",
    "tab_xc.year = tab_xc.year.fillna(0).astype(\"int32\")"
   ]
  },
  {
   "cell_type": "code",
   "execution_count": null,
   "id": "a0df7eaf-9341-470a-88aa-99ba77c3977b",
   "metadata": {},
   "outputs": [],
   "source": []
  },
  {
   "cell_type": "code",
   "execution_count": 15,
   "id": "026a536c-6e75-4019-9671-88ea4c34ae96",
   "metadata": {},
   "outputs": [],
   "source": [
    "tab_rdf = pd.concat([\n",
    "    pd.read_csv(\"Table-RDF-dh.csv\", index_col=[0], header=[0, 1]),\n",
    "    pd.read_csv(\"Table-RDF-low.csv\", index_col=[0], header=[0, 1]),\n",
    "    pd.read_csv(\"Table-RDF-wft.csv\", index_col=[0], header=[0, 1])]\n",
    ").loc[tab_xc.index]"
   ]
  },
  {
   "cell_type": "code",
   "execution_count": 16,
   "id": "ea6d68d8-7373-47bd-87aa-717fce4cbba5",
   "metadata": {},
   "outputs": [],
   "source": [
    "ref_etot = pd.Series({\n",
    "    \"B\": 63.069, \"C\": 112.336, \"N\": 175.259,\n",
    "    \"O\": 251.814, \"F\": 341.988, \"Ne\": 445.771})"
   ]
  },
  {
   "cell_type": "code",
   "execution_count": 18,
   "id": "5e1f3298-1367-49dd-99b7-c8f70556abd3",
   "metadata": {},
   "outputs": [],
   "source": [
    "tab_etot = pd.concat([\n",
    "    pd.read_csv(\"Table-etot-dh.csv\", index_col=[0], header=[0]),\n",
    "    pd.read_csv(\"Table-etot-low.csv\", index_col=[0], header=[0]),\n",
    "    pd.read_csv(\"Table-etot-wft.csv\", index_col=[0], header=[0])]\n",
    ").loc[tab_xc.index]\n",
    "\n",
    "tab_etot = physical_constants[\"hartree-electron volt relationship\"][0] * (\n",
    "    tab_etot[[\"B+3\", \"C+4\", \"N+5\", \"O+6\", \"F+7\", \"Ne+8\"]] - np.array(tab_etot[[\"B+1\", \"C+2\", \"N+3\", \"O+4\", \"F+5\", \"Ne+6\"]])\n",
    ") - np.array(ref_etot)\n",
    "tab_etot *= -1"
   ]
  },
  {
   "cell_type": "code",
   "execution_count": 8,
   "id": "29283a02-f60a-45b3-883f-ae70a7fa0ad0",
   "metadata": {
    "tags": []
   },
   "outputs": [],
   "source": [
    "mask_wft = tab_xc[\"type\"] == \"WFT\"\n",
    "mask_lda = tab_xc[\"type\"] == \"LDA\"\n",
    "mask_gga = tab_xc[\"type\"] == \"GGA\"\n",
    "mask_mgga = tab_xc[\"type\"] == \"mGGA\"\n",
    "mask_hyb_ex = ~pd.isna(tab_xc[\"hybrid ex\"])\n",
    "mask_hyb_corr = ~pd.isna(tab_xc[\"hybrid corr\"])"
   ]
  },
  {
   "cell_type": "code",
   "execution_count": 90,
   "id": "8ab74372-be3a-409d-9034-79dc0fcc2b14",
   "metadata": {},
   "outputs": [],
   "source": [
    "mask_r3 = ~mask_wft & ~mask_hyb_ex\n",
    "mask_r4 = mask_hyb_ex & ~mask_hyb_corr\n",
    "mask_r5 = mask_hyb_corr"
   ]
  },
  {
   "cell_type": "code",
   "execution_count": 91,
   "id": "26e83382-b18d-4f06-a15e-f85c4302ccac",
   "metadata": {},
   "outputs": [
    {
     "data": {
      "text/plain": [
       "(71, 58, 44)"
      ]
     },
     "execution_count": 91,
     "metadata": {},
     "output_type": "execute_result"
    }
   ],
   "source": [
    "sum(mask_r3), sum(mask_r4), sum(mask_r5)"
   ]
  },
  {
   "cell_type": "code",
   "execution_count": null,
   "id": "e58973a2-0b85-4f85-9ca5-dc6d54f8b593",
   "metadata": {},
   "outputs": [],
   "source": []
  },
  {
   "cell_type": "code",
   "execution_count": 19,
   "id": "dc598b20-d131-4519-9056-1395f6ad5a47",
   "metadata": {},
   "outputs": [],
   "source": [
    "tab_err = tab_xc.copy()\n",
    "tab_err.columns = pd.MultiIndex.from_tuples([(\"information\", i) for i in tab_xc.columns])\n",
    "for task in [\"RHO\", \"GRD\", \"LR\"]:\n",
    "    tab_err[(\"density maxMNAE\", task)] = tab_rdf[task].T.max()\n",
    "for task in [\"RHO\", \"GRD\", \"LR\"]:\n",
    "    tab_err[(\"density meanMNAE\", task)] = tab_rdf[task].T.mean()\n",
    "tab_err[(\"IP\", \"RMSE\")] = (tab_etot.abs().T**2).mean()**0.5\n",
    "tab_err[(\"IP\", \"MAE\")] = tab_etot.abs().T.mean()\n",
    "tab_err[(\"IP\", \"MaxE\")] = tab_etot.abs().T.max()"
   ]
  },
  {
   "cell_type": "code",
   "execution_count": 21,
   "id": "2929ca19-9e78-4dc2-acac-cedd72d06bec",
   "metadata": {},
   "outputs": [],
   "source": [
    "tab_err.to_csv(\"Table-Summarized.csv\")"
   ]
  },
  {
   "cell_type": "code",
   "execution_count": null,
   "id": "e846aa16-df44-46ef-8d32-d14582085d84",
   "metadata": {},
   "outputs": [],
   "source": []
  },
  {
   "cell_type": "code",
   "execution_count": null,
   "id": "127ab370-3d00-4ae5-9642-a39d911850e6",
   "metadata": {},
   "outputs": [],
   "source": []
  },
  {
   "cell_type": "code",
   "execution_count": null,
   "id": "a613d851-656d-41b7-8695-b0ce5fc66896",
   "metadata": {},
   "outputs": [],
   "source": []
  },
  {
   "cell_type": "code",
   "execution_count": null,
   "id": "90e6a02d-28d0-4b2a-b49e-985e5c2c94ed",
   "metadata": {},
   "outputs": [],
   "source": []
  },
  {
   "cell_type": "code",
   "execution_count": null,
   "id": "46866f0f-9e03-48e4-9ede-cc2cf7bf232c",
   "metadata": {},
   "outputs": [],
   "source": []
  },
  {
   "cell_type": "code",
   "execution_count": null,
   "id": "3dc163a4-f5d0-47a2-8103-d935bc450e00",
   "metadata": {},
   "outputs": [],
   "source": []
  },
  {
   "cell_type": "markdown",
   "id": "23af224a-5dcf-4cf5-9246-5b8ca1680526",
   "metadata": {},
   "source": [
    "## Detailed Analysis"
   ]
  },
  {
   "cell_type": "code",
   "execution_count": 81,
   "id": "14f16c37-5435-4438-999e-7c4822338a6a",
   "metadata": {},
   "outputs": [],
   "source": [
    "# tab_rank = pd.concat([\n",
    "#     tab_err[~mask_wft][\"density maxMNAE\"].T.max().rank().astype(int),\n",
    "#     tab_err[~mask_wft][(\"IP\", \"MAE\")].rank().astype(int),\n",
    "# ], axis=1)\n",
    "# tab_rank.columns = [\"density\", \"IP\"]"
   ]
  },
  {
   "cell_type": "code",
   "execution_count": null,
   "id": "efe30cb0-4596-4bff-ace3-fc60b7978e5d",
   "metadata": {},
   "outputs": [],
   "source": []
  },
  {
   "cell_type": "code",
   "execution_count": 141,
   "id": "51aabda7-bce3-4714-8274-47c48b041478",
   "metadata": {},
   "outputs": [
    {
     "data": {
      "text/plain": [
       "RHO    2.526159\n",
       "GRD    2.052249\n",
       "Name: HF, dtype: object"
      ]
     },
     "execution_count": 141,
     "metadata": {},
     "output_type": "execute_result"
    }
   ],
   "source": [
    "tab_err.loc[\"HF\"][\"density maxMNAE\"][[\"RHO\", \"GRD\"]]"
   ]
  },
  {
   "cell_type": "code",
   "execution_count": 142,
   "id": "3b6eba98-5661-4462-af28-051d903ea363",
   "metadata": {},
   "outputs": [
    {
     "data": {
      "text/plain": [
       "RHO    2.526159\n",
       "Name: HF, dtype: object"
      ]
     },
     "execution_count": 142,
     "metadata": {},
     "output_type": "execute_result"
    }
   ],
   "source": [
    "tab_err.loc[\"HF\"][\"density maxMNAE\"][[\"RHO\"]]"
   ]
  },
  {
   "cell_type": "code",
   "execution_count": null,
   "id": "d27999b5-ca8f-4c72-b564-c90767e45646",
   "metadata": {},
   "outputs": [],
   "source": []
  },
  {
   "cell_type": "code",
   "execution_count": 154,
   "id": "567f8ffe-5185-43d1-89ff-58c27bc55e6b",
   "metadata": {},
   "outputs": [
    {
     "data": {
      "image/png": "[encoded data removed]",
      "text/plain": [
       "<Figure size 600x300 with 1 Axes>"
      ]
     },
     "metadata": {},
     "output_type": "display_data"
    }
   ],
   "source": [
    "fig, ax = plt.subplots(figsize=(6, 3))\n",
    "ax.plot([1e-3, 1e2], [1e-3, 1e2], color=\"black\")\n",
    "ax.scatter(tab_err[mask_r3 & mask_lda ][\"density maxMNAE\"][\"RHO\"], tab_err[mask_r3 & mask_lda ][\"density maxMNAE\"][\"GRD\"], color=\"C0\", marker=\"v\", label= \"LDA (local)\")\n",
    "ax.scatter(tab_err[mask_r4 & mask_lda ][\"density maxMNAE\"][\"RHO\"], tab_err[mask_r4 & mask_lda ][\"density maxMNAE\"][\"GRD\"], color=\"C1\", marker=\"v\", label= \"LDA (hybrid)\")\n",
    "ax.scatter(tab_err[mask_r3 & mask_gga ][\"density maxMNAE\"][\"RHO\"], tab_err[mask_r3 & mask_gga ][\"density maxMNAE\"][\"GRD\"], color=\"C0\", marker=\"x\", label= \"GGA (local)\")\n",
    "ax.scatter(tab_err[mask_r4 & mask_gga ][\"density maxMNAE\"][\"RHO\"], tab_err[mask_r4 & mask_gga ][\"density maxMNAE\"][\"GRD\"], color=\"C1\", marker=\"x\", label= \"GGA (hybrid)\")\n",
    "ax.scatter(tab_err[mask_r5 & mask_gga ][\"density maxMNAE\"][\"RHO\"], tab_err[mask_r5 & mask_gga ][\"density maxMNAE\"][\"GRD\"], color=\"C2\", marker=\"x\", label= \"GGA (hybrid)\")\n",
    "ax.scatter(tab_err[mask_r3 & mask_mgga][\"density maxMNAE\"][\"RHO\"], tab_err[mask_r3 & mask_mgga][\"density maxMNAE\"][\"GRD\"], color=\"C0\", marker=\"+\", label=\"mGGA (local)\")\n",
    "ax.scatter(tab_err[mask_r4 & mask_mgga][\"density maxMNAE\"][\"RHO\"], tab_err[mask_r4 & mask_mgga][\"density maxMNAE\"][\"GRD\"], color=\"C1\", marker=\"+\", label=\"mGGA (hybrid)\")\n",
    "ax.scatter(tab_err[mask_r5 & mask_mgga][\"density maxMNAE\"][\"RHO\"], tab_err[mask_r5 & mask_mgga][\"density maxMNAE\"][\"GRD\"], color=\"C2\", marker=\"+\", label=\"mGGA (hybrid)\")\n",
    "\n",
    "ax.plot([0, tab_err.loc[\"HF\"][\"density maxMNAE\"][\"RHO\"]], tab_err.loc[\"HF\"][\"density maxMNAE\"][[\"RHO\", \"GRD\"]], color=\"C1\", linewidth=0.5, linestyle=\"--\", label=\"HF\")\n",
    "ax.plot(tab_err.loc[\"HF\"][\"density maxMNAE\"][[\"RHO\", \"GRD\"]], [tab_err.loc[\"HF\"][\"density maxMNAE\"][\"GRD\"], 0], color=\"C1\", linewidth=0.5, linestyle=\"--\")\n",
    "\n",
    "ax.plot([0, tab_err.loc[\"MP2\"][\"density maxMNAE\"][\"RHO\"]], tab_err.loc[\"MP2\"][\"density maxMNAE\"][[\"RHO\", \"GRD\"]], color=\"C2\", linewidth=0.5, linestyle=\"--\", label=\"MP2\")\n",
    "ax.plot(tab_err.loc[\"MP2\"][\"density maxMNAE\"][[\"RHO\", \"GRD\"]], [tab_err.loc[\"MP2\"][\"density maxMNAE\"][\"GRD\"], 0], color=\"C2\", linewidth=0.5, linestyle=\"--\")\n",
    "\n",
    "ax.set_yscale(\"log\")\n",
    "ax.set_xscale(\"log\")\n",
    "ax.set_xlim(0.4, 12)\n",
    "ax.set_ylim(0.4, 12)\n",
    "ax.set_aspect(1)\n",
    "\n",
    "ax.legend(loc=\"center left\", bbox_to_anchor=(1.02, 0.5))\n",
    "ax.set_xlabel(\"maxMNAE (RHO)\")\n",
    "ax.set_ylabel(\"maxMNAE (GRD)\")\n",
    "\n",
    "fig.tight_layout()\n",
    "fig.savefig(\"../compare-err-RHO-GRD.pdf\", transparent=True)"
   ]
  },
  {
   "cell_type": "code",
   "execution_count": 163,
   "id": "2cb145cb-3ac0-49a0-bbad-2e6e9421b022",
   "metadata": {},
   "outputs": [
    {
     "data": {
      "image/png": "[encoded data removed]",
      "text/plain": [
       "<Figure size 600x300 with 1 Axes>"
      ]
     },
     "metadata": {},
     "output_type": "display_data"
    }
   ],
   "source": [
    "fig, ax = plt.subplots(figsize=(6, 3))\n",
    "ax.scatter(tab_err[mask_r3 & mask_lda ][\"density maxMNAE\"][\"RHO\"], tab_err[mask_r3 & mask_lda ][\"IP\"][\"MAE\"], color=\"C0\", marker=\"v\", label= \"LDA (local)\")\n",
    "ax.scatter(tab_err[mask_r4 & mask_lda ][\"density maxMNAE\"][\"RHO\"], tab_err[mask_r4 & mask_lda ][\"IP\"][\"MAE\"], color=\"C1\", marker=\"v\", label= \"LDA (hybrid)\")\n",
    "ax.scatter(tab_err[mask_r3 & mask_gga ][\"density maxMNAE\"][\"RHO\"], tab_err[mask_r3 & mask_gga ][\"IP\"][\"MAE\"], color=\"C0\", marker=\"x\", label= \"GGA (local)\")\n",
    "ax.scatter(tab_err[mask_r4 & mask_gga ][\"density maxMNAE\"][\"RHO\"], tab_err[mask_r4 & mask_gga ][\"IP\"][\"MAE\"], color=\"C1\", marker=\"x\", label= \"GGA (hybrid)\")\n",
    "ax.scatter(tab_err[mask_r5 & mask_gga ][\"density maxMNAE\"][\"RHO\"], tab_err[mask_r5 & mask_gga ][\"IP\"][\"MAE\"], color=\"C2\", marker=\"x\", label= \"GGA (hybrid)\")\n",
    "ax.scatter(tab_err[mask_r3 & mask_mgga][\"density maxMNAE\"][\"RHO\"], tab_err[mask_r3 & mask_mgga][\"IP\"][\"MAE\"], color=\"C0\", marker=\"+\", label=\"mGGA (local)\")\n",
    "ax.scatter(tab_err[mask_r4 & mask_mgga][\"density maxMNAE\"][\"RHO\"], tab_err[mask_r4 & mask_mgga][\"IP\"][\"MAE\"], color=\"C1\", marker=\"+\", label=\"mGGA (hybrid)\")\n",
    "ax.scatter(tab_err[mask_r5 & mask_mgga][\"density maxMNAE\"][\"RHO\"], tab_err[mask_r5 & mask_mgga][\"IP\"][\"MAE\"], color=\"C2\", marker=\"+\", label=\"mGGA (hybrid)\")\n",
    "\n",
    "ax.plot([0, tab_err.loc[\"HF\"][\"density maxMNAE\"][\"RHO\"]], tab_err.loc[\"HF\"][[(\"density maxMNAE\", \"RHO\"), (\"IP\", \"MAE\")]], color=\"C1\", linewidth=0.5, linestyle=\"--\", label=\"HF\")\n",
    "ax.plot(tab_err.loc[\"HF\"][[(\"density maxMNAE\", \"RHO\"), (\"IP\", \"MAE\")]], [tab_err.loc[\"HF\"][\"IP\"][\"MAE\"], 0], color=\"C1\", linewidth=0.5, linestyle=\"--\")\n",
    "\n",
    "ax.plot([0, tab_err.loc[\"MP2\"][\"density maxMNAE\"][\"RHO\"]], tab_err.loc[\"MP2\"][[(\"density maxMNAE\", \"RHO\"), (\"IP\", \"MAE\")]], color=\"C2\", linewidth=0.5, linestyle=\"--\", label=\"MP2\")\n",
    "ax.plot(tab_err.loc[\"MP2\"][[(\"density maxMNAE\", \"RHO\"), (\"IP\", \"MAE\")]], [tab_err.loc[\"MP2\"][\"IP\"][\"MAE\"], 0], color=\"C2\", linewidth=0.5, linestyle=\"--\")\n",
    "\n",
    "ax.set_yscale(\"log\")\n",
    "ax.set_xscale(\"log\")\n",
    "ax.set_xlim(0.5, 10)\n",
    "ax.set_ylim(0.08, 10)\n",
    "ax.set_box_aspect(1)\n",
    "\n",
    "ax.legend(loc=\"center left\", bbox_to_anchor=(1.02, 0.5))\n",
    "ax.set_xlabel(\"maxMNAE (RHO)\")\n",
    "ax.set_ylabel(\"MAE (IP) / eV\")\n",
    "\n",
    "fig.tight_layout()\n",
    "# fig.savefig(\"../compare-err-RHO-GRD.pdf\", transparent=True)"
   ]
  },
  {
   "cell_type": "code",
   "execution_count": null,
   "id": "a732e026-1c1d-4c7f-a79f-7bcd723a6a57",
   "metadata": {},
   "outputs": [],
   "source": []
  },
  {
   "cell_type": "code",
   "execution_count": null,
   "id": "84ec9a47-3ead-4d89-aa2c-760a035a956a",
   "metadata": {},
   "outputs": [],
   "source": []
  },
  {
   "cell_type": "code",
   "execution_count": 189,
   "id": "60032c4d-ac37-469d-b464-80393f63f386",
   "metadata": {},
   "outputs": [
    {
     "data": {
      "image/png": "[encoded data removed]",
      "text/plain": [
       "<Figure size 600x300 with 1 Axes>"
      ]
     },
     "metadata": {},
     "output_type": "display_data"
    }
   ],
   "source": [
    "fig, ax = plt.subplots(figsize=(6, 3))\n",
    "ax.scatter(tab_err[mask_r3 & mask_lda ][\"density maxMNAE\"].T.max(), tab_err[mask_r3 & mask_lda ][\"IP\"][\"MAE\"], color=\"C0\", marker=\"v\", label= \"LDA (local)\")\n",
    "ax.scatter(tab_err[mask_r4 & mask_lda ][\"density maxMNAE\"].T.max(), tab_err[mask_r4 & mask_lda ][\"IP\"][\"MAE\"], color=\"C1\", marker=\"v\", label= \"LDA (hybrid)\")\n",
    "ax.scatter(tab_err[mask_r3 & mask_gga ][\"density maxMNAE\"].T.max(), tab_err[mask_r3 & mask_gga ][\"IP\"][\"MAE\"], color=\"C0\", marker=\"x\", label= \"GGA (local)\")\n",
    "ax.scatter(tab_err[mask_r4 & mask_gga ][\"density maxMNAE\"].T.max(), tab_err[mask_r4 & mask_gga ][\"IP\"][\"MAE\"], color=\"C1\", marker=\"x\", label= \"GGA (hybrid)\")\n",
    "ax.scatter(tab_err[mask_r5 & mask_gga ][\"density maxMNAE\"].T.max(), tab_err[mask_r5 & mask_gga ][\"IP\"][\"MAE\"], color=\"C2\", marker=\"x\", label= \"GGA (hybrid)\")\n",
    "ax.scatter(tab_err[mask_r3 & mask_mgga][\"density maxMNAE\"].T.max(), tab_err[mask_r3 & mask_mgga][\"IP\"][\"MAE\"], color=\"C0\", marker=\"+\", label=\"mGGA (local)\")\n",
    "ax.scatter(tab_err[mask_r4 & mask_mgga][\"density maxMNAE\"].T.max(), tab_err[mask_r4 & mask_mgga][\"IP\"][\"MAE\"], color=\"C1\", marker=\"+\", label=\"mGGA (hybrid)\")\n",
    "ax.scatter(tab_err[mask_r5 & mask_mgga][\"density maxMNAE\"].T.max(), tab_err[mask_r5 & mask_mgga][\"IP\"][\"MAE\"], color=\"C2\", marker=\"+\", label=\"mGGA (hybrid)\")\n",
    "\n",
    "ax.plot([0, tab_err.loc[\"HF\"][\"density maxMNAE\"].T.max()], [tab_err.loc[\"HF\"][\"density maxMNAE\"].T.max(), tab_err.loc[\"HF\"][(\"IP\", \"MAE\")]], color=\"C1\", linewidth=0.5, linestyle=\"--\", label=\"HF\")\n",
    "ax.plot([tab_err.loc[\"HF\"][\"density maxMNAE\"].T.max(), tab_err.loc[\"HF\"][(\"IP\", \"MAE\")]], [tab_err.loc[\"HF\"][\"IP\"][\"MAE\"], 0], color=\"C1\", linewidth=0.5, linestyle=\"--\")\n",
    "\n",
    "ax.plot([0, tab_err.loc[\"MP2\"][\"density maxMNAE\"].T.max()], [tab_err.loc[\"MP2\"][\"density maxMNAE\"].T.max(), tab_err.loc[\"MP2\"][(\"IP\", \"MAE\")]], color=\"C2\", linewidth=0.5, linestyle=\"--\", label=\"MP2\")\n",
    "ax.plot([tab_err.loc[\"MP2\"][\"density maxMNAE\"].T.max(), tab_err.loc[\"MP2\"][(\"IP\", \"MAE\")]], [tab_err.loc[\"MP2\"][\"IP\"][\"MAE\"], 0], color=\"C2\", linewidth=0.5, linestyle=\"--\")\n",
    "\n",
    "ax.plot([0, tab_err.loc[\"MP3\"][\"density maxMNAE\"].T.max()], [tab_err.loc[\"MP3\"][\"density maxMNAE\"].T.max(), tab_err.loc[\"MP3\"][(\"IP\", \"MAE\")]], color=\"C3\", linewidth=0.5, linestyle=\"--\", label=\"MP3\")\n",
    "ax.plot([tab_err.loc[\"MP3\"][\"density maxMNAE\"].T.max(), tab_err.loc[\"MP3\"][(\"IP\", \"MAE\")]], [tab_err.loc[\"MP3\"][\"IP\"][\"MAE\"], 0], color=\"C3\", linewidth=0.5, linestyle=\"--\")\n",
    "\n",
    "ax.set_yscale(\"log\")\n",
    "ax.set_xscale(\"log\")\n",
    "ax.set_xlim(0.5, 30)\n",
    "ax.set_ylim(0.08, 10)\n",
    "ax.set_box_aspect(0.7)\n",
    "\n",
    "ax.legend(loc=\"center left\", bbox_to_anchor=(1.02, 0.5))\n",
    "ax.set_xlabel(\"maxMNAE\")\n",
    "ax.set_ylabel(\"MAE (IP) / eV\")\n",
    "\n",
    "fig.tight_layout()\n",
    "fig.savefig(\"../compare-err-maxMNAE-MAEIP.pdf\", transparent=True)"
   ]
  },
  {
   "cell_type": "code",
   "execution_count": null,
   "id": "73fa4ae6-e2a7-446b-baa1-27aabb35b745",
   "metadata": {},
   "outputs": [],
   "source": []
  },
  {
   "cell_type": "code",
   "execution_count": 180,
   "id": "d9b54add-5e76-4858-8de0-cfffad35f52e",
   "metadata": {},
   "outputs": [
    {
     "data": {
      "text/plain": [
       "functional\n",
       "PBELYP       0.121795\n",
       "mPWLYP1w     0.124598\n",
       "PW91LYP      0.131271\n",
       "TPSSLYP1w    0.152020\n",
       "M06-2X       0.232841\n",
       "M08-SO       0.245114\n",
       "B3LYPV1R     0.248670\n",
       "RPBE         0.257088\n",
       "mPW1LYP      0.260684\n",
       "M05          0.265551\n",
       "Name: MAE, dtype: float64"
      ]
     },
     "execution_count": 180,
     "metadata": {},
     "output_type": "execute_result"
    }
   ],
   "source": [
    "tab_err[~mask_wft][\"IP\"][\"MAE\"].sort_values()[:10]"
   ]
  },
  {
   "cell_type": "code",
   "execution_count": 181,
   "id": "8b796383-9d62-4962-a29c-d13ba7e4ebe4",
   "metadata": {},
   "outputs": [
    {
     "data": {
      "text/plain": [
       "functional\n",
       "PBELYP       3.706911\n",
       "mPWLYP1w     3.529048\n",
       "PW91LYP      3.763419\n",
       "TPSSLYP1w    2.934510\n",
       "M06-2X       4.213742\n",
       "M08-SO       4.783833\n",
       "B3LYPV1R     2.108666\n",
       "RPBE         2.451630\n",
       "mPW1LYP      2.068790\n",
       "M05          5.766840\n",
       "dtype: float64"
      ]
     },
     "execution_count": 181,
     "metadata": {},
     "output_type": "execute_result"
    }
   ],
   "source": [
    "tab_err[\"density maxMNAE\"].T.max()[tab_err[~mask_wft][\"IP\"][\"MAE\"].sort_values()[:10].index]"
   ]
  },
  {
   "cell_type": "code",
   "execution_count": 199,
   "id": "a809155e-23ec-49fe-aa3c-21422515b35f",
   "metadata": {},
   "outputs": [
    {
     "data": {
      "text/plain": [
       "functional\n",
       "CCSD           0.000000\n",
       "MP4(SDQ)       0.245539\n",
       "revXYGJ-OS     0.712013\n",
       "XYG6           0.901323\n",
       "xDH-PBE0       0.906552\n",
       "                ...    \n",
       "MN12-L         8.994762\n",
       "MN12-SX       13.004112\n",
       "M11-L         16.267592\n",
       "MN15-L        21.819811\n",
       "MN15          23.795075\n",
       "Length: 178, dtype: float64"
      ]
     },
     "execution_count": 199,
     "metadata": {},
     "output_type": "execute_result"
    }
   ],
   "source": [
    "tab_err[\"density maxMNAE\"].T.max().sort_values()"
   ]
  },
  {
   "cell_type": "code",
   "execution_count": 203,
   "id": "81d0a583-18dd-48d3-8ccc-a13038bd597d",
   "metadata": {},
   "outputs": [
    {
     "data": {
      "text/plain": [
       "functional\n",
       "M06-SX      1.990576\n",
       "Becke       2.178754\n",
       "OPTX        2.214999\n",
       "ωB97        2.258392\n",
       "revM06-L    2.446788\n",
       "M06-L       2.530564\n",
       "HF          2.729346\n",
       "SLYP        2.889052\n",
       "M11-L       2.909092\n",
       "ωB97X       3.130847\n",
       "SPW91       3.292137\n",
       "SOP         3.354008\n",
       "SPBE        3.390582\n",
       "SP86        3.424585\n",
       "N12-SX      3.762895\n",
       "MN12-SX     3.955841\n",
       "MN15-L      4.177324\n",
       "MN12-L      4.412767\n",
       "Slater      4.792929\n",
       "N12         4.841616\n",
       "Name: (IP, MAE), dtype: float64"
      ]
     },
     "execution_count": 203,
     "metadata": {},
     "output_type": "execute_result"
    }
   ],
   "source": [
    "tab_err[(\"IP\", \"MAE\")].T.sort_values()[-20:]"
   ]
  },
  {
   "cell_type": "code",
   "execution_count": null,
   "id": "81726d8a-aad1-4a65-9327-c21b1ad12637",
   "metadata": {},
   "outputs": [],
   "source": []
  },
  {
   "cell_type": "code",
   "execution_count": null,
   "id": "2c6e98d5-5b34-4734-84c2-ffa6e9c26933",
   "metadata": {},
   "outputs": [],
   "source": []
  },
  {
   "cell_type": "code",
   "execution_count": null,
   "id": "c3e38be4-b3aa-4b2c-85ec-04d93caaba5f",
   "metadata": {},
   "outputs": [],
   "source": []
  },
  {
   "cell_type": "code",
   "execution_count": 192,
   "id": "e04d050f-daf7-4836-91e8-161a8742946b",
   "metadata": {},
   "outputs": [
    {
     "data": {
      "text/html": [
       "<div>\n",
       "<style scoped>\n",
       "    .dataframe tbody tr th:only-of-type {\n",
       "        vertical-align: middle;\n",
       "    }\n",
       "\n",
       "    .dataframe tbody tr th {\n",
       "        vertical-align: top;\n",
       "    }\n",
       "\n",
       "    .dataframe thead th {\n",
       "        text-align: right;\n",
       "    }\n",
       "</style>\n",
       "<table border=\"1\" class=\"dataframe\">\n",
       "  <thead>\n",
       "    <tr style=\"text-align: right;\">\n",
       "      <th></th>\n",
       "      <th>RHO</th>\n",
       "      <th>GRD</th>\n",
       "      <th>LR</th>\n",
       "    </tr>\n",
       "    <tr>\n",
       "      <th>functional</th>\n",
       "      <th></th>\n",
       "      <th></th>\n",
       "      <th></th>\n",
       "    </tr>\n",
       "  </thead>\n",
       "  <tbody>\n",
       "    <tr>\n",
       "      <th>CCSD</th>\n",
       "      <td>0.000000</td>\n",
       "      <td>0.000000</td>\n",
       "      <td>0.000000</td>\n",
       "    </tr>\n",
       "    <tr>\n",
       "      <th>MP4(SDQ)</th>\n",
       "      <td>0.245539</td>\n",
       "      <td>0.233093</td>\n",
       "      <td>0.161640</td>\n",
       "    </tr>\n",
       "    <tr>\n",
       "      <th>revXYGJ-OS</th>\n",
       "      <td>0.712013</td>\n",
       "      <td>0.499853</td>\n",
       "      <td>0.320192</td>\n",
       "    </tr>\n",
       "    <tr>\n",
       "      <th>XYG6</th>\n",
       "      <td>0.901323</td>\n",
       "      <td>0.665436</td>\n",
       "      <td>0.444908</td>\n",
       "    </tr>\n",
       "    <tr>\n",
       "      <th>xDH-PBE0</th>\n",
       "      <td>0.906552</td>\n",
       "      <td>0.897644</td>\n",
       "      <td>0.668525</td>\n",
       "    </tr>\n",
       "    <tr>\n",
       "      <th>XYGJ-OS</th>\n",
       "      <td>0.907952</td>\n",
       "      <td>0.733366</td>\n",
       "      <td>0.674218</td>\n",
       "    </tr>\n",
       "    <tr>\n",
       "      <th>XYG5</th>\n",
       "      <td>0.923516</td>\n",
       "      <td>0.802816</td>\n",
       "      <td>0.519950</td>\n",
       "    </tr>\n",
       "    <tr>\n",
       "      <th>MP3</th>\n",
       "      <td>0.881324</td>\n",
       "      <td>0.967352</td>\n",
       "      <td>0.718420</td>\n",
       "    </tr>\n",
       "    <tr>\n",
       "      <th>XYGJ-OS5</th>\n",
       "      <td>0.771090</td>\n",
       "      <td>0.995833</td>\n",
       "      <td>1.032277</td>\n",
       "    </tr>\n",
       "    <tr>\n",
       "      <th>revXYG3</th>\n",
       "      <td>1.047561</td>\n",
       "      <td>1.112786</td>\n",
       "      <td>0.876250</td>\n",
       "    </tr>\n",
       "  </tbody>\n",
       "</table>\n",
       "</div>"
      ],
      "text/plain": [
       "                 RHO       GRD        LR\n",
       "functional                              \n",
       "CCSD        0.000000  0.000000  0.000000\n",
       "MP4(SDQ)    0.245539  0.233093  0.161640\n",
       "revXYGJ-OS  0.712013  0.499853  0.320192\n",
       "XYG6        0.901323  0.665436  0.444908\n",
       "xDH-PBE0    0.906552  0.897644  0.668525\n",
       "XYGJ-OS     0.907952  0.733366  0.674218\n",
       "XYG5        0.923516  0.802816  0.519950\n",
       "MP3         0.881324  0.967352  0.718420\n",
       "XYGJ-OS5    0.771090  0.995833  1.032277\n",
       "revXYG3     1.047561  1.112786  0.876250"
      ]
     },
     "execution_count": 192,
     "metadata": {},
     "output_type": "execute_result"
    }
   ],
   "source": [
    "tab_err[\"density maxMNAE\"].T[tab_err[\"density maxMNAE\"].T.max().sort_values()[:10].index].T"
   ]
  },
  {
   "cell_type": "code",
   "execution_count": null,
   "id": "26419477-3b9a-42a1-964a-9125b57ae8a6",
   "metadata": {},
   "outputs": [],
   "source": []
  },
  {
   "cell_type": "code",
   "execution_count": null,
   "id": "c1cf94b8-8c18-48ad-9ccd-417191d744c4",
   "metadata": {},
   "outputs": [],
   "source": []
  },
  {
   "cell_type": "code",
   "execution_count": null,
   "id": "2ebbc619-a9da-4dfa-81d0-1604a895f79b",
   "metadata": {},
   "outputs": [],
   "source": []
  },
  {
   "cell_type": "code",
   "execution_count": 114,
   "id": "e298efac-17f5-4215-8450-94c25f680c37",
   "metadata": {},
   "outputs": [
    {
     "data": {
      "image/png": "[encoded data removed]",
      "text/plain": [
       "<Figure size 640x480 with 1 Axes>"
      ]
     },
     "metadata": {},
     "output_type": "display_data"
    }
   ],
   "source": [
    "fig, ax = plt.subplots()\n",
    "ax.scatter(tab_err[mask_r3][\"density maxMNAE\"].T.max(), tab_err[mask_r3][(\"IP\", \"MAE\")])\n",
    "ax.scatter(tab_err[mask_r4][\"density maxMNAE\"].T.max(), tab_err[mask_r4][(\"IP\", \"MAE\")])\n",
    "ax.scatter(tab_err[mask_r5][\"density maxMNAE\"].T.max(), tab_err[mask_r5][(\"IP\", \"MAE\")])\n",
    "ax.set_yscale(\"log\")\n",
    "ax.set_xscale(\"log\")"
   ]
  },
  {
   "cell_type": "code",
   "execution_count": null,
   "id": "59e967ab-26a6-4a21-8ebb-84e7ba9bded7",
   "metadata": {},
   "outputs": [],
   "source": []
  },
  {
   "cell_type": "code",
   "execution_count": null,
   "id": "156291c6-d875-46dc-ba52-ec28e84e405a",
   "metadata": {},
   "outputs": [],
   "source": []
  },
  {
   "cell_type": "code",
   "execution_count": null,
   "id": "26dd57f9-6df0-4690-9125-7f3c187e0ce9",
   "metadata": {},
   "outputs": [],
   "source": []
  },
  {
   "cell_type": "code",
   "execution_count": 97,
   "id": "2c146dd9-c562-4a3a-964a-8b8e9af696c1",
   "metadata": {},
   "outputs": [
    {
     "data": {
      "text/html": [
       "<div>\n",
       "<style scoped>\n",
       "    .dataframe tbody tr th:only-of-type {\n",
       "        vertical-align: middle;\n",
       "    }\n",
       "\n",
       "    .dataframe tbody tr th {\n",
       "        vertical-align: top;\n",
       "    }\n",
       "\n",
       "    .dataframe thead th {\n",
       "        text-align: right;\n",
       "    }\n",
       "</style>\n",
       "<table border=\"1\" class=\"dataframe\">\n",
       "  <thead>\n",
       "    <tr style=\"text-align: right;\">\n",
       "      <th></th>\n",
       "      <th>RHO</th>\n",
       "      <th>GRD</th>\n",
       "      <th>LR</th>\n",
       "    </tr>\n",
       "    <tr>\n",
       "      <th>functional</th>\n",
       "      <th></th>\n",
       "      <th></th>\n",
       "      <th></th>\n",
       "    </tr>\n",
       "  </thead>\n",
       "  <tbody>\n",
       "    <tr>\n",
       "      <th>OVWN</th>\n",
       "      <td>1</td>\n",
       "      <td>52</td>\n",
       "      <td>23</td>\n",
       "    </tr>\n",
       "    <tr>\n",
       "      <th>OPZ81</th>\n",
       "      <td>2</td>\n",
       "      <td>53</td>\n",
       "      <td>24</td>\n",
       "    </tr>\n",
       "    <tr>\n",
       "      <th>OLYP</th>\n",
       "      <td>3</td>\n",
       "      <td>40</td>\n",
       "      <td>11</td>\n",
       "    </tr>\n",
       "    <tr>\n",
       "      <th>TPSSm</th>\n",
       "      <td>4</td>\n",
       "      <td>28</td>\n",
       "      <td>5</td>\n",
       "    </tr>\n",
       "    <tr>\n",
       "      <th>OVWN1RPA</th>\n",
       "      <td>5</td>\n",
       "      <td>54</td>\n",
       "      <td>25</td>\n",
       "    </tr>\n",
       "    <tr>\n",
       "      <th>MS2</th>\n",
       "      <td>6</td>\n",
       "      <td>42</td>\n",
       "      <td>21</td>\n",
       "    </tr>\n",
       "    <tr>\n",
       "      <th>TPSS</th>\n",
       "      <td>7</td>\n",
       "      <td>22</td>\n",
       "      <td>4</td>\n",
       "    </tr>\n",
       "    <tr>\n",
       "      <th>OPTX</th>\n",
       "      <td>8</td>\n",
       "      <td>45</td>\n",
       "      <td>9</td>\n",
       "    </tr>\n",
       "    <tr>\n",
       "      <th>revTPSS</th>\n",
       "      <td>9</td>\n",
       "      <td>23</td>\n",
       "      <td>3</td>\n",
       "    </tr>\n",
       "    <tr>\n",
       "      <th>PKZB</th>\n",
       "      <td>10</td>\n",
       "      <td>48</td>\n",
       "      <td>20</td>\n",
       "    </tr>\n",
       "  </tbody>\n",
       "</table>\n",
       "</div>"
      ],
      "text/plain": [
       "            RHO  GRD  LR\n",
       "functional              \n",
       "OVWN          1   52  23\n",
       "OPZ81         2   53  24\n",
       "OLYP          3   40  11\n",
       "TPSSm         4   28   5\n",
       "OVWN1RPA      5   54  25\n",
       "MS2           6   42  21\n",
       "TPSS          7   22   4\n",
       "OPTX          8   45   9\n",
       "revTPSS       9   23   3\n",
       "PKZB         10   48  20"
      ]
     },
     "execution_count": 97,
     "metadata": {},
     "output_type": "execute_result"
    }
   ],
   "source": [
    "tab_err[mask_r3][\"density maxMNAE\"].rank().astype(int).sort_values(\"RHO\")[:10]"
   ]
  },
  {
   "cell_type": "code",
   "execution_count": 102,
   "id": "963e4853-936b-49bf-95f7-140d9bab0f85",
   "metadata": {},
   "outputs": [
    {
     "data": {
      "text/plain": [
       "functional\n",
       "HCTH407     8.666667\n",
       "MOHLYP      9.666667\n",
       "TPSS       11.000000\n",
       "revTPSS    11.666667\n",
       "TPSSm      12.333333\n",
       "OLYP       18.000000\n",
       "EDF1       19.000000\n",
       "RSCAN      19.666667\n",
       "r++SCAN    20.333333\n",
       "PBE        20.666667\n",
       "OPTX       20.666667\n",
       "BPBE       21.333333\n",
       "R2SCAN     22.333333\n",
       "PBEPW91    22.333333\n",
       "PW91PBE    22.666667\n",
       "dtype: float64"
      ]
     },
     "execution_count": 102,
     "metadata": {},
     "output_type": "execute_result"
    }
   ],
   "source": [
    "tab_err[mask_r3][\"density maxMNAE\"].rank().astype(int).T.mean().sort_values()[:15]"
   ]
  },
  {
   "cell_type": "code",
   "execution_count": 105,
   "id": "eda40eac-6922-4bf7-8d54-f78360ca1529",
   "metadata": {},
   "outputs": [
    {
     "data": {
      "text/plain": [
       "functional\n",
       "revXYGJ-OS           1.000000\n",
       "XYG6                 2.333333\n",
       "xDH-PBE0             4.333333\n",
       "XYGJ-OS              4.333333\n",
       "XYG5                 4.333333\n",
       "XYGJ-OS5             5.666667\n",
       "revXYG3              6.666667\n",
       "lrc-XYG3             8.000000\n",
       "XYG3                 8.333333\n",
       "DSD-PBEPBE-D3BJ     11.333333\n",
       "DSD-PBEB95-D3BJ     14.666667\n",
       "DSD-BLYP-D3BJ       16.666667\n",
       "DSD-PBEP86-D3BJ     17.000000\n",
       "SOS0-PBE-QIDH       18.666667\n",
       "SOS-RSX-PBE-QIDH    20.666667\n",
       "dtype: float64"
      ]
     },
     "execution_count": 105,
     "metadata": {},
     "output_type": "execute_result"
    }
   ],
   "source": [
    "tab_err[~mask_wft][\"density maxMNAE\"].rank().astype(int).T.mean().sort_values()[:15]"
   ]
  },
  {
   "cell_type": "code",
   "execution_count": null,
   "id": "2cbc9c0d-956b-4cfe-bf14-07c97a59c4a0",
   "metadata": {},
   "outputs": [],
   "source": []
  },
  {
   "cell_type": "code",
   "execution_count": null,
   "id": "d0a793a0-cd48-4f7f-b804-1e40e87d4767",
   "metadata": {},
   "outputs": [],
   "source": []
  },
  {
   "cell_type": "code",
   "execution_count": null,
   "id": "b8198d6b-7ecf-43c9-a739-9f395e28776b",
   "metadata": {},
   "outputs": [],
   "source": []
  },
  {
   "cell_type": "code",
   "execution_count": null,
   "id": "23060c53-3787-4bda-8e23-8cba73df36e8",
   "metadata": {},
   "outputs": [],
   "source": []
  },
  {
   "cell_type": "code",
   "execution_count": null,
   "id": "74020542-8198-4191-b5ab-92caddfd9488",
   "metadata": {},
   "outputs": [],
   "source": []
  },
  {
   "cell_type": "code",
   "execution_count": null,
   "id": "4e170da1-780c-476b-8f3a-677a67e416bf",
   "metadata": {},
   "outputs": [],
   "source": []
  },
  {
   "cell_type": "code",
   "execution_count": null,
   "id": "f7bed105-fe62-49ea-a9f7-92d1bc7cf954",
   "metadata": {},
   "outputs": [],
   "source": []
  },
  {
   "cell_type": "code",
   "execution_count": null,
   "id": "9f4e6f0b-da88-4ae6-9497-b040852404c9",
   "metadata": {},
   "outputs": [],
   "source": []
  },
  {
   "cell_type": "code",
   "execution_count": null,
   "id": "68e5cc5f-b056-4bdd-8b1b-31b4668cf30d",
   "metadata": {},
   "outputs": [],
   "source": []
  },
  {
   "cell_type": "code",
   "execution_count": null,
   "id": "8be56cd4-f3e6-48cd-9f4e-45fefc33d5cd",
   "metadata": {},
   "outputs": [],
   "source": []
  }
 ],
 "metadata": {
  "kernelspec": {
   "display_name": "Python 3 (ipykernel)",
   "language": "python",
   "name": "python3"
  },
  "language_info": {
   "codemirror_mode": {
    "name": "ipython",
    "version": 3
   },
   "file_extension": ".py",
   "mimetype": "text/x-python",
   "name": "python",
   "nbconvert_exporter": "python",
   "pygments_lexer": "ipython3",
   "version": "3.10.13"
  }
 },
 "nbformat": 4,
 "nbformat_minor": 5
}
