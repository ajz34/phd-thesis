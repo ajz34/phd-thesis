{
 "cells": [
  {
   "cell_type": "code",
   "execution_count": 20,
   "id": "b2009ec1-0319-4e24-918b-072c3b11de10",
   "metadata": {},
   "outputs": [],
   "source": [
    "import numpy as np\n",
    "import pandas as pd\n",
    "import scipy\n",
    "from util import (BOHR, read_mat, read_comp, get_iso, get_aniso, read_by_prompt, get_df_err, get_rmsre_3comp, get_relrmsd_3comp)\n",
    "import itertools\n",
    "import warnings\n",
    "import basis_set_exchange as bse\n",
    "from functools import partial\n",
    "import copy\n",
    "\n",
    "warnings.filterwarnings(\"ignore\")\n",
    "np.set_printoptions(8, suppress=True, linewidth=150)\n",
    "pd.set_option('display.max_rows', None)\n",
    "pd.set_option(\"display.precision\", 3)\n",
    "pd.set_option(\"float_format\", '{:.3f}'.format)"
   ]
  },
  {
   "cell_type": "code",
   "execution_count": 21,
   "id": "213c5a61-fbf9-41f9-ad16-caa406c131aa",
   "metadata": {},
   "outputs": [],
   "source": [
    "from pyscf import dft"
   ]
  },
  {
   "cell_type": "code",
   "execution_count": 6,
   "id": "c056cfc4-3052-447e-bdcc-2bd56232fc8b",
   "metadata": {},
   "outputs": [],
   "source": [
    "import matplotlib.pyplot as plt\n",
    "from matplotlib_inline.backend_inline import set_matplotlib_formats\n",
    "%matplotlib inline\n",
    "\n",
    "set_matplotlib_formats('svg')"
   ]
  },
  {
   "cell_type": "code",
   "execution_count": 7,
   "id": "b29d0caf-5255-4c8a-b6c5-441c16778b88",
   "metadata": {},
   "outputs": [],
   "source": [
    "def get_df_iso(df):\n",
    "    xx, yy, zz = df[\"xx\"], df[\"yy\"], df[\"zz\"]\n",
    "    return 1 / 3 * (xx + yy + zz)\n",
    "\n",
    "def get_df_aniso(df):\n",
    "    xx, yy, zz, xy, yz, zx = df[\"xx\"], df[\"yy\"], df[\"zz\"], df[\"xy\"], df[\"yz\"], df[\"zx\"]\n",
    "    return np.sqrt(0.5) * ((xx - yy)**2 + (yy - zz)**2 + (zz - xx)**2 + 6 * (xy**2 + yz**2 + zx**2))**0.5"
   ]
  },
  {
   "cell_type": "markdown",
   "id": "33247bc9-7fb5-4020-aa0b-71d6fa16be8d",
   "metadata": {},
   "source": [
    "## 读取基本数据"
   ]
  },
  {
   "cell_type": "code",
   "execution_count": 8,
   "id": "229d7634-a8dc-470b-b0e2-753981be6954",
   "metadata": {},
   "outputs": [],
   "source": [
    "df_bench_iso = pd.read_csv(\"result-iso.csv\", index_col=[0, 1], header=[0, 1])\n",
    "df_bench_aniso = pd.read_csv(\"result-aniso.csv\", index_col=[0, 1], header=[0, 1])\n",
    "df_bench_comp = pd.read_csv(\"result-comp.csv\", index_col=[0, 1], header=[0, 1, 2])"
   ]
  },
  {
   "cell_type": "code",
   "execution_count": 9,
   "id": "28f56289-b1a3-4789-a62c-4fc6e97f9d24",
   "metadata": {},
   "outputs": [],
   "source": [
    "df_xdh_raw = pd.read_csv(\"raw_data/xdh-b3lyp_components.csv\", index_col=[0, 1], header=[0, 1])\n",
    "df_xdh_raw.index = pd.MultiIndex.from_tuples([((l[0], l[1].replace(\"_\", \"-\")) if l[0] == \"HR46\" else (l[0], f\"{int(l[1]):04d}\") if l[0] == \"T145\" else l) for l in df_xdh_raw.index])"
   ]
  },
  {
   "cell_type": "code",
   "execution_count": 10,
   "id": "56bafc41-f9ec-431a-9c1b-7141cf5b9b28",
   "metadata": {},
   "outputs": [],
   "source": [
    "df_xdh = pd.DataFrame(index=df_bench_iso.index, columns=df_xdh_raw.columns)\n",
    "\n",
    "for dataset, dataset_origin in [(\"HH101 (NSP)\", \"HH118\"), (\"HH101 (SP)\", \"HH118\"), (\"HR46\", \"HR46\"), (\"T144\", \"T145\")]:\n",
    "    for mol in df_xdh.loc[dataset].index:\n",
    "        df_xdh.loc[(dataset, mol)] = df_xdh_raw.loc[(dataset_origin, mol)]"
   ]
  },
  {
   "cell_type": "code",
   "execution_count": 11,
   "id": "0175076f-b76f-4931-9974-cdcdf583f224",
   "metadata": {},
   "outputs": [],
   "source": [
    "components = [l[0] for l in df_xdh_raw.columns if l[1] == \"xx\"]\n",
    "# I forgot to exchange FH-OH and H2O-Li xx<->zz\n",
    "for comp in components:\n",
    "    for idx in [(\"HH101 (SP)\", \"FH-OH\"), (\"HH101 (SP)\", \"H2O-Li\")]:\n",
    "        xx, zz = df_xdh.loc[idx, [(comp, \"xx\"), (comp, \"zz\")]]\n",
    "        df_xdh.loc[idx, (comp, \"zz\")] = xx\n",
    "        df_xdh.loc[idx, (comp, \"xx\")] = zz"
   ]
  },
  {
   "cell_type": "code",
   "execution_count": 12,
   "id": "f394ea29-d282-46b1-8bf5-4c4540d8454e",
   "metadata": {},
   "outputs": [],
   "source": [
    "### IMPORTANT ###\n",
    "# data of following should be changed when more DH functionals included.\n",
    "\n",
    "df_res_wt = pd.Series(\n",
    "    index=pd.MultiIndex.from_tuples(\n",
    "          [(\"isotropic\", dat) for dat in (\"HR46\", \"T144\", \"HH101 (NSP)\", \"HH101 (SP)\")]\n",
    "        + [(\"anisotropic\", dat) for dat in (\"HR46\", \"T144\")]\n",
    "        + [(\"components\", dat) for dat in (\"HH101 (NSP)\", \"HH101 (SP)\")]),\n",
    "    data=[\n",
    "        0.061837091690685, 0.054878115055414, 0.038215111754263, 0.032692374803261,\n",
    "        0.024584977413508, 0.025091475490632, 0.037099844927297, 0.029890098744748]\n",
    ")"
   ]
  },
  {
   "cell_type": "markdown",
   "id": "156ae15c-8d46-40a4-b329-5d9b22b28299",
   "metadata": {},
   "source": [
    "## 处理基本数据"
   ]
  },
  {
   "cell_type": "code",
   "execution_count": 13,
   "id": "5473b904-1caa-4813-a1c8-35fdc8ad9743",
   "metadata": {},
   "outputs": [],
   "source": [
    "para_xyg3 = {\n",
    "    \"noxc\": 1,\n",
    "    \"HF\": 0.8033,\n",
    "    \"LDA_X\": -0.0140,\n",
    "    \"GGA_X_B88\": 0.2107,\n",
    "    \"LDA_C_VWN_RPA\": 0,\n",
    "    \"GGA_C_LYP\": 0.6789,\n",
    "    \"MP2_OS\": 0.3211,\n",
    "    \"MP2_SS\": 0.3211,\n",
    "}"
   ]
  },
  {
   "cell_type": "code",
   "execution_count": 14,
   "id": "59be3e1e-d1af-4b68-bd65-7acc2f232e42",
   "metadata": {},
   "outputs": [],
   "source": [
    "def get_pol_by_para(df, para):\n",
    "    return sum([val * df[key] for (key, val) in para.items()])\n",
    "\n",
    "def get_wtmad_by_para(para):\n",
    "    df_err = pd.Series(index=pd.MultiIndex.from_tuples(list(df_res_wt.index) + [(\"wtmad\", \"wtmad\")]))\n",
    "    df_pol = get_pol_by_para(df_xdh, para)\n",
    "    \n",
    "    for dat in df_err[\"isotropic\"].index:\n",
    "        df_err[(\"isotropic\", dat)] = get_df_err(get_df_iso(df_pol.loc[dat]), df_bench_iso.loc[dat, (\"WFT\", \"CCSD(T)\")])[\"RelRMSD/%\"]\n",
    "    for dat in df_err[\"anisotropic\"].index:\n",
    "        df_err[(\"anisotropic\", dat)] = get_df_err(get_df_aniso(df_pol.loc[dat]), df_bench_aniso.loc[dat, (\"WFT\", \"CCSD(T)\")])[\"RelRMSD/%\"]\n",
    "    for dat in df_err[\"components\"].index:\n",
    "        df_err[(\"components\", dat)] = get_relrmsd_3comp(get_df_err(\n",
    "            df_pol.loc[dat][[\"xx\", \"yy\", \"zz\"]], df_bench_comp.loc[dat, (\"WFT\", \"CCSD(T)\")][[\"xx\", \"yy\", \"zz\"]]))\n",
    "    df_err.loc[(\"wtmad\", \"wtmad\")] = (df_err * df_res_wt).sum()\n",
    "    return df_err"
   ]
  },
  {
   "cell_type": "code",
   "execution_count": 15,
   "id": "6f38aed5-d8d3-49d3-a845-f3e9b6f339aa",
   "metadata": {},
   "outputs": [
    {
     "data": {
      "text/plain": [
       "isotropic    HR46          1.083\n",
       "             T144          1.385\n",
       "             HH101 (NSP)   1.345\n",
       "             HH101 (SP)    2.047\n",
       "anisotropic  HR46          2.513\n",
       "             T144          3.141\n",
       "components   HH101 (NSP)   1.456\n",
       "             HH101 (SP)    2.272\n",
       "wtmad        wtmad         0.524\n",
       "dtype: float64"
      ]
     },
     "execution_count": 15,
     "metadata": {},
     "output_type": "execute_result"
    }
   ],
   "source": [
    "get_wtmad_by_para(para_xyg3)"
   ]
  },
  {
   "cell_type": "markdown",
   "id": "90a704f9-9858-43ec-8ff4-3897f451edf5",
   "metadata": {},
   "source": [
    "## 优化模块"
   ]
  },
  {
   "cell_type": "code",
   "execution_count": 68,
   "id": "8c59732a-9616-459f-b2c9-723abb728ab5",
   "metadata": {},
   "outputs": [],
   "source": [
    "def para_opt(func, v0):\n",
    "    v = np.array(v0).copy()\n",
    "    v_min = None\n",
    "    fun_min = 100000\n",
    "    res = None\n",
    "    for seed in range(20):\n",
    "        np.random.seed(seed)\n",
    "        if res is not None:\n",
    "            v = res.x + (np.random.random(len(v)) - 0.5)\n",
    "        res = scipy.optimize.minimize(func, v, method=\"L-BFGS-B\", options={\"gtol\": 1e-5})\n",
    "        print((\"{:10.6f}\" * len(res.x)).format(*res.x), \"|\", \"{:10.6f}\".format(res.fun), \"|\", res.success)\n",
    "        if res.fun < fun_min:\n",
    "            fun_min = res.fun\n",
    "            v_min = res.x\n",
    "    print((\"{:10.6f}\" * len(res.x)).format(*res.x), \"|\", \"{:10.6f}\".format(res.fun), \"|\", \"Final\")\n",
    "    func(v_min, verbose=True)"
   ]
  },
  {
   "cell_type": "markdown",
   "id": "ed9bec26-e1b4-44d4-9382-d94d7e1b3b81",
   "metadata": {},
   "source": [
    "## 优化"
   ]
  },
  {
   "cell_type": "markdown",
   "id": "aebef4f9-a144-4b9a-aaa3-d97586371cbc",
   "metadata": {},
   "source": [
    "### B3LYP"
   ]
  },
  {
   "cell_type": "code",
   "execution_count": 69,
   "id": "7d5f7519-52f2-4201-9498-c09075dba785",
   "metadata": {},
   "outputs": [],
   "source": [
    "def get_b3lyp_rpa_wtmad_by_arr(v, verbose=False):\n",
    "    # [0.2, 0.08, 0.19]\n",
    "    para = {\n",
    "        \"noxc\": 1,\n",
    "        \"HF\": v[0],\n",
    "        \"LDA_X\": v[1],\n",
    "        \"GGA_X_B88\": 1 - v[0] - v[1],\n",
    "        \"LDA_C_VWN_RPA\": v[2],\n",
    "        \"GGA_C_LYP\": 1 - v[2],\n",
    "    }\n",
    "    df_err = get_wtmad_by_para(para)\n",
    "    if verbose:\n",
    "        print((\"{:12.6f}\" * 3).format(*np.array(v)), \"|\", (\"{:12.6f}\" * 9).format(*np.array(df_err)))\n",
    "    return df_err[-1]"
   ]
  },
  {
   "cell_type": "code",
   "execution_count": 70,
   "id": "a317e2ce-43fe-4e8a-b447-ee32e9b2fb79",
   "metadata": {},
   "outputs": [
    {
     "name": "stdout",
     "output_type": "stream",
     "text": [
      "  0.330646  0.113675  0.741727 |   0.883752 | True\n",
      "  0.330646  0.113679  0.741733 |   0.883752 | True\n",
      "  0.330647  0.113676  0.741724 |   0.883752 | True\n",
      "  0.330647  0.113678  0.741725 |   0.883752 | True\n",
      "  0.330647  0.113686  0.741730 |   0.883752 | True\n",
      "  0.330647  0.113678  0.741727 |   0.883752 | True\n",
      "  0.330647  0.113677  0.741723 |   0.883752 | True\n",
      "  0.330651  0.113672  0.741695 |   0.883752 | True\n",
      "  0.330647  0.113678  0.741724 |   0.883752 | True\n",
      "  0.330655  0.113634  0.741644 |   0.883752 | True\n",
      "  0.330647  0.113676  0.741725 |   0.883752 | True\n",
      "  0.330647  0.113681  0.741727 |   0.883752 | True\n",
      "  0.330647  0.113676  0.741725 |   0.883752 | True\n",
      "  0.330649  0.113677  0.741715 |   0.883752 | True\n",
      "  0.330649  0.113686  0.741713 |   0.883752 | True\n",
      "  0.330647  0.113677  0.741723 |   0.883752 | True\n",
      "  0.330647  0.113671  0.741718 |   0.883752 | True\n",
      "  0.330647  0.113677  0.741724 |   0.883752 | True\n",
      "  0.330647  0.113676  0.741726 |   0.883752 | True\n",
      "  0.330647  0.113677  0.741724 |   0.883752 | True\n",
      "  0.330647  0.113677  0.741724 |   0.883752 | Final\n",
      "    0.330647    0.113677    0.741724 |     1.365399    2.101874    2.306828    3.576636    5.201311    6.006971    2.397889    3.724622    0.883752\n"
     ]
    }
   ],
   "source": [
    "para_opt(get_b3lyp_rpa_wtmad_by_arr, [0.2, 0.08, 0.19])"
   ]
  },
  {
   "cell_type": "code",
   "execution_count": null,
   "id": "e1e04aaa-0610-4f98-9ad9-4aae1564a570",
   "metadata": {},
   "outputs": [],
   "source": [
    "1.365399    2.101874    2.306828    3.576636    5.201311    6.006971    2.397889    3.724622    0.883752"
   ]
  },
  {
   "cell_type": "markdown",
   "id": "d786e3bc-ba50-4647-8a62-06ad3e0cf9ca",
   "metadata": {},
   "source": [
    "### XYG3"
   ]
  },
  {
   "cell_type": "code",
   "execution_count": 72,
   "id": "4780998b-5077-4387-b914-26b8e4bb5b20",
   "metadata": {},
   "outputs": [],
   "source": [
    "def get_xyg3_wtmad_by_arr(v, verbose=False):\n",
    "    # [0.8033, -0.0140, 0.3211]\n",
    "    para = {\n",
    "        \"noxc\": 1,\n",
    "        \"HF\": v[0],\n",
    "        \"LDA_X\": 1 - v[0] - v[1],\n",
    "        \"GGA_X_B88\": v[1],\n",
    "        \"LDA_C_VWN_RPA\": 0,\n",
    "        \"GGA_C_LYP\": 1 - v[2],\n",
    "        \"MP2_OS\": v[2],\n",
    "        \"MP2_SS\": v[2],\n",
    "    }\n",
    "    df_err = get_wtmad_by_para(para)\n",
    "    if verbose:\n",
    "        print((\"{:12.6f}\" * 3).format(*np.array(v)), \"|\", (\"{:12.6f}\" * 9).format(*np.array(df_err)))\n",
    "    return df_err[-1]"
   ]
  },
  {
   "cell_type": "code",
   "execution_count": 73,
   "id": "d203b659-5868-47a2-bb86-67aac8c504fb",
   "metadata": {},
   "outputs": [
    {
     "name": "stdout",
     "output_type": "stream",
     "text": [
      "  0.887385 -0.185307  0.340747 |   0.471308 | True\n",
      "  0.887385 -0.185309  0.340748 |   0.471308 | True\n",
      "  0.887385 -0.185309  0.340748 |   0.471308 | True\n",
      "  0.887385 -0.185309  0.340748 |   0.471308 | True\n",
      "  0.887385 -0.185309  0.340748 |   0.471308 | True\n",
      "  0.887388 -0.185333  0.340748 |   0.471308 | True\n",
      "  0.887385 -0.185308  0.340748 |   0.471308 | True\n",
      "  0.887385 -0.185310  0.340748 |   0.471308 | True\n",
      "  0.887385 -0.185309  0.340748 |   0.471308 | True\n",
      "  0.887385 -0.185309  0.340748 |   0.471308 | True\n",
      "  0.887384 -0.185306  0.340748 |   0.471308 | True\n",
      "  0.887384 -0.185306  0.340748 |   0.471308 | True\n",
      "  0.887385 -0.185310  0.340748 |   0.471308 | True\n",
      "  0.887385 -0.185309  0.340748 |   0.471308 | True\n",
      "  0.887381 -0.185322  0.340744 |   0.471308 | True\n",
      "  0.887387 -0.185308  0.340750 |   0.471308 | True\n",
      "  0.887391 -0.185332  0.340751 |   0.471308 | True\n",
      "  0.887383 -0.185305  0.340747 |   0.471308 | True\n",
      "  0.887382 -0.185302  0.340746 |   0.471308 | True\n",
      "  0.887386 -0.185311  0.340749 |   0.471308 | True\n",
      "  0.887386 -0.185311  0.340749 |   0.471308 | Final\n",
      "    0.887385   -0.185309    0.340748 |     0.925747    1.004269    1.340628    2.158047    2.184972    2.342528    1.430788    2.395073    0.471308\n"
     ]
    }
   ],
   "source": [
    "v0 = [0.8033, 0.2107, 0.3211]\n",
    "para_opt(get_xyg3_wtmad_by_arr, v0)"
   ]
  },
  {
   "cell_type": "code",
   "execution_count": null,
   "id": "660dfae8-86df-4b94-8fc3-5d74a3c5584c",
   "metadata": {},
   "outputs": [],
   "source": []
  },
  {
   "cell_type": "markdown",
   "id": "c79176b0-a947-4511-a253-b4e0d92ccb53",
   "metadata": {},
   "source": [
    "### XYG5"
   ]
  },
  {
   "cell_type": "code",
   "execution_count": 78,
   "id": "d8f858d8-e3a3-4323-b86f-eee68293b59e",
   "metadata": {},
   "outputs": [],
   "source": [
    "def get_xyg5_wtmad_by_arr(v, verbose=False):\n",
    "    # [0.9150, 0.0238, 0.4957, 0.4548, 0.2764]\n",
    "    para = {\n",
    "        \"noxc\": 1,\n",
    "        \"HF\": v[0],\n",
    "        \"LDA_X\": 1 - v[0] - v[1],\n",
    "        \"GGA_X_B88\": v[1],\n",
    "        \"LDA_C_VWN_RPA\": 0,\n",
    "        \"GGA_C_LYP\": v[2],\n",
    "        \"MP2_OS\": v[3],\n",
    "        \"MP2_SS\": v[4],\n",
    "    }\n",
    "    df_err = get_wtmad_by_para(para)\n",
    "    if verbose:\n",
    "        print((\"{:12.6f}\" * 3).format(*np.array(v)), \"|\", (\"{:12.6f}\" * 9).format(*np.array(df_err)))\n",
    "    return df_err[-1]"
   ]
  },
  {
   "cell_type": "code",
   "execution_count": 75,
   "id": "7a25eab2-25f7-4ef9-8490-712e42292662",
   "metadata": {},
   "outputs": [
    {
     "name": "stdout",
     "output_type": "stream",
     "text": [
      "  0.843480 -0.075137  0.615211  0.408184  0.115199 |   0.388153 | True\n",
      "  0.843482 -0.075140  0.615207  0.408185  0.115201 |   0.388153 | True\n",
      "  0.843477 -0.075129  0.615212  0.408183  0.115196 |   0.388153 | True\n",
      "  0.843480 -0.075136  0.615210  0.408184  0.115199 |   0.388153 | True\n",
      "  0.843481 -0.075142  0.615208  0.408185  0.115199 |   0.388153 | True\n",
      "  0.843479 -0.075137  0.615212  0.408184  0.115198 |   0.388153 | True\n",
      "  0.843475 -0.075116  0.615220  0.408182  0.115198 |   0.388153 | True\n",
      "  0.843480 -0.075136  0.615211  0.408184  0.115199 |   0.388153 | True\n",
      "  0.843479 -0.075135  0.615212  0.408184  0.115198 |   0.388153 | True\n",
      "  0.843479 -0.075137  0.615209  0.408179  0.115205 |   0.388153 | True\n",
      "  0.843479 -0.075136  0.615212  0.408184  0.115199 |   0.388153 | True\n",
      "  0.843480 -0.075136  0.615210  0.408184  0.115199 |   0.388153 | True\n",
      "  0.843480 -0.075136  0.615211  0.408184  0.115199 |   0.388153 | True\n",
      "  0.843479 -0.075132  0.615212  0.408184  0.115199 |   0.388153 | True\n",
      "  0.843484 -0.075144  0.615200  0.408184  0.115204 |   0.388153 | True\n",
      "  0.843484 -0.075142  0.615202  0.408185  0.115204 |   0.388153 | True\n",
      "  0.843477 -0.075132  0.615216  0.408183  0.115197 |   0.388153 | True\n",
      "  0.843481 -0.075133  0.615209  0.408186  0.115199 |   0.388153 | True\n",
      "  0.843480 -0.075136  0.615209  0.408184  0.115199 |   0.388153 | True\n",
      "  0.843479 -0.075135  0.615211  0.408184  0.115199 |   0.388153 | True\n",
      "  0.843479 -0.075135  0.615211  0.408184  0.115199 |   0.388153 | Final\n",
      "    0.843480   -0.075136    0.615210 |     0.739360    0.729141    0.814685    2.035432    2.237595    1.826427    0.998497    2.236865    0.388153\n"
     ]
    }
   ],
   "source": [
    "v0 = [0.9150, 0.0238, 0.4957, 0.4548, 0.2764]\n",
    "para_opt(get_xyg5_wtmad_by_arr, v0)"
   ]
  },
  {
   "cell_type": "code",
   "execution_count": null,
   "id": "2318f854-386b-47d7-b7c0-d51b61a3f907",
   "metadata": {},
   "outputs": [],
   "source": []
  },
  {
   "cell_type": "markdown",
   "id": "c74224f9-5ad3-47e8-8f26-09b830a22e2a",
   "metadata": {},
   "source": [
    "### XYG6"
   ]
  },
  {
   "cell_type": "code",
   "execution_count": 79,
   "id": "4837b138-46ec-4076-89dc-be366ff14053",
   "metadata": {},
   "outputs": [],
   "source": [
    "def get_xyg6_wtmad_by_arr(v, verbose=False):\n",
    "    # [0.9105, -0.0681, 0.1800, 0.2244, 0.4695, 0.2589]\n",
    "    para = {\n",
    "        \"noxc\": 1,\n",
    "        \"HF\": v[0],\n",
    "        \"LDA_X\": 1 - v[0] - v[1],\n",
    "        \"GGA_X_B88\": v[1],\n",
    "        \"LDA_C_VWN_RPA\": v[2],\n",
    "        \"GGA_C_LYP\": v[3],\n",
    "        \"MP2_OS\": v[4],\n",
    "        \"MP2_SS\": v[5],\n",
    "    }\n",
    "    df_err = get_wtmad_by_para(para)\n",
    "    if verbose:\n",
    "        print((\"{:12.6f}\" * 3).format(*np.array(v)), \"|\", (\"{:12.6f}\" * 9).format(*np.array(df_err)))\n",
    "    return df_err[-1]"
   ]
  },
  {
   "cell_type": "code",
   "execution_count": 80,
   "id": "dac57e8f-50fa-4ca7-a0ec-9939082594b5",
   "metadata": {},
   "outputs": [
    {
     "name": "stdout",
     "output_type": "stream",
     "text": [
      "  0.707770 -0.228740  0.995121 -0.667078  0.365673  0.049561 |   0.346923 | True\n",
      "  0.707760 -0.228758  0.995192 -0.667153  0.365677  0.049544 |   0.346923 | True\n",
      "  0.707756 -0.228754  0.995208 -0.667175  0.365675  0.049540 |   0.346923 | True\n",
      "  0.707762 -0.228801  0.995218 -0.667175  0.365674  0.049554 |   0.346923 | True\n",
      "  0.707761 -0.228760  0.995180 -0.667135  0.365678  0.049543 |   0.346923 | True\n",
      "  0.707758 -0.228739  0.995173 -0.667110  0.365677  0.049546 |   0.346923 | True\n",
      "  0.707755 -0.228753  0.995201 -0.667160  0.365674  0.049541 |   0.346923 | True\n",
      "  0.707770 -0.228766  0.995144 -0.667098  0.365677  0.049557 |   0.346923 | True\n",
      "  0.707744 -0.228768  0.995275 -0.667258  0.365670  0.049536 |   0.346923 | True\n",
      "  0.707733 -0.228699  0.995230 -0.667179  0.365657  0.049541 |   0.346923 | True\n",
      "  0.707756 -0.228760  0.995217 -0.667188  0.365676  0.049541 |   0.346923 | True\n",
      "  0.707736 -0.228719  0.995282 -0.667232  0.365665  0.049546 |   0.346923 | True\n",
      "  0.707759 -0.228757  0.995191 -0.667150  0.365677  0.049541 |   0.346923 | True\n",
      "  0.707763 -0.228750  0.995168 -0.667123  0.365680  0.049541 |   0.346923 | True\n",
      "  0.707760 -0.228757  0.995190 -0.667150  0.365677  0.049543 |   0.346923 | True\n",
      "  0.707772 -0.228739  0.995093 -0.667012  0.365686  0.049547 |   0.346923 | True\n",
      "  0.707756 -0.228759  0.995204 -0.667165  0.365674  0.049541 |   0.346923 | True\n",
      "  0.707759 -0.228734  0.995158 -0.667106  0.365675  0.049542 |   0.346923 | True\n",
      "  0.707759 -0.228758  0.995193 -0.667154  0.365677  0.049543 |   0.346923 | True\n",
      "  0.707769 -0.228758  0.995154 -0.667102  0.365681  0.049551 |   0.346923 | True\n",
      "  0.707769 -0.228758  0.995154 -0.667102  0.365681  0.049551 |   0.346923 | Final\n",
      "    0.707759   -0.228758    0.995193 |     0.560103    0.793545    0.878909    1.287687    2.290330    2.252288    1.020381    1.417789    0.346923\n"
     ]
    }
   ],
   "source": [
    "v0 = [0.9105, -0.0681, 0.1800, 0.2244, 0.4695, 0.2589]\n",
    "para_opt(get_xyg6_wtmad_by_arr, v0)"
   ]
  },
  {
   "cell_type": "code",
   "execution_count": null,
   "id": "ad313199-b083-4f2a-b0f6-223988d22510",
   "metadata": {},
   "outputs": [],
   "source": [
    "0.560103    0.793545    0.878909    1.287687    2.290330    2.252288    1.020381    1.417789    0.346923"
   ]
  },
  {
   "cell_type": "markdown",
   "id": "57463e7c-8702-4c21-8a14-9c21c6afbaa3",
   "metadata": {},
   "source": [
    "### XYG7"
   ]
  },
  {
   "cell_type": "code",
   "execution_count": 81,
   "id": "143c5c4a-b909-485b-b62d-6c08141bc797",
   "metadata": {},
   "outputs": [],
   "source": [
    "def get_xyg7_wtmad_by_arr(v, verbose=False):\n",
    "    # [0.8971, 0.2055, -0.1408, 0.4056, 0.1159, 0.4052, 0.2589]\n",
    "    para = {\n",
    "        \"noxc\": 1,\n",
    "        \"HF\": v[0],\n",
    "        \"LDA_X\": v[1],\n",
    "        \"GGA_X_B88\": v[2],\n",
    "        \"LDA_C_VWN_RPA\": v[3],\n",
    "        \"GGA_C_LYP\": v[4],\n",
    "        \"MP2_OS\": v[5],\n",
    "        \"MP2_SS\": v[6],\n",
    "    }\n",
    "    df_err = get_wtmad_by_para(para)\n",
    "    if verbose:\n",
    "        print((\"{:12.6f}\" * 3).format(*np.array(v)), \"|\", (\"{:12.6f}\" * 9).format(*np.array(df_err)))\n",
    "    return df_err[-1]"
   ]
  },
  {
   "cell_type": "code",
   "execution_count": 83,
   "id": "08158f0b-95c3-498c-8ad5-0405d8500f33",
   "metadata": {},
   "outputs": [
    {
     "name": "stdout",
     "output_type": "stream",
     "text": [
      "  0.713012  0.528604 -0.263555  1.293849 -0.834458  0.370935  0.036979 |   0.341906 | True\n",
      "  0.712984  0.528543 -0.263460  1.293781 -0.834465  0.370905  0.036983 |   0.341906 | True\n",
      "  0.713016  0.528605 -0.263555  1.293766 -0.834413  0.370938  0.036981 |   0.341906 | True\n",
      "  0.713003  0.528597 -0.263539  1.293862 -0.834475  0.370930  0.036976 |   0.341906 | True\n",
      "  0.713115  0.528718 -0.263749  1.293044 -0.833534  0.371030  0.036947 |   0.341906 | True\n",
      "  0.713013  0.528606 -0.263560  1.293855 -0.834453  0.370937  0.036976 |   0.341906 | True\n",
      "  0.713000  0.528626 -0.263567  1.293919 -0.834537  0.370933  0.036967 |   0.341906 | True\n",
      "  0.713351  0.529170 -0.264456  1.293299 -0.833904  0.371142  0.037120 |   0.341906 | True\n",
      "  0.713012  0.528601 -0.263553  1.293848 -0.834452  0.370935  0.036977 |   0.341906 | True\n",
      "  0.711153  0.533184 -0.266855  1.315623 -0.856440  0.370395  0.035686 |   0.341919 | True\n",
      "  0.713013  0.528604 -0.263556  1.293840 -0.834448  0.370935  0.036979 |   0.341906 | True\n",
      "  0.713166  0.528505 -0.263640  1.293722 -0.834074  0.370989  0.037098 |   0.341906 | True\n",
      "  0.713011  0.528606 -0.263556  1.293842 -0.834451  0.370934  0.036979 |   0.341906 | True\n",
      "  0.712953  0.528717 -0.263590  1.293998 -0.834880  0.370900  0.036984 |   0.341906 | True\n",
      "  0.713012  0.528608 -0.263559  1.293849 -0.834459  0.370935  0.036979 |   0.341906 | True\n",
      "  0.712980  0.528669 -0.263561  1.293727 -0.834619  0.370909  0.037000 |   0.341906 | True\n",
      "  0.713013  0.528604 -0.263557  1.293848 -0.834453  0.370935  0.036979 |   0.341906 | True\n",
      "  0.713045  0.528649 -0.263640  1.293899 -0.834451  0.370963  0.036985 |   0.341906 | True\n",
      "  0.713091  0.528758 -0.263804  1.293845 -0.834303  0.370974  0.037021 |   0.341906 | True\n",
      "  0.714877  0.523649 -0.259884  1.271473 -0.811699  0.371477  0.038238 |   0.341919 | True\n",
      "  0.714877  0.523649 -0.259884  1.271473 -0.811699  0.371477  0.038238 |   0.341919 | Final\n",
      "    0.713013    0.528604   -0.263556 |     0.553096    0.783579    0.971159    1.106096    2.322183    2.204578    1.130709    1.240315    0.341906\n"
     ]
    }
   ],
   "source": [
    "v0 = [0.8971, 0.2055, -0.1408, 0.4056, 0.1159, 0.4052, 0.2589]\n",
    "para_opt(get_xyg7_wtmad_by_arr, v0)"
   ]
  },
  {
   "cell_type": "code",
   "execution_count": null,
   "id": "e958cd28-b185-4b5d-88c6-3ca96bfddd20",
   "metadata": {},
   "outputs": [],
   "source": []
  },
  {
   "cell_type": "markdown",
   "id": "39807d82-ea08-44f7-9946-b5087529c8ca",
   "metadata": {},
   "source": [
    "### XYGJ-OS"
   ]
  },
  {
   "cell_type": "code",
   "execution_count": 89,
   "id": "17216e8b-2534-4737-9148-323e30a2cbde",
   "metadata": {},
   "outputs": [],
   "source": [
    "def get_xygjos_wtmad_by_arr(v, verbose=False):\n",
    "    # [0.7731, 0.2309, 0.2754, 0.4364]\n",
    "    para = {\n",
    "        \"noxc\": 1,\n",
    "        \"HF\": v[0],\n",
    "        \"LDA_X\": 1 - v[0],\n",
    "        \"GGA_X_B88\": 0,\n",
    "        \"LDA_C_VWN_RPA\": v[1],\n",
    "        \"GGA_C_LYP\": v[2],\n",
    "        \"MP2_OS\": v[3],\n",
    "    }\n",
    "    df_err = get_wtmad_by_para(para)\n",
    "    if verbose:\n",
    "        print((\"{:12.6f}\" * 3).format(*np.array(v)), \"|\", (\"{:12.6f}\" * 9).format(*np.array(df_err)))\n",
    "    return df_err[-1]"
   ]
  },
  {
   "cell_type": "code",
   "execution_count": 88,
   "id": "3c655788-fe31-4f2e-8df7-51e828d47685",
   "metadata": {},
   "outputs": [
    {
     "name": "stdout",
     "output_type": "stream",
     "text": [
      "  0.667163  0.883241 -0.500749  0.353082 |   0.360344 | True\n",
      "  0.667164  0.883239 -0.500747  0.353082 |   0.360344 | True\n",
      "  0.667167  0.883237 -0.500749  0.353085 |   0.360344 | True\n",
      "  0.667163  0.883241 -0.500749  0.353082 |   0.360344 | True\n",
      "  0.667163  0.883241 -0.500748  0.353082 |   0.360344 | True\n",
      "  0.667164  0.883239 -0.500747  0.353082 |   0.360344 | True\n",
      "  0.667164  0.883239 -0.500747  0.353082 |   0.360344 | True\n",
      "  0.667163  0.883241 -0.500747  0.353081 |   0.360344 | True\n",
      "  0.667163  0.883244 -0.500752  0.353081 |   0.360344 | True\n",
      "  0.667165  0.883236 -0.500746  0.353083 |   0.360344 | True\n",
      "  0.667164  0.883239 -0.500747  0.353082 |   0.360344 | True\n",
      "  0.667165  0.883236 -0.500747  0.353084 |   0.360344 | True\n",
      "  0.667164  0.883241 -0.500749  0.353082 |   0.360344 | True\n",
      "  0.667165  0.883234 -0.500744  0.353083 |   0.360344 | True\n",
      "  0.667164  0.883241 -0.500749  0.353083 |   0.360344 | True\n",
      "  0.667167  0.883224 -0.500730  0.353084 |   0.360344 | True\n",
      "  0.667164  0.883245 -0.500750  0.353083 |   0.360344 | True\n",
      "  0.667217  0.882986 -0.500415  0.353124 |   0.360344 | True\n",
      "  0.667159  0.883263 -0.500774  0.353079 |   0.360344 | True\n",
      "  0.667163  0.883246 -0.500754  0.353082 |   0.360344 | True\n",
      "  0.667163  0.883246 -0.500754  0.353082 |   0.360344 | Final\n",
      "    0.667164    0.883239   -0.500747 |     0.637382    0.874862    0.799546    1.280933    2.537478    2.430995    0.942210    1.410214    0.360344\n"
     ]
    }
   ],
   "source": [
    "v0 = [0.7731, 0.2309, 0.2754, 0.4364]\n",
    "para_opt(get_xygjos_wtmad_by_arr, v0)"
   ]
  },
  {
   "cell_type": "code",
   "execution_count": null,
   "id": "fbb0c27a-8f48-4894-98fb-bd0c1fdaa606",
   "metadata": {},
   "outputs": [],
   "source": []
  },
  {
   "cell_type": "markdown",
   "id": "bb2de8fd-1a55-47aa-9abe-b92c6a1e80a8",
   "metadata": {},
   "source": [
    "### XYG-OS5"
   ]
  },
  {
   "cell_type": "code",
   "execution_count": 90,
   "id": "3e529963-844c-4343-a235-0d2d67193203",
   "metadata": {},
   "outputs": [],
   "source": [
    "def get_xygos5_wtmad_by_arr(v, verbose=False):\n",
    "    # [0.8928, -0.2321, 0.3268, -0.0635, 0.5574]\n",
    "    para = {\n",
    "        \"noxc\": 1,\n",
    "        \"HF\": v[0],\n",
    "        \"LDA_X\": 1 - v[0],\n",
    "        \"GGA_X_B88\": v[1],\n",
    "        \"LDA_C_VWN_RPA\": v[2],\n",
    "        \"GGA_C_LYP\": v[3],\n",
    "        \"MP2_OS\": v[4],\n",
    "    }\n",
    "    df_err = get_wtmad_by_para(para)\n",
    "    if verbose:\n",
    "        print((\"{:12.6f}\" * 3).format(*np.array(v)), \"|\", (\"{:12.6f}\" * 9).format(*np.array(df_err)))\n",
    "    return df_err[-1]"
   ]
  },
  {
   "cell_type": "code",
   "execution_count": 91,
   "id": "5502cca6-6f42-42a5-ab14-ab7b3708c717",
   "metadata": {},
   "outputs": [
    {
     "name": "stdout",
     "output_type": "stream",
     "text": [
      "  0.681865 -0.020577  1.120201 -0.614128  0.359351 |   0.355572 | True\n",
      "  0.681864 -0.020579  1.120238 -0.614159  0.359350 |   0.355572 | True\n",
      "  0.681864 -0.020578  1.120224 -0.614147  0.359351 |   0.355572 | True\n",
      "  0.681864 -0.020578  1.120226 -0.614148  0.359351 |   0.355572 | True\n",
      "  0.681866 -0.020574  1.120117 -0.614046  0.359347 |   0.355572 | True\n",
      "  0.681864 -0.020578  1.120225 -0.614148  0.359351 |   0.355572 | True\n",
      "  0.681864 -0.020579  1.120227 -0.614149  0.359351 |   0.355572 | True\n",
      "  0.681864 -0.020579  1.120234 -0.614161  0.359351 |   0.355572 | True\n",
      "  0.681864 -0.020578  1.120222 -0.614146  0.359350 |   0.355572 | True\n",
      "  0.681864 -0.020579  1.120229 -0.614152  0.359351 |   0.355572 | True\n",
      "  0.681869 -0.020577  1.120184 -0.614113  0.359352 |   0.355572 | True\n",
      "  0.681864 -0.020578  1.120225 -0.614148  0.359351 |   0.355572 | True\n",
      "  0.681864 -0.020578  1.120213 -0.614139  0.359351 |   0.355572 | True\n",
      "  0.681863 -0.020577  1.120214 -0.614141  0.359350 |   0.355572 | True\n",
      "  0.681864 -0.020578  1.120226 -0.614149  0.359351 |   0.355572 | True\n",
      "  0.681864 -0.020578  1.120214 -0.614144  0.359351 |   0.355572 | True\n",
      "  0.681866 -0.020580  1.120233 -0.614145  0.359352 |   0.355572 | True\n",
      "  0.681864 -0.020578  1.120225 -0.614149  0.359351 |   0.355572 | True\n",
      "  0.681863 -0.020579  1.120252 -0.614173  0.359350 |   0.355572 | True\n",
      "  0.681864 -0.020578  1.120226 -0.614148  0.359351 |   0.355572 | True\n",
      "  0.681864 -0.020578  1.120226 -0.614148  0.359351 |   0.355572 | Final\n",
      "    0.681864   -0.020578    1.120224 |     0.660929    0.867424    0.853418    1.123491    2.585029    2.366864    1.002512    1.258691    0.355572\n"
     ]
    }
   ],
   "source": [
    "v0 = [0.8928, -0.2321, 0.3268, -0.0635, 0.5574]\n",
    "para_opt(get_xygos5_wtmad_by_arr, v0)"
   ]
  },
  {
   "cell_type": "code",
   "execution_count": null,
   "id": "ea893468-1185-47b5-9aec-6da555ce3c22",
   "metadata": {},
   "outputs": [],
   "source": []
  },
  {
   "cell_type": "markdown",
   "id": "714b30bc-8783-42b9-a794-82042492465a",
   "metadata": {},
   "source": [
    "### XYG-OS3"
   ]
  },
  {
   "cell_type": "code",
   "execution_count": 92,
   "id": "fc5c001f-823f-4ad2-af25-ed7105516c8d",
   "metadata": {},
   "outputs": [],
   "source": [
    "def get_xygos3_wtmad_by_arr(v, verbose=False):\n",
    "    # [0.7731, 0.2754, 0.4364]\n",
    "    para = {\n",
    "        \"noxc\": 1,\n",
    "        \"HF\": v[0],\n",
    "        \"LDA_X\": 1 - v[0],\n",
    "        \"GGA_X_B88\": 0,\n",
    "        \"LDA_C_VWN_RPA\": 0,\n",
    "        \"GGA_C_LYP\": v[1],\n",
    "        \"MP2_OS\": v[2],\n",
    "    }\n",
    "    df_err = get_wtmad_by_para(para)\n",
    "    if verbose:\n",
    "        print((\"{:12.6f}\" * 3).format(*np.array(v)), \"|\", (\"{:12.6f}\" * 9).format(*np.array(df_err)))\n",
    "    return df_err[-1]"
   ]
  },
  {
   "cell_type": "code",
   "execution_count": 93,
   "id": "3f06fd2d-27e2-49ef-acbc-bc0f5d0a20d5",
   "metadata": {},
   "outputs": [
    {
     "name": "stdout",
     "output_type": "stream",
     "text": [
      "  0.794150  0.673447  0.419592 |   0.405278 | True\n",
      "  0.794151  0.673447  0.419592 |   0.405278 | True\n",
      "  0.794150  0.673448  0.419592 |   0.405278 | True\n",
      "  0.794151  0.673447  0.419592 |   0.405278 | True\n",
      "  0.794150  0.673449  0.419592 |   0.405278 | True\n",
      "  0.794151  0.673447  0.419592 |   0.405278 | True\n",
      "  0.794151  0.673447  0.419592 |   0.405278 | True\n",
      "  0.794151  0.673437  0.419591 |   0.405278 | True\n",
      "  0.794151  0.673448  0.419592 |   0.405278 | True\n",
      "  0.794151  0.673447  0.419592 |   0.405278 | True\n",
      "  0.794151  0.673447  0.419592 |   0.405278 | True\n",
      "  0.794151  0.673448  0.419592 |   0.405278 | True\n",
      "  0.794151  0.673445  0.419592 |   0.405278 | True\n",
      "  0.794151  0.673448  0.419592 |   0.405278 | True\n",
      "  0.794152  0.673444  0.419593 |   0.405278 | True\n",
      "  0.794150  0.673447  0.419592 |   0.405278 | True\n",
      "  0.794151  0.673446  0.419592 |   0.405278 | True\n",
      "  0.794151  0.673447  0.419592 |   0.405278 | True\n",
      "  0.794153  0.673443  0.419593 |   0.405278 | True\n",
      "  0.794151  0.673447  0.419592 |   0.405278 | True\n",
      "  0.794151  0.673447  0.419592 |   0.405278 | Final\n",
      "    0.794151    0.673447    0.419592 |     0.719953    0.667872    0.913041    2.117647    2.565388    1.853147    1.118469    2.305794    0.405278\n"
     ]
    }
   ],
   "source": [
    "v0 = [0.7731, 0.2754, 0.4364]\n",
    "para_opt(get_xygos3_wtmad_by_arr, v0)"
   ]
  },
  {
   "cell_type": "code",
   "execution_count": null,
   "id": "5909b0e5-d37a-41ac-b0e1-5ba0ac4949a1",
   "metadata": {},
   "outputs": [],
   "source": [
    "0.719953    0.667872    0.913041    2.117647    2.565388    1.853147    1.118469    2.305794    0.405278"
   ]
  },
  {
   "cell_type": "code",
   "execution_count": null,
   "id": "79d1f1d8-62dd-499c-947a-d63dcae75902",
   "metadata": {},
   "outputs": [],
   "source": []
  }
 ],
 "metadata": {
  "kernelspec": {
   "display_name": "Python 3 (ipykernel)",
   "language": "python",
   "name": "python3"
  },
  "language_info": {
   "codemirror_mode": {
    "name": "ipython",
    "version": 3
   },
   "file_extension": ".py",
   "mimetype": "text/x-python",
   "name": "python",
   "nbconvert_exporter": "python",
   "pygments_lexer": "ipython3",
   "version": "3.10.13"
  }
 },
 "nbformat": 4,
 "nbformat_minor": 5
}
