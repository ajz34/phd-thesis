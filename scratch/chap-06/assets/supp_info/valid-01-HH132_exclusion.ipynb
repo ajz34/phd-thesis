{
 "cells": [
  {
   "cell_type": "markdown",
   "id": "1a2d1110-af92-4fa2-a78a-40aca59ecee8",
   "metadata": {},
   "source": [
    "## HH132 数据集的排除过程"
   ]
  },
  {
   "cell_type": "code",
   "execution_count": 1,
   "id": "6c99949d-f457-4a2e-a282-eca57b5c0d9a",
   "metadata": {},
   "outputs": [],
   "source": [
    "import numpy as np\n",
    "import pandas as pd\n",
    "from util import (BOHR, read_mat, read_comp, get_iso, get_aniso, read_by_prompt, get_df_err, get_rmsre_3comp, get_relrmsd_3comp)\n",
    "import itertools\n",
    "\n",
    "np.set_printoptions(8, suppress=True, linewidth=150)\n",
    "pd.set_option('display.max_rows', None)\n",
    "pd.set_option(\"display.precision\", 3)\n",
    "pd.set_option(\"float_format\", '{:.3f}'.format)"
   ]
  },
  {
   "cell_type": "code",
   "execution_count": 2,
   "id": "f6f03d5f-08b4-4928-b234-3284441902b2",
   "metadata": {},
   "outputs": [],
   "source": [
    "import matplotlib.pyplot as plt\n",
    "from matplotlib_inline.backend_inline import set_matplotlib_formats\n",
    "%matplotlib inline\n",
    "\n",
    "set_matplotlib_formats('svg')"
   ]
  },
  {
   "cell_type": "markdown",
   "id": "5bf001da-e413-4cd4-afcc-f9c55a9e4e89",
   "metadata": {},
   "source": [
    "## 定义与数据读入"
   ]
  },
  {
   "cell_type": "code",
   "execution_count": 3,
   "id": "b732a073-1576-42b1-b4d1-7c109b28458a",
   "metadata": {},
   "outputs": [],
   "source": [
    "df_hh132_ref = pd.read_csv(\"raw_data/HH132-hait_ref.csv\", index_col=[0], header=[0, 1])\n",
    "mol_hh132 = sorted(list(df_hh132_ref.index))\n",
    "mol_nsp = list(set(mol_hh132).intersection(df_hh132_ref.index[np.asarray(df_hh132_ref[\"Spin Polarization\"] == \"NSP\").flatten()]))\n",
    "mol_sp = list(set(mol_hh132).intersection(df_hh132_ref.index[np.asarray(df_hh132_ref[\"Spin Polarization\"] == \"SP\").flatten()]))"
   ]
  },
  {
   "cell_type": "code",
   "execution_count": 4,
   "id": "59f0c344-3a96-4f92-903a-5726502c8f7d",
   "metadata": {},
   "outputs": [],
   "source": [
    "df_hh132_acvtz = pd.read_csv(\"raw_data/HH132-hait_aCVTZ.csv\", index_col=[0], header=[0, 1])"
   ]
  },
  {
   "cell_type": "code",
   "execution_count": 5,
   "id": "0b394cf1-2107-46e3-a710-92889906e2d8",
   "metadata": {},
   "outputs": [],
   "source": [
    "df_g16_acvtz = pd.read_csv(\"raw_data/HH132-g16_aCVTZ.csv\", index_col=[0], header=[0, 1])"
   ]
  },
  {
   "cell_type": "code",
   "execution_count": 6,
   "id": "b9e1e2af-b7d0-4b33-b056-d7eeaf7d990b",
   "metadata": {},
   "outputs": [],
   "source": [
    "df_dh_acvtz = pd.read_csv(\"raw_data/HH132-dh_aCVTZ.csv\", index_col=[0], header=[0, 1])"
   ]
  },
  {
   "cell_type": "markdown",
   "id": "40979503-fcdd-42ec-9fd3-e42b03d77e46",
   "metadata": {},
   "source": [
    "## 排除分子具体过程"
   ]
  },
  {
   "cell_type": "markdown",
   "id": "82b4b48b-45f1-401d-876a-1afdbc432ff6",
   "metadata": {},
   "source": [
    "### 对称性破缺 (tab.6.supp.symm-broken)"
   ]
  },
  {
   "cell_type": "code",
   "execution_count": 49,
   "id": "48c9f519-e998-4299-8067-b4e17f9828f6",
   "metadata": {},
   "outputs": [],
   "source": [
    "mol_exclude_symm = [\"Be\", \"Li2\", \"BN\", \"NO\", \"OCl\", \"OF\", \"OH\", \"SCl\", \"SF\", \"SH\", \"PS\", \"NCO\", \"CH3O\"]"
   ]
  },
  {
   "cell_type": "code",
   "execution_count": 8,
   "id": "f787838a-f271-49bf-975a-95c03d315fa2",
   "metadata": {},
   "outputs": [
    {
     "data": {
      "text/html": [
       "<div>\n",
       "<style scoped>\n",
       "    .dataframe tbody tr th:only-of-type {\n",
       "        vertical-align: middle;\n",
       "    }\n",
       "\n",
       "    .dataframe tbody tr th {\n",
       "        vertical-align: top;\n",
       "    }\n",
       "\n",
       "    .dataframe thead tr th {\n",
       "        text-align: left;\n",
       "    }\n",
       "</style>\n",
       "<table border=\"1\" class=\"dataframe\">\n",
       "  <thead>\n",
       "    <tr>\n",
       "      <th></th>\n",
       "      <th>Spin</th>\n",
       "      <th colspan=\"3\" halign=\"left\">Analytical</th>\n",
       "      <th colspan=\"3\" halign=\"left\">HH132 Original</th>\n",
       "    </tr>\n",
       "    <tr>\n",
       "      <th></th>\n",
       "      <th>Spin</th>\n",
       "      <th>xx</th>\n",
       "      <th>yy</th>\n",
       "      <th>zz</th>\n",
       "      <th>xx</th>\n",
       "      <th>yy</th>\n",
       "      <th>zz</th>\n",
       "    </tr>\n",
       "  </thead>\n",
       "  <tbody>\n",
       "    <tr>\n",
       "      <th>Be</th>\n",
       "      <td>SP</td>\n",
       "      <td>7.019</td>\n",
       "      <td>7.019</td>\n",
       "      <td>7.667</td>\n",
       "      <td>7.074</td>\n",
       "      <td>7.074</td>\n",
       "      <td>7.074</td>\n",
       "    </tr>\n",
       "    <tr>\n",
       "      <th>Li2</th>\n",
       "      <td>SP</td>\n",
       "      <td>26.837</td>\n",
       "      <td>22.980</td>\n",
       "      <td>39.702</td>\n",
       "      <td>22.589</td>\n",
       "      <td>22.589</td>\n",
       "      <td>39.719</td>\n",
       "    </tr>\n",
       "    <tr>\n",
       "      <th>BN</th>\n",
       "      <td>SP</td>\n",
       "      <td>3.427</td>\n",
       "      <td>2.521</td>\n",
       "      <td>2.156</td>\n",
       "      <td>3.446</td>\n",
       "      <td>3.446</td>\n",
       "      <td>2.161</td>\n",
       "    </tr>\n",
       "    <tr>\n",
       "      <th>NO</th>\n",
       "      <td>SP</td>\n",
       "      <td>1.444</td>\n",
       "      <td>1.240</td>\n",
       "      <td>0.434</td>\n",
       "      <td>1.445</td>\n",
       "      <td>1.445</td>\n",
       "      <td>0.557</td>\n",
       "    </tr>\n",
       "    <tr>\n",
       "      <th>OCl</th>\n",
       "      <td>SP</td>\n",
       "      <td>2.475</td>\n",
       "      <td>2.390</td>\n",
       "      <td>4.289</td>\n",
       "      <td>2.391</td>\n",
       "      <td>2.391</td>\n",
       "      <td>4.296</td>\n",
       "    </tr>\n",
       "    <tr>\n",
       "      <th>OF</th>\n",
       "      <td>SP</td>\n",
       "      <td>1.057</td>\n",
       "      <td>1.081</td>\n",
       "      <td>1.814</td>\n",
       "      <td>1.057</td>\n",
       "      <td>1.057</td>\n",
       "      <td>1.816</td>\n",
       "    </tr>\n",
       "    <tr>\n",
       "      <th>OH</th>\n",
       "      <td>SP</td>\n",
       "      <td>1.071</td>\n",
       "      <td>0.879</td>\n",
       "      <td>1.244</td>\n",
       "      <td>1.072</td>\n",
       "      <td>1.072</td>\n",
       "      <td>1.245</td>\n",
       "    </tr>\n",
       "    <tr>\n",
       "      <th>SCl</th>\n",
       "      <td>SP</td>\n",
       "      <td>4.065</td>\n",
       "      <td>4.387</td>\n",
       "      <td>7.137</td>\n",
       "      <td>4.393</td>\n",
       "      <td>4.393</td>\n",
       "      <td>7.147</td>\n",
       "    </tr>\n",
       "    <tr>\n",
       "      <th>SF</th>\n",
       "      <td>SP</td>\n",
       "      <td>3.170</td>\n",
       "      <td>2.786</td>\n",
       "      <td>3.592</td>\n",
       "      <td>3.178</td>\n",
       "      <td>3.178</td>\n",
       "      <td>3.594</td>\n",
       "    </tr>\n",
       "    <tr>\n",
       "      <th>SH</th>\n",
       "      <td>SP</td>\n",
       "      <td>2.875</td>\n",
       "      <td>3.449</td>\n",
       "      <td>3.446</td>\n",
       "      <td>3.458</td>\n",
       "      <td>3.458</td>\n",
       "      <td>3.450</td>\n",
       "    </tr>\n",
       "    <tr>\n",
       "      <th>PS</th>\n",
       "      <td>SP</td>\n",
       "      <td>5.687</td>\n",
       "      <td>5.152</td>\n",
       "      <td>12.050</td>\n",
       "      <td>5.159</td>\n",
       "      <td>5.159</td>\n",
       "      <td>11.985</td>\n",
       "    </tr>\n",
       "    <tr>\n",
       "      <th>NCO</th>\n",
       "      <td>SP</td>\n",
       "      <td>2.264</td>\n",
       "      <td>2.232</td>\n",
       "      <td>4.005</td>\n",
       "      <td>2.233</td>\n",
       "      <td>2.233</td>\n",
       "      <td>4.028</td>\n",
       "    </tr>\n",
       "    <tr>\n",
       "      <th>CH3O</th>\n",
       "      <td>SP</td>\n",
       "      <td>-318.402</td>\n",
       "      <td>2.644</td>\n",
       "      <td>3.326</td>\n",
       "      <td>4.080</td>\n",
       "      <td>2.762</td>\n",
       "      <td>3.330</td>\n",
       "    </tr>\n",
       "  </tbody>\n",
       "</table>\n",
       "</div>"
      ],
      "text/plain": [
       "     Spin Analytical               HH132 Original              \n",
       "     Spin         xx     yy     zz             xx     yy     zz\n",
       "Be     SP      7.019  7.019  7.667          7.074  7.074  7.074\n",
       "Li2    SP     26.837 22.980 39.702         22.589 22.589 39.719\n",
       "BN     SP      3.427  2.521  2.156          3.446  3.446  2.161\n",
       "NO     SP      1.444  1.240  0.434          1.445  1.445  0.557\n",
       "OCl    SP      2.475  2.390  4.289          2.391  2.391  4.296\n",
       "OF     SP      1.057  1.081  1.814          1.057  1.057  1.816\n",
       "OH     SP      1.071  0.879  1.244          1.072  1.072  1.245\n",
       "SCl    SP      4.065  4.387  7.137          4.393  4.393  7.147\n",
       "SF     SP      3.170  2.786  3.592          3.178  3.178  3.594\n",
       "SH     SP      2.875  3.449  3.446          3.458  3.458  3.450\n",
       "PS     SP      5.687  5.152 12.050          5.159  5.159 11.985\n",
       "NCO    SP      2.264  2.232  4.005          2.233  2.233  4.028\n",
       "CH3O   SP   -318.402  2.644  3.326          4.080  2.762  3.330"
      ]
     },
     "execution_count": 8,
     "metadata": {},
     "output_type": "execute_result"
    }
   ],
   "source": [
    "pd.concat([\n",
    "    df_hh132_ref[\"Spin Polarization\"].loc[mol_exclude_symm],\n",
    "    df_g16_acvtz[\"MP2\"].loc[mol_exclude_symm, [\"xx\", \"yy\", \"zz\"]],\n",
    "    df_hh132_acvtz[\"MP2\"].loc[mol_exclude_symm]\n",
    "], axis=1).set_axis(pd.MultiIndex.from_tuples([(\"Spin\", \"Spin\")] + list(itertools.product([\"Analytical\", \"HH132 Original\"], [\"xx\", \"yy\", \"zz\"]))), axis=\"columns\")"
   ]
  },
  {
   "cell_type": "code",
   "execution_count": 9,
   "id": "98eca92d-c3a2-48ee-86f5-e3e6b5d3ca0a",
   "metadata": {},
   "outputs": [
    {
     "data": {
      "text/plain": [
       "Unnamed: 1_level_1    75\n",
       "dtype: int64"
      ]
     },
     "execution_count": 9,
     "metadata": {},
     "output_type": "execute_result"
    }
   ],
   "source": [
    "(df_hh132_ref[\"Spin Polarization\"] == \"NSP\").sum()"
   ]
  },
  {
   "cell_type": "code",
   "execution_count": 10,
   "id": "bacd306c-df8e-4d0c-a903-9c229d67be39",
   "metadata": {},
   "outputs": [
    {
     "data": {
      "text/plain": [
       "132"
      ]
     },
     "execution_count": 10,
     "metadata": {},
     "output_type": "execute_result"
    }
   ],
   "source": [
    "75 + 57"
   ]
  },
  {
   "cell_type": "markdown",
   "id": "34eb3e60-f484-4225-abf2-f1ec8cc22531",
   "metadata": {},
   "source": [
    "### MP2 极化率复现问题 (tab.6.supp.mp2-hait-g16})"
   ]
  },
  {
   "cell_type": "code",
   "execution_count": 11,
   "id": "ea5f7760-b10a-4a83-a9ea-8f15e32979f0",
   "metadata": {},
   "outputs": [],
   "source": [
    "mol_current = sorted(list(set(mol_hh132) - set(mol_exclude_symm) - set([\"H\"])))"
   ]
  },
  {
   "cell_type": "code",
   "execution_count": 12,
   "id": "3a844c49-6d4e-4768-9ef1-af5f2d3b070e",
   "metadata": {},
   "outputs": [],
   "source": [
    "df_mp2_relerr = (df_hh132_acvtz[\"MP2\"] / df_g16_acvtz[\"MP2\"].loc[:, [\"xx\", \"yy\", \"zz\"]] - 1) * 100\n",
    "df_mp2_relerr = df_mp2_relerr.loc[mol_current]"
   ]
  },
  {
   "cell_type": "code",
   "execution_count": 13,
   "id": "438671cd-a244-4cef-8b78-72ccf11f7763",
   "metadata": {},
   "outputs": [],
   "source": [
    "mask = (df_mp2_relerr.abs() > 2).sum(axis=1) > 0"
   ]
  },
  {
   "cell_type": "code",
   "execution_count": 14,
   "id": "f6d79213-0f65-4c91-a94a-071c21d7f8ed",
   "metadata": {},
   "outputs": [
    {
     "data": {
      "text/html": [
       "<div>\n",
       "<style scoped>\n",
       "    .dataframe tbody tr th:only-of-type {\n",
       "        vertical-align: middle;\n",
       "    }\n",
       "\n",
       "    .dataframe tbody tr th {\n",
       "        vertical-align: top;\n",
       "    }\n",
       "\n",
       "    .dataframe thead tr th {\n",
       "        text-align: left;\n",
       "    }\n",
       "</style>\n",
       "<table border=\"1\" class=\"dataframe\">\n",
       "  <thead>\n",
       "    <tr>\n",
       "      <th></th>\n",
       "      <th>Spin</th>\n",
       "      <th colspan=\"3\" halign=\"left\">Analytical</th>\n",
       "      <th colspan=\"3\" halign=\"left\">Relative Error / %</th>\n",
       "    </tr>\n",
       "    <tr>\n",
       "      <th></th>\n",
       "      <th>Spin</th>\n",
       "      <th>xx</th>\n",
       "      <th>yy</th>\n",
       "      <th>zz</th>\n",
       "      <th>xx</th>\n",
       "      <th>yy</th>\n",
       "      <th>zz</th>\n",
       "    </tr>\n",
       "  </thead>\n",
       "  <tbody>\n",
       "    <tr>\n",
       "      <th>CH2NH</th>\n",
       "      <td>SP</td>\n",
       "      <td>3.299</td>\n",
       "      <td>2.713</td>\n",
       "      <td>6.678</td>\n",
       "      <td>0.129</td>\n",
       "      <td>0.191</td>\n",
       "      <td>-115.065</td>\n",
       "    </tr>\n",
       "    <tr>\n",
       "      <th>HOF</th>\n",
       "      <td>SP</td>\n",
       "      <td>1.443</td>\n",
       "      <td>1.254</td>\n",
       "      <td>4.023</td>\n",
       "      <td>0.028</td>\n",
       "      <td>0.061</td>\n",
       "      <td>-40.274</td>\n",
       "    </tr>\n",
       "    <tr>\n",
       "      <th>NOCl</th>\n",
       "      <td>SP</td>\n",
       "      <td>5.814</td>\n",
       "      <td>6.487</td>\n",
       "      <td>3.452</td>\n",
       "      <td>-67.820</td>\n",
       "      <td>-8.420</td>\n",
       "      <td>0.075</td>\n",
       "    </tr>\n",
       "    <tr>\n",
       "      <th>Na2</th>\n",
       "      <td>SP</td>\n",
       "      <td>30.066</td>\n",
       "      <td>30.066</td>\n",
       "      <td>26.148</td>\n",
       "      <td>0.069</td>\n",
       "      <td>0.069</td>\n",
       "      <td>2.452</td>\n",
       "    </tr>\n",
       "    <tr>\n",
       "      <th>NaLi</th>\n",
       "      <td>SP</td>\n",
       "      <td>26.443</td>\n",
       "      <td>26.443</td>\n",
       "      <td>-11.852</td>\n",
       "      <td>0.100</td>\n",
       "      <td>0.100</td>\n",
       "      <td>-18.332</td>\n",
       "    </tr>\n",
       "  </tbody>\n",
       "</table>\n",
       "</div>"
      ],
      "text/plain": [
       "      Spin Analytical                Relative Error / %                \n",
       "      Spin         xx     yy      zz                 xx     yy       zz\n",
       "CH2NH   SP      3.299  2.713   6.678              0.129  0.191 -115.065\n",
       "HOF     SP      1.443  1.254   4.023              0.028  0.061  -40.274\n",
       "NOCl    SP      5.814  6.487   3.452            -67.820 -8.420    0.075\n",
       "Na2     SP     30.066 30.066  26.148              0.069  0.069    2.452\n",
       "NaLi    SP     26.443 26.443 -11.852              0.100  0.100  -18.332"
      ]
     },
     "execution_count": 14,
     "metadata": {},
     "output_type": "execute_result"
    }
   ],
   "source": [
    "pd.concat([\n",
    "    df_hh132_ref[\"Spin Polarization\"].loc[mask[mask].index],\n",
    "    df_g16_acvtz[\"MP2\"].loc[mask[mask].index, [\"xx\", \"yy\", \"zz\"]],\n",
    "    df_mp2_relerr.loc[mask[mask].index],\n",
    "], axis=1).set_axis(pd.MultiIndex.from_tuples([(\"Spin\", \"Spin\")] + list(itertools.product([\"Analytical\", \"Relative Error / %\"], [\"xx\", \"yy\", \"zz\"]))), axis=\"columns\")"
   ]
  },
  {
   "cell_type": "code",
   "execution_count": 15,
   "id": "1863cfe8-0489-4b08-9e45-c35a2c9d9476",
   "metadata": {},
   "outputs": [],
   "source": [
    "mol_exclude_mp2 = [\"CH2NH\", \"HOF\", \"NOCl\", \"Na2\", \"NaLi\"]"
   ]
  },
  {
   "cell_type": "markdown",
   "id": "840716eb-55fd-4820-8c12-e54f83dd6850",
   "metadata": {},
   "source": [
    "### MP2 极化率复现问题 (tab.6.supp.mp2-dh-g16)"
   ]
  },
  {
   "cell_type": "code",
   "execution_count": 16,
   "id": "77cbac94-e6f3-487e-9697-190d9f097d88",
   "metadata": {},
   "outputs": [],
   "source": [
    "mol_current = sorted(list(set(mol_hh132) - set(mol_exclude_symm) - set([\"H\"])))"
   ]
  },
  {
   "cell_type": "code",
   "execution_count": 17,
   "id": "c04df620-21d7-44ef-87cd-885b4a3b1ca7",
   "metadata": {},
   "outputs": [],
   "source": [
    "df_mp2_relerr = (df_dh_acvtz[\"MP2\"].loc[:, [\"xx\", \"yy\", \"zz\"]] / df_g16_acvtz[\"MP2\"].loc[:, [\"xx\", \"yy\", \"zz\"]] - 1) * 100\n",
    "df_mp2_relerr = df_mp2_relerr.loc[mol_current]"
   ]
  },
  {
   "cell_type": "code",
   "execution_count": 18,
   "id": "431fde05-99a8-4333-a779-96962946899b",
   "metadata": {},
   "outputs": [],
   "source": [
    "mask = (df_mp2_relerr.abs() > 0.5).sum(axis=1) > 0"
   ]
  },
  {
   "cell_type": "code",
   "execution_count": 19,
   "id": "578327d6-8912-4391-aca8-eec5a317a80e",
   "metadata": {},
   "outputs": [
    {
     "data": {
      "text/html": [
       "<div>\n",
       "<style scoped>\n",
       "    .dataframe tbody tr th:only-of-type {\n",
       "        vertical-align: middle;\n",
       "    }\n",
       "\n",
       "    .dataframe tbody tr th {\n",
       "        vertical-align: top;\n",
       "    }\n",
       "\n",
       "    .dataframe thead tr th {\n",
       "        text-align: left;\n",
       "    }\n",
       "</style>\n",
       "<table border=\"1\" class=\"dataframe\">\n",
       "  <thead>\n",
       "    <tr>\n",
       "      <th></th>\n",
       "      <th colspan=\"3\" halign=\"left\">Analytical (Gaussian)</th>\n",
       "      <th colspan=\"3\" halign=\"left\">Relative Error / %</th>\n",
       "    </tr>\n",
       "    <tr>\n",
       "      <th></th>\n",
       "      <th>xx</th>\n",
       "      <th>yy</th>\n",
       "      <th>zz</th>\n",
       "      <th>xx</th>\n",
       "      <th>yy</th>\n",
       "      <th>zz</th>\n",
       "    </tr>\n",
       "  </thead>\n",
       "  <tbody>\n",
       "    <tr>\n",
       "      <th>CH2NH</th>\n",
       "      <td>3.299</td>\n",
       "      <td>2.713</td>\n",
       "      <td>6.678</td>\n",
       "      <td>0.160</td>\n",
       "      <td>0.073</td>\n",
       "      <td>22.152</td>\n",
       "    </tr>\n",
       "    <tr>\n",
       "      <th>NOCl</th>\n",
       "      <td>5.814</td>\n",
       "      <td>6.487</td>\n",
       "      <td>3.452</td>\n",
       "      <td>4.268</td>\n",
       "      <td>4.564</td>\n",
       "      <td>0.017</td>\n",
       "    </tr>\n",
       "    <tr>\n",
       "      <th>NaLi</th>\n",
       "      <td>26.443</td>\n",
       "      <td>26.443</td>\n",
       "      <td>-11.852</td>\n",
       "      <td>0.225</td>\n",
       "      <td>0.225</td>\n",
       "      <td>-9.846</td>\n",
       "    </tr>\n",
       "  </tbody>\n",
       "</table>\n",
       "</div>"
      ],
      "text/plain": [
       "      Analytical (Gaussian)                Relative Error / %             \n",
       "                         xx     yy      zz                 xx    yy     zz\n",
       "CH2NH                 3.299  2.713   6.678              0.160 0.073 22.152\n",
       "NOCl                  5.814  6.487   3.452              4.268 4.564  0.017\n",
       "NaLi                 26.443 26.443 -11.852              0.225 0.225 -9.846"
      ]
     },
     "execution_count": 19,
     "metadata": {},
     "output_type": "execute_result"
    }
   ],
   "source": [
    "pd.concat([\n",
    "    df_g16_acvtz[\"MP2\"].loc[mask[mask].index, [\"xx\", \"yy\", \"zz\"]],\n",
    "    df_mp2_relerr.loc[mask[mask].index],\n",
    "], axis=1).set_axis(pd.MultiIndex.from_tuples(itertools.product([\"Analytical (Gaussian)\", \"Relative Error / %\"], [\"xx\", \"yy\", \"zz\"])), axis=\"columns\")"
   ]
  },
  {
   "cell_type": "markdown",
   "id": "8e895fd1-e57d-42e1-b3c3-397bee8ec7c8",
   "metadata": {},
   "source": [
    "## 其他密度泛函复现问题"
   ]
  },
  {
   "cell_type": "markdown",
   "id": "666a7f34-5e43-4845-a175-480856f61667",
   "metadata": {},
   "source": [
    "### B2PLYP"
   ]
  },
  {
   "cell_type": "markdown",
   "id": "8149b263-9d76-4bb5-863a-345eb9e255e5",
   "metadata": {},
   "source": [
    "**B2PLYP HH132 original**"
   ]
  },
  {
   "cell_type": "code",
   "execution_count": 20,
   "id": "6485ee86-4f60-43e6-8846-9fb8f175818b",
   "metadata": {},
   "outputs": [],
   "source": [
    "mol_current = sorted(list(set(mol_hh132) - set(mol_exclude_symm) - set(mol_exclude_mp2) - set([\"H\"])))"
   ]
  },
  {
   "cell_type": "code",
   "execution_count": 21,
   "id": "53b2a375-0d69-4c4f-b9b2-509750b1060d",
   "metadata": {},
   "outputs": [],
   "source": [
    "df_relerr = (df_hh132_acvtz[\"B2PLYP\"].loc[:, [\"xx\", \"yy\", \"zz\"]] / df_g16_acvtz[\"B2PLYP\"].loc[:, [\"xx\", \"yy\", \"zz\"]] - 1) * 100\n",
    "df_relerr = df_relerr.loc[mol_current]"
   ]
  },
  {
   "cell_type": "code",
   "execution_count": 22,
   "id": "c16bb0e6-bed6-4807-a724-0d3cce19bdbc",
   "metadata": {},
   "outputs": [],
   "source": [
    "mask = (df_relerr.abs() > 2).sum(axis=1) > 0"
   ]
  },
  {
   "cell_type": "code",
   "execution_count": 23,
   "id": "6bbf6ad8-cd6d-47bc-829e-a17795e11905",
   "metadata": {},
   "outputs": [
    {
     "data": {
      "text/html": [
       "<div>\n",
       "<style scoped>\n",
       "    .dataframe tbody tr th:only-of-type {\n",
       "        vertical-align: middle;\n",
       "    }\n",
       "\n",
       "    .dataframe tbody tr th {\n",
       "        vertical-align: top;\n",
       "    }\n",
       "\n",
       "    .dataframe thead tr th {\n",
       "        text-align: left;\n",
       "    }\n",
       "</style>\n",
       "<table border=\"1\" class=\"dataframe\">\n",
       "  <thead>\n",
       "    <tr>\n",
       "      <th></th>\n",
       "      <th>Spin</th>\n",
       "      <th colspan=\"3\" halign=\"left\">Analytical</th>\n",
       "      <th colspan=\"3\" halign=\"left\">Relative Error / %</th>\n",
       "    </tr>\n",
       "    <tr>\n",
       "      <th></th>\n",
       "      <th>Spin</th>\n",
       "      <th>xx</th>\n",
       "      <th>yy</th>\n",
       "      <th>zz</th>\n",
       "      <th>xx</th>\n",
       "      <th>yy</th>\n",
       "      <th>zz</th>\n",
       "    </tr>\n",
       "  </thead>\n",
       "  <tbody>\n",
       "    <tr>\n",
       "      <th>C2H</th>\n",
       "      <td>SP</td>\n",
       "      <td>3.543</td>\n",
       "      <td>3.543</td>\n",
       "      <td>4.020</td>\n",
       "      <td>8.564</td>\n",
       "      <td>8.564</td>\n",
       "      <td>-0.127</td>\n",
       "    </tr>\n",
       "    <tr>\n",
       "      <th>CN</th>\n",
       "      <td>SP</td>\n",
       "      <td>3.192</td>\n",
       "      <td>3.192</td>\n",
       "      <td>4.518</td>\n",
       "      <td>-18.839</td>\n",
       "      <td>-18.839</td>\n",
       "      <td>-2.985</td>\n",
       "    </tr>\n",
       "    <tr>\n",
       "      <th>HNS</th>\n",
       "      <td>SP</td>\n",
       "      <td>5.796</td>\n",
       "      <td>3.959</td>\n",
       "      <td>3.031</td>\n",
       "      <td>-1.502</td>\n",
       "      <td>3.246</td>\n",
       "      <td>10.542</td>\n",
       "    </tr>\n",
       "    <tr>\n",
       "      <th>NaCl</th>\n",
       "      <td>NSP</td>\n",
       "      <td>4.334</td>\n",
       "      <td>4.334</td>\n",
       "      <td>5.471</td>\n",
       "      <td>0.698</td>\n",
       "      <td>0.698</td>\n",
       "      <td>2.058</td>\n",
       "    </tr>\n",
       "    <tr>\n",
       "      <th>O3</th>\n",
       "      <td>SP</td>\n",
       "      <td>1.713</td>\n",
       "      <td>4.580</td>\n",
       "      <td>2.124</td>\n",
       "      <td>-0.000</td>\n",
       "      <td>-4.345</td>\n",
       "      <td>-1.471</td>\n",
       "    </tr>\n",
       "  </tbody>\n",
       "</table>\n",
       "</div>"
      ],
      "text/plain": [
       "     Spin Analytical             Relative Error / %               \n",
       "     Spin         xx    yy    zz                 xx      yy     zz\n",
       "C2H    SP      3.543 3.543 4.020              8.564   8.564 -0.127\n",
       "CN     SP      3.192 3.192 4.518            -18.839 -18.839 -2.985\n",
       "HNS    SP      5.796 3.959 3.031             -1.502   3.246 10.542\n",
       "NaCl  NSP      4.334 4.334 5.471              0.698   0.698  2.058\n",
       "O3     SP      1.713 4.580 2.124             -0.000  -4.345 -1.471"
      ]
     },
     "execution_count": 23,
     "metadata": {},
     "output_type": "execute_result"
    }
   ],
   "source": [
    "pd.concat([\n",
    "    df_hh132_ref[\"Spin Polarization\"].loc[mask[mask].index],\n",
    "    df_g16_acvtz[\"B2PLYP\"].loc[mask[mask].index, [\"xx\", \"yy\", \"zz\"]],\n",
    "    df_relerr.loc[mask[mask].index],\n",
    "], axis=1).set_axis(pd.MultiIndex.from_tuples([(\"Spin\", \"Spin\")] + list(itertools.product([\"Analytical\", \"Relative Error / %\"], [\"xx\", \"yy\", \"zz\"]))), axis=\"columns\")"
   ]
  },
  {
   "cell_type": "markdown",
   "id": "828aecb0-6f57-4944-be27-07b6ebd15a7d",
   "metadata": {},
   "source": [
    "**B2PLYP DH**"
   ]
  },
  {
   "cell_type": "code",
   "execution_count": 24,
   "id": "02433716-2903-4d5e-bf5c-9e77ca8a682b",
   "metadata": {},
   "outputs": [],
   "source": [
    "mol_current = sorted(list(set(mol_hh132) - set(mol_exclude_symm) - set(mol_exclude_mp2) - set([\"H\"])))"
   ]
  },
  {
   "cell_type": "code",
   "execution_count": 25,
   "id": "7487408d-fa4f-4a96-822a-d9775c8d0daf",
   "metadata": {},
   "outputs": [],
   "source": [
    "df_relerr = (df_dh_acvtz[\"B2PLYP\"].loc[:, [\"xx\", \"yy\", \"zz\"]] / df_g16_acvtz[\"B2PLYP\"].loc[:, [\"xx\", \"yy\", \"zz\"]] - 1) * 100\n",
    "df_relerr = df_relerr.loc[mol_current]"
   ]
  },
  {
   "cell_type": "code",
   "execution_count": 26,
   "id": "87e341e1-9670-4a74-8866-1152d9e6e2f7",
   "metadata": {},
   "outputs": [],
   "source": [
    "mask = (df_relerr.abs() > 0.1).sum(axis=1) > 0"
   ]
  },
  {
   "cell_type": "code",
   "execution_count": 27,
   "id": "ff915f8c-a407-43dc-9fee-4c364cfbef5d",
   "metadata": {},
   "outputs": [
    {
     "data": {
      "text/html": [
       "<div>\n",
       "<style scoped>\n",
       "    .dataframe tbody tr th:only-of-type {\n",
       "        vertical-align: middle;\n",
       "    }\n",
       "\n",
       "    .dataframe tbody tr th {\n",
       "        vertical-align: top;\n",
       "    }\n",
       "\n",
       "    .dataframe thead tr th {\n",
       "        text-align: left;\n",
       "    }\n",
       "</style>\n",
       "<table border=\"1\" class=\"dataframe\">\n",
       "  <thead>\n",
       "    <tr>\n",
       "      <th></th>\n",
       "      <th>Spin</th>\n",
       "      <th colspan=\"3\" halign=\"left\">Analytical</th>\n",
       "      <th colspan=\"3\" halign=\"left\">Relative Error / %</th>\n",
       "    </tr>\n",
       "    <tr>\n",
       "      <th></th>\n",
       "      <th>Spin</th>\n",
       "      <th>xx</th>\n",
       "      <th>yy</th>\n",
       "      <th>zz</th>\n",
       "      <th>xx</th>\n",
       "      <th>yy</th>\n",
       "      <th>zz</th>\n",
       "    </tr>\n",
       "  </thead>\n",
       "  <tbody>\n",
       "    <tr>\n",
       "      <th>LiCl</th>\n",
       "      <td>NSP</td>\n",
       "      <td>3.894</td>\n",
       "      <td>3.894</td>\n",
       "      <td>4.194</td>\n",
       "      <td>0.051</td>\n",
       "      <td>0.051</td>\n",
       "      <td>0.245</td>\n",
       "    </tr>\n",
       "    <tr>\n",
       "      <th>LiH</th>\n",
       "      <td>NSP</td>\n",
       "      <td>4.313</td>\n",
       "      <td>4.313</td>\n",
       "      <td>3.949</td>\n",
       "      <td>-0.101</td>\n",
       "      <td>-0.101</td>\n",
       "      <td>-0.012</td>\n",
       "    </tr>\n",
       "  </tbody>\n",
       "</table>\n",
       "</div>"
      ],
      "text/plain": [
       "     Spin Analytical             Relative Error / %              \n",
       "     Spin         xx    yy    zz                 xx     yy     zz\n",
       "LiCl  NSP      3.894 3.894 4.194              0.051  0.051  0.245\n",
       "LiH   NSP      4.313 4.313 3.949             -0.101 -0.101 -0.012"
      ]
     },
     "execution_count": 27,
     "metadata": {},
     "output_type": "execute_result"
    }
   ],
   "source": [
    "pd.concat([\n",
    "    df_hh132_ref[\"Spin Polarization\"].loc[mask[mask].index],\n",
    "    df_g16_acvtz[\"B2PLYP\"].loc[mask[mask].index, [\"xx\", \"yy\", \"zz\"]],\n",
    "    df_relerr.loc[mask[mask].index],\n",
    "], axis=1).set_axis(pd.MultiIndex.from_tuples([(\"Spin\", \"Spin\")] + list(itertools.product([\"Analytical\", \"Relative Error / %\"], [\"xx\", \"yy\", \"zz\"]))), axis=\"columns\")"
   ]
  },
  {
   "cell_type": "markdown",
   "id": "5155294d-9c9e-424e-9261-51d82eda66cd",
   "metadata": {},
   "source": [
    "### B2GPPLYP"
   ]
  },
  {
   "cell_type": "markdown",
   "id": "fd9809c7-e396-4775-9827-802745f1ee9b",
   "metadata": {},
   "source": [
    "**B2GPPLYP HH132 original**"
   ]
  },
  {
   "cell_type": "code",
   "execution_count": 28,
   "id": "eaf86e74-6839-4feb-9242-afb72d40cb1e",
   "metadata": {},
   "outputs": [],
   "source": [
    "mol_current = sorted(list(set(mol_hh132) - set(mol_exclude_symm) - set(mol_exclude_mp2) - set([\"H\"])))"
   ]
  },
  {
   "cell_type": "code",
   "execution_count": 29,
   "id": "5bf1c9eb-9eb9-4b05-9a71-35424101417d",
   "metadata": {},
   "outputs": [],
   "source": [
    "df_relerr = (df_hh132_acvtz[\"B2GPPLYP\"].loc[:, [\"xx\", \"yy\", \"zz\"]] / df_g16_acvtz[\"B2GPPLYP\"].loc[:, [\"xx\", \"yy\", \"zz\"]] - 1) * 100\n",
    "df_relerr = df_relerr.loc[mol_current]"
   ]
  },
  {
   "cell_type": "code",
   "execution_count": 30,
   "id": "346bc9ce-3e20-42c6-89a7-4981b7f5604c",
   "metadata": {},
   "outputs": [],
   "source": [
    "mask = (df_relerr.abs() > 2).sum(axis=1) > 0"
   ]
  },
  {
   "cell_type": "code",
   "execution_count": 31,
   "id": "fbf9bb3c-5c7a-44ca-8c8c-b80ef92b57d4",
   "metadata": {},
   "outputs": [
    {
     "data": {
      "text/html": [
       "<div>\n",
       "<style scoped>\n",
       "    .dataframe tbody tr th:only-of-type {\n",
       "        vertical-align: middle;\n",
       "    }\n",
       "\n",
       "    .dataframe tbody tr th {\n",
       "        vertical-align: top;\n",
       "    }\n",
       "\n",
       "    .dataframe thead tr th {\n",
       "        text-align: left;\n",
       "    }\n",
       "</style>\n",
       "<table border=\"1\" class=\"dataframe\">\n",
       "  <thead>\n",
       "    <tr>\n",
       "      <th></th>\n",
       "      <th>Spin</th>\n",
       "      <th colspan=\"3\" halign=\"left\">Analytical</th>\n",
       "      <th colspan=\"3\" halign=\"left\">Relative Error / %</th>\n",
       "    </tr>\n",
       "    <tr>\n",
       "      <th></th>\n",
       "      <th>Spin</th>\n",
       "      <th>xx</th>\n",
       "      <th>yy</th>\n",
       "      <th>zz</th>\n",
       "      <th>xx</th>\n",
       "      <th>yy</th>\n",
       "      <th>zz</th>\n",
       "    </tr>\n",
       "  </thead>\n",
       "  <tbody>\n",
       "    <tr>\n",
       "      <th>C2H</th>\n",
       "      <td>SP</td>\n",
       "      <td>3.395</td>\n",
       "      <td>3.395</td>\n",
       "      <td>4.009</td>\n",
       "      <td>7.009</td>\n",
       "      <td>7.009</td>\n",
       "      <td>-0.751</td>\n",
       "    </tr>\n",
       "    <tr>\n",
       "      <th>CN</th>\n",
       "      <td>SP</td>\n",
       "      <td>3.304</td>\n",
       "      <td>3.304</td>\n",
       "      <td>4.243</td>\n",
       "      <td>-18.696</td>\n",
       "      <td>-18.696</td>\n",
       "      <td>-1.834</td>\n",
       "    </tr>\n",
       "    <tr>\n",
       "      <th>HNO</th>\n",
       "      <td>SP</td>\n",
       "      <td>1.490</td>\n",
       "      <td>2.289</td>\n",
       "      <td>2.719</td>\n",
       "      <td>5.253</td>\n",
       "      <td>0.786</td>\n",
       "      <td>1.883</td>\n",
       "    </tr>\n",
       "    <tr>\n",
       "      <th>HNS</th>\n",
       "      <td>SP</td>\n",
       "      <td>6.974</td>\n",
       "      <td>3.971</td>\n",
       "      <td>4.786</td>\n",
       "      <td>-18.989</td>\n",
       "      <td>1.673</td>\n",
       "      <td>-30.387</td>\n",
       "    </tr>\n",
       "    <tr>\n",
       "      <th>NP</th>\n",
       "      <td>SP</td>\n",
       "      <td>3.357</td>\n",
       "      <td>3.357</td>\n",
       "      <td>6.635</td>\n",
       "      <td>6.480</td>\n",
       "      <td>6.480</td>\n",
       "      <td>-18.120</td>\n",
       "    </tr>\n",
       "    <tr>\n",
       "      <th>O2</th>\n",
       "      <td>SP</td>\n",
       "      <td>1.174</td>\n",
       "      <td>1.174</td>\n",
       "      <td>2.193</td>\n",
       "      <td>0.372</td>\n",
       "      <td>0.372</td>\n",
       "      <td>-3.047</td>\n",
       "    </tr>\n",
       "    <tr>\n",
       "      <th>O3</th>\n",
       "      <td>SP</td>\n",
       "      <td>1.696</td>\n",
       "      <td>4.518</td>\n",
       "      <td>2.095</td>\n",
       "      <td>0.226</td>\n",
       "      <td>-4.981</td>\n",
       "      <td>-1.451</td>\n",
       "    </tr>\n",
       "  </tbody>\n",
       "</table>\n",
       "</div>"
      ],
      "text/plain": [
       "    Spin Analytical             Relative Error / %                \n",
       "    Spin         xx    yy    zz                 xx      yy      zz\n",
       "C2H   SP      3.395 3.395 4.009              7.009   7.009  -0.751\n",
       "CN    SP      3.304 3.304 4.243            -18.696 -18.696  -1.834\n",
       "HNO   SP      1.490 2.289 2.719              5.253   0.786   1.883\n",
       "HNS   SP      6.974 3.971 4.786            -18.989   1.673 -30.387\n",
       "NP    SP      3.357 3.357 6.635              6.480   6.480 -18.120\n",
       "O2    SP      1.174 1.174 2.193              0.372   0.372  -3.047\n",
       "O3    SP      1.696 4.518 2.095              0.226  -4.981  -1.451"
      ]
     },
     "execution_count": 31,
     "metadata": {},
     "output_type": "execute_result"
    }
   ],
   "source": [
    "pd.concat([\n",
    "    df_hh132_ref[\"Spin Polarization\"].loc[mask[mask].index],\n",
    "    df_g16_acvtz[\"B2GPPLYP\"].loc[mask[mask].index, [\"xx\", \"yy\", \"zz\"]],\n",
    "    df_relerr.loc[mask[mask].index],\n",
    "], axis=1).set_axis(pd.MultiIndex.from_tuples([(\"Spin\", \"Spin\")] + list(itertools.product([\"Analytical\", \"Relative Error / %\"], [\"xx\", \"yy\", \"zz\"]))), axis=\"columns\")"
   ]
  },
  {
   "cell_type": "markdown",
   "id": "72a5be2b-d2dd-40ea-a662-43a42961a85f",
   "metadata": {},
   "source": [
    "**B2GPPLYP DH**"
   ]
  },
  {
   "cell_type": "code",
   "execution_count": 32,
   "id": "45f1d466-e464-4a6c-afd7-f1190ea5ca73",
   "metadata": {},
   "outputs": [],
   "source": [
    "mol_current = sorted(list(set(mol_hh132) - set(mol_exclude_symm) - set(mol_exclude_mp2) - set([\"H\"])))"
   ]
  },
  {
   "cell_type": "code",
   "execution_count": 33,
   "id": "491dff3a-a5d3-482d-80ee-20af111530ae",
   "metadata": {},
   "outputs": [],
   "source": [
    "df_relerr = (df_dh_acvtz[\"B2GPPLYP\"].loc[:, [\"xx\", \"yy\", \"zz\"]] / df_g16_acvtz[\"B2GPPLYP\"].loc[:, [\"xx\", \"yy\", \"zz\"]] - 1) * 100\n",
    "df_relerr = df_relerr.loc[mol_current]"
   ]
  },
  {
   "cell_type": "code",
   "execution_count": 34,
   "id": "6d949235-d0af-4170-bda3-28204c672f36",
   "metadata": {},
   "outputs": [],
   "source": [
    "mask = (df_relerr.abs() > 0.1).sum(axis=1) > 0"
   ]
  },
  {
   "cell_type": "code",
   "execution_count": 35,
   "id": "7f34e1f7-e51b-4296-8aa2-d1cad5041699",
   "metadata": {},
   "outputs": [
    {
     "data": {
      "text/html": [
       "<div>\n",
       "<style scoped>\n",
       "    .dataframe tbody tr th:only-of-type {\n",
       "        vertical-align: middle;\n",
       "    }\n",
       "\n",
       "    .dataframe tbody tr th {\n",
       "        vertical-align: top;\n",
       "    }\n",
       "\n",
       "    .dataframe thead tr th {\n",
       "        text-align: left;\n",
       "    }\n",
       "</style>\n",
       "<table border=\"1\" class=\"dataframe\">\n",
       "  <thead>\n",
       "    <tr>\n",
       "      <th></th>\n",
       "      <th>Spin</th>\n",
       "      <th colspan=\"3\" halign=\"left\">Analytical</th>\n",
       "      <th colspan=\"3\" halign=\"left\">Relative Error / %</th>\n",
       "    </tr>\n",
       "    <tr>\n",
       "      <th></th>\n",
       "      <th>Spin</th>\n",
       "      <th>xx</th>\n",
       "      <th>yy</th>\n",
       "      <th>zz</th>\n",
       "      <th>xx</th>\n",
       "      <th>yy</th>\n",
       "      <th>zz</th>\n",
       "    </tr>\n",
       "  </thead>\n",
       "  <tbody>\n",
       "    <tr>\n",
       "      <th>LiH</th>\n",
       "      <td>NSP</td>\n",
       "      <td>4.175</td>\n",
       "      <td>4.175</td>\n",
       "      <td>3.762</td>\n",
       "      <td>-0.129</td>\n",
       "      <td>-0.129</td>\n",
       "      <td>-0.020</td>\n",
       "    </tr>\n",
       "    <tr>\n",
       "      <th>NP</th>\n",
       "      <td>SP</td>\n",
       "      <td>3.357</td>\n",
       "      <td>3.357</td>\n",
       "      <td>6.635</td>\n",
       "      <td>0.000</td>\n",
       "      <td>0.000</td>\n",
       "      <td>0.812</td>\n",
       "    </tr>\n",
       "    <tr>\n",
       "      <th>NaH</th>\n",
       "      <td>NSP</td>\n",
       "      <td>5.326</td>\n",
       "      <td>5.326</td>\n",
       "      <td>7.562</td>\n",
       "      <td>-0.515</td>\n",
       "      <td>-0.515</td>\n",
       "      <td>-0.041</td>\n",
       "    </tr>\n",
       "  </tbody>\n",
       "</table>\n",
       "</div>"
      ],
      "text/plain": [
       "    Spin Analytical             Relative Error / %              \n",
       "    Spin         xx    yy    zz                 xx     yy     zz\n",
       "LiH  NSP      4.175 4.175 3.762             -0.129 -0.129 -0.020\n",
       "NP    SP      3.357 3.357 6.635              0.000  0.000  0.812\n",
       "NaH  NSP      5.326 5.326 7.562             -0.515 -0.515 -0.041"
      ]
     },
     "execution_count": 35,
     "metadata": {},
     "output_type": "execute_result"
    }
   ],
   "source": [
    "pd.concat([\n",
    "    df_hh132_ref[\"Spin Polarization\"].loc[mask[mask].index],\n",
    "    df_g16_acvtz[\"B2GPPLYP\"].loc[mask[mask].index, [\"xx\", \"yy\", \"zz\"]],\n",
    "    df_relerr.loc[mask[mask].index],\n",
    "], axis=1).set_axis(pd.MultiIndex.from_tuples([(\"Spin\", \"Spin\")] + list(itertools.product([\"Analytical\", \"Relative Error / %\"], [\"xx\", \"yy\", \"zz\"]))), axis=\"columns\")"
   ]
  },
  {
   "cell_type": "markdown",
   "id": "c066a7f9-8697-4b3c-a77c-7bf0a5345601",
   "metadata": {},
   "source": [
    "### DSD-PBEPBE-D3"
   ]
  },
  {
   "cell_type": "markdown",
   "id": "f204d248-a711-4266-95f6-1ff3cbc58e19",
   "metadata": {},
   "source": [
    "**DSD-PBEPBE-D3 HH132 original**"
   ]
  },
  {
   "cell_type": "code",
   "execution_count": 36,
   "id": "00091646-e2a1-48f6-a519-8045e5fd1b5d",
   "metadata": {},
   "outputs": [],
   "source": [
    "mol_current = sorted(list(set(mol_hh132) - set(mol_exclude_symm) - set(mol_exclude_mp2) - set([\"H\"])))"
   ]
  },
  {
   "cell_type": "code",
   "execution_count": 37,
   "id": "51f4c73e-c019-47d8-879d-0967ce959a16",
   "metadata": {},
   "outputs": [],
   "source": [
    "df_relerr = (df_hh132_acvtz[\"DSD-PBEPBE-D3\"].loc[:, [\"xx\", \"yy\", \"zz\"]] / df_g16_acvtz[\"DSD-PBEPBE-D3\"].loc[:, [\"xx\", \"yy\", \"zz\"]] - 1) * 100\n",
    "df_relerr = df_relerr.loc[mol_current]"
   ]
  },
  {
   "cell_type": "code",
   "execution_count": 38,
   "id": "c75bf622-bc78-4d49-a683-ce54d95a6c20",
   "metadata": {},
   "outputs": [],
   "source": [
    "mask = (df_relerr.abs() > 2).sum(axis=1) > 0"
   ]
  },
  {
   "cell_type": "code",
   "execution_count": 39,
   "id": "e8480aff-798a-46f1-b029-7b5da7cab4e1",
   "metadata": {},
   "outputs": [
    {
     "data": {
      "text/html": [
       "<div>\n",
       "<style scoped>\n",
       "    .dataframe tbody tr th:only-of-type {\n",
       "        vertical-align: middle;\n",
       "    }\n",
       "\n",
       "    .dataframe tbody tr th {\n",
       "        vertical-align: top;\n",
       "    }\n",
       "\n",
       "    .dataframe thead tr th {\n",
       "        text-align: left;\n",
       "    }\n",
       "</style>\n",
       "<table border=\"1\" class=\"dataframe\">\n",
       "  <thead>\n",
       "    <tr>\n",
       "      <th></th>\n",
       "      <th>Spin</th>\n",
       "      <th colspan=\"3\" halign=\"left\">Analytical</th>\n",
       "      <th colspan=\"3\" halign=\"left\">Relative Error / %</th>\n",
       "    </tr>\n",
       "    <tr>\n",
       "      <th></th>\n",
       "      <th>Spin</th>\n",
       "      <th>xx</th>\n",
       "      <th>yy</th>\n",
       "      <th>zz</th>\n",
       "      <th>xx</th>\n",
       "      <th>yy</th>\n",
       "      <th>zz</th>\n",
       "    </tr>\n",
       "  </thead>\n",
       "  <tbody>\n",
       "    <tr>\n",
       "      <th>BO</th>\n",
       "      <td>SP</td>\n",
       "      <td>2.308</td>\n",
       "      <td>2.308</td>\n",
       "      <td>2.790</td>\n",
       "      <td>0.141</td>\n",
       "      <td>0.141</td>\n",
       "      <td>3.479</td>\n",
       "    </tr>\n",
       "    <tr>\n",
       "      <th>BS</th>\n",
       "      <td>SP</td>\n",
       "      <td>4.437</td>\n",
       "      <td>4.437</td>\n",
       "      <td>6.279</td>\n",
       "      <td>-0.390</td>\n",
       "      <td>-0.390</td>\n",
       "      <td>2.786</td>\n",
       "    </tr>\n",
       "    <tr>\n",
       "      <th>C2H</th>\n",
       "      <td>SP</td>\n",
       "      <td>3.275</td>\n",
       "      <td>3.275</td>\n",
       "      <td>4.028</td>\n",
       "      <td>5.621</td>\n",
       "      <td>5.621</td>\n",
       "      <td>-2.152</td>\n",
       "    </tr>\n",
       "    <tr>\n",
       "      <th>C2H3</th>\n",
       "      <td>SP</td>\n",
       "      <td>3.458</td>\n",
       "      <td>5.224</td>\n",
       "      <td>3.253</td>\n",
       "      <td>-0.041</td>\n",
       "      <td>-2.868</td>\n",
       "      <td>-1.886</td>\n",
       "    </tr>\n",
       "    <tr>\n",
       "      <th>CH2PH</th>\n",
       "      <td>SP</td>\n",
       "      <td>9.288</td>\n",
       "      <td>5.237</td>\n",
       "      <td>5.774</td>\n",
       "      <td>-18.140</td>\n",
       "      <td>-4.902</td>\n",
       "      <td>-1.666</td>\n",
       "    </tr>\n",
       "    <tr>\n",
       "      <th>CN</th>\n",
       "      <td>SP</td>\n",
       "      <td>3.168</td>\n",
       "      <td>3.168</td>\n",
       "      <td>3.985</td>\n",
       "      <td>-14.950</td>\n",
       "      <td>-14.950</td>\n",
       "      <td>0.268</td>\n",
       "    </tr>\n",
       "    <tr>\n",
       "      <th>F2</th>\n",
       "      <td>SP</td>\n",
       "      <td>0.886</td>\n",
       "      <td>0.886</td>\n",
       "      <td>2.649</td>\n",
       "      <td>2.027</td>\n",
       "      <td>2.027</td>\n",
       "      <td>-32.081</td>\n",
       "    </tr>\n",
       "    <tr>\n",
       "      <th>HNO</th>\n",
       "      <td>SP</td>\n",
       "      <td>1.373</td>\n",
       "      <td>2.288</td>\n",
       "      <td>2.662</td>\n",
       "      <td>13.702</td>\n",
       "      <td>0.703</td>\n",
       "      <td>3.008</td>\n",
       "    </tr>\n",
       "    <tr>\n",
       "      <th>HNS</th>\n",
       "      <td>SP</td>\n",
       "      <td>6.957</td>\n",
       "      <td>3.972</td>\n",
       "      <td>3.554</td>\n",
       "      <td>-19.780</td>\n",
       "      <td>1.397</td>\n",
       "      <td>-6.832</td>\n",
       "    </tr>\n",
       "    <tr>\n",
       "      <th>NP</th>\n",
       "      <td>SP</td>\n",
       "      <td>3.320</td>\n",
       "      <td>3.320</td>\n",
       "      <td>6.949</td>\n",
       "      <td>7.205</td>\n",
       "      <td>7.205</td>\n",
       "      <td>-22.109</td>\n",
       "    </tr>\n",
       "    <tr>\n",
       "      <th>O2</th>\n",
       "      <td>SP</td>\n",
       "      <td>1.179</td>\n",
       "      <td>1.179</td>\n",
       "      <td>2.236</td>\n",
       "      <td>0.584</td>\n",
       "      <td>0.584</td>\n",
       "      <td>-3.005</td>\n",
       "    </tr>\n",
       "    <tr>\n",
       "      <th>O3</th>\n",
       "      <td>SP</td>\n",
       "      <td>1.697</td>\n",
       "      <td>4.495</td>\n",
       "      <td>2.096</td>\n",
       "      <td>-0.148</td>\n",
       "      <td>-7.296</td>\n",
       "      <td>-1.446</td>\n",
       "    </tr>\n",
       "    <tr>\n",
       "      <th>P2</th>\n",
       "      <td>SP</td>\n",
       "      <td>6.176</td>\n",
       "      <td>6.176</td>\n",
       "      <td>11.026</td>\n",
       "      <td>-3.827</td>\n",
       "      <td>-3.827</td>\n",
       "      <td>-7.977</td>\n",
       "    </tr>\n",
       "  </tbody>\n",
       "</table>\n",
       "</div>"
      ],
      "text/plain": [
       "      Spin Analytical              Relative Error / %                \n",
       "      Spin         xx    yy     zz                 xx      yy      zz\n",
       "BO      SP      2.308 2.308  2.790              0.141   0.141   3.479\n",
       "BS      SP      4.437 4.437  6.279             -0.390  -0.390   2.786\n",
       "C2H     SP      3.275 3.275  4.028              5.621   5.621  -2.152\n",
       "C2H3    SP      3.458 5.224  3.253             -0.041  -2.868  -1.886\n",
       "CH2PH   SP      9.288 5.237  5.774            -18.140  -4.902  -1.666\n",
       "CN      SP      3.168 3.168  3.985            -14.950 -14.950   0.268\n",
       "F2      SP      0.886 0.886  2.649              2.027   2.027 -32.081\n",
       "HNO     SP      1.373 2.288  2.662             13.702   0.703   3.008\n",
       "HNS     SP      6.957 3.972  3.554            -19.780   1.397  -6.832\n",
       "NP      SP      3.320 3.320  6.949              7.205   7.205 -22.109\n",
       "O2      SP      1.179 1.179  2.236              0.584   0.584  -3.005\n",
       "O3      SP      1.697 4.495  2.096             -0.148  -7.296  -1.446\n",
       "P2      SP      6.176 6.176 11.026             -3.827  -3.827  -7.977"
      ]
     },
     "execution_count": 39,
     "metadata": {},
     "output_type": "execute_result"
    }
   ],
   "source": [
    "pd.concat([\n",
    "    df_hh132_ref[\"Spin Polarization\"].loc[mask[mask].index],\n",
    "    df_g16_acvtz[\"DSD-PBEPBE-D3\"].loc[mask[mask].index, [\"xx\", \"yy\", \"zz\"]],\n",
    "    df_relerr.loc[mask[mask].index],\n",
    "], axis=1).set_axis(pd.MultiIndex.from_tuples([(\"Spin\", \"Spin\")] + list(itertools.product([\"Analytical\", \"Relative Error / %\"], [\"xx\", \"yy\", \"zz\"]))), axis=\"columns\")"
   ]
  },
  {
   "cell_type": "markdown",
   "id": "f3ba7c4e-ad32-45cc-a90a-d4eb31346df2",
   "metadata": {},
   "source": [
    "**DSD-PBEPBE-D3 DH**"
   ]
  },
  {
   "cell_type": "code",
   "execution_count": 40,
   "id": "5da4af7c-7cc7-41ab-8df9-1d37b9745059",
   "metadata": {},
   "outputs": [],
   "source": [
    "mol_current = sorted(list(set(mol_hh132) - set(mol_exclude_symm) - set(mol_exclude_mp2) - set([\"H\"])))"
   ]
  },
  {
   "cell_type": "code",
   "execution_count": 41,
   "id": "41134567-5590-4b31-8e17-208ed3134362",
   "metadata": {},
   "outputs": [],
   "source": [
    "df_relerr = (df_dh_acvtz[\"DSD-PBEPBE-D3\"].loc[:, [\"xx\", \"yy\", \"zz\"]] / df_g16_acvtz[\"DSD-PBEPBE-D3\"].loc[:, [\"xx\", \"yy\", \"zz\"]] - 1) * 100\n",
    "df_relerr = df_relerr.loc[mol_current]"
   ]
  },
  {
   "cell_type": "code",
   "execution_count": 42,
   "id": "fe286f18-fde2-4c82-869e-ed22c954f1a9",
   "metadata": {},
   "outputs": [],
   "source": [
    "mask = (df_relerr.abs() > 0.1).sum(axis=1) > 0"
   ]
  },
  {
   "cell_type": "code",
   "execution_count": 43,
   "id": "f8a6e4b4-b494-4ad9-b45e-3b9cb178b586",
   "metadata": {},
   "outputs": [
    {
     "data": {
      "text/html": [
       "<div>\n",
       "<style scoped>\n",
       "    .dataframe tbody tr th:only-of-type {\n",
       "        vertical-align: middle;\n",
       "    }\n",
       "\n",
       "    .dataframe tbody tr th {\n",
       "        vertical-align: top;\n",
       "    }\n",
       "\n",
       "    .dataframe thead tr th {\n",
       "        text-align: left;\n",
       "    }\n",
       "</style>\n",
       "<table border=\"1\" class=\"dataframe\">\n",
       "  <thead>\n",
       "    <tr>\n",
       "      <th></th>\n",
       "      <th>Spin</th>\n",
       "      <th colspan=\"3\" halign=\"left\">Analytical</th>\n",
       "      <th colspan=\"3\" halign=\"left\">Relative Error / %</th>\n",
       "    </tr>\n",
       "    <tr>\n",
       "      <th></th>\n",
       "      <th>Spin</th>\n",
       "      <th>xx</th>\n",
       "      <th>yy</th>\n",
       "      <th>zz</th>\n",
       "      <th>xx</th>\n",
       "      <th>yy</th>\n",
       "      <th>zz</th>\n",
       "    </tr>\n",
       "  </thead>\n",
       "  <tbody>\n",
       "    <tr>\n",
       "      <th>BeH2</th>\n",
       "      <td>NSP</td>\n",
       "      <td>2.931</td>\n",
       "      <td>2.931</td>\n",
       "      <td>3.007</td>\n",
       "      <td>-0.117</td>\n",
       "      <td>-0.117</td>\n",
       "      <td>-0.023</td>\n",
       "    </tr>\n",
       "    <tr>\n",
       "      <th>LiH</th>\n",
       "      <td>NSP</td>\n",
       "      <td>4.282</td>\n",
       "      <td>4.282</td>\n",
       "      <td>3.767</td>\n",
       "      <td>-0.203</td>\n",
       "      <td>-0.203</td>\n",
       "      <td>-0.055</td>\n",
       "    </tr>\n",
       "  </tbody>\n",
       "</table>\n",
       "</div>"
      ],
      "text/plain": [
       "     Spin Analytical             Relative Error / %              \n",
       "     Spin         xx    yy    zz                 xx     yy     zz\n",
       "BeH2  NSP      2.931 2.931 3.007             -0.117 -0.117 -0.023\n",
       "LiH   NSP      4.282 4.282 3.767             -0.203 -0.203 -0.055"
      ]
     },
     "execution_count": 43,
     "metadata": {},
     "output_type": "execute_result"
    }
   ],
   "source": [
    "pd.concat([\n",
    "    df_hh132_ref[\"Spin Polarization\"].loc[mask[mask].index],\n",
    "    df_g16_acvtz[\"DSD-PBEPBE-D3\"].loc[mask[mask].index, [\"xx\", \"yy\", \"zz\"]],\n",
    "    df_relerr.loc[mask[mask].index],\n",
    "], axis=1).set_axis(pd.MultiIndex.from_tuples([(\"Spin\", \"Spin\")] + list(itertools.product([\"Analytical\", \"Relative Error / %\"], [\"xx\", \"yy\", \"zz\"]))), axis=\"columns\")"
   ]
  },
  {
   "cell_type": "markdown",
   "id": "a3fea77a-1c82-4f13-9cb0-fd0a9bf12c3f",
   "metadata": {},
   "source": [
    "## 最终输出的分子"
   ]
  },
  {
   "cell_type": "code",
   "execution_count": 48,
   "id": "904db18a-1407-4d9b-a206-854110828618",
   "metadata": {},
   "outputs": [],
   "source": [
    "mol_exclude_dh = [\"BO\", \"BS\", \"C2H\", \"C2H3\", \"CH2PH\", \"CN\", \"F2\", \"HNO\", \"HNS\", \"NP\", \"O2\", \"O3\", \"P2\"]"
   ]
  },
  {
   "cell_type": "code",
   "execution_count": 52,
   "id": "9e9e4653-ac2f-4da6-9d43-890f769a7669",
   "metadata": {},
   "outputs": [],
   "source": [
    "mol_hh101 = sorted(list(set(mol_hh132) - set(mol_exclude_symm) - set(mol_exclude_mp2) - set(mol_exclude_dh)))"
   ]
  },
  {
   "cell_type": "code",
   "execution_count": 53,
   "id": "00c4029c-c290-4136-a64a-3943caece6a4",
   "metadata": {},
   "outputs": [
    {
     "data": {
      "text/plain": [
       "101"
      ]
     },
     "execution_count": 53,
     "metadata": {},
     "output_type": "execute_result"
    }
   ],
   "source": [
    "len(mol_hh101)"
   ]
  },
  {
   "cell_type": "code",
   "execution_count": 72,
   "id": "c2d9933d-6f38-4765-8e8b-7b71d78054ec",
   "metadata": {},
   "outputs": [],
   "source": [
    "hh132_spin = (df_hh132_ref[\"Spin Polarization\"] == \"SP\").iloc[:, 0]"
   ]
  },
  {
   "cell_type": "code",
   "execution_count": 74,
   "id": "031eec93-4cae-43cd-912e-dcbf30ff6b8b",
   "metadata": {},
   "outputs": [
    {
     "name": "stdout",
     "output_type": "stream",
     "text": [
      "26\n",
      "BH2\n",
      "BeH\n",
      "CH2-t\n",
      "CH2F\n",
      "CH3\n",
      "FCO\n",
      "FH-OH\n",
      "H2CN\n",
      "H2O-Li\n",
      "HCHS\n",
      "HCO\n",
      "HCP\n",
      "HO2\n",
      "Li\n",
      "N\n",
      "N2H2\n",
      "NH\n",
      "NH2\n",
      "Na\n",
      "OF2\n",
      "P\n",
      "PH\n",
      "PH2\n",
      "S2\n",
      "SO-trip\n",
      "SiH3\n"
     ]
    }
   ],
   "source": [
    "print(len(sorted(list(set(hh132_spin[hh132_spin].index).intersection(set(mol_hh101))))))\n",
    "for i in sorted(list(set(hh132_spin[hh132_spin].index).intersection(set(mol_hh101)))):\n",
    "    print(i)"
   ]
  },
  {
   "cell_type": "code",
   "execution_count": 75,
   "id": "3996670c-4fad-4ca9-a8bd-55ede6947b8a",
   "metadata": {},
   "outputs": [
    {
     "name": "stdout",
     "output_type": "stream",
     "text": [
      "75\n",
      "AlF\n",
      "Ar\n",
      "BF\n",
      "BH2Cl\n",
      "BH2F\n",
      "BH3\n",
      "BHF2\n",
      "BeH2\n",
      "C2H2\n",
      "C2H4\n",
      "CH2BH\n",
      "CH3BH2\n",
      "CH3Cl\n",
      "CH3F\n",
      "CH3NH2\n",
      "CH3OH\n",
      "CH3SH\n",
      "CH4\n",
      "CO\n",
      "CO2\n",
      "CS\n",
      "CSO\n",
      "Cl2\n",
      "ClCN\n",
      "ClF\n",
      "FCN\n",
      "FNO\n",
      "H\n",
      "H2\n",
      "H2O\n",
      "HBO\n",
      "HBS\n",
      "HCCCl\n",
      "HCCF\n",
      "HCHO\n",
      "HCN\n",
      "HCONH2\n",
      "HCOOH\n",
      "HCl\n",
      "HF\n",
      "HNC\n",
      "HOCl\n",
      "HOOH\n",
      "He\n",
      "LiBH4\n",
      "LiCN\n",
      "LiCl\n",
      "LiH\n",
      "Mg\n",
      "Mg2\n",
      "N2\n",
      "N2H4\n",
      "NH2Cl\n",
      "NH2F\n",
      "NH2OH\n",
      "NH3\n",
      "NH3O\n",
      "NaCN\n",
      "NaCl\n",
      "NaH\n",
      "Ne\n",
      "OCl2\n",
      "P2H4\n",
      "PH2OH\n",
      "PH3\n",
      "PH3O\n",
      "S2H2\n",
      "SCl2\n",
      "SF2\n",
      "SH2\n",
      "SO2\n",
      "SiH3Cl\n",
      "SiH3F\n",
      "SiH4\n",
      "SiO\n"
     ]
    }
   ],
   "source": [
    "print(len(sorted(list(set(hh132_spin[~hh132_spin].index).intersection(set(mol_hh101))))))\n",
    "for i in sorted(list(set(hh132_spin[~hh132_spin].index).intersection(set(mol_hh101)))):\n",
    "    print(i)"
   ]
  },
  {
   "cell_type": "code",
   "execution_count": 80,
   "id": "45577c72-e0b1-4fbd-88f2-05682eccaf86",
   "metadata": {},
   "outputs": [
    {
     "name": "stdout",
     "output_type": "stream",
     "text": [
      "['AlF', 'Ar', 'BF', 'BH2', 'BH2Cl', 'BH2F', 'BH3', 'BHF2', 'BeH', 'BeH2', 'C2H2', 'C2H4', 'CH2-t', 'CH2BH', 'CH2F', 'CH3', 'CH3BH2', 'CH3Cl', 'CH3F', 'CH3NH2', 'CH3OH', 'CH3SH', 'CH4', 'CO', 'CO2', 'CS', 'CSO', 'Cl2', 'ClCN', 'ClF', 'FCN', 'FCO', 'FH-OH', 'FNO', 'H', 'H2', 'H2CN', 'H2O', 'H2O-Li', 'HBO', 'HBS', 'HCCCl', 'HCCF', 'HCHO', 'HCHS', 'HCN', 'HCO', 'HCONH2', 'HCOOH', 'HCP', 'HCl', 'HF', 'HNC', 'HO2', 'HOCl', 'HOOH', 'He', 'Li', 'LiBH4', 'LiCN', 'LiCl', 'LiH', 'Mg', 'Mg2', 'N', 'N2', 'N2H2', 'N2H4', 'NH', 'NH2', 'NH2Cl', 'NH2F', 'NH2OH', 'NH3', 'NH3O', 'Na', 'NaCN', 'NaCl', 'NaH', 'Ne', 'OCl2', 'OF2', 'P', 'P2H4', 'PH', 'PH2', 'PH2OH', 'PH3', 'PH3O', 'S2', 'S2H2', 'SCl2', 'SF2', 'SH2', 'SO-trip', 'SO2', 'SiH3', 'SiH3Cl', 'SiH3F', 'SiH4', 'SiO']\n"
     ]
    }
   ],
   "source": [
    "print(mol_hh101)"
   ]
  },
  {
   "cell_type": "code",
   "execution_count": null,
   "id": "e372c175-5fcd-48cf-8d5e-2cf67b22df63",
   "metadata": {},
   "outputs": [],
   "source": []
  }
 ],
 "metadata": {
  "kernelspec": {
   "display_name": "Python 3 (ipykernel)",
   "language": "python",
   "name": "python3"
  },
  "language_info": {
   "codemirror_mode": {
    "name": "ipython",
    "version": 3
   },
   "file_extension": ".py",
   "mimetype": "text/x-python",
   "name": "python",
   "nbconvert_exporter": "python",
   "pygments_lexer": "ipython3",
   "version": "3.10.13"
  }
 },
 "nbformat": 4,
 "nbformat_minor": 5
}
