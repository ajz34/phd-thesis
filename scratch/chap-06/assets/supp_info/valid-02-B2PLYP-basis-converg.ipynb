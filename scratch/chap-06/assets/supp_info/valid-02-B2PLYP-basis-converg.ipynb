{
 "cells": [
  {
   "cell_type": "code",
   "execution_count": 3,
   "id": "a6933c2c-43d6-4115-99dd-92c50107dc6c",
   "metadata": {},
   "outputs": [],
   "source": [
    "import numpy as np\n",
    "import pandas as pd\n",
    "from util import (BOHR, read_mat, read_comp, get_iso, get_aniso, read_by_prompt, get_df_err, get_rmsre_3comp, get_relrmsd_3comp)\n",
    "import itertools\n",
    "import warnings\n",
    "\n",
    "warnings.filterwarnings(\"ignore\")\n",
    "np.set_printoptions(8, suppress=True, linewidth=150)\n",
    "pd.set_option('display.max_rows', None)\n",
    "pd.set_option(\"display.precision\", 3)\n",
    "pd.set_option(\"float_format\", '{:.3f}'.format)"
   ]
  },
  {
   "cell_type": "code",
   "execution_count": 4,
   "id": "3fe7ecc7-c65e-4833-9bf0-3f5bceff69d4",
   "metadata": {},
   "outputs": [],
   "source": [
    "import matplotlib.pyplot as plt\n",
    "from matplotlib_inline.backend_inline import set_matplotlib_formats\n",
    "%matplotlib inline\n",
    "\n",
    "set_matplotlib_formats('svg')"
   ]
  },
  {
   "cell_type": "code",
   "execution_count": 5,
   "id": "3569c871-ba14-4638-b102-98c2e162b0ac",
   "metadata": {},
   "outputs": [],
   "source": [
    "def get_df_iso(df):\n",
    "    xx, yy, zz = df[\"xx\"], df[\"yy\"], df[\"zz\"]\n",
    "    return 1 / 3 * (xx + yy + zz)\n",
    "\n",
    "def get_df_aniso(df):\n",
    "    xx, yy, zz, xy, yz, zx = df[\"xx\"], df[\"yy\"], df[\"zz\"], df[\"xy\"], df[\"yz\"], df[\"zx\"]\n",
    "    return np.sqrt(0.5) * ((xx - yy)**2 + (yy - zz)**2 + (zz - xx)**2 + 6 * (xy**2 + yz**2 + zx**2))**0.5"
   ]
  },
  {
   "cell_type": "markdown",
   "id": "87276da4-e634-432b-84e0-631c3da28b7d",
   "metadata": {},
   "source": [
    "## 读取基本数据"
   ]
  },
  {
   "cell_type": "code",
   "execution_count": 6,
   "id": "3ab2dbac-bfac-4b26-9e60-1ae63ebc7706",
   "metadata": {},
   "outputs": [],
   "source": [
    "mol_hh101 = ['AlF', 'Ar', 'BF', 'BH2', 'BH2Cl', 'BH2F', 'BH3', 'BHF2', 'BeH', 'BeH2', 'C2H2', 'C2H4', 'CH2-t', 'CH2BH', 'CH2F', 'CH3', 'CH3BH2', 'CH3Cl', 'CH3F', 'CH3NH2', 'CH3OH', 'CH3SH', 'CH4', 'CO', 'CO2', 'CS', 'CSO', 'Cl2', 'ClCN', 'ClF', 'FCN', 'FCO', 'FH-OH', 'FNO', 'H', 'H2', 'H2CN', 'H2O', 'H2O-Li', 'HBO', 'HBS', 'HCCCl', 'HCCF', 'HCHO', 'HCHS', 'HCN', 'HCO', 'HCONH2', 'HCOOH', 'HCP', 'HCl', 'HF', 'HNC', 'HO2', 'HOCl', 'HOOH', 'He', 'Li', 'LiBH4', 'LiCN', 'LiCl', 'LiH', 'Mg', 'Mg2', 'N', 'N2', 'N2H2', 'N2H4', 'NH', 'NH2', 'NH2Cl', 'NH2F', 'NH2OH', 'NH3', 'NH3O', 'Na', 'NaCN', 'NaCl', 'NaH', 'Ne', 'OCl2', 'OF2', 'P', 'P2H4', 'PH', 'PH2', 'PH2OH', 'PH3', 'PH3O', 'S2', 'S2H2', 'SCl2', 'SF2', 'SH2', 'SO-trip', 'SO2', 'SiH3', 'SiH3Cl', 'SiH3F', 'SiH4', 'SiO']\n",
    "mol_hh100 = mol_hh101.copy()\n",
    "mol_hh100.remove(\"H\")  # hydrogen removed"
   ]
  },
  {
   "cell_type": "code",
   "execution_count": 7,
   "id": "0cc08f5c-8629-468b-b361-a20a17358353",
   "metadata": {},
   "outputs": [],
   "source": [
    "# B2PLYP convergence\n",
    "df_conv = pd.read_csv(\"raw_data/conv_dh_B2PLYP.csv\", index_col=[0, 1], header=[0, 1, 2])\n",
    "# remove 1363 of T145\n",
    "df_conv = df_conv.drop((\"T145\", \"1363\"))"
   ]
  },
  {
   "cell_type": "code",
   "execution_count": 8,
   "id": "d57163a3-073b-4dd8-9aa4-0dd2fbf28722",
   "metadata": {},
   "outputs": [],
   "source": [
    "# reference data\n",
    "df_ref_hr46_iso = pd.read_csv(\"raw_data/HR46-ref-iso.csv\", index_col=[0], header=[0])[\"CCSD(T)\"]\n",
    "df_ref_hr46_aniso = pd.read_csv(\"raw_data/HR46-ref-aniso.csv\", index_col=[0], header=[0])[\"CCSD(T)\"]\n",
    "df_ref_t144_iso = pd.read_csv(\"raw_data/T144-ref-iso.csv\", index_col=[0], header=[0])[\"CCSD(T)\"]\n",
    "df_ref_t144_aniso = pd.read_csv(\"raw_data/T144-ref-aniso.csv\", index_col=[0], header=[0])[\"CCSD(T)\"]\n",
    "df_ref_hh100_comp = pd.read_csv(\"raw_data/HH132-hait_ref.csv\", index_col=[0], header=[0, 1]).loc[mol_hh100][\"CCSD(T)\"]"
   ]
  },
  {
   "cell_type": "code",
   "execution_count": 9,
   "id": "1eeaa68c-3d60-41a8-8ec7-3fdf434ef575",
   "metadata": {},
   "outputs": [],
   "source": [
    "mask_hh100_sp = pd.read_csv(\"raw_data/HH132-hait_ref.csv\", index_col=[0], header=[0, 1]).loc[mol_hh100][(\"Spin Polarization\", \"Spin Polarization\")] == \"SP\"\n",
    "mask_hr46_aniso = df_ref_hr46_aniso > 0.5\n",
    "mask_t144_aniso = df_ref_t144_aniso > 0.5"
   ]
  },
  {
   "cell_type": "code",
   "execution_count": 10,
   "id": "dcc8f27e-ca29-48e0-a365-a37d8ea2c87b",
   "metadata": {},
   "outputs": [],
   "source": [
    "columns = pd.MultiIndex.from_tuples([t[:2]  for t in df_conv.columns if t[-1] == \"xx\"])\n",
    "df_conv_iso = pd.DataFrame(index=df_conv.index, columns=columns)\n",
    "df_conv_aniso = pd.DataFrame(index=df_conv.index, columns=columns)\n",
    "for basis, atr in columns:\n",
    "    df_conv_iso.loc[:, (basis, atr)] = get_df_iso(df_conv[(basis, atr)])\n",
    "    df_conv_aniso.loc[:, (basis, atr)] = get_df_aniso(df_conv[(basis, atr)])\n",
    "# contribution of anisotropic is not linear\n",
    "for basis, atr in columns:\n",
    "    if atr != \"pt2\": continue\n",
    "    df_conv_aniso.loc[:, (basis, \"pt2\")] = df_conv_aniso.loc[:, (basis, \"tot\")] - df_conv_aniso.loc[:, (basis, \"low_rung\")]"
   ]
  },
  {
   "cell_type": "markdown",
   "id": "0293a8b3-5856-43f9-88a8-73285faff8ea",
   "metadata": {},
   "source": [
    "## aCV[Q5]Z CBS 参考值"
   ]
  },
  {
   "cell_type": "code",
   "execution_count": 11,
   "id": "26e0f31e-b924-4c4b-8238-26577abad776",
   "metadata": {},
   "outputs": [],
   "source": [
    "df_hh100_cbs = df_conv.loc[\"HH118\", (\"aCV5Z\", \"low_rung\")] + 1 / 61 * (125 * df_conv.loc[\"HH118\", (\"aCV5Z\", \"pt2\")] - 64 * df_conv.loc[\"HH118\", (\"aCVQZ\", \"pt2\")])\n",
    "df_hh100_cbs = df_hh100_cbs.loc[mol_hh100]"
   ]
  },
  {
   "cell_type": "code",
   "execution_count": 12,
   "id": "b85565ad-5cdc-42cc-9899-2d810bbc7d1a",
   "metadata": {},
   "outputs": [],
   "source": [
    "df_hr46_iso = df_conv_iso.loc[\"HR46\"].copy()\n",
    "df_t144_iso = df_conv_iso.loc[\"T145\"].copy()\n",
    "df_hr46_aniso = df_conv_aniso.loc[\"HR46\"].copy()\n",
    "df_t144_aniso = df_conv_aniso.loc[\"T145\"].copy()"
   ]
  },
  {
   "cell_type": "code",
   "execution_count": 15,
   "id": "9bb82dec-5fb8-4a87-ba62-d5bdbba88457",
   "metadata": {},
   "outputs": [],
   "source": [
    "for cbs_scheme, cbs_1, cbs_2, coef_1, coef_2 in [\n",
    "    # (\"aCV[DT]Z\", \"aCVDZ\", \"aCVTZ\", - 8 / 19,  27 / 19),\n",
    "    (\"aCV[TQ]Z\", \"aCVTZ\", \"aCVQZ\", -27 / 37,  64 / 37),\n",
    "    (\"aCV[Q5]Z\", \"aCVQZ\", \"aCV5Z\", -64 / 61, 125 / 61),\n",
    "    # (\"apc[12]\" , \"apc1\" , \"apc2\" , - 8 / 19,  27 / 19),\n",
    "    (\"apc[23]\" , \"apc2\" , \"apc3\" , -27 / 37,  64 / 37),\n",
    "    (\"apc[34]\" , \"apc3\" , \"apc4\" , -64 / 61, 125 / 61),\n",
    "]:\n",
    "    for df in [df_hr46_iso, df_t144_iso, df_hr46_aniso, df_t144_aniso]:\n",
    "        df.loc[:, (cbs_scheme, \"low_rung\")] = df.loc[:, (cbs_2, \"low_rung\")]\n",
    "        df.loc[:, (cbs_scheme, \"pt2\")] = coef_1 * df.loc[:, (cbs_1, \"pt2\")] + coef_2 * df.loc[:, (cbs_2, \"pt2\")]\n",
    "        df.loc[:, (cbs_scheme, \"tot\")] = df.loc[:, (cbs_scheme, \"low_rung\")] + df.loc[:, (cbs_scheme, \"pt2\")]"
   ]
  },
  {
   "cell_type": "code",
   "execution_count": null,
   "id": "70a3cdd2-9da8-47fb-8d38-28c2c20adf43",
   "metadata": {},
   "outputs": [],
   "source": []
  },
  {
   "cell_type": "code",
   "execution_count": null,
   "id": "b3f2dde3-6f1e-4bb0-a9db-d692d7c0e551",
   "metadata": {},
   "outputs": [],
   "source": []
  },
  {
   "cell_type": "code",
   "execution_count": null,
   "id": "6b2bb162-7723-4317-81cc-aae858635f74",
   "metadata": {},
   "outputs": [],
   "source": []
  },
  {
   "cell_type": "code",
   "execution_count": null,
   "id": "68657e9f-3588-4a4c-a7ca-8da607d388bc",
   "metadata": {},
   "outputs": [],
   "source": []
  },
  {
   "cell_type": "code",
   "execution_count": null,
   "id": "6273c4e6-b1c9-404e-8449-3db1c8d98c86",
   "metadata": {},
   "outputs": [],
   "source": []
  },
  {
   "cell_type": "code",
   "execution_count": null,
   "id": "0af0cae9-3184-4bdf-bd31-8fe6b28c4c4a",
   "metadata": {},
   "outputs": [],
   "source": []
  },
  {
   "cell_type": "code",
   "execution_count": null,
   "id": "2cfbd128-5fb6-41d4-acb8-1ba7b747d8f3",
   "metadata": {},
   "outputs": [],
   "source": []
  },
  {
   "cell_type": "code",
   "execution_count": 18,
   "id": "abd9883f-4def-4174-86b3-ec2ce7daaee5",
   "metadata": {},
   "outputs": [
    {
     "data": {
      "text/plain": [
       "MaxE/A^3    0.017\n",
       "MAD/A^3     0.002\n",
       "RMSD/A^3    0.003\n",
       "RelMaxE/%   0.254\n",
       "RelMAD/%    0.031\n",
       "RelRMSD/%   0.057\n",
       "dtype: float64"
      ]
     },
     "execution_count": 18,
     "metadata": {},
     "output_type": "execute_result"
    }
   ],
   "source": [
    "get_df_err(df_hr46_iso[(\"aCV[TQ]Z\", \"pt2\")], df_hr46_iso[(\"aCV[Q5]Z\", \"pt2\")], df_hr46_iso[(\"aCV[TQ]Z\", \"tot\")])"
   ]
  },
  {
   "cell_type": "code",
   "execution_count": 20,
   "id": "737e0beb-cb58-43f6-a80b-fe9a66f5c234",
   "metadata": {},
   "outputs": [
    {
     "data": {
      "text/plain": [
       "MaxE/A^3    0.008\n",
       "MAD/A^3     0.002\n",
       "RMSD/A^3    0.002\n",
       "RelMaxE/%   0.123\n",
       "RelMAD/%    0.031\n",
       "RelRMSD/%   0.036\n",
       "dtype: float64"
      ]
     },
     "execution_count": 20,
     "metadata": {},
     "output_type": "execute_result"
    }
   ],
   "source": [
    "get_df_err(df_hr46_iso[(\"aCV5Z\", \"pt2\")], df_hr46_iso[(\"aCV[Q5]Z\", \"pt2\")], df_hr46_iso[(\"aCV[TQ]Z\", \"tot\")])"
   ]
  },
  {
   "cell_type": "code",
   "execution_count": 29,
   "id": "c7c272dc-f0c9-40f3-a87a-2a8fe8c9977d",
   "metadata": {},
   "outputs": [
    {
     "data": {
      "text/plain": [
       "MaxE/A^3    0.027\n",
       "MAD/A^3     0.011\n",
       "RMSD/A^3    0.013\n",
       "RelMaxE/%   0.604\n",
       "RelMAD/%    0.225\n",
       "RelRMSD/%   0.262\n",
       "dtype: float64"
      ]
     },
     "execution_count": 29,
     "metadata": {},
     "output_type": "execute_result"
    }
   ],
   "source": [
    "get_df_err(df_hr46_iso[(\"apc2\", \"low_rung\")], df_hr46_iso[(\"aCV[Q5]Z\", \"low_rung\")], df_hr46_iso[(\"aCV[TQ]Z\", \"tot\")])"
   ]
  },
  {
   "cell_type": "code",
   "execution_count": 30,
   "id": "c2e4aadf-becc-4bcb-a70b-904f8f084f64",
   "metadata": {},
   "outputs": [
    {
     "data": {
      "text/plain": [
       "MaxE/A^3    0.071\n",
       "MAD/A^3     0.020\n",
       "RMSD/A^3    0.023\n",
       "RelMaxE/%   0.505\n",
       "RelMAD/%    0.208\n",
       "RelRMSD/%   0.222\n",
       "dtype: float64"
      ]
     },
     "execution_count": 30,
     "metadata": {},
     "output_type": "execute_result"
    }
   ],
   "source": [
    "get_df_err(df_t144_iso[(\"apc2\", \"low_rung\")], df_t144_iso[(\"aCV[Q5]Z\", \"low_rung\")], df_t144_iso[(\"aCV[TQ]Z\", \"tot\")])"
   ]
  },
  {
   "cell_type": "code",
   "execution_count": 31,
   "id": "544d763f-6d14-4e4d-9bee-b5bf3d386243",
   "metadata": {},
   "outputs": [
    {
     "data": {
      "text/plain": [
       "MaxE/A^3    0.024\n",
       "MAD/A^3     0.006\n",
       "RMSD/A^3    0.008\n",
       "RelMaxE/%   0.388\n",
       "RelMAD/%    0.112\n",
       "RelRMSD/%   0.144\n",
       "dtype: float64"
      ]
     },
     "execution_count": 31,
     "metadata": {},
     "output_type": "execute_result"
    }
   ],
   "source": [
    "get_df_err(df_hr46_iso[(\"apc2\", \"pt2\")], df_hr46_iso[(\"aCV[Q5]Z\", \"pt2\")], df_hr46_iso[(\"aCV[TQ]Z\", \"tot\")])"
   ]
  },
  {
   "cell_type": "code",
   "execution_count": null,
   "id": "95bbcce5-1a1f-482b-b173-b614a2a1f58b",
   "metadata": {},
   "outputs": [],
   "source": []
  },
  {
   "cell_type": "code",
   "execution_count": null,
   "id": "b2c90303-16a7-405b-9a5e-cef134a84e56",
   "metadata": {},
   "outputs": [],
   "source": []
  },
  {
   "cell_type": "code",
   "execution_count": null,
   "id": "16d61312-9c63-4965-9f8e-99ba92cdb825",
   "metadata": {},
   "outputs": [],
   "source": []
  },
  {
   "cell_type": "code",
   "execution_count": null,
   "id": "b133b14c-eb01-47ee-bac0-4ed8c8d2de4c",
   "metadata": {},
   "outputs": [],
   "source": []
  },
  {
   "cell_type": "code",
   "execution_count": null,
   "id": "6e624cab-c432-4c24-afb2-f690a6ae8e47",
   "metadata": {},
   "outputs": [],
   "source": []
  },
  {
   "cell_type": "code",
   "execution_count": null,
   "id": "5920cbfe-d612-4f0d-93db-3f7354bf6ff2",
   "metadata": {},
   "outputs": [],
   "source": []
  },
  {
   "cell_type": "code",
   "execution_count": null,
   "id": "d1967763-c2d5-47da-9a22-38452b8991b8",
   "metadata": {},
   "outputs": [],
   "source": []
  },
  {
   "cell_type": "code",
   "execution_count": null,
   "id": "b7118150-23a6-41c1-bdd9-7a391dbd5f1b",
   "metadata": {},
   "outputs": [],
   "source": []
  },
  {
   "cell_type": "code",
   "execution_count": null,
   "id": "26a19d0e-d00b-4021-84e0-e960b630591a",
   "metadata": {},
   "outputs": [],
   "source": []
  },
  {
   "cell_type": "code",
   "execution_count": null,
   "id": "a3c8141d-ca9d-46ac-93f3-98ae614103b7",
   "metadata": {},
   "outputs": [],
   "source": []
  }
 ],
 "metadata": {
  "kernelspec": {
   "display_name": "Python 3 (ipykernel)",
   "language": "python",
   "name": "python3"
  },
  "language_info": {
   "codemirror_mode": {
    "name": "ipython",
    "version": 3
   },
   "file_extension": ".py",
   "mimetype": "text/x-python",
   "name": "python",
   "nbconvert_exporter": "python",
   "pygments_lexer": "ipython3",
   "version": "3.10.13"
  }
 },
 "nbformat": 4,
 "nbformat_minor": 5
}
