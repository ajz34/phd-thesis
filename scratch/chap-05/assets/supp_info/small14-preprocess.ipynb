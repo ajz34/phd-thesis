{
 "cells": [
  {
   "cell_type": "code",
   "execution_count": 1,
   "id": "f9cc8663-4334-4bd5-afcc-f5b4db08f517",
   "metadata": {},
   "outputs": [],
   "source": [
    "import numpy as np\n",
    "import pandas as pd"
   ]
  },
  {
   "cell_type": "markdown",
   "id": "781d6e07-9b35-4684-9629-c0f03c11ef82",
   "metadata": {},
   "source": [
    "## All Small14 Components"
   ]
  },
  {
   "cell_type": "code",
   "execution_count": 2,
   "id": "57bce825-4458-493c-a948-bcb715b9df36",
   "metadata": {},
   "outputs": [],
   "source": [
    "method_list = [\"SCF\", \"MP2\", \"CCSD\", \"CCSD(T)\"]\n",
    "basis_list = [\n",
    "    \"aug-cc-pVDZ\", \"aug-cc-pVTZ\", \"aug-cc-pVQZ\", \"aug-cc-pV5Z\",\n",
    "    \"aug-cc-pCVDZ\", \"aug-cc-pCVTZ\", \"aug-cc-pCVQZ\", \"aug-cc-pCV5Z\"]\n",
    "mol_simp_list = [\"Cl2\", \"CO\", \"CO2\", \"H2O\", \"N2\", \"NH3\", \"O2\", \"PH3\", \"SH2\", \"SiH4\", \"SO-trip\", \"SO2\", \"FCN\", \"HCHS\"]"
   ]
  },
  {
   "cell_type": "code",
   "execution_count": 3,
   "id": "396b2028-552e-49eb-9b6f-8aebf98d9f26",
   "metadata": {},
   "outputs": [],
   "source": [
    "data_table = pd.read_csv(\"original_data/small14-CCSDt-components.csv\", index_col=[0, 1], header=[0, 1])"
   ]
  },
  {
   "cell_type": "code",
   "execution_count": 4,
   "id": "622e45d1-c132-4dae-bd33-cb7e7b88aa58",
   "metadata": {},
   "outputs": [],
   "source": [
    "index_row = data_table.index"
   ]
  },
  {
   "cell_type": "markdown",
   "id": "328cef24-8c06-42f3-9d9e-fc5e142b72ea",
   "metadata": {},
   "source": [
    "## All Small14 Components (without off-diagonal)"
   ]
  },
  {
   "cell_type": "code",
   "execution_count": 5,
   "id": "911258f1-b9df-4987-bc05-5f2a36542401",
   "metadata": {},
   "outputs": [],
   "source": [
    "data_table_diagonal = data_table[pd.MultiIndex.from_product([method_list, [\"xx\", \"yy\", \"zz\"]])]"
   ]
  },
  {
   "cell_type": "markdown",
   "id": "cbd23de9-f2da-439a-a83e-c9fe1e332889",
   "metadata": {},
   "source": [
    "## Small14 Isotropic"
   ]
  },
  {
   "cell_type": "code",
   "execution_count": 6,
   "id": "33db92c3-12d5-48d5-92ee-3118e7a73d8b",
   "metadata": {},
   "outputs": [],
   "source": [
    "def get_pol_iso(arr):\n",
    "    assert len(arr) == 3\n",
    "    return arr.sum() / 3"
   ]
  },
  {
   "cell_type": "code",
   "execution_count": 7,
   "id": "331457f4-21ac-4312-aa64-e0e5d00f42a6",
   "metadata": {},
   "outputs": [],
   "source": [
    "data_iso_table = pd.DataFrame(index=index_row, columns=method_list)\n",
    "for basis in basis_list:\n",
    "    for mol in mol_simp_list:\n",
    "        for method in method_list:\n",
    "            data_iso_table[method].at[basis, mol] = get_pol_iso(np.asarray(data_table_diagonal[method].loc[basis, mol]).flatten())"
   ]
  },
  {
   "cell_type": "code",
   "execution_count": 8,
   "id": "3da518a0-387f-4e93-99d1-e6bd4dfd3968",
   "metadata": {},
   "outputs": [],
   "source": [
    "data_iso_table.to_csv(\"small14-CCSDt-isotropic.csv\")"
   ]
  },
  {
   "cell_type": "markdown",
   "id": "d291da2f-d6a5-4676-8b09-863111dd497f",
   "metadata": {},
   "source": [
    "## Small14 Anisotropic"
   ]
  },
  {
   "cell_type": "code",
   "execution_count": 9,
   "id": "7bf6e534-db3f-4be4-95ea-c5540ab3e2f4",
   "metadata": {},
   "outputs": [],
   "source": [
    "def get_pol_aniso(arr):\n",
    "    assert len(arr) == 3\n",
    "    xx, yy, zz = arr\n",
    "    gamma = 1 / np.sqrt(2) * ((xx - yy)**2 + (yy - zz)**2 + (zz - xx)**2)**0.5\n",
    "    return gamma"
   ]
  },
  {
   "cell_type": "code",
   "execution_count": 10,
   "id": "7f1b12bc-36bf-4531-a481-685ff3b20c1a",
   "metadata": {},
   "outputs": [],
   "source": [
    "data_aniso_table = pd.DataFrame(index=index_row, columns=method_list)\n",
    "for basis in basis_list:\n",
    "    for mol in mol_simp_list:\n",
    "        for method in method_list:\n",
    "            data_aniso_table[method].at[basis, mol] = get_pol_aniso(np.asarray(data_table_diagonal[method].loc[basis, mol]).flatten())"
   ]
  },
  {
   "cell_type": "code",
   "execution_count": 11,
   "id": "a43f4e12-7b50-42aa-a528-47e005b3c576",
   "metadata": {},
   "outputs": [],
   "source": [
    "data_aniso_table.to_csv(\"small14-CCSDt-anisotropic.csv\")"
   ]
  }
 ],
 "metadata": {
  "kernelspec": {
   "display_name": "Python 3 (ipykernel)",
   "language": "python",
   "name": "python3"
  },
  "language_info": {
   "codemirror_mode": {
    "name": "ipython",
    "version": 3
   },
   "file_extension": ".py",
   "mimetype": "text/x-python",
   "name": "python",
   "nbconvert_exporter": "python",
   "pygments_lexer": "ipython3",
   "version": "3.8.5"
  }
 },
 "nbformat": 4,
 "nbformat_minor": 5
}
