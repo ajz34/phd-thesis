{
 "cells": [
  {
   "cell_type": "code",
   "execution_count": 1,
   "id": "ffd18a96-0d9b-49bc-b6e2-315f887875f8",
   "metadata": {},
   "outputs": [],
   "source": [
    "import numpy as np\n",
    "import pandas as pd"
   ]
  },
  {
   "cell_type": "markdown",
   "id": "e5e83efd-8449-47f2-beb6-91e94ddd1400",
   "metadata": {},
   "source": [
    "## All T144 CCSD(T) components"
   ]
  },
  {
   "cell_type": "code",
   "execution_count": 2,
   "id": "e7ebb381-ba33-45fb-8d94-4c871a97a1cd",
   "metadata": {},
   "outputs": [],
   "source": [
    "df_ccsdt_components = pd.read_csv(\"original_data/T145-CCSDt-components.csv\", header=[0, 1], index_col=[0, 1])"
   ]
  },
  {
   "cell_type": "code",
   "execution_count": 3,
   "id": "11ba22b8-1e6e-4f95-8593-529e2ead8110",
   "metadata": {},
   "outputs": [],
   "source": [
    "df_ccsdt_components = df_ccsdt_components.drop(1363, level=1)"
   ]
  },
  {
   "cell_type": "code",
   "execution_count": 4,
   "id": "b36f866b-2d6e-4c3c-b937-5eb849b4d342",
   "metadata": {},
   "outputs": [],
   "source": [
    "basis_list = [\"aug-cc-pVDZ\", \"aug-cc-pVTZ\", \"aug-cc-pVQZ\"]\n",
    "mol_list = list(df_ccsdt_components.loc[\"aug-cc-pVDZ\"].index)\n",
    "method_list = [\"SCF\", \"MP2\", \"CCSD\", \"CCSD(T)\"]"
   ]
  },
  {
   "cell_type": "markdown",
   "id": "822d085f-609d-4b40-9b4f-10f5529bc4b1",
   "metadata": {},
   "source": [
    "## CCSD(T) Isotropic"
   ]
  },
  {
   "cell_type": "code",
   "execution_count": 5,
   "id": "c23283b2-19a0-46b1-ae48-85ab02614ebe",
   "metadata": {},
   "outputs": [],
   "source": [
    "def get_iso(arr):\n",
    "    assert len(arr) == 6\n",
    "    return (arr[0] + arr[1] + arr[2]) / 3"
   ]
  },
  {
   "cell_type": "code",
   "execution_count": 6,
   "id": "0989ed82-5706-4ed0-a74b-a30eb1ad2f53",
   "metadata": {},
   "outputs": [],
   "source": [
    "df_ccsdt_iso = pd.DataFrame(index=pd.MultiIndex.from_product([basis_list, mol_list]), columns=method_list)"
   ]
  },
  {
   "cell_type": "code",
   "execution_count": 7,
   "id": "7d05d9d1-3732-47b1-b821-025b028160e6",
   "metadata": {},
   "outputs": [],
   "source": [
    "for basis in basis_list:\n",
    "    for mol in mol_list:\n",
    "        for method in [\"SCF\", \"MP2\", \"CCSD\", \"CCSD(T)\"]:\n",
    "            df_ccsdt_iso.loc[(basis, mol), method] = get_iso(df_ccsdt_components.loc[(basis, mol), method])"
   ]
  },
  {
   "cell_type": "code",
   "execution_count": 8,
   "id": "75424ed3-e972-4be6-9629-a070cf759ee2",
   "metadata": {},
   "outputs": [],
   "source": [
    "df_ccsdt_iso.to_csv(\"T144-CCSDt-isotropic.csv\")"
   ]
  },
  {
   "cell_type": "markdown",
   "id": "e9036cfc-b065-4842-9485-38c9611b84c6",
   "metadata": {
    "tags": []
   },
   "source": [
    "## CCSD(T) Anisotropic"
   ]
  },
  {
   "cell_type": "code",
   "execution_count": 9,
   "id": "078e293b-e4c1-418c-b837-2b0cb0dd7f4c",
   "metadata": {},
   "outputs": [],
   "source": [
    "def get_aniso(arr):\n",
    "    assert len(arr) == 6\n",
    "    xx, yy, zz, xy, yz, zx = arr\n",
    "    gamma = 1 / np.sqrt(2) * ((xx - yy)**2 + (yy - zz)**2 + (zz - xx)**2 + 6 * (xy**2 + yz**2 + zx**2))**0.5\n",
    "    return gamma"
   ]
  },
  {
   "cell_type": "code",
   "execution_count": 10,
   "id": "0f79251d-78d1-4b38-bf12-074dea9f6ac7",
   "metadata": {},
   "outputs": [],
   "source": [
    "df_ccsdt_aniso = pd.DataFrame(index=pd.MultiIndex.from_product([basis_list, mol_list]), columns=method_list)"
   ]
  },
  {
   "cell_type": "code",
   "execution_count": 11,
   "id": "d07a009a-42f0-4dad-b291-2725f695a9f8",
   "metadata": {},
   "outputs": [],
   "source": [
    "for basis in basis_list:\n",
    "    for mol in mol_list:\n",
    "        for method in [\"SCF\", \"MP2\", \"CCSD\", \"CCSD(T)\"]:\n",
    "            df_ccsdt_aniso.loc[(basis, mol), method] = get_aniso(df_ccsdt_components.loc[(basis, mol), method])"
   ]
  },
  {
   "cell_type": "code",
   "execution_count": 12,
   "id": "2cbd2beb-b89e-423d-84fc-5a5fd8a4f61a",
   "metadata": {},
   "outputs": [],
   "source": [
    "df_ccsdt_aniso.to_csv(\"T144-CCSDt-anisotropic.csv\")"
   ]
  },
  {
   "cell_type": "markdown",
   "id": "739db166-5e3d-4999-927f-c7897939ac01",
   "metadata": {},
   "source": [
    "## RIMP2 components"
   ]
  },
  {
   "cell_type": "code",
   "execution_count": 13,
   "id": "1b6a285a-ecf5-408b-a96a-a0d4f1c974eb",
   "metadata": {},
   "outputs": [],
   "source": [
    "df_rimp2_components = pd.read_csv(\"original_data/T145-RIMP2-components.csv\", header=[0, 1], index_col=[0, 1])\n",
    "df_rimp2_components = df_rimp2_components.drop(1363, level=1)"
   ]
  },
  {
   "cell_type": "code",
   "execution_count": 14,
   "id": "1ff1c445-a58a-47ee-94e2-e8423d6026e6",
   "metadata": {},
   "outputs": [],
   "source": [
    "basis_list = [\n",
    "    \"aug-cc-pVDZ\", \"aug-cc-pVTZ\", \"aug-cc-pVQZ\", \"aug-cc-pV5Z\", \"aug-cc-pV6Z\",\n",
    "    \"aug-cc-pCVDZ\", \"aug-cc-pCVTZ\", \"aug-cc-pCVQZ\", \"aug-cc-pCV5Z\"]\n",
    "mol_list = list(df_ccsdt_components.loc[\"aug-cc-pVDZ\"].index)\n",
    "method_list = [\"RI-JK\", \"RI-MP2\"]"
   ]
  },
  {
   "cell_type": "markdown",
   "id": "c17502cb-8e4d-40af-be17-b87c96622676",
   "metadata": {},
   "source": [
    "## RIMP2 Isotropic"
   ]
  },
  {
   "cell_type": "code",
   "execution_count": 15,
   "id": "ff1653cf-6a05-49c3-b21f-1659a4f094ed",
   "metadata": {},
   "outputs": [],
   "source": [
    "df_rimp2_iso = pd.DataFrame(index=pd.MultiIndex.from_product([basis_list, mol_list]), columns=method_list)"
   ]
  },
  {
   "cell_type": "code",
   "execution_count": 16,
   "id": "764aebc9-24fe-4588-9a17-d49ed2c4404a",
   "metadata": {},
   "outputs": [],
   "source": [
    "for basis in basis_list:\n",
    "    for mol in mol_list:\n",
    "        for method in method_list:\n",
    "            df_rimp2_iso.loc[(basis, mol), method] = get_iso(df_rimp2_components.loc[(basis, mol), method])"
   ]
  },
  {
   "cell_type": "code",
   "execution_count": 17,
   "id": "cef1c5ad-8933-4c1a-bc4d-d12e484f7589",
   "metadata": {},
   "outputs": [],
   "source": [
    "df_rimp2_iso.to_csv(\"T144-RIMP2-isotropic.csv\")"
   ]
  },
  {
   "cell_type": "markdown",
   "id": "0812491c-b7ea-4fef-9f0d-feb7605a99c3",
   "metadata": {
    "tags": []
   },
   "source": [
    "## RIMP2 Anisotropic"
   ]
  },
  {
   "cell_type": "code",
   "execution_count": 18,
   "id": "11a74515-3ddc-42db-8684-24d978024fe5",
   "metadata": {},
   "outputs": [],
   "source": [
    "df_rimp2_aniso = pd.DataFrame(index=pd.MultiIndex.from_product([basis_list, mol_list]), columns=method_list)"
   ]
  },
  {
   "cell_type": "code",
   "execution_count": 19,
   "id": "c1f7b2d3-cb95-41e7-9c94-19c5a30fe034",
   "metadata": {},
   "outputs": [],
   "source": [
    "for basis in basis_list:\n",
    "    for mol in mol_list:\n",
    "        for method in method_list:\n",
    "            df_rimp2_aniso.loc[(basis, mol), method] = get_aniso(df_rimp2_components.loc[(basis, mol), method])"
   ]
  },
  {
   "cell_type": "code",
   "execution_count": 20,
   "id": "312e651c-c3ad-4ac7-9130-aa2b70c11705",
   "metadata": {},
   "outputs": [],
   "source": [
    "df_rimp2_aniso.to_csv(\"T144-RIMP2-anisotropic.csv\")"
   ]
  }
 ],
 "metadata": {
  "kernelspec": {
   "display_name": "Python 3 (ipykernel)",
   "language": "python",
   "name": "python3"
  },
  "language_info": {
   "codemirror_mode": {
    "name": "ipython",
    "version": 3
   },
   "file_extension": ".py",
   "mimetype": "text/x-python",
   "name": "python",
   "nbconvert_exporter": "python",
   "pygments_lexer": "ipython3",
   "version": "3.8.5"
  }
 },
 "nbformat": 4,
 "nbformat_minor": 5
}
