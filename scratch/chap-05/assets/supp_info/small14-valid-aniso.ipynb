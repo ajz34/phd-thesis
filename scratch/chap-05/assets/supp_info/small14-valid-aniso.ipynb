{
 "cells": [
  {
   "cell_type": "code",
   "execution_count": 1,
   "id": "e1d75474-5377-48f5-9ba1-9a68e800acd7",
   "metadata": {
    "execution": {
     "iopub.execute_input": "2023-12-01T01:38:32.176938Z",
     "iopub.status.busy": "2023-12-01T01:38:32.176712Z",
     "iopub.status.idle": "2023-12-01T01:38:32.297268Z",
     "shell.execute_reply": "2023-12-01T01:38:32.296849Z"
    }
   },
   "outputs": [],
   "source": [
    "import numpy as np\n",
    "import pandas as pd"
   ]
  },
  {
   "cell_type": "code",
   "execution_count": 2,
   "id": "1e0ab2c8-7498-42b4-84fd-6337826c5974",
   "metadata": {
    "execution": {
     "iopub.execute_input": "2023-12-01T01:38:32.299792Z",
     "iopub.status.busy": "2023-12-01T01:38:32.299534Z",
     "iopub.status.idle": "2023-12-01T01:38:32.302719Z",
     "shell.execute_reply": "2023-12-01T01:38:32.302391Z"
    }
   },
   "outputs": [],
   "source": [
    "def get_df_err(df, df_sub, ref=None):\n",
    "    if ref is None:\n",
    "        ref = df_sub\n",
    "    # In case if column headers of reference is not the same to df\n",
    "    if isinstance(df_sub, pd.DataFrame):\n",
    "        df_sub.columns = df.columns\n",
    "        ref.columns = df.columns\n",
    "    df_err_val = df.sub(df_sub, axis=\"index\")\n",
    "    df_err_rel = df_err_val.div(ref, axis=\"index\") * 100\n",
    "    df_z = df - df.mean()\n",
    "    ref_z = df_sub - df_sub.mean()\n",
    "    df_err = {\n",
    "        \"MaxE/A^3\": df_err_val.abs().max(),\n",
    "        \"MAD/A^3\": df_err_val.abs().mean(),\n",
    "        \"RMSD/A^3\": np.sqrt((df_err_val**2).mean()),\n",
    "        \"RelMaxE/%\": df_err_rel.abs().max(),\n",
    "        \"RelMAD/%\": df_err_rel.abs().mean(),\n",
    "        \"RelRMSD/%\": np.sqrt((df_err_rel**2).mean()),\n",
    "    }\n",
    "    # In case df is pd.Series instead of pd.DataFrame \n",
    "    try:\n",
    "        return pd.DataFrame(df_err).T\n",
    "    except ValueError:\n",
    "        return pd.Series(df_err)"
   ]
  },
  {
   "cell_type": "markdown",
   "id": "67479670-42cf-4868-a147-90aa5dbaae3f",
   "metadata": {},
   "source": [
    "## Table of Small14 (Anisotropic)"
   ]
  },
  {
   "cell_type": "code",
   "execution_count": 3,
   "id": "a33dc54a-e005-446b-b843-4fe3166e3040",
   "metadata": {
    "execution": {
     "iopub.execute_input": "2023-12-01T01:38:32.304039Z",
     "iopub.status.busy": "2023-12-01T01:38:32.303827Z",
     "iopub.status.idle": "2023-12-01T01:38:32.309074Z",
     "shell.execute_reply": "2023-12-01T01:38:32.308707Z"
    }
   },
   "outputs": [],
   "source": [
    "df_aniso_data = pd.read_csv(\"small14-CCSDt-anisotropic.csv\", header=[0], index_col=[0, 1])"
   ]
  },
  {
   "cell_type": "code",
   "execution_count": 4,
   "id": "5b1d015a-ec27-4a9e-9458-b462c0bbd93f",
   "metadata": {
    "execution": {
     "iopub.execute_input": "2023-12-01T01:38:32.310393Z",
     "iopub.status.busy": "2023-12-01T01:38:32.310225Z",
     "iopub.status.idle": "2023-12-01T01:38:32.312428Z",
     "shell.execute_reply": "2023-12-01T01:38:32.312018Z"
    }
   },
   "outputs": [],
   "source": [
    "basis_list = [\n",
    "    \"aug-cc-pVDZ\", \"aug-cc-pVTZ\", \"aug-cc-pVQZ\", \"aug-cc-pV5Z\",\n",
    "    \"aug-cc-pCVDZ\", \"aug-cc-pCVTZ\", \"aug-cc-pCVQZ\", \"aug-cc-pCV5Z\",\n",
    "    \"aug-cc-pV[DT]Z\", \"aug-cc-pV[TQ]Z\", \"aug-cc-pV[Q5]Z\",\n",
    "    \"aug-cc-pCV[DT]Z\", \"aug-cc-pCV[TQ]Z\", \"aug-cc-pCV[Q5]Z\",\n",
    "]\n",
    "mol_list = ['Cl2', 'CO', 'CO2', 'H2O', 'N2', 'NH3', 'O2', 'PH3', 'SH2', 'SiH4', 'SO-trip', 'SO2', 'FCN', 'HCHS']"
   ]
  },
  {
   "cell_type": "code",
   "execution_count": 5,
   "id": "2353485f-4b5e-4f1c-934c-5b42e16ec39a",
   "metadata": {
    "execution": {
     "iopub.execute_input": "2023-12-01T01:38:32.313636Z",
     "iopub.status.busy": "2023-12-01T01:38:32.313477Z",
     "iopub.status.idle": "2023-12-01T01:38:32.315276Z",
     "shell.execute_reply": "2023-12-01T01:38:32.314991Z"
    }
   },
   "outputs": [],
   "source": [
    "contrib_list = [\"SCF\", \"Corr2\", \"CorrD\", \"CorrD(T)\"]\n",
    "contrib_ref_list = [\"SCF\", \"Corr2\", \"CorrD\", \"CorrD(T)\", \"MP2\", \"CCSD\", \"CCSD(T)\"]"
   ]
  },
  {
   "cell_type": "markdown",
   "id": "ed447701-2144-4854-9de0-5cdb0abb48fb",
   "metadata": {},
   "source": [
    "## Generate Data for Validation"
   ]
  },
  {
   "cell_type": "code",
   "execution_count": 6,
   "id": "241fa525-f5c5-42d2-8d28-3e4ce41ff21c",
   "metadata": {
    "execution": {
     "iopub.execute_input": "2023-12-01T01:38:32.317444Z",
     "iopub.status.busy": "2023-12-01T01:38:32.317081Z",
     "iopub.status.idle": "2023-12-01T01:38:32.320233Z",
     "shell.execute_reply": "2023-12-01T01:38:32.319835Z"
    }
   },
   "outputs": [],
   "source": [
    "df_aniso = pd.DataFrame(index=pd.MultiIndex.from_product([basis_list, mol_list]), columns=contrib_list)"
   ]
  },
  {
   "cell_type": "code",
   "execution_count": 7,
   "id": "e009f792-9ddc-4223-b149-b39a7a28db18",
   "metadata": {
    "execution": {
     "iopub.execute_input": "2023-12-01T01:38:32.322443Z",
     "iopub.status.busy": "2023-12-01T01:38:32.322070Z",
     "iopub.status.idle": "2023-12-01T01:38:32.325995Z",
     "shell.execute_reply": "2023-12-01T01:38:32.325660Z"
    }
   },
   "outputs": [],
   "source": [
    "df_aniso[\"SCF\"] = df_aniso_data[\"SCF\"]\n",
    "df_aniso[\"Corr2\"] = df_aniso_data[\"MP2\"] - df_aniso_data[\"SCF\"]\n",
    "df_aniso[\"CorrD\"] = df_aniso_data[\"CCSD\"] - df_aniso_data[\"MP2\"]\n",
    "df_aniso[\"CorrD(T)\"] = df_aniso_data[\"CCSD(T)\"] - df_aniso_data[\"MP2\"]"
   ]
  },
  {
   "cell_type": "code",
   "execution_count": 8,
   "id": "1a1e3c27-c10f-4bb9-bd4d-46cd275b0ea8",
   "metadata": {
    "execution": {
     "iopub.execute_input": "2023-12-01T01:38:32.327033Z",
     "iopub.status.busy": "2023-12-01T01:38:32.326872Z",
     "iopub.status.idle": "2023-12-01T01:38:32.331899Z",
     "shell.execute_reply": "2023-12-01T01:38:32.331527Z"
    }
   },
   "outputs": [],
   "source": [
    "df_aniso.loc[\"aug-cc-pV[DT]Z\"] = np.asarray(( 27 * df_aniso.loc[\"aug-cc-pVTZ\"] -  8 * df_aniso.loc[\"aug-cc-pVDZ\"]) / 19)\n",
    "df_aniso.loc[\"aug-cc-pV[TQ]Z\"] = np.asarray(( 64 * df_aniso.loc[\"aug-cc-pVQZ\"] - 27 * df_aniso.loc[\"aug-cc-pVTZ\"]) / 37)\n",
    "df_aniso.loc[\"aug-cc-pV[Q5]Z\"] = np.asarray((125 * df_aniso.loc[\"aug-cc-pV5Z\"] - 64 * df_aniso.loc[\"aug-cc-pVQZ\"]) / 61)"
   ]
  },
  {
   "cell_type": "code",
   "execution_count": 9,
   "id": "0d823f08-c26d-47b1-b683-efe62e65729e",
   "metadata": {
    "execution": {
     "iopub.execute_input": "2023-12-01T01:38:32.332945Z",
     "iopub.status.busy": "2023-12-01T01:38:32.332786Z",
     "iopub.status.idle": "2023-12-01T01:38:32.337300Z",
     "shell.execute_reply": "2023-12-01T01:38:32.337003Z"
    }
   },
   "outputs": [],
   "source": [
    "df_aniso.loc[\"aug-cc-pCV[DT]Z\"] = np.asarray(( 27 * df_aniso.loc[\"aug-cc-pCVTZ\"] -  8 * df_aniso.loc[\"aug-cc-pCVDZ\"]) / 19)\n",
    "df_aniso.loc[\"aug-cc-pCV[TQ]Z\"] = np.asarray(( 64 * df_aniso.loc[\"aug-cc-pCVQZ\"] - 27 * df_aniso.loc[\"aug-cc-pCVTZ\"]) / 37)\n",
    "df_aniso.loc[\"aug-cc-pCV[Q5]Z\"] = np.asarray((125 * df_aniso.loc[\"aug-cc-pCV5Z\"] - 64 * df_aniso.loc[\"aug-cc-pCVQZ\"]) / 61)"
   ]
  },
  {
   "cell_type": "code",
   "execution_count": 10,
   "id": "cac57b38-6ef4-4210-b55c-b123aef54320",
   "metadata": {
    "execution": {
     "iopub.execute_input": "2023-12-01T01:38:32.339065Z",
     "iopub.status.busy": "2023-12-01T01:38:32.338899Z",
     "iopub.status.idle": "2023-12-01T01:38:32.341542Z",
     "shell.execute_reply": "2023-12-01T01:38:32.341230Z"
    }
   },
   "outputs": [],
   "source": [
    "df_aniso.loc[[\"aug-cc-pV[DT]Z\", \"aug-cc-pV[TQ]Z\", \"aug-cc-pV[Q5]Z\", \"aug-cc-pCV[DT]Z\", \"aug-cc-pCV[TQ]Z\", \"aug-cc-pCV[Q5]Z\"], \"SCF\"] = np.nan"
   ]
  },
  {
   "cell_type": "code",
   "execution_count": 11,
   "id": "57e55ab7-59b6-4882-9045-2a36be2ae7ee",
   "metadata": {
    "execution": {
     "iopub.execute_input": "2023-12-01T01:38:32.342632Z",
     "iopub.status.busy": "2023-12-01T01:38:32.342461Z",
     "iopub.status.idle": "2023-12-01T01:38:32.347024Z",
     "shell.execute_reply": "2023-12-01T01:38:32.346679Z"
    }
   },
   "outputs": [],
   "source": [
    "df_aniso_ref = pd.DataFrame(index=mol_list, columns=contrib_ref_list)\n",
    "df_aniso_ref[\"SCF\"] = df_aniso.loc[\"aug-cc-pCV5Z\", \"SCF\"]\n",
    "df_aniso_ref[[\"Corr2\", \"CorrD\", \"CorrD(T)\"]] = df_aniso.loc[\"aug-cc-pCV[Q5]Z\", [\"Corr2\", \"CorrD\", \"CorrD(T)\"]]\n",
    "df_aniso_ref[\"MP2\"] = df_aniso_ref[\"SCF\"] + df_aniso_ref[\"Corr2\"]\n",
    "df_aniso_ref[\"CCSD\"] = df_aniso_ref[\"MP2\"] + df_aniso_ref[\"CorrD\"]\n",
    "df_aniso_ref[\"CCSD(T)\"] = df_aniso_ref[\"MP2\"] + df_aniso_ref[\"CorrD(T)\"]"
   ]
  },
  {
   "cell_type": "code",
   "execution_count": 12,
   "id": "20d163d5-ddf7-4aea-812d-a0b6e83abe09",
   "metadata": {
    "execution": {
     "iopub.execute_input": "2023-12-01T01:38:32.348251Z",
     "iopub.status.busy": "2023-12-01T01:38:32.348131Z",
     "iopub.status.idle": "2023-12-01T01:38:32.353622Z",
     "shell.execute_reply": "2023-12-01T01:38:32.353340Z"
    }
   },
   "outputs": [],
   "source": [
    "df_aniso.to_csv(\"small14-anisotropic.csv\")"
   ]
  },
  {
   "cell_type": "markdown",
   "id": "08897a14-2651-409f-8d91-e5092807c85b",
   "metadata": {},
   "source": [
    "## Validation Results (Table 3 in main text)"
   ]
  },
  {
   "cell_type": "code",
   "execution_count": 13,
   "id": "dde30e85-fe71-46ae-a462-29ad5d19965d",
   "metadata": {
    "execution": {
     "iopub.execute_input": "2023-12-01T01:38:32.354937Z",
     "iopub.status.busy": "2023-12-01T01:38:32.354727Z",
     "iopub.status.idle": "2023-12-01T01:38:32.356460Z",
     "shell.execute_reply": "2023-12-01T01:38:32.356125Z"
    }
   },
   "outputs": [],
   "source": [
    "# mask = list(df_aniso_ref[\"CCSD(T)\"].index[df_aniso_ref[\"CCSD(T)\"] > 0.5])"
   ]
  },
  {
   "cell_type": "code",
   "execution_count": 14,
   "id": "e8e58cbe-bb74-4ab6-8a6f-fdb0b5dfd804",
   "metadata": {
    "execution": {
     "iopub.execute_input": "2023-12-01T01:38:32.357506Z",
     "iopub.status.busy": "2023-12-01T01:38:32.357384Z",
     "iopub.status.idle": "2023-12-01T01:38:32.359152Z",
     "shell.execute_reply": "2023-12-01T01:38:32.358863Z"
    }
   },
   "outputs": [],
   "source": [
    "mask = ['Cl2', 'CO', 'CO2', 'N2', 'SO2', 'FCN', 'HCHS']"
   ]
  },
  {
   "cell_type": "code",
   "execution_count": 15,
   "id": "e99b8747-c1b4-45d1-b99a-7ca9ff4e0bf7",
   "metadata": {
    "execution": {
     "iopub.execute_input": "2023-12-01T01:38:32.360473Z",
     "iopub.status.busy": "2023-12-01T01:38:32.360172Z",
     "iopub.status.idle": "2023-12-01T01:38:32.399944Z",
     "shell.execute_reply": "2023-12-01T01:38:32.399622Z"
    }
   },
   "outputs": [],
   "source": [
    "df_aniso_valid = pd.DataFrame(index=basis_list, columns=contrib_list)\n",
    "for basis in basis_list:\n",
    "    df_aniso_valid.loc[basis] = get_df_err(\n",
    "        df_aniso.loc[basis].loc[mask],\n",
    "        df_aniso_ref[contrib_list].loc[mask],\n",
    "        df_aniso_ref[\"CCSD(T)\"].loc[mask]).loc[\"RelRMSD/%\"]"
   ]
  },
  {
   "cell_type": "code",
   "execution_count": 16,
   "id": "813b706b-5ab6-4c63-8983-350dfbc36d65",
   "metadata": {
    "execution": {
     "iopub.execute_input": "2023-12-01T01:38:32.401420Z",
     "iopub.status.busy": "2023-12-01T01:38:32.401319Z",
     "iopub.status.idle": "2023-12-01T01:38:32.574309Z",
     "shell.execute_reply": "2023-12-01T01:38:32.573847Z"
    }
   },
   "outputs": [
    {
     "data": {
      "text/html": [
       "<style type=\"text/css\">\n",
       "</style>\n",
       "<table id=\"T_f812e\">\n",
       "  <thead>\n",
       "    <tr>\n",
       "      <th class=\"blank level0\" >&nbsp;</th>\n",
       "      <th id=\"T_f812e_level0_col0\" class=\"col_heading level0 col0\" >SCF</th>\n",
       "      <th id=\"T_f812e_level0_col1\" class=\"col_heading level0 col1\" >Corr2</th>\n",
       "      <th id=\"T_f812e_level0_col2\" class=\"col_heading level0 col2\" >CorrD</th>\n",
       "      <th id=\"T_f812e_level0_col3\" class=\"col_heading level0 col3\" >CorrD(T)</th>\n",
       "    </tr>\n",
       "  </thead>\n",
       "  <tbody>\n",
       "    <tr>\n",
       "      <th id=\"T_f812e_level0_row0\" class=\"row_heading level0 row0\" >aug-cc-pVDZ</th>\n",
       "      <td id=\"T_f812e_row0_col0\" class=\"data row0 col0\" >5.825</td>\n",
       "      <td id=\"T_f812e_row0_col1\" class=\"data row0 col1\" >1.161</td>\n",
       "      <td id=\"T_f812e_row0_col2\" class=\"data row0 col2\" >1.515</td>\n",
       "      <td id=\"T_f812e_row0_col3\" class=\"data row0 col3\" >0.864</td>\n",
       "    </tr>\n",
       "    <tr>\n",
       "      <th id=\"T_f812e_level0_row1\" class=\"row_heading level0 row1\" >aug-cc-pCVDZ</th>\n",
       "      <td id=\"T_f812e_row1_col0\" class=\"data row1 col0\" >5.939</td>\n",
       "      <td id=\"T_f812e_row1_col1\" class=\"data row1 col1\" >1.137</td>\n",
       "      <td id=\"T_f812e_row1_col2\" class=\"data row1 col2\" >1.320</td>\n",
       "      <td id=\"T_f812e_row1_col3\" class=\"data row1 col3\" >0.842</td>\n",
       "    </tr>\n",
       "    <tr>\n",
       "      <th id=\"T_f812e_level0_row2\" class=\"row_heading level0 row2\" >aug-cc-pVTZ</th>\n",
       "      <td id=\"T_f812e_row2_col0\" class=\"data row2 col0\" >1.632</td>\n",
       "      <td id=\"T_f812e_row2_col1\" class=\"data row2 col1\" >0.468</td>\n",
       "      <td id=\"T_f812e_row2_col2\" class=\"data row2 col2\" >0.536</td>\n",
       "      <td id=\"T_f812e_row2_col3\" class=\"data row2 col3\" >0.328</td>\n",
       "    </tr>\n",
       "    <tr>\n",
       "      <th id=\"T_f812e_level0_row3\" class=\"row_heading level0 row3\" >aug-cc-pCVTZ</th>\n",
       "      <td id=\"T_f812e_row3_col0\" class=\"data row3 col0\" >1.127</td>\n",
       "      <td id=\"T_f812e_row3_col1\" class=\"data row3 col1\" >0.420</td>\n",
       "      <td id=\"T_f812e_row3_col2\" class=\"data row3 col2\" >0.395</td>\n",
       "      <td id=\"T_f812e_row3_col3\" class=\"data row3 col3\" >0.313</td>\n",
       "    </tr>\n",
       "    <tr>\n",
       "      <th id=\"T_f812e_level0_row4\" class=\"row_heading level0 row4\" >aug-cc-pV[DT]Z</th>\n",
       "      <td id=\"T_f812e_row4_col0\" class=\"data row4 col0\" >nan</td>\n",
       "      <td id=\"T_f812e_row4_col1\" class=\"data row4 col1\" >0.603</td>\n",
       "      <td id=\"T_f812e_row4_col2\" class=\"data row4 col2\" >0.200</td>\n",
       "      <td id=\"T_f812e_row4_col3\" class=\"data row4 col3\" >0.177</td>\n",
       "    </tr>\n",
       "    <tr>\n",
       "      <th id=\"T_f812e_level0_row5\" class=\"row_heading level0 row5\" >aug-cc-pCV[DT]Z</th>\n",
       "      <td id=\"T_f812e_row5_col0\" class=\"data row5 col0\" >nan</td>\n",
       "      <td id=\"T_f812e_row5_col1\" class=\"data row5 col1\" >0.408</td>\n",
       "      <td id=\"T_f812e_row5_col2\" class=\"data row5 col2\" >0.173</td>\n",
       "      <td id=\"T_f812e_row5_col3\" class=\"data row5 col3\" >0.177</td>\n",
       "    </tr>\n",
       "    <tr>\n",
       "      <th id=\"T_f812e_level0_row6\" class=\"row_heading level0 row6\" >aug-cc-pVQZ</th>\n",
       "      <td id=\"T_f812e_row6_col0\" class=\"data row6 col0\" >0.588</td>\n",
       "      <td id=\"T_f812e_row6_col1\" class=\"data row6 col1\" >0.390</td>\n",
       "      <td id=\"T_f812e_row6_col2\" class=\"data row6 col2\" >0.276</td>\n",
       "      <td id=\"T_f812e_row6_col3\" class=\"data row6 col3\" >0.186</td>\n",
       "    </tr>\n",
       "    <tr>\n",
       "      <th id=\"T_f812e_level0_row7\" class=\"row_heading level0 row7\" >aug-cc-pCVQZ</th>\n",
       "      <td id=\"T_f812e_row7_col0\" class=\"data row7 col0\" >0.203</td>\n",
       "      <td id=\"T_f812e_row7_col1\" class=\"data row7 col1\" >0.251</td>\n",
       "      <td id=\"T_f812e_row7_col2\" class=\"data row7 col2\" >0.122</td>\n",
       "      <td id=\"T_f812e_row7_col3\" class=\"data row7 col3\" >0.101</td>\n",
       "    </tr>\n",
       "    <tr>\n",
       "      <th id=\"T_f812e_level0_row8\" class=\"row_heading level0 row8\" >aug-cc-pV[TQ]Z</th>\n",
       "      <td id=\"T_f812e_row8_col0\" class=\"data row8 col0\" >nan</td>\n",
       "      <td id=\"T_f812e_row8_col1\" class=\"data row8 col1\" >0.417</td>\n",
       "      <td id=\"T_f812e_row8_col2\" class=\"data row8 col2\" >0.246</td>\n",
       "      <td id=\"T_f812e_row8_col3\" class=\"data row8 col3\" >0.230</td>\n",
       "    </tr>\n",
       "    <tr>\n",
       "      <th id=\"T_f812e_level0_row9\" class=\"row_heading level0 row9\" >aug-cc-pCV[TQ]Z</th>\n",
       "      <td id=\"T_f812e_row9_col0\" class=\"data row9 col0\" >nan</td>\n",
       "      <td id=\"T_f812e_row9_col1\" class=\"data row9 col1\" >0.229</td>\n",
       "      <td id=\"T_f812e_row9_col2\" class=\"data row9 col2\" >0.168</td>\n",
       "      <td id=\"T_f812e_row9_col3\" class=\"data row9 col3\" >0.131</td>\n",
       "    </tr>\n",
       "    <tr>\n",
       "      <th id=\"T_f812e_level0_row10\" class=\"row_heading level0 row10\" >aug-cc-pV5Z</th>\n",
       "      <td id=\"T_f812e_row10_col0\" class=\"data row10 col0\" >0.130</td>\n",
       "      <td id=\"T_f812e_row10_col1\" class=\"data row10 col1\" >0.173</td>\n",
       "      <td id=\"T_f812e_row10_col2\" class=\"data row10 col2\" >0.129</td>\n",
       "      <td id=\"T_f812e_row10_col3\" class=\"data row10 col3\" >0.091</td>\n",
       "    </tr>\n",
       "    <tr>\n",
       "      <th id=\"T_f812e_level0_row11\" class=\"row_heading level0 row11\" >aug-cc-pCV5Z</th>\n",
       "      <td id=\"T_f812e_row11_col0\" class=\"data row11 col0\" >0.000</td>\n",
       "      <td id=\"T_f812e_row11_col1\" class=\"data row11 col1\" >0.129</td>\n",
       "      <td id=\"T_f812e_row11_col2\" class=\"data row11 col2\" >0.063</td>\n",
       "      <td id=\"T_f812e_row11_col3\" class=\"data row11 col3\" >0.052</td>\n",
       "    </tr>\n",
       "    <tr>\n",
       "      <th id=\"T_f812e_level0_row12\" class=\"row_heading level0 row12\" >aug-cc-pV[Q5]Z</th>\n",
       "      <td id=\"T_f812e_row12_col0\" class=\"data row12 col0\" >nan</td>\n",
       "      <td id=\"T_f812e_row12_col1\" class=\"data row12 col1\" >0.115</td>\n",
       "      <td id=\"T_f812e_row12_col2\" class=\"data row12 col2\" >0.070</td>\n",
       "      <td id=\"T_f812e_row12_col3\" class=\"data row12 col3\" >0.037</td>\n",
       "    </tr>\n",
       "    <tr>\n",
       "      <th id=\"T_f812e_level0_row13\" class=\"row_heading level0 row13\" >aug-cc-pCV[Q5]Z</th>\n",
       "      <td id=\"T_f812e_row13_col0\" class=\"data row13 col0\" >nan</td>\n",
       "      <td id=\"T_f812e_row13_col1\" class=\"data row13 col1\" >0.000</td>\n",
       "      <td id=\"T_f812e_row13_col2\" class=\"data row13 col2\" >0.000</td>\n",
       "      <td id=\"T_f812e_row13_col3\" class=\"data row13 col3\" >0.000</td>\n",
       "    </tr>\n",
       "  </tbody>\n",
       "</table>\n"
      ],
      "text/plain": [
       "<pandas.io.formats.style.Styler at 0x7faaf911f790>"
      ]
     },
     "execution_count": 16,
     "metadata": {},
     "output_type": "execute_result"
    }
   ],
   "source": [
    "df_aniso_valid.loc[[\n",
    "    \"aug-cc-pVDZ\", \"aug-cc-pCVDZ\",\n",
    "    \"aug-cc-pVTZ\", \"aug-cc-pCVTZ\",\n",
    "    \"aug-cc-pV[DT]Z\", \"aug-cc-pCV[DT]Z\",\n",
    "    \"aug-cc-pVQZ\", \"aug-cc-pCVQZ\",\n",
    "    \"aug-cc-pV[TQ]Z\",  \"aug-cc-pCV[TQ]Z\",\n",
    "    \"aug-cc-pV5Z\", \"aug-cc-pCV5Z\",\n",
    "    \"aug-cc-pV[Q5]Z\", \"aug-cc-pCV[Q5]Z\",\n",
    "]].style.format(\"{:.3f}\")"
   ]
  },
  {
   "cell_type": "markdown",
   "id": "78937b28-4e1d-4dc6-afd5-615ceba72a4f",
   "metadata": {},
   "source": [
    "## Special Cases (footnotes of Table 3 in main text)"
   ]
  },
  {
   "cell_type": "code",
   "execution_count": 17,
   "id": "882fa46f-5547-457a-98f8-4c9cc4fac8be",
   "metadata": {
    "execution": {
     "iopub.execute_input": "2023-12-01T01:38:32.576226Z",
     "iopub.status.busy": "2023-12-01T01:38:32.575998Z",
     "iopub.status.idle": "2023-12-01T01:38:32.578030Z",
     "shell.execute_reply": "2023-12-01T01:38:32.577718Z"
    }
   },
   "outputs": [],
   "source": [
    "mask = ['CO', 'CO2', 'N2', 'SO2', 'FCN']"
   ]
  },
  {
   "cell_type": "code",
   "execution_count": 18,
   "id": "8e7e71c8-b953-458b-8870-bd863bfc51cc",
   "metadata": {
    "execution": {
     "iopub.execute_input": "2023-12-01T01:38:32.579659Z",
     "iopub.status.busy": "2023-12-01T01:38:32.579504Z",
     "iopub.status.idle": "2023-12-01T01:38:32.621208Z",
     "shell.execute_reply": "2023-12-01T01:38:32.620659Z"
    }
   },
   "outputs": [],
   "source": [
    "t = pd.DataFrame(index=basis_list, columns=contrib_list)\n",
    "for basis in basis_list:\n",
    "    t.loc[basis] = get_df_err(\n",
    "        df_aniso.loc[basis].loc[mask],\n",
    "        df_aniso_ref[contrib_list].loc[mask],\n",
    "        df_aniso_ref[\"CCSD(T)\"].loc[mask]).loc[\"RelRMSD/%\"]"
   ]
  },
  {
   "cell_type": "code",
   "execution_count": 19,
   "id": "8e597e76-ccd7-43e4-93f6-4edfbbf6f4c0",
   "metadata": {
    "execution": {
     "iopub.execute_input": "2023-12-01T01:38:32.622996Z",
     "iopub.status.busy": "2023-12-01T01:38:32.622669Z",
     "iopub.status.idle": "2023-12-01T01:38:32.626291Z",
     "shell.execute_reply": "2023-12-01T01:38:32.625943Z"
    }
   },
   "outputs": [
    {
     "data": {
      "text/html": [
       "<style type=\"text/css\">\n",
       "</style>\n",
       "<table id=\"T_96857\">\n",
       "  <thead>\n",
       "    <tr>\n",
       "      <th class=\"blank level0\" >&nbsp;</th>\n",
       "      <th id=\"T_96857_level0_col0\" class=\"col_heading level0 col0\" >SCF</th>\n",
       "      <th id=\"T_96857_level0_col1\" class=\"col_heading level0 col1\" >Corr2</th>\n",
       "      <th id=\"T_96857_level0_col2\" class=\"col_heading level0 col2\" >CorrD</th>\n",
       "      <th id=\"T_96857_level0_col3\" class=\"col_heading level0 col3\" >CorrD(T)</th>\n",
       "    </tr>\n",
       "  </thead>\n",
       "  <tbody>\n",
       "    <tr>\n",
       "      <th id=\"T_96857_level0_row0\" class=\"row_heading level0 row0\" >aug-cc-pV[DT]Z</th>\n",
       "      <td id=\"T_96857_row0_col0\" class=\"data row0 col0\" >nan</td>\n",
       "      <td id=\"T_96857_row0_col1\" class=\"data row0 col1\" >0.372</td>\n",
       "      <td id=\"T_96857_row0_col2\" class=\"data row0 col2\" >0.230</td>\n",
       "      <td id=\"T_96857_row0_col3\" class=\"data row0 col3\" >0.201</td>\n",
       "    </tr>\n",
       "    <tr>\n",
       "      <th id=\"T_96857_level0_row1\" class=\"row_heading level0 row1\" >aug-cc-pCV[DT]Z</th>\n",
       "      <td id=\"T_96857_row1_col0\" class=\"data row1 col0\" >nan</td>\n",
       "      <td id=\"T_96857_row1_col1\" class=\"data row1 col1\" >0.410</td>\n",
       "      <td id=\"T_96857_row1_col2\" class=\"data row1 col2\" >0.139</td>\n",
       "      <td id=\"T_96857_row1_col3\" class=\"data row1 col3\" >0.099</td>\n",
       "    </tr>\n",
       "    <tr>\n",
       "      <th id=\"T_96857_level0_row2\" class=\"row_heading level0 row2\" >aug-cc-pV[TQ]Z</th>\n",
       "      <td id=\"T_96857_row2_col0\" class=\"data row2 col0\" >nan</td>\n",
       "      <td id=\"T_96857_row2_col1\" class=\"data row2 col1\" >0.458</td>\n",
       "      <td id=\"T_96857_row2_col2\" class=\"data row2 col2\" >0.195</td>\n",
       "      <td id=\"T_96857_row2_col3\" class=\"data row2 col3\" >0.134</td>\n",
       "    </tr>\n",
       "    <tr>\n",
       "      <th id=\"T_96857_level0_row3\" class=\"row_heading level0 row3\" >aug-cc-pCV[TQ]Z</th>\n",
       "      <td id=\"T_96857_row3_col0\" class=\"data row3 col0\" >nan</td>\n",
       "      <td id=\"T_96857_row3_col1\" class=\"data row3 col1\" >0.264</td>\n",
       "      <td id=\"T_96857_row3_col2\" class=\"data row3 col2\" >0.056</td>\n",
       "      <td id=\"T_96857_row3_col3\" class=\"data row3 col3\" >0.075</td>\n",
       "    </tr>\n",
       "  </tbody>\n",
       "</table>\n"
      ],
      "text/plain": [
       "<pandas.io.formats.style.Styler at 0x7faaf7716170>"
      ]
     },
     "execution_count": 19,
     "metadata": {},
     "output_type": "execute_result"
    }
   ],
   "source": [
    "t.loc[[\n",
    "    # \"aug-cc-pVDZ\", \"aug-cc-pCVDZ\",\n",
    "    # \"aug-cc-pVTZ\", \"aug-cc-pCVTZ\",\n",
    "    \"aug-cc-pV[DT]Z\", \"aug-cc-pCV[DT]Z\",\n",
    "    # \"aug-cc-pVQZ\", \"aug-cc-pCVQZ\",\n",
    "    \"aug-cc-pV[TQ]Z\",  \"aug-cc-pCV[TQ]Z\",\n",
    "    # \"aug-cc-pV5Z\", \"aug-cc-pCV5Z\",\n",
    "    # \"aug-cc-pV[Q5]Z\", \"aug-cc-pCV[Q5]Z\",\n",
    "]].style.format(\"{:.3f}\")"
   ]
  },
  {
   "cell_type": "markdown",
   "id": "34ff4931-f8ab-48e3-87c7-d5e106f7fefc",
   "metadata": {},
   "source": [
    "## Compare RMSD results (Table S7 in Supporting Information)"
   ]
  },
  {
   "cell_type": "code",
   "execution_count": 20,
   "id": "a3416004-bfb5-42fd-a0f4-14891271f88b",
   "metadata": {
    "execution": {
     "iopub.execute_input": "2023-12-01T01:38:32.627833Z",
     "iopub.status.busy": "2023-12-01T01:38:32.627677Z",
     "iopub.status.idle": "2023-12-01T01:38:32.708076Z",
     "shell.execute_reply": "2023-12-01T01:38:32.707721Z"
    }
   },
   "outputs": [],
   "source": [
    "mask1 = ['Cl2', 'CO', 'CO2', 'N2', 'SO2', 'FCN', 'HCHS']\n",
    "mask2 = ['H2O', 'NH3', 'PH3', 'SH2', 'SiH4']\n",
    "t = pd.DataFrame(index=basis_list, columns=pd.MultiIndex.from_product([[\"large aniso\", \"small aniso\"], contrib_list]))\n",
    "for basis in basis_list:\n",
    "    t.at[basis, \"large aniso\"] = np.asarray(get_df_err(\n",
    "        df_aniso.loc[basis].loc[mask1],\n",
    "        df_aniso_ref[contrib_list].loc[mask1],\n",
    "        df_aniso_ref[\"CCSD(T)\"].loc[mask1]).loc[\"RMSD/A^3\"])\n",
    "    t.at[basis, \"small aniso\"] = np.asarray(get_df_err(\n",
    "        df_aniso.loc[basis].loc[mask2],\n",
    "        df_aniso_ref[contrib_list].loc[mask2],\n",
    "        df_aniso_ref[\"CCSD(T)\"].loc[mask2]).loc[\"RMSD/A^3\"])"
   ]
  },
  {
   "cell_type": "code",
   "execution_count": 21,
   "id": "c566c645-c414-40e8-8776-4431ef458e2b",
   "metadata": {
    "execution": {
     "iopub.execute_input": "2023-12-01T01:38:32.710060Z",
     "iopub.status.busy": "2023-12-01T01:38:32.709892Z",
     "iopub.status.idle": "2023-12-01T01:38:32.715563Z",
     "shell.execute_reply": "2023-12-01T01:38:32.715212Z"
    }
   },
   "outputs": [
    {
     "data": {
      "text/html": [
       "<style type=\"text/css\">\n",
       "</style>\n",
       "<table id=\"T_3115b\">\n",
       "  <thead>\n",
       "    <tr>\n",
       "      <th class=\"blank level0\" >&nbsp;</th>\n",
       "      <th id=\"T_3115b_level0_col0\" class=\"col_heading level0 col0\" colspan=\"4\">large aniso</th>\n",
       "      <th id=\"T_3115b_level0_col4\" class=\"col_heading level0 col4\" colspan=\"4\">small aniso</th>\n",
       "    </tr>\n",
       "    <tr>\n",
       "      <th class=\"blank level1\" >&nbsp;</th>\n",
       "      <th id=\"T_3115b_level1_col0\" class=\"col_heading level1 col0\" >SCF</th>\n",
       "      <th id=\"T_3115b_level1_col1\" class=\"col_heading level1 col1\" >Corr2</th>\n",
       "      <th id=\"T_3115b_level1_col2\" class=\"col_heading level1 col2\" >CorrD</th>\n",
       "      <th id=\"T_3115b_level1_col3\" class=\"col_heading level1 col3\" >CorrD(T)</th>\n",
       "      <th id=\"T_3115b_level1_col4\" class=\"col_heading level1 col4\" >SCF</th>\n",
       "      <th id=\"T_3115b_level1_col5\" class=\"col_heading level1 col5\" >Corr2</th>\n",
       "      <th id=\"T_3115b_level1_col6\" class=\"col_heading level1 col6\" >CorrD</th>\n",
       "      <th id=\"T_3115b_level1_col7\" class=\"col_heading level1 col7\" >CorrD(T)</th>\n",
       "    </tr>\n",
       "  </thead>\n",
       "  <tbody>\n",
       "    <tr>\n",
       "      <th id=\"T_3115b_level0_row0\" class=\"row_heading level0 row0\" >aug-cc-pVDZ</th>\n",
       "      <td id=\"T_3115b_row0_col0\" class=\"data row0 col0\" >0.1010</td>\n",
       "      <td id=\"T_3115b_row0_col1\" class=\"data row0 col1\" >0.0177</td>\n",
       "      <td id=\"T_3115b_row0_col2\" class=\"data row0 col2\" >0.0284</td>\n",
       "      <td id=\"T_3115b_row0_col3\" class=\"data row0 col3\" >0.0142</td>\n",
       "      <td id=\"T_3115b_row0_col4\" class=\"data row0 col4\" >0.0347</td>\n",
       "      <td id=\"T_3115b_row0_col5\" class=\"data row0 col5\" >0.0175</td>\n",
       "      <td id=\"T_3115b_row0_col6\" class=\"data row0 col6\" >0.0218</td>\n",
       "      <td id=\"T_3115b_row0_col7\" class=\"data row0 col7\" >0.0164</td>\n",
       "    </tr>\n",
       "    <tr>\n",
       "      <th id=\"T_3115b_level0_row1\" class=\"row_heading level0 row1\" >aug-cc-pCVDZ</th>\n",
       "      <td id=\"T_3115b_row1_col0\" class=\"data row1 col0\" >0.0997</td>\n",
       "      <td id=\"T_3115b_row1_col1\" class=\"data row1 col1\" >0.0162</td>\n",
       "      <td id=\"T_3115b_row1_col2\" class=\"data row1 col2\" >0.0246</td>\n",
       "      <td id=\"T_3115b_row1_col3\" class=\"data row1 col3\" >0.0134</td>\n",
       "      <td id=\"T_3115b_row1_col4\" class=\"data row1 col4\" >0.0339</td>\n",
       "      <td id=\"T_3115b_row1_col5\" class=\"data row1 col5\" >0.0176</td>\n",
       "      <td id=\"T_3115b_row1_col6\" class=\"data row1 col6\" >0.0202</td>\n",
       "      <td id=\"T_3115b_row1_col7\" class=\"data row1 col7\" >0.0158</td>\n",
       "    </tr>\n",
       "    <tr>\n",
       "      <th id=\"T_3115b_level0_row2\" class=\"row_heading level0 row2\" >aug-cc-pVTZ</th>\n",
       "      <td id=\"T_3115b_row2_col0\" class=\"data row2 col0\" >0.0282</td>\n",
       "      <td id=\"T_3115b_row2_col1\" class=\"data row2 col1\" >0.0101</td>\n",
       "      <td id=\"T_3115b_row2_col2\" class=\"data row2 col2\" >0.0105</td>\n",
       "      <td id=\"T_3115b_row2_col3\" class=\"data row2 col3\" >0.0057</td>\n",
       "      <td id=\"T_3115b_row2_col4\" class=\"data row2 col4\" >0.0117</td>\n",
       "      <td id=\"T_3115b_row2_col5\" class=\"data row2 col5\" >0.0160</td>\n",
       "      <td id=\"T_3115b_row2_col6\" class=\"data row2 col6\" >0.0079</td>\n",
       "      <td id=\"T_3115b_row2_col7\" class=\"data row2 col7\" >0.0060</td>\n",
       "    </tr>\n",
       "    <tr>\n",
       "      <th id=\"T_3115b_level0_row3\" class=\"row_heading level0 row3\" >aug-cc-pCVTZ</th>\n",
       "      <td id=\"T_3115b_row3_col0\" class=\"data row3 col0\" >0.0178</td>\n",
       "      <td id=\"T_3115b_row3_col1\" class=\"data row3 col1\" >0.0061</td>\n",
       "      <td id=\"T_3115b_row3_col2\" class=\"data row3 col2\" >0.0082</td>\n",
       "      <td id=\"T_3115b_row3_col3\" class=\"data row3 col3\" >0.0060</td>\n",
       "      <td id=\"T_3115b_row3_col4\" class=\"data row3 col4\" >0.0110</td>\n",
       "      <td id=\"T_3115b_row3_col5\" class=\"data row3 col5\" >0.0139</td>\n",
       "      <td id=\"T_3115b_row3_col6\" class=\"data row3 col6\" >0.0072</td>\n",
       "      <td id=\"T_3115b_row3_col7\" class=\"data row3 col7\" >0.0059</td>\n",
       "    </tr>\n",
       "    <tr>\n",
       "      <th id=\"T_3115b_level0_row4\" class=\"row_heading level0 row4\" >aug-cc-pV[DT]Z</th>\n",
       "      <td id=\"T_3115b_row4_col0\" class=\"data row4 col0\" >nan</td>\n",
       "      <td id=\"T_3115b_row4_col1\" class=\"data row4 col1\" >0.0130</td>\n",
       "      <td id=\"T_3115b_row4_col2\" class=\"data row4 col2\" >0.0036</td>\n",
       "      <td id=\"T_3115b_row4_col3\" class=\"data row4 col3\" >0.0032</td>\n",
       "      <td id=\"T_3115b_row4_col4\" class=\"data row4 col4\" >nan</td>\n",
       "      <td id=\"T_3115b_row4_col5\" class=\"data row4 col5\" >0.0200</td>\n",
       "      <td id=\"T_3115b_row4_col6\" class=\"data row4 col6\" >0.0044</td>\n",
       "      <td id=\"T_3115b_row4_col7\" class=\"data row4 col7\" >0.0038</td>\n",
       "    </tr>\n",
       "    <tr>\n",
       "      <th id=\"T_3115b_level0_row5\" class=\"row_heading level0 row5\" >aug-cc-pCV[DT]Z</th>\n",
       "      <td id=\"T_3115b_row5_col0\" class=\"data row5 col0\" >nan</td>\n",
       "      <td id=\"T_3115b_row5_col1\" class=\"data row5 col1\" >0.0077</td>\n",
       "      <td id=\"T_3115b_row5_col2\" class=\"data row5 col2\" >0.0037</td>\n",
       "      <td id=\"T_3115b_row5_col3\" class=\"data row5 col3\" >0.0041</td>\n",
       "      <td id=\"T_3115b_row5_col4\" class=\"data row5 col4\" >nan</td>\n",
       "      <td id=\"T_3115b_row5_col5\" class=\"data row5 col5\" >0.0168</td>\n",
       "      <td id=\"T_3115b_row5_col6\" class=\"data row5 col6\" >0.0052</td>\n",
       "      <td id=\"T_3115b_row5_col7\" class=\"data row5 col7\" >0.0046</td>\n",
       "    </tr>\n",
       "    <tr>\n",
       "      <th id=\"T_3115b_level0_row6\" class=\"row_heading level0 row6\" >aug-cc-pVQZ</th>\n",
       "      <td id=\"T_3115b_row6_col0\" class=\"data row6 col0\" >0.0112</td>\n",
       "      <td id=\"T_3115b_row6_col1\" class=\"data row6 col1\" >0.0080</td>\n",
       "      <td id=\"T_3115b_row6_col2\" class=\"data row6 col2\" >0.0053</td>\n",
       "      <td id=\"T_3115b_row6_col3\" class=\"data row6 col3\" >0.0037</td>\n",
       "      <td id=\"T_3115b_row6_col4\" class=\"data row6 col4\" >0.0030</td>\n",
       "      <td id=\"T_3115b_row6_col5\" class=\"data row6 col5\" >0.0125</td>\n",
       "      <td id=\"T_3115b_row6_col6\" class=\"data row6 col6\" >0.0036</td>\n",
       "      <td id=\"T_3115b_row6_col7\" class=\"data row6 col7\" >0.0022</td>\n",
       "    </tr>\n",
       "    <tr>\n",
       "      <th id=\"T_3115b_level0_row7\" class=\"row_heading level0 row7\" >aug-cc-pCVQZ</th>\n",
       "      <td id=\"T_3115b_row7_col0\" class=\"data row7 col0\" >0.0041</td>\n",
       "      <td id=\"T_3115b_row7_col1\" class=\"data row7 col1\" >0.0030</td>\n",
       "      <td id=\"T_3115b_row7_col2\" class=\"data row7 col2\" >0.0021</td>\n",
       "      <td id=\"T_3115b_row7_col3\" class=\"data row7 col3\" >0.0018</td>\n",
       "      <td id=\"T_3115b_row7_col4\" class=\"data row7 col4\" >0.0038</td>\n",
       "      <td id=\"T_3115b_row7_col5\" class=\"data row7 col5\" >0.0087</td>\n",
       "      <td id=\"T_3115b_row7_col6\" class=\"data row7 col6\" >0.0036</td>\n",
       "      <td id=\"T_3115b_row7_col7\" class=\"data row7 col7\" >0.0023</td>\n",
       "    </tr>\n",
       "    <tr>\n",
       "      <th id=\"T_3115b_level0_row8\" class=\"row_heading level0 row8\" >aug-cc-pV[TQ]Z</th>\n",
       "      <td id=\"T_3115b_row8_col0\" class=\"data row8 col0\" >nan</td>\n",
       "      <td id=\"T_3115b_row8_col1\" class=\"data row8 col1\" >0.0076</td>\n",
       "      <td id=\"T_3115b_row8_col2\" class=\"data row8 col2\" >0.0054</td>\n",
       "      <td id=\"T_3115b_row8_col3\" class=\"data row8 col3\" >0.0053</td>\n",
       "      <td id=\"T_3115b_row8_col4\" class=\"data row8 col4\" >nan</td>\n",
       "      <td id=\"T_3115b_row8_col5\" class=\"data row8 col5\" >0.0103</td>\n",
       "      <td id=\"T_3115b_row8_col6\" class=\"data row8 col6\" >0.0032</td>\n",
       "      <td id=\"T_3115b_row8_col7\" class=\"data row8 col7\" >0.0024</td>\n",
       "    </tr>\n",
       "    <tr>\n",
       "      <th id=\"T_3115b_level0_row9\" class=\"row_heading level0 row9\" >aug-cc-pCV[TQ]Z</th>\n",
       "      <td id=\"T_3115b_row9_col0\" class=\"data row9 col0\" >nan</td>\n",
       "      <td id=\"T_3115b_row9_col1\" class=\"data row9 col1\" >0.0023</td>\n",
       "      <td id=\"T_3115b_row9_col2\" class=\"data row9 col2\" >0.0040</td>\n",
       "      <td id=\"T_3115b_row9_col3\" class=\"data row9 col3\" >0.0028</td>\n",
       "      <td id=\"T_3115b_row9_col4\" class=\"data row9 col4\" >nan</td>\n",
       "      <td id=\"T_3115b_row9_col5\" class=\"data row9 col5\" >0.0051</td>\n",
       "      <td id=\"T_3115b_row9_col6\" class=\"data row9 col6\" >0.0035</td>\n",
       "      <td id=\"T_3115b_row9_col7\" class=\"data row9 col7\" >0.0025</td>\n",
       "    </tr>\n",
       "    <tr>\n",
       "      <th id=\"T_3115b_level0_row10\" class=\"row_heading level0 row10\" >aug-cc-pV5Z</th>\n",
       "      <td id=\"T_3115b_row10_col0\" class=\"data row10 col0\" >0.0025</td>\n",
       "      <td id=\"T_3115b_row10_col1\" class=\"data row10 col1\" >0.0034</td>\n",
       "      <td id=\"T_3115b_row10_col2\" class=\"data row10 col2\" >0.0024</td>\n",
       "      <td id=\"T_3115b_row10_col3\" class=\"data row10 col3\" >0.0019</td>\n",
       "      <td id=\"T_3115b_row10_col4\" class=\"data row10 col4\" >0.0001</td>\n",
       "      <td id=\"T_3115b_row10_col5\" class=\"data row10 col5\" >0.0071</td>\n",
       "      <td id=\"T_3115b_row10_col6\" class=\"data row10 col6\" >0.0020</td>\n",
       "      <td id=\"T_3115b_row10_col7\" class=\"data row10 col7\" >0.0011</td>\n",
       "    </tr>\n",
       "    <tr>\n",
       "      <th id=\"T_3115b_level0_row11\" class=\"row_heading level0 row11\" >aug-cc-pCV5Z</th>\n",
       "      <td id=\"T_3115b_row11_col0\" class=\"data row11 col0\" >0.0000</td>\n",
       "      <td id=\"T_3115b_row11_col1\" class=\"data row11 col1\" >0.0015</td>\n",
       "      <td id=\"T_3115b_row11_col2\" class=\"data row11 col2\" >0.0011</td>\n",
       "      <td id=\"T_3115b_row11_col3\" class=\"data row11 col3\" >0.0009</td>\n",
       "      <td id=\"T_3115b_row11_col4\" class=\"data row11 col4\" >0.0000</td>\n",
       "      <td id=\"T_3115b_row11_col5\" class=\"data row11 col5\" >0.0044</td>\n",
       "      <td id=\"T_3115b_row11_col6\" class=\"data row11 col6\" >0.0018</td>\n",
       "      <td id=\"T_3115b_row11_col7\" class=\"data row11 col7\" >0.0012</td>\n",
       "    </tr>\n",
       "    <tr>\n",
       "      <th id=\"T_3115b_level0_row12\" class=\"row_heading level0 row12\" >aug-cc-pV[Q5]Z</th>\n",
       "      <td id=\"T_3115b_row12_col0\" class=\"data row12 col0\" >nan</td>\n",
       "      <td id=\"T_3115b_row12_col1\" class=\"data row12 col1\" >0.0024</td>\n",
       "      <td id=\"T_3115b_row12_col2\" class=\"data row12 col2\" >0.0011</td>\n",
       "      <td id=\"T_3115b_row12_col3\" class=\"data row12 col3\" >0.0008</td>\n",
       "      <td id=\"T_3115b_row12_col4\" class=\"data row12 col4\" >nan</td>\n",
       "      <td id=\"T_3115b_row12_col5\" class=\"data row12 col5\" >0.0015</td>\n",
       "      <td id=\"T_3115b_row12_col6\" class=\"data row12 col6\" >0.0006</td>\n",
       "      <td id=\"T_3115b_row12_col7\" class=\"data row12 col7\" >0.0004</td>\n",
       "    </tr>\n",
       "    <tr>\n",
       "      <th id=\"T_3115b_level0_row13\" class=\"row_heading level0 row13\" >aug-cc-pCV[Q5]Z</th>\n",
       "      <td id=\"T_3115b_row13_col0\" class=\"data row13 col0\" >nan</td>\n",
       "      <td id=\"T_3115b_row13_col1\" class=\"data row13 col1\" >0.0000</td>\n",
       "      <td id=\"T_3115b_row13_col2\" class=\"data row13 col2\" >0.0000</td>\n",
       "      <td id=\"T_3115b_row13_col3\" class=\"data row13 col3\" >0.0000</td>\n",
       "      <td id=\"T_3115b_row13_col4\" class=\"data row13 col4\" >nan</td>\n",
       "      <td id=\"T_3115b_row13_col5\" class=\"data row13 col5\" >0.0000</td>\n",
       "      <td id=\"T_3115b_row13_col6\" class=\"data row13 col6\" >0.0000</td>\n",
       "      <td id=\"T_3115b_row13_col7\" class=\"data row13 col7\" >0.0000</td>\n",
       "    </tr>\n",
       "  </tbody>\n",
       "</table>\n"
      ],
      "text/plain": [
       "<pandas.io.formats.style.Styler at 0x7faaf7717e50>"
      ]
     },
     "execution_count": 21,
     "metadata": {},
     "output_type": "execute_result"
    }
   ],
   "source": [
    "t.loc[[\n",
    "    \"aug-cc-pVDZ\", \"aug-cc-pCVDZ\",\n",
    "    \"aug-cc-pVTZ\", \"aug-cc-pCVTZ\",\n",
    "    \"aug-cc-pV[DT]Z\", \"aug-cc-pCV[DT]Z\",\n",
    "    \"aug-cc-pVQZ\", \"aug-cc-pCVQZ\",\n",
    "    \"aug-cc-pV[TQ]Z\",  \"aug-cc-pCV[TQ]Z\",\n",
    "    \"aug-cc-pV5Z\", \"aug-cc-pCV5Z\",\n",
    "    \"aug-cc-pV[Q5]Z\", \"aug-cc-pCV[Q5]Z\",\n",
    "]].style.format(\"{:.4f}\")"
   ]
  }
 ],
 "metadata": {
  "kernelspec": {
   "display_name": "Python 3 (ipykernel)",
   "language": "python",
   "name": "python3"
  },
  "language_info": {
   "codemirror_mode": {
    "name": "ipython",
    "version": 3
   },
   "file_extension": ".py",
   "mimetype": "text/x-python",
   "name": "python",
   "nbconvert_exporter": "python",
   "pygments_lexer": "ipython3",
   "version": "3.10.13"
  }
 },
 "nbformat": 4,
 "nbformat_minor": 5
}
