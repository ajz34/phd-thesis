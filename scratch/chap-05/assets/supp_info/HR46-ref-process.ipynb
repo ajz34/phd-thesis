{
 "cells": [
  {
   "cell_type": "markdown",
   "id": "ff49e154-682b-42bd-9b8a-4cfeee521d21",
   "metadata": {
    "tags": []
   },
   "source": [
    "# Process of Reference Value of HR46"
   ]
  },
  {
   "cell_type": "code",
   "execution_count": 1,
   "id": "02c07d91-5da5-4190-8ce0-d1f6126e4e0f",
   "metadata": {
    "execution": {
     "iopub.execute_input": "2023-12-01T01:38:45.710804Z",
     "iopub.status.busy": "2023-12-01T01:38:45.710633Z",
     "iopub.status.idle": "2023-12-01T01:38:45.834989Z",
     "shell.execute_reply": "2023-12-01T01:38:45.834539Z"
    }
   },
   "outputs": [],
   "source": [
    "import pandas as pd\n",
    "import numpy as np"
   ]
  },
  {
   "cell_type": "code",
   "execution_count": 2,
   "id": "03746f5c-77ef-47cf-b293-e1520719dbeb",
   "metadata": {
    "execution": {
     "iopub.execute_input": "2023-12-01T01:38:45.836742Z",
     "iopub.status.busy": "2023-12-01T01:38:45.836519Z",
     "iopub.status.idle": "2023-12-01T01:38:45.839729Z",
     "shell.execute_reply": "2023-12-01T01:38:45.839416Z"
    }
   },
   "outputs": [],
   "source": [
    "def get_df_err(df, df_sub, ref=None):\n",
    "    if ref is None:\n",
    "        ref = df_sub\n",
    "    # In case if column headers of reference is not the same to df\n",
    "    if isinstance(df_sub, pd.DataFrame):\n",
    "        df_sub.columns = df.columns\n",
    "        ref.columns = df.columns\n",
    "    df_err_val = df.sub(df_sub, axis=\"index\")\n",
    "    df_err_rel = df_err_val.div(ref, axis=\"index\") * 100\n",
    "    df_z = df - df.mean()\n",
    "    ref_z = df_sub - df_sub.mean()\n",
    "    df_err = {\n",
    "        \"MaxE/A^3\": df_err_val.abs().max(),\n",
    "        \"MAD/A^3\": df_err_val.abs().mean(),\n",
    "        \"RMSD/A^3\": np.sqrt((df_err_val**2).mean()),\n",
    "        \"RelMaxE/%\": df_err_rel.abs().max(),\n",
    "        \"RelMAD/%\": df_err_rel.abs().mean(),\n",
    "        \"RelRMSD/%\": np.sqrt((df_err_rel**2).mean()),\n",
    "    }\n",
    "    # In case df is pd.Series instead of pd.DataFrame \n",
    "    try:\n",
    "        return pd.DataFrame(df_err).T\n",
    "    except ValueError:\n",
    "        return pd.Series(df_err)"
   ]
  },
  {
   "cell_type": "markdown",
   "id": "dfe553bc-0147-4be0-b982-8aaa8a7926af",
   "metadata": {},
   "source": [
    "## Read Data"
   ]
  },
  {
   "cell_type": "code",
   "execution_count": 3,
   "id": "86f93836-1dc9-43a2-a90f-5a7624077ce0",
   "metadata": {
    "execution": {
     "iopub.execute_input": "2023-12-01T01:38:45.840889Z",
     "iopub.status.busy": "2023-12-01T01:38:45.840730Z",
     "iopub.status.idle": "2023-12-01T01:38:45.850696Z",
     "shell.execute_reply": "2023-12-01T01:38:45.850281Z"
    }
   },
   "outputs": [],
   "source": [
    "df_cc_iso = pd.read_csv(\"HR46-CCSDt-isotropic.csv\", header=[0], index_col=[0, 1])\n",
    "df_cc_aniso = pd.read_csv(\"HR46-CCSDt-anisotropic.csv\", header=[0], index_col=[0, 1])"
   ]
  },
  {
   "cell_type": "code",
   "execution_count": 4,
   "id": "0c49b60b-01df-4571-aea2-999f3b7ba8ce",
   "metadata": {
    "execution": {
     "iopub.execute_input": "2023-12-01T01:38:45.852319Z",
     "iopub.status.busy": "2023-12-01T01:38:45.852143Z",
     "iopub.status.idle": "2023-12-01T01:38:45.858512Z",
     "shell.execute_reply": "2023-12-01T01:38:45.858175Z"
    }
   },
   "outputs": [],
   "source": [
    "df_mp_iso = pd.read_csv(\"HR46-RIMP2-isotropic.csv\", header=[0], index_col=[0, 1])\n",
    "df_mp_aniso = pd.read_csv(\"HR46-RIMP2-anisotropic.csv\", header=[0], index_col=[0, 1])"
   ]
  },
  {
   "cell_type": "code",
   "execution_count": 5,
   "id": "6011a17f-a354-4297-9fcb-67dcec765434",
   "metadata": {
    "execution": {
     "iopub.execute_input": "2023-12-01T01:38:45.859791Z",
     "iopub.status.busy": "2023-12-01T01:38:45.859619Z",
     "iopub.status.idle": "2023-12-01T01:38:45.862023Z",
     "shell.execute_reply": "2023-12-01T01:38:45.861705Z"
    }
   },
   "outputs": [],
   "source": [
    "mol_list = list(df_cc_iso.loc[\"aug-cc-pVDZ\"].index)"
   ]
  },
  {
   "cell_type": "code",
   "execution_count": 6,
   "id": "1a3ac95c-9f4b-4e9e-bf30-f460cc5b4d0f",
   "metadata": {
    "execution": {
     "iopub.execute_input": "2023-12-01T01:38:45.863207Z",
     "iopub.status.busy": "2023-12-01T01:38:45.863043Z",
     "iopub.status.idle": "2023-12-01T01:38:45.865341Z",
     "shell.execute_reply": "2023-12-01T01:38:45.865041Z"
    }
   },
   "outputs": [],
   "source": [
    "mol_set1 = ['bromine', 'chlorine', 'nitrogen', 'oxygen', 'carbon_monoxide', 'sulfur_monoxide', 'carbon_dioxide', 'sulfur_dioxide', 'water', 'phosphine', 'hydrogen_sulfide', 'silane', 'ammonia', 'nitrogen_monoxide']\n",
    "mol_set2 = ['ethene', 'propane', '1-3-butadiene', 'methanol', 'ethanol', 'methylformate', 'acetone', 'acetaldehyde', 'acetic_acid', 'dimethyl_ether', 'dimethyl_sulfide', 'fluoromethane', 'acetonitrile', 'pyrazole']\n",
    "mol_set3 = ['isobutene', '1-pentene', 'methylacetate', 'N-methylacetamide', 'dimethyl_sulfone', 'dimethyl_amine', 'trimethyl_amine', 'imidazole', 'pyrrole', 'furan', 'thiophene', 'pyridine', 'phenol', 'chlorobenzene', 'fluorobenzene', 'toluene', 'benzene', 'cytosine']\n"
   ]
  },
  {
   "cell_type": "code",
   "execution_count": 7,
   "id": "f2eafee6-5cf1-4dc6-8513-73a7e27054f4",
   "metadata": {
    "execution": {
     "iopub.execute_input": "2023-12-01T01:38:45.866448Z",
     "iopub.status.busy": "2023-12-01T01:38:45.866255Z",
     "iopub.status.idle": "2023-12-01T01:38:45.868476Z",
     "shell.execute_reply": "2023-12-01T01:38:45.868108Z"
    }
   },
   "outputs": [
    {
     "name": "stdout",
     "output_type": "stream",
     "text": [
      "14 14 18\n"
     ]
    }
   ],
   "source": [
    "print(len(mol_set1), len(mol_set2), len(mol_set3))"
   ]
  },
  {
   "cell_type": "markdown",
   "id": "1eae9acf-8c00-4667-9d36-1b7cd6e1d0fb",
   "metadata": {},
   "source": [
    "## Correlation Data"
   ]
  },
  {
   "cell_type": "code",
   "execution_count": 8,
   "id": "2d4c9690-3c56-4c67-9704-5aded86ac2c7",
   "metadata": {
    "execution": {
     "iopub.execute_input": "2023-12-01T01:38:45.870210Z",
     "iopub.status.busy": "2023-12-01T01:38:45.870034Z",
     "iopub.status.idle": "2023-12-01T01:38:45.872183Z",
     "shell.execute_reply": "2023-12-01T01:38:45.871885Z"
    }
   },
   "outputs": [],
   "source": [
    "df_corr2_iso = df_mp_iso[\"RI-MP2\"] - df_mp_iso[\"RI-JK\"]\n",
    "df_corr2_aniso = df_mp_aniso[\"RI-MP2\"] - df_mp_aniso[\"RI-JK\"]"
   ]
  },
  {
   "cell_type": "code",
   "execution_count": 9,
   "id": "8f90e442-9094-4593-8925-7307b004e720",
   "metadata": {
    "execution": {
     "iopub.execute_input": "2023-12-01T01:38:45.873290Z",
     "iopub.status.busy": "2023-12-01T01:38:45.873132Z",
     "iopub.status.idle": "2023-12-01T01:38:45.875121Z",
     "shell.execute_reply": "2023-12-01T01:38:45.874798Z"
    }
   },
   "outputs": [],
   "source": [
    "df_corrd_iso = df_cc_iso[\"CCSD\"] - df_cc_iso[\"MP2\"]\n",
    "df_corrd_aniso = df_cc_aniso[\"CCSD\"] - df_cc_aniso[\"MP2\"]"
   ]
  },
  {
   "cell_type": "code",
   "execution_count": 10,
   "id": "bf798298-d80a-442c-867c-b9d740d0b24f",
   "metadata": {
    "execution": {
     "iopub.execute_input": "2023-12-01T01:38:45.876321Z",
     "iopub.status.busy": "2023-12-01T01:38:45.876056Z",
     "iopub.status.idle": "2023-12-01T01:38:45.878108Z",
     "shell.execute_reply": "2023-12-01T01:38:45.877692Z"
    }
   },
   "outputs": [],
   "source": [
    "df_corrdt_iso = df_cc_iso[\"CCSD(T)\"] - df_cc_iso[\"MP2\"]\n",
    "df_corrdt_aniso = df_cc_aniso[\"CCSD(T)\"] - df_cc_aniso[\"MP2\"]"
   ]
  },
  {
   "cell_type": "markdown",
   "id": "b7a777e6-66de-4649-8cf6-dae47f9d1100",
   "metadata": {},
   "source": [
    "## Benchmark"
   ]
  },
  {
   "cell_type": "markdown",
   "id": "eef3f7d0-ece7-4c5f-98a6-6e65c65254d1",
   "metadata": {
    "tags": []
   },
   "source": [
    "### Error between RI-JK/RI-Corr2 and numerical SCF/Corr2 (sec 3.1)"
   ]
  },
  {
   "cell_type": "code",
   "execution_count": 11,
   "id": "6bde493a-c754-4de1-8361-1b3ab2271366",
   "metadata": {
    "execution": {
     "iopub.execute_input": "2023-12-01T01:38:45.879121Z",
     "iopub.status.busy": "2023-12-01T01:38:45.879026Z",
     "iopub.status.idle": "2023-12-01T01:38:45.883665Z",
     "shell.execute_reply": "2023-12-01T01:38:45.883354Z"
    }
   },
   "outputs": [
    {
     "data": {
      "text/plain": [
       "0.018311887969626597"
      ]
     },
     "execution_count": 11,
     "metadata": {},
     "output_type": "execute_result"
    }
   ],
   "source": [
    "get_df_err(\n",
    "    df_mp_iso.loc[\"aug-cc-pVTZ\"][\"RI-JK\"],\n",
    "    df_cc_iso.loc[\"aug-cc-pVTZ\"][\"SCF\"])[\"RelRMSD/%\"]"
   ]
  },
  {
   "cell_type": "code",
   "execution_count": 12,
   "id": "03dd4f62-0391-47c2-acfb-00d3a58ea08a",
   "metadata": {
    "execution": {
     "iopub.execute_input": "2023-12-01T01:38:45.884794Z",
     "iopub.status.busy": "2023-12-01T01:38:45.884624Z",
     "iopub.status.idle": "2023-12-01T01:38:45.888676Z",
     "shell.execute_reply": "2023-12-01T01:38:45.888381Z"
    }
   },
   "outputs": [
    {
     "data": {
      "text/plain": [
       "0.010148092563830638"
      ]
     },
     "execution_count": 12,
     "metadata": {},
     "output_type": "execute_result"
    }
   ],
   "source": [
    "get_df_err(\n",
    "    df_mp_iso.loc[\"aug-cc-pVTZ\"][\"RI-MP2\"] - df_mp_iso.loc[\"aug-cc-pVTZ\"][\"RI-JK\"],\n",
    "    df_cc_iso.loc[\"aug-cc-pVTZ\"][\"MP2\"] - df_cc_iso.loc[\"aug-cc-pVTZ\"][\"SCF\"],\n",
    "    df_cc_iso.loc[\"aug-cc-pVTZ\"][\"MP2\"]\n",
    ")[\"RelRMSD/%\"]"
   ]
  },
  {
   "cell_type": "markdown",
   "id": "118767f3-226f-4c70-beec-114c12f97da5",
   "metadata": {},
   "source": [
    "## Isotropic Reference (Table S1)"
   ]
  },
  {
   "cell_type": "code",
   "execution_count": 13,
   "id": "34d6e963-b626-4e26-94b9-18fd5bc24fa3",
   "metadata": {
    "execution": {
     "iopub.execute_input": "2023-12-01T01:38:45.890427Z",
     "iopub.status.busy": "2023-12-01T01:38:45.890259Z",
     "iopub.status.idle": "2023-12-01T01:38:45.894108Z",
     "shell.execute_reply": "2023-12-01T01:38:45.893796Z"
    }
   },
   "outputs": [],
   "source": [
    "df_ref_iso = pd.DataFrame(index=mol_list, columns=[\"SCF\", \"Corr2\", \"CorrD\", \"CorrD(T)\", \"MP2\", \"CCSD\", \"CCSD(T)\"], dtype=float)\n",
    "df_ref_iso.loc[:, \"SCF\"] = df_mp_iso.loc[(\"aug-cc-pCV5Z\"), \"RI-JK\"]\n",
    "df_ref_iso.loc[:, \"Corr2\"] = (125 * df_corr2_iso.loc[\"aug-cc-pCV5Z\"] - 64 * df_corr2_iso.loc[\"aug-cc-pCVQZ\"]) / 61"
   ]
  },
  {
   "cell_type": "code",
   "execution_count": 14,
   "id": "4d0f3904-bcbf-4cfd-878d-00f397f69b10",
   "metadata": {
    "execution": {
     "iopub.execute_input": "2023-12-01T01:38:45.895243Z",
     "iopub.status.busy": "2023-12-01T01:38:45.895079Z",
     "iopub.status.idle": "2023-12-01T01:38:45.900086Z",
     "shell.execute_reply": "2023-12-01T01:38:45.899765Z"
    }
   },
   "outputs": [],
   "source": [
    "df_ref_iso.loc[mol_set1, \"CorrD\"] = (125 * df_corrd_iso.loc[\"aug-cc-pV5Z\"].loc[mol_set1] - 64 * df_corrd_iso.loc[\"aug-cc-pVQZ\"].loc[mol_set1]) / 61\n",
    "df_ref_iso.loc[mol_set2, \"CorrD\"] = (64 * df_corrd_iso.loc[\"aug-cc-pVQZ\"].loc[mol_set2] - 27 * df_corrd_iso.loc[\"aug-cc-pVTZ\"].loc[mol_set2]) / 37\n",
    "df_ref_iso.loc[mol_set3, \"CorrD\"] = (27 * df_corrd_iso.loc[\"aug-cc-pVTZ\"].loc[mol_set3] - 8 * df_corrd_iso.loc[\"aug-cc-pVDZ\"].loc[mol_set3]) / 19"
   ]
  },
  {
   "cell_type": "code",
   "execution_count": 15,
   "id": "1b2a41f5-b048-4d84-859c-eed29f4fbd79",
   "metadata": {
    "execution": {
     "iopub.execute_input": "2023-12-01T01:38:45.901182Z",
     "iopub.status.busy": "2023-12-01T01:38:45.901007Z",
     "iopub.status.idle": "2023-12-01T01:38:45.906129Z",
     "shell.execute_reply": "2023-12-01T01:38:45.905797Z"
    }
   },
   "outputs": [],
   "source": [
    "df_ref_iso.loc[mol_set1, \"CorrD(T)\"] = (125 * df_corrdt_iso.loc[\"aug-cc-pV5Z\"].loc[mol_set1] - 64 * df_corrdt_iso.loc[\"aug-cc-pVQZ\"].loc[mol_set1]) / 61\n",
    "df_ref_iso.loc[mol_set2, \"CorrD(T)\"] = (64 * df_corrdt_iso.loc[\"aug-cc-pVQZ\"].loc[mol_set2] - 27 * df_corrdt_iso.loc[\"aug-cc-pVTZ\"].loc[mol_set2]) / 37\n",
    "df_ref_iso.loc[mol_set3, \"CorrD(T)\"] = (27 * df_corrdt_iso.loc[\"aug-cc-pVTZ\"].loc[mol_set3] - 8 * df_corrdt_iso.loc[\"aug-cc-pVDZ\"].loc[mol_set3]) / 19"
   ]
  },
  {
   "cell_type": "code",
   "execution_count": 16,
   "id": "469dc401-d0ab-4309-ae2b-f37d3bb62ba6",
   "metadata": {
    "execution": {
     "iopub.execute_input": "2023-12-01T01:38:45.907225Z",
     "iopub.status.busy": "2023-12-01T01:38:45.907063Z",
     "iopub.status.idle": "2023-12-01T01:38:45.909956Z",
     "shell.execute_reply": "2023-12-01T01:38:45.909613Z"
    }
   },
   "outputs": [],
   "source": [
    "df_ref_iso.loc[:, \"MP2\"] = df_ref_iso[\"SCF\"] + df_ref_iso[\"Corr2\"]\n",
    "df_ref_iso.loc[:, \"CCSD\"] = df_ref_iso[\"MP2\"] + df_ref_iso[\"CorrD\"]\n",
    "df_ref_iso.loc[:, \"CCSD(T)\"] = df_ref_iso[\"MP2\"] + df_ref_iso[\"CorrD(T)\"]"
   ]
  },
  {
   "cell_type": "code",
   "execution_count": 17,
   "id": "99e4b0be-c3b0-4ce4-895f-a0b51e981831",
   "metadata": {
    "execution": {
     "iopub.execute_input": "2023-12-01T01:38:45.911246Z",
     "iopub.status.busy": "2023-12-01T01:38:45.910949Z",
     "iopub.status.idle": "2023-12-01T01:38:45.926156Z",
     "shell.execute_reply": "2023-12-01T01:38:45.925848Z"
    }
   },
   "outputs": [],
   "source": [
    "df_ref_iso.to_csv(\"HR46-ref-iso.csv\")"
   ]
  },
  {
   "cell_type": "markdown",
   "id": "300ae83e-4729-4b03-bc42-7f64effc98f7",
   "metadata": {},
   "source": [
    "## Anisotropic Reference (Table S2)"
   ]
  },
  {
   "cell_type": "code",
   "execution_count": 18,
   "id": "04225f7f-301c-450c-bfd7-a36a908f70ad",
   "metadata": {
    "execution": {
     "iopub.execute_input": "2023-12-01T01:38:45.927617Z",
     "iopub.status.busy": "2023-12-01T01:38:45.927456Z",
     "iopub.status.idle": "2023-12-01T01:38:45.931256Z",
     "shell.execute_reply": "2023-12-01T01:38:45.930936Z"
    }
   },
   "outputs": [],
   "source": [
    "df_ref_aniso = pd.DataFrame(index=mol_list, columns=[\"SCF\", \"Corr2\", \"CorrD\", \"CorrD(T)\", \"MP2\", \"CCSD\", \"CCSD(T)\"], dtype=float)\n",
    "df_ref_aniso.loc[:, \"SCF\"] = df_mp_aniso.loc[(\"aug-cc-pCV5Z\"), \"RI-JK\"]\n",
    "df_ref_aniso.loc[:, \"Corr2\"] = (125 * df_corr2_aniso.loc[\"aug-cc-pCV5Z\"] - 64 * df_corr2_aniso.loc[\"aug-cc-pCVQZ\"]) / 61"
   ]
  },
  {
   "cell_type": "code",
   "execution_count": 19,
   "id": "e8301cb8-1ce6-4cd2-8ed5-fde245abcebc",
   "metadata": {
    "execution": {
     "iopub.execute_input": "2023-12-01T01:38:45.932374Z",
     "iopub.status.busy": "2023-12-01T01:38:45.932167Z",
     "iopub.status.idle": "2023-12-01T01:38:45.937566Z",
     "shell.execute_reply": "2023-12-01T01:38:45.937252Z"
    }
   },
   "outputs": [],
   "source": [
    "df_ref_aniso.loc[mol_set1, \"CorrD\"] = (125 * df_corrd_aniso.loc[\"aug-cc-pV5Z\"].loc[mol_set1] - 64 * df_corrd_aniso.loc[\"aug-cc-pVQZ\"].loc[mol_set1]) / 61\n",
    "df_ref_aniso.loc[mol_set2, \"CorrD\"] = (64 * df_corrd_aniso.loc[\"aug-cc-pVQZ\"].loc[mol_set2] - 27 * df_corrd_aniso.loc[\"aug-cc-pVTZ\"].loc[mol_set2]) / 37\n",
    "df_ref_aniso.loc[mol_set3, \"CorrD\"] = (27 * df_corrd_aniso.loc[\"aug-cc-pVTZ\"].loc[mol_set3] - 8 * df_corrd_aniso.loc[\"aug-cc-pVDZ\"].loc[mol_set3]) / 19"
   ]
  },
  {
   "cell_type": "code",
   "execution_count": 20,
   "id": "0e92120f-907f-4675-9149-4a614504d2cb",
   "metadata": {
    "execution": {
     "iopub.execute_input": "2023-12-01T01:38:45.938667Z",
     "iopub.status.busy": "2023-12-01T01:38:45.938488Z",
     "iopub.status.idle": "2023-12-01T01:38:45.943443Z",
     "shell.execute_reply": "2023-12-01T01:38:45.943118Z"
    }
   },
   "outputs": [],
   "source": [
    "df_ref_aniso.loc[mol_set1, \"CorrD(T)\"] = (125 * df_corrdt_aniso.loc[\"aug-cc-pV5Z\"].loc[mol_set1] - 64 * df_corrdt_aniso.loc[\"aug-cc-pVQZ\"].loc[mol_set1]) / 61\n",
    "df_ref_aniso.loc[mol_set2, \"CorrD(T)\"] = (64 * df_corrdt_aniso.loc[\"aug-cc-pVQZ\"].loc[mol_set2] - 27 * df_corrdt_aniso.loc[\"aug-cc-pVTZ\"].loc[mol_set2]) / 37\n",
    "df_ref_aniso.loc[mol_set3, \"CorrD(T)\"] = (27 * df_corrdt_aniso.loc[\"aug-cc-pVTZ\"].loc[mol_set3] - 8 * df_corrdt_aniso.loc[\"aug-cc-pVDZ\"].loc[mol_set3]) / 19"
   ]
  },
  {
   "cell_type": "code",
   "execution_count": 21,
   "id": "598807ee-e986-4efd-890f-6677d1d38c9a",
   "metadata": {
    "execution": {
     "iopub.execute_input": "2023-12-01T01:38:45.944524Z",
     "iopub.status.busy": "2023-12-01T01:38:45.944360Z",
     "iopub.status.idle": "2023-12-01T01:38:45.946812Z",
     "shell.execute_reply": "2023-12-01T01:38:45.946514Z"
    }
   },
   "outputs": [],
   "source": [
    "df_ref_aniso.loc[:, \"MP2\"] = df_ref_aniso[\"SCF\"] + df_ref_aniso[\"Corr2\"]\n",
    "df_ref_aniso.loc[:, \"CCSD\"] = df_ref_aniso[\"MP2\"] + df_ref_aniso[\"CorrD\"]\n",
    "df_ref_aniso.loc[:, \"CCSD(T)\"] = df_ref_aniso[\"MP2\"] + df_ref_aniso[\"CorrD(T)\"]"
   ]
  },
  {
   "cell_type": "code",
   "execution_count": 22,
   "id": "06016229-dc40-4d3c-8ef4-569c7b6db436",
   "metadata": {
    "execution": {
     "iopub.execute_input": "2023-12-01T01:38:45.948483Z",
     "iopub.status.busy": "2023-12-01T01:38:45.948335Z",
     "iopub.status.idle": "2023-12-01T01:38:45.952709Z",
     "shell.execute_reply": "2023-12-01T01:38:45.952230Z"
    }
   },
   "outputs": [],
   "source": [
    "df_ref_aniso.to_csv(\"HR46-ref-aniso.csv\")"
   ]
  },
  {
   "cell_type": "markdown",
   "id": "12b2566a-2087-4572-b2b0-b67cefd421db",
   "metadata": {},
   "source": [
    "## Benchmark"
   ]
  },
  {
   "cell_type": "markdown",
   "id": "133013d9-d7ce-4118-9857-6ae1ff496fc3",
   "metadata": {},
   "source": [
    "### Isotropic (Table 7)"
   ]
  },
  {
   "cell_type": "code",
   "execution_count": 23,
   "id": "7e826b91-9c67-4414-bf82-97811c3bec8b",
   "metadata": {
    "execution": {
     "iopub.execute_input": "2023-12-01T01:38:45.954599Z",
     "iopub.status.busy": "2023-12-01T01:38:45.954418Z",
     "iopub.status.idle": "2023-12-01T01:38:45.960755Z",
     "shell.execute_reply": "2023-12-01T01:38:45.960425Z"
    }
   },
   "outputs": [
    {
     "data": {
      "text/html": [
       "<div>\n",
       "<style scoped>\n",
       "    .dataframe tbody tr th:only-of-type {\n",
       "        vertical-align: middle;\n",
       "    }\n",
       "\n",
       "    .dataframe tbody tr th {\n",
       "        vertical-align: top;\n",
       "    }\n",
       "\n",
       "    .dataframe thead th {\n",
       "        text-align: right;\n",
       "    }\n",
       "</style>\n",
       "<table border=\"1\" class=\"dataframe\">\n",
       "  <thead>\n",
       "    <tr style=\"text-align: right;\">\n",
       "      <th></th>\n",
       "      <th>SCF</th>\n",
       "      <th>MP2</th>\n",
       "      <th>CCSD</th>\n",
       "    </tr>\n",
       "  </thead>\n",
       "  <tbody>\n",
       "    <tr>\n",
       "      <th>MaxE/A^3</th>\n",
       "      <td>0.963407</td>\n",
       "      <td>0.212218</td>\n",
       "      <td>0.244982</td>\n",
       "    </tr>\n",
       "    <tr>\n",
       "      <th>MAD/A^3</th>\n",
       "      <td>0.185464</td>\n",
       "      <td>0.076586</td>\n",
       "      <td>0.068826</td>\n",
       "    </tr>\n",
       "    <tr>\n",
       "      <th>RMSD/A^3</th>\n",
       "      <td>0.263388</td>\n",
       "      <td>0.095156</td>\n",
       "      <td>0.081793</td>\n",
       "    </tr>\n",
       "    <tr>\n",
       "      <th>RelMaxE/%</th>\n",
       "      <td>10.172358</td>\n",
       "      <td>13.471855</td>\n",
       "      <td>2.361176</td>\n",
       "    </tr>\n",
       "    <tr>\n",
       "      <th>RelMAD/%</th>\n",
       "      <td>3.720478</td>\n",
       "      <td>1.575539</td>\n",
       "      <td>1.185491</td>\n",
       "    </tr>\n",
       "    <tr>\n",
       "      <th>RelRMSD/%</th>\n",
       "      <td>4.727390</td>\n",
       "      <td>2.609246</td>\n",
       "      <td>1.293964</td>\n",
       "    </tr>\n",
       "  </tbody>\n",
       "</table>\n",
       "</div>"
      ],
      "text/plain": [
       "                 SCF        MP2      CCSD\n",
       "MaxE/A^3    0.963407   0.212218  0.244982\n",
       "MAD/A^3     0.185464   0.076586  0.068826\n",
       "RMSD/A^3    0.263388   0.095156  0.081793\n",
       "RelMaxE/%  10.172358  13.471855  2.361176\n",
       "RelMAD/%    3.720478   1.575539  1.185491\n",
       "RelRMSD/%   4.727390   2.609246  1.293964"
      ]
     },
     "execution_count": 23,
     "metadata": {},
     "output_type": "execute_result"
    }
   ],
   "source": [
    "get_df_err(df_ref_iso[[\"SCF\", \"MP2\", \"CCSD\"]], df_ref_iso[\"CCSD(T)\"])"
   ]
  },
  {
   "cell_type": "code",
   "execution_count": 24,
   "id": "6c8e20df-a62a-4ab8-a211-8b4d16a20f46",
   "metadata": {
    "execution": {
     "iopub.execute_input": "2023-12-01T01:38:45.963023Z",
     "iopub.status.busy": "2023-12-01T01:38:45.962754Z",
     "iopub.status.idle": "2023-12-01T01:38:45.968463Z",
     "shell.execute_reply": "2023-12-01T01:38:45.968054Z"
    }
   },
   "outputs": [
    {
     "data": {
      "text/html": [
       "<div>\n",
       "<style scoped>\n",
       "    .dataframe tbody tr th:only-of-type {\n",
       "        vertical-align: middle;\n",
       "    }\n",
       "\n",
       "    .dataframe tbody tr th {\n",
       "        vertical-align: top;\n",
       "    }\n",
       "\n",
       "    .dataframe thead th {\n",
       "        text-align: right;\n",
       "    }\n",
       "</style>\n",
       "<table border=\"1\" class=\"dataframe\">\n",
       "  <thead>\n",
       "    <tr style=\"text-align: right;\">\n",
       "      <th></th>\n",
       "      <th>SCF</th>\n",
       "      <th>MP2</th>\n",
       "      <th>CCSD</th>\n",
       "    </tr>\n",
       "  </thead>\n",
       "  <tbody>\n",
       "    <tr>\n",
       "      <th>MaxE/A^3</th>\n",
       "      <td>0.963407</td>\n",
       "      <td>0.204566</td>\n",
       "      <td>0.244982</td>\n",
       "    </tr>\n",
       "    <tr>\n",
       "      <th>MAD/A^3</th>\n",
       "      <td>0.192487</td>\n",
       "      <td>0.070207</td>\n",
       "      <td>0.072927</td>\n",
       "    </tr>\n",
       "    <tr>\n",
       "      <th>RMSD/A^3</th>\n",
       "      <td>0.271387</td>\n",
       "      <td>0.087107</td>\n",
       "      <td>0.084542</td>\n",
       "    </tr>\n",
       "    <tr>\n",
       "      <th>RelMaxE/%</th>\n",
       "      <td>10.172358</td>\n",
       "      <td>2.177740</td>\n",
       "      <td>2.361176</td>\n",
       "    </tr>\n",
       "    <tr>\n",
       "      <th>RelMAD/%</th>\n",
       "      <td>3.654022</td>\n",
       "      <td>1.096007</td>\n",
       "      <td>1.233097</td>\n",
       "    </tr>\n",
       "    <tr>\n",
       "      <th>RelRMSD/%</th>\n",
       "      <td>4.681686</td>\n",
       "      <td>1.185384</td>\n",
       "      <td>1.327843</td>\n",
       "    </tr>\n",
       "  </tbody>\n",
       "</table>\n",
       "</div>"
      ],
      "text/plain": [
       "                 SCF       MP2      CCSD\n",
       "MaxE/A^3    0.963407  0.204566  0.244982\n",
       "MAD/A^3     0.192487  0.070207  0.072927\n",
       "RMSD/A^3    0.271387  0.087107  0.084542\n",
       "RelMaxE/%  10.172358  2.177740  2.361176\n",
       "RelMAD/%    3.654022  1.096007  1.233097\n",
       "RelRMSD/%   4.681686  1.185384  1.327843"
      ]
     },
     "execution_count": 24,
     "metadata": {},
     "output_type": "execute_result"
    }
   ],
   "source": [
    "get_df_err(\n",
    "    df_ref_iso[[\"SCF\", \"MP2\", \"CCSD\"]].drop([\"oxygen\", \"sulfur_monoxide\", \"nitrogen_monoxide\"]),\n",
    "    df_ref_iso[\"CCSD(T)\"].drop([\"oxygen\", \"sulfur_monoxide\", \"nitrogen_monoxide\"]))"
   ]
  },
  {
   "cell_type": "markdown",
   "id": "194b7a59-961a-40b9-b22d-6092d0c42a60",
   "metadata": {},
   "source": [
    "### Anisotropic (Table 8)"
   ]
  },
  {
   "cell_type": "code",
   "execution_count": 25,
   "id": "cf722bc5-c5ef-4b49-b9d5-5a37e94c1665",
   "metadata": {
    "execution": {
     "iopub.execute_input": "2023-12-01T01:38:45.969715Z",
     "iopub.status.busy": "2023-12-01T01:38:45.969553Z",
     "iopub.status.idle": "2023-12-01T01:38:45.971490Z",
     "shell.execute_reply": "2023-12-01T01:38:45.971192Z"
    }
   },
   "outputs": [],
   "source": [
    "mask = df_ref_aniso.index[df_ref_aniso[\"CCSD(T)\"] > 0.5]"
   ]
  },
  {
   "cell_type": "code",
   "execution_count": 26,
   "id": "dae27546-639e-44fd-bda4-896be8a9176b",
   "metadata": {
    "execution": {
     "iopub.execute_input": "2023-12-01T01:38:45.972583Z",
     "iopub.status.busy": "2023-12-01T01:38:45.972465Z",
     "iopub.status.idle": "2023-12-01T01:38:45.977898Z",
     "shell.execute_reply": "2023-12-01T01:38:45.977597Z"
    }
   },
   "outputs": [
    {
     "data": {
      "text/html": [
       "<div>\n",
       "<style scoped>\n",
       "    .dataframe tbody tr th:only-of-type {\n",
       "        vertical-align: middle;\n",
       "    }\n",
       "\n",
       "    .dataframe tbody tr th {\n",
       "        vertical-align: top;\n",
       "    }\n",
       "\n",
       "    .dataframe thead th {\n",
       "        text-align: right;\n",
       "    }\n",
       "</style>\n",
       "<table border=\"1\" class=\"dataframe\">\n",
       "  <thead>\n",
       "    <tr style=\"text-align: right;\">\n",
       "      <th></th>\n",
       "      <th>SCF</th>\n",
       "      <th>MP2</th>\n",
       "      <th>CCSD</th>\n",
       "    </tr>\n",
       "  </thead>\n",
       "  <tbody>\n",
       "    <tr>\n",
       "      <th>MaxE/A^3</th>\n",
       "      <td>1.304239</td>\n",
       "      <td>0.501903</td>\n",
       "      <td>0.208538</td>\n",
       "    </tr>\n",
       "    <tr>\n",
       "      <th>MAD/A^3</th>\n",
       "      <td>0.263022</td>\n",
       "      <td>0.070725</td>\n",
       "      <td>0.048371</td>\n",
       "    </tr>\n",
       "    <tr>\n",
       "      <th>RMSD/A^3</th>\n",
       "      <td>0.369269</td>\n",
       "      <td>0.132267</td>\n",
       "      <td>0.061511</td>\n",
       "    </tr>\n",
       "    <tr>\n",
       "      <th>RelMaxE/%</th>\n",
       "      <td>47.799659</td>\n",
       "      <td>46.415432</td>\n",
       "      <td>4.951142</td>\n",
       "    </tr>\n",
       "    <tr>\n",
       "      <th>RelMAD/%</th>\n",
       "      <td>10.793123</td>\n",
       "      <td>4.175164</td>\n",
       "      <td>2.014702</td>\n",
       "    </tr>\n",
       "    <tr>\n",
       "      <th>RelRMSD/%</th>\n",
       "      <td>13.901290</td>\n",
       "      <td>10.531904</td>\n",
       "      <td>2.371577</td>\n",
       "    </tr>\n",
       "  </tbody>\n",
       "</table>\n",
       "</div>"
      ],
      "text/plain": [
       "                 SCF        MP2      CCSD\n",
       "MaxE/A^3    1.304239   0.501903  0.208538\n",
       "MAD/A^3     0.263022   0.070725  0.048371\n",
       "RMSD/A^3    0.369269   0.132267  0.061511\n",
       "RelMaxE/%  47.799659  46.415432  4.951142\n",
       "RelMAD/%   10.793123   4.175164  2.014702\n",
       "RelRMSD/%  13.901290  10.531904  2.371577"
      ]
     },
     "execution_count": 26,
     "metadata": {},
     "output_type": "execute_result"
    }
   ],
   "source": [
    "get_df_err(df_ref_aniso[[\"SCF\", \"MP2\", \"CCSD\"]].loc[mask], df_ref_aniso[\"CCSD(T)\"].loc[mask])"
   ]
  },
  {
   "cell_type": "code",
   "execution_count": 27,
   "id": "4ec6ee0c-3543-4dd9-bced-1d1be6f9b3aa",
   "metadata": {
    "execution": {
     "iopub.execute_input": "2023-12-01T01:38:45.979008Z",
     "iopub.status.busy": "2023-12-01T01:38:45.978831Z",
     "iopub.status.idle": "2023-12-01T01:38:45.984605Z",
     "shell.execute_reply": "2023-12-01T01:38:45.984303Z"
    }
   },
   "outputs": [
    {
     "data": {
      "text/html": [
       "<div>\n",
       "<style scoped>\n",
       "    .dataframe tbody tr th:only-of-type {\n",
       "        vertical-align: middle;\n",
       "    }\n",
       "\n",
       "    .dataframe tbody tr th {\n",
       "        vertical-align: top;\n",
       "    }\n",
       "\n",
       "    .dataframe thead th {\n",
       "        text-align: right;\n",
       "    }\n",
       "</style>\n",
       "<table border=\"1\" class=\"dataframe\">\n",
       "  <thead>\n",
       "    <tr style=\"text-align: right;\">\n",
       "      <th></th>\n",
       "      <th>SCF</th>\n",
       "      <th>MP2</th>\n",
       "      <th>CCSD</th>\n",
       "    </tr>\n",
       "  </thead>\n",
       "  <tbody>\n",
       "    <tr>\n",
       "      <th>MaxE/A^3</th>\n",
       "      <td>1.304239</td>\n",
       "      <td>0.174439</td>\n",
       "      <td>0.208538</td>\n",
       "    </tr>\n",
       "    <tr>\n",
       "      <th>MAD/A^3</th>\n",
       "      <td>0.258041</td>\n",
       "      <td>0.043134</td>\n",
       "      <td>0.048836</td>\n",
       "    </tr>\n",
       "    <tr>\n",
       "      <th>RMSD/A^3</th>\n",
       "      <td>0.368518</td>\n",
       "      <td>0.066902</td>\n",
       "      <td>0.062488</td>\n",
       "    </tr>\n",
       "    <tr>\n",
       "      <th>RelMaxE/%</th>\n",
       "      <td>23.990183</td>\n",
       "      <td>9.322690</td>\n",
       "      <td>4.951142</td>\n",
       "    </tr>\n",
       "    <tr>\n",
       "      <th>RelMAD/%</th>\n",
       "      <td>9.422612</td>\n",
       "      <td>1.482850</td>\n",
       "      <td>1.883892</td>\n",
       "    </tr>\n",
       "    <tr>\n",
       "      <th>RelRMSD/%</th>\n",
       "      <td>11.144069</td>\n",
       "      <td>2.262999</td>\n",
       "      <td>2.219415</td>\n",
       "    </tr>\n",
       "  </tbody>\n",
       "</table>\n",
       "</div>"
      ],
      "text/plain": [
       "                 SCF       MP2      CCSD\n",
       "MaxE/A^3    1.304239  0.174439  0.208538\n",
       "MAD/A^3     0.258041  0.043134  0.048836\n",
       "RMSD/A^3    0.368518  0.066902  0.062488\n",
       "RelMaxE/%  23.990183  9.322690  4.951142\n",
       "RelMAD/%    9.422612  1.482850  1.883892\n",
       "RelRMSD/%  11.144069  2.262999  2.219415"
      ]
     },
     "execution_count": 27,
     "metadata": {},
     "output_type": "execute_result"
    }
   ],
   "source": [
    "get_df_err(\n",
    "    df_ref_aniso[[\"SCF\", \"MP2\", \"CCSD\"]].loc[mask.drop([\"oxygen\", \"sulfur_monoxide\", \"nitrogen_monoxide\"])],\n",
    "    df_ref_aniso[\"CCSD(T)\"].loc[mask.drop([\"oxygen\", \"sulfur_monoxide\", \"nitrogen_monoxide\"])])"
   ]
  },
  {
   "cell_type": "code",
   "execution_count": 28,
   "id": "047d04df-e62d-49ef-a8ee-11e4f35c3adc",
   "metadata": {
    "execution": {
     "iopub.execute_input": "2023-12-01T01:38:45.985670Z",
     "iopub.status.busy": "2023-12-01T01:38:45.985512Z",
     "iopub.status.idle": "2023-12-01T01:38:45.987842Z",
     "shell.execute_reply": "2023-12-01T01:38:45.987516Z"
    }
   },
   "outputs": [
    {
     "data": {
      "text/plain": [
       "39"
      ]
     },
     "execution_count": 28,
     "metadata": {},
     "output_type": "execute_result"
    }
   ],
   "source": [
    "len(mask)"
   ]
  },
  {
   "cell_type": "markdown",
   "id": "6446d912-71e1-4d59-98b6-8a717ba7a08e",
   "metadata": {},
   "source": [
    "## Set Err"
   ]
  },
  {
   "cell_type": "code",
   "execution_count": 29,
   "id": "93b914c4-1450-4ed8-93b8-f0bb16d6cd59",
   "metadata": {
    "execution": {
     "iopub.execute_input": "2023-12-01T01:38:45.989989Z",
     "iopub.status.busy": "2023-12-01T01:38:45.989621Z",
     "iopub.status.idle": "2023-12-01T01:38:45.991597Z",
     "shell.execute_reply": "2023-12-01T01:38:45.991287Z"
    }
   },
   "outputs": [],
   "source": [
    "index_seterr_list = [\n",
    "    \"Set I, aV[DT]Z, aV[Q5]Z\",\n",
    "    \"Set I, aV[TQ]Z, aV[Q5]Z\",\n",
    "    \"Set II, aV[DT]Z, aV[TQ]Z\"\n",
    "]"
   ]
  },
  {
   "cell_type": "markdown",
   "id": "d5b8a47d-675a-48ca-a0e6-ffbe152000d5",
   "metadata": {
    "tags": []
   },
   "source": [
    "### Isotropic (Table 5 and Table S5)"
   ]
  },
  {
   "cell_type": "code",
   "execution_count": 30,
   "id": "518896ad-dffa-4aa5-afc5-da1d30a1d5bf",
   "metadata": {
    "execution": {
     "iopub.execute_input": "2023-12-01T01:38:45.992715Z",
     "iopub.status.busy": "2023-12-01T01:38:45.992547Z",
     "iopub.status.idle": "2023-12-01T01:38:45.994953Z",
     "shell.execute_reply": "2023-12-01T01:38:45.994154Z"
    }
   },
   "outputs": [],
   "source": [
    "mol_set1 = ['bromine', 'chlorine', 'nitrogen', 'oxygen', 'carbon_monoxide', 'sulfur_monoxide', 'carbon_dioxide', 'sulfur_dioxide', 'water', 'phosphine', 'hydrogen_sulfide', 'silane', 'ammonia', 'nitrogen_monoxide']"
   ]
  },
  {
   "cell_type": "code",
   "execution_count": 31,
   "id": "8e5d0e28-caef-41af-b5f0-89e09ec32f3b",
   "metadata": {
    "execution": {
     "iopub.execute_input": "2023-12-01T01:38:45.996595Z",
     "iopub.status.busy": "2023-12-01T01:38:45.996451Z",
     "iopub.status.idle": "2023-12-01T01:38:45.998815Z",
     "shell.execute_reply": "2023-12-01T01:38:45.998467Z"
    }
   },
   "outputs": [],
   "source": [
    "df_iso_seterr = pd.DataFrame(index=index_seterr_list, columns=[\"CorrD\", \"CorrD(T)\"])"
   ]
  },
  {
   "cell_type": "code",
   "execution_count": 32,
   "id": "7be9174f-3e32-4a02-9344-cd62cc1b1bca",
   "metadata": {
    "execution": {
     "iopub.execute_input": "2023-12-01T01:38:45.999925Z",
     "iopub.status.busy": "2023-12-01T01:38:45.999719Z",
     "iopub.status.idle": "2023-12-01T01:38:46.008147Z",
     "shell.execute_reply": "2023-12-01T01:38:46.007811Z"
    }
   },
   "outputs": [],
   "source": [
    "df_iso_seterr.loc[\"Set I, aV[DT]Z, aV[Q5]Z\", \"CorrD\"] = get_df_err(\n",
    "    ( 27 * df_corrd_iso.loc[\"aug-cc-pVTZ\"].loc[mol_set1] -  8 * df_corrd_iso.loc[\"aug-cc-pVDZ\"].loc[mol_set1]) / 19,\n",
    "    (125 * df_corrd_iso.loc[\"aug-cc-pV5Z\"].loc[mol_set1] - 64 * df_corrd_iso.loc[\"aug-cc-pVQZ\"].loc[mol_set1]) / 61,\n",
    "    df_ref_iso.loc[mol_set1, \"CCSD(T)\"]\n",
    ").loc[\"RelRMSD/%\"]\n",
    "df_iso_seterr.loc[\"Set I, aV[TQ]Z, aV[Q5]Z\", \"CorrD\"] = get_df_err(\n",
    "    ( 64 * df_corrd_iso.loc[\"aug-cc-pVQZ\"].loc[mol_set1] - 27 * df_corrd_iso.loc[\"aug-cc-pVTZ\"].loc[mol_set1]) / 37,\n",
    "    (125 * df_corrd_iso.loc[\"aug-cc-pV5Z\"].loc[mol_set1] - 64 * df_corrd_iso.loc[\"aug-cc-pVQZ\"].loc[mol_set1]) / 61,\n",
    "    df_ref_iso.loc[mol_set1, \"CCSD(T)\"]\n",
    ").loc[\"RelRMSD/%\"]\n",
    "df_iso_seterr.loc[\"Set II, aV[DT]Z, aV[TQ]Z\", \"CorrD\"] = get_df_err(\n",
    "    ( 27 * df_corrd_iso.loc[\"aug-cc-pVTZ\"].loc[mol_set2] -  8 * df_corrd_iso.loc[\"aug-cc-pVDZ\"].loc[mol_set2]) / 19,\n",
    "    ( 64 * df_corrd_iso.loc[\"aug-cc-pVQZ\"].loc[mol_set2] - 27 * df_corrd_iso.loc[\"aug-cc-pVTZ\"].loc[mol_set2]) / 37,\n",
    "    df_ref_iso.loc[mol_set2, \"CCSD(T)\"]\n",
    ").loc[\"RelRMSD/%\"]"
   ]
  },
  {
   "cell_type": "code",
   "execution_count": 33,
   "id": "50564885-9d99-4c12-9698-519d2227516d",
   "metadata": {
    "execution": {
     "iopub.execute_input": "2023-12-01T01:38:46.009256Z",
     "iopub.status.busy": "2023-12-01T01:38:46.009085Z",
     "iopub.status.idle": "2023-12-01T01:38:46.017750Z",
     "shell.execute_reply": "2023-12-01T01:38:46.017414Z"
    }
   },
   "outputs": [],
   "source": [
    "df_iso_seterr.loc[\"Set I, aV[DT]Z, aV[Q5]Z\", \"CorrD(T)\"] = get_df_err(\n",
    "    ( 27 * df_corrdt_iso.loc[\"aug-cc-pVTZ\"].loc[mol_set1] -  8 * df_corrdt_iso.loc[\"aug-cc-pVDZ\"].loc[mol_set1]) / 19,\n",
    "    (125 * df_corrdt_iso.loc[\"aug-cc-pV5Z\"].loc[mol_set1] - 64 * df_corrdt_iso.loc[\"aug-cc-pVQZ\"].loc[mol_set1]) / 61,\n",
    "    df_ref_iso.loc[mol_set1, \"CCSD(T)\"]\n",
    ").loc[\"RelRMSD/%\"]\n",
    "df_iso_seterr.loc[\"Set I, aV[TQ]Z, aV[Q5]Z\", \"CorrD(T)\"] = get_df_err(\n",
    "    ( 64 * df_corrdt_iso.loc[\"aug-cc-pVQZ\"].loc[mol_set1] - 27 * df_corrdt_iso.loc[\"aug-cc-pVTZ\"].loc[mol_set1]) / 37,\n",
    "    (125 * df_corrdt_iso.loc[\"aug-cc-pV5Z\"].loc[mol_set1] - 64 * df_corrdt_iso.loc[\"aug-cc-pVQZ\"].loc[mol_set1]) / 61,\n",
    "    df_ref_iso.loc[mol_set1, \"CCSD(T)\"]\n",
    ").loc[\"RelRMSD/%\"]\n",
    "df_iso_seterr.loc[\"Set II, aV[DT]Z, aV[TQ]Z\", \"CorrD(T)\"] = get_df_err(\n",
    "    ( 27 * df_corrdt_iso.loc[\"aug-cc-pVTZ\"].loc[mol_set2] -  8 * df_corrdt_iso.loc[\"aug-cc-pVDZ\"].loc[mol_set2]) / 19,\n",
    "    ( 64 * df_corrdt_iso.loc[\"aug-cc-pVQZ\"].loc[mol_set2] - 27 * df_corrdt_iso.loc[\"aug-cc-pVTZ\"].loc[mol_set2]) / 37,\n",
    "    df_ref_iso.loc[mol_set2, \"CCSD(T)\"]\n",
    ").loc[\"RelRMSD/%\"]"
   ]
  },
  {
   "cell_type": "code",
   "execution_count": 34,
   "id": "fe9bcab4-8368-44f5-8638-f1b7aed5f266",
   "metadata": {
    "execution": {
     "iopub.execute_input": "2023-12-01T01:38:46.018945Z",
     "iopub.status.busy": "2023-12-01T01:38:46.018787Z",
     "iopub.status.idle": "2023-12-01T01:38:46.022081Z",
     "shell.execute_reply": "2023-12-01T01:38:46.021794Z"
    }
   },
   "outputs": [
    {
     "data": {
      "text/html": [
       "<div>\n",
       "<style scoped>\n",
       "    .dataframe tbody tr th:only-of-type {\n",
       "        vertical-align: middle;\n",
       "    }\n",
       "\n",
       "    .dataframe tbody tr th {\n",
       "        vertical-align: top;\n",
       "    }\n",
       "\n",
       "    .dataframe thead th {\n",
       "        text-align: right;\n",
       "    }\n",
       "</style>\n",
       "<table border=\"1\" class=\"dataframe\">\n",
       "  <thead>\n",
       "    <tr style=\"text-align: right;\">\n",
       "      <th></th>\n",
       "      <th>CorrD</th>\n",
       "      <th>CorrD(T)</th>\n",
       "    </tr>\n",
       "  </thead>\n",
       "  <tbody>\n",
       "    <tr>\n",
       "      <th>Set I, aV[DT]Z, aV[Q5]Z</th>\n",
       "      <td>0.162937</td>\n",
       "      <td>0.157771</td>\n",
       "    </tr>\n",
       "    <tr>\n",
       "      <th>Set I, aV[TQ]Z, aV[Q5]Z</th>\n",
       "      <td>0.150835</td>\n",
       "      <td>0.12738</td>\n",
       "    </tr>\n",
       "    <tr>\n",
       "      <th>Set II, aV[DT]Z, aV[TQ]Z</th>\n",
       "      <td>0.084144</td>\n",
       "      <td>0.09087</td>\n",
       "    </tr>\n",
       "  </tbody>\n",
       "</table>\n",
       "</div>"
      ],
      "text/plain": [
       "                             CorrD  CorrD(T)\n",
       "Set I, aV[DT]Z, aV[Q5]Z   0.162937  0.157771\n",
       "Set I, aV[TQ]Z, aV[Q5]Z   0.150835   0.12738\n",
       "Set II, aV[DT]Z, aV[TQ]Z  0.084144   0.09087"
      ]
     },
     "execution_count": 34,
     "metadata": {},
     "output_type": "execute_result"
    }
   ],
   "source": [
    "df_iso_seterr"
   ]
  },
  {
   "cell_type": "markdown",
   "id": "5fdff2e4-c6e3-4489-b8a2-9fd5871c0c3c",
   "metadata": {},
   "source": [
    "### Anisotropic (Table 6 and Table S6)"
   ]
  },
  {
   "cell_type": "code",
   "execution_count": 35,
   "id": "7c09549f-0673-4396-bb21-a7616089811f",
   "metadata": {
    "execution": {
     "iopub.execute_input": "2023-12-01T01:38:46.023831Z",
     "iopub.status.busy": "2023-12-01T01:38:46.023650Z",
     "iopub.status.idle": "2023-12-01T01:38:46.025655Z",
     "shell.execute_reply": "2023-12-01T01:38:46.025259Z"
    }
   },
   "outputs": [],
   "source": [
    "mol_set1 = ['bromine', 'chlorine', 'nitrogen', 'carbon_monoxide', 'carbon_dioxide', 'sulfur_dioxide', 'water', 'phosphine', 'hydrogen_sulfide', 'silane', 'ammonia']"
   ]
  },
  {
   "cell_type": "code",
   "execution_count": 36,
   "id": "e8402419-ad7f-43b7-8b41-fa5cb3cd2607",
   "metadata": {
    "execution": {
     "iopub.execute_input": "2023-12-01T01:38:46.026794Z",
     "iopub.status.busy": "2023-12-01T01:38:46.026633Z",
     "iopub.status.idle": "2023-12-01T01:38:46.028793Z",
     "shell.execute_reply": "2023-12-01T01:38:46.028427Z"
    }
   },
   "outputs": [],
   "source": [
    "df_aniso_seterr = pd.DataFrame(index=index_seterr_list, columns=[\"CorrD\", \"CorrD(T)\"])"
   ]
  },
  {
   "cell_type": "code",
   "execution_count": 37,
   "id": "2f15c0ec-9140-4897-aa54-ad8e1058b859",
   "metadata": {
    "execution": {
     "iopub.execute_input": "2023-12-01T01:38:46.029812Z",
     "iopub.status.busy": "2023-12-01T01:38:46.029692Z",
     "iopub.status.idle": "2023-12-01T01:38:46.032688Z",
     "shell.execute_reply": "2023-12-01T01:38:46.032374Z"
    }
   },
   "outputs": [
    {
     "name": "stdout",
     "output_type": "stream",
     "text": [
      "['bromine', 'chlorine', 'nitrogen', 'carbon_monoxide', 'carbon_dioxide', 'sulfur_dioxide']\n",
      "['ethene', 'propane', '1-3-butadiene', 'ethanol', 'methylformate', 'acetone', 'acetaldehyde', 'acetic_acid', 'dimethyl_ether', 'dimethyl_sulfide', 'acetonitrile', 'pyrazole']\n"
     ]
    }
   ],
   "source": [
    "mol_set1_aniso = list(df_ref_aniso.loc[mol_set1, \"CCSD(T)\"].index[df_ref_aniso.loc[mol_set1, \"CCSD(T)\"] > 0.5])\n",
    "mol_set2_aniso = list(df_ref_aniso.loc[mol_set2, \"CCSD(T)\"].index[df_ref_aniso.loc[mol_set2, \"CCSD(T)\"] > 0.5])\n",
    "print(mol_set1_aniso)\n",
    "print(mol_set2_aniso)"
   ]
  },
  {
   "cell_type": "code",
   "execution_count": 38,
   "id": "fff16de1-d0b5-485b-8b04-82c1452a2ae9",
   "metadata": {
    "execution": {
     "iopub.execute_input": "2023-12-01T01:38:46.033806Z",
     "iopub.status.busy": "2023-12-01T01:38:46.033645Z",
     "iopub.status.idle": "2023-12-01T01:38:46.035651Z",
     "shell.execute_reply": "2023-12-01T01:38:46.035352Z"
    }
   },
   "outputs": [
    {
     "name": "stdout",
     "output_type": "stream",
     "text": [
      "6\n",
      "12\n"
     ]
    }
   ],
   "source": [
    "print(len(mol_set1_aniso))\n",
    "print(len(mol_set2_aniso))"
   ]
  },
  {
   "cell_type": "code",
   "execution_count": 39,
   "id": "e427eb3b-e660-42b5-9cdc-09a2451ea9c1",
   "metadata": {
    "execution": {
     "iopub.execute_input": "2023-12-01T01:38:46.036751Z",
     "iopub.status.busy": "2023-12-01T01:38:46.036585Z",
     "iopub.status.idle": "2023-12-01T01:38:46.047100Z",
     "shell.execute_reply": "2023-12-01T01:38:46.046791Z"
    }
   },
   "outputs": [],
   "source": [
    "df_aniso_seterr.loc[\"Set I, aV[DT]Z, aV[Q5]Z\", \"CorrD\"] = get_df_err(\n",
    "    ( 27 * df_corrd_aniso.loc[\"aug-cc-pVTZ\"].loc[mol_set1_aniso] -  8 * df_corrd_aniso.loc[\"aug-cc-pVDZ\"].loc[mol_set1_aniso]) / 19,\n",
    "    (125 * df_corrd_aniso.loc[\"aug-cc-pV5Z\"].loc[mol_set1_aniso] - 64 * df_corrd_aniso.loc[\"aug-cc-pVQZ\"].loc[mol_set1_aniso]) / 61,\n",
    "    df_ref_aniso.loc[mol_set1, \"CCSD(T)\"]\n",
    ").loc[\"RelRMSD/%\"]\n",
    "df_aniso_seterr.loc[\"Set I, aV[TQ]Z, aV[Q5]Z\", \"CorrD\"] = get_df_err(\n",
    "    ( 64 * df_corrd_aniso.loc[\"aug-cc-pVQZ\"].loc[mol_set1_aniso] - 27 * df_corrd_aniso.loc[\"aug-cc-pVTZ\"].loc[mol_set1_aniso]) / 37,\n",
    "    (125 * df_corrd_aniso.loc[\"aug-cc-pV5Z\"].loc[mol_set1_aniso] - 64 * df_corrd_aniso.loc[\"aug-cc-pVQZ\"].loc[mol_set1_aniso]) / 61,\n",
    "    df_ref_aniso.loc[mol_set1, \"CCSD(T)\"]\n",
    ").loc[\"RelRMSD/%\"]\n",
    "df_aniso_seterr.loc[\"Set II, aV[DT]Z, aV[TQ]Z\", \"CorrD\"] = get_df_err(\n",
    "    ( 27 * df_corrd_aniso.loc[\"aug-cc-pVTZ\"].loc[mol_set2_aniso] -  8 * df_corrd_aniso.loc[\"aug-cc-pVDZ\"].loc[mol_set2_aniso]) / 19,\n",
    "    ( 64 * df_corrd_aniso.loc[\"aug-cc-pVQZ\"].loc[mol_set2_aniso] - 27 * df_corrd_aniso.loc[\"aug-cc-pVTZ\"].loc[mol_set2_aniso]) / 37,\n",
    "    df_ref_aniso.loc[mol_set2, \"CCSD(T)\"]\n",
    ").loc[\"RelRMSD/%\"]"
   ]
  },
  {
   "cell_type": "code",
   "execution_count": 40,
   "id": "86b42ec5-be1c-4855-a083-43349b195f2f",
   "metadata": {
    "execution": {
     "iopub.execute_input": "2023-12-01T01:38:46.048259Z",
     "iopub.status.busy": "2023-12-01T01:38:46.048091Z",
     "iopub.status.idle": "2023-12-01T01:38:46.057249Z",
     "shell.execute_reply": "2023-12-01T01:38:46.056928Z"
    }
   },
   "outputs": [],
   "source": [
    "df_aniso_seterr.loc[\"Set I, aV[DT]Z, aV[Q5]Z\", \"CorrD(T)\"] = get_df_err(\n",
    "    ( 27 * df_corrdt_aniso.loc[\"aug-cc-pVTZ\"].loc[mol_set1_aniso] -  8 * df_corrdt_aniso.loc[\"aug-cc-pVDZ\"].loc[mol_set1_aniso]) / 19,\n",
    "    (125 * df_corrdt_aniso.loc[\"aug-cc-pV5Z\"].loc[mol_set1_aniso] - 64 * df_corrdt_aniso.loc[\"aug-cc-pVQZ\"].loc[mol_set1_aniso]) / 61,\n",
    "    df_ref_aniso.loc[mol_set1, \"CCSD(T)\"]\n",
    ").loc[\"RelRMSD/%\"]\n",
    "df_aniso_seterr.loc[\"Set I, aV[TQ]Z, aV[Q5]Z\", \"CorrD(T)\"] = get_df_err(\n",
    "    ( 64 * df_corrdt_aniso.loc[\"aug-cc-pVQZ\"].loc[mol_set1_aniso] - 27 * df_corrdt_aniso.loc[\"aug-cc-pVTZ\"].loc[mol_set1_aniso]) / 37,\n",
    "    (125 * df_corrdt_aniso.loc[\"aug-cc-pV5Z\"].loc[mol_set1_aniso] - 64 * df_corrdt_aniso.loc[\"aug-cc-pVQZ\"].loc[mol_set1_aniso]) / 61,\n",
    "    df_ref_aniso.loc[mol_set1, \"CCSD(T)\"]\n",
    ").loc[\"RelRMSD/%\"]\n",
    "df_aniso_seterr.loc[\"Set II, aV[DT]Z, aV[TQ]Z\", \"CorrD(T)\"] = get_df_err(\n",
    "    ( 27 * df_corrdt_aniso.loc[\"aug-cc-pVTZ\"].loc[mol_set2_aniso] -  8 * df_corrdt_aniso.loc[\"aug-cc-pVDZ\"].loc[mol_set2_aniso]) / 19,\n",
    "    ( 64 * df_corrdt_aniso.loc[\"aug-cc-pVQZ\"].loc[mol_set2_aniso] - 27 * df_corrdt_aniso.loc[\"aug-cc-pVTZ\"].loc[mol_set2_aniso]) / 37,\n",
    "    df_ref_aniso.loc[mol_set2, \"CCSD(T)\"]\n",
    ").loc[\"RelRMSD/%\"]"
   ]
  },
  {
   "cell_type": "code",
   "execution_count": 41,
   "id": "d28b5af8-9b06-4706-beb4-ae221075d7f5",
   "metadata": {
    "execution": {
     "iopub.execute_input": "2023-12-01T01:38:46.058786Z",
     "iopub.status.busy": "2023-12-01T01:38:46.058619Z",
     "iopub.status.idle": "2023-12-01T01:38:46.062290Z",
     "shell.execute_reply": "2023-12-01T01:38:46.061966Z"
    }
   },
   "outputs": [
    {
     "data": {
      "text/html": [
       "<div>\n",
       "<style scoped>\n",
       "    .dataframe tbody tr th:only-of-type {\n",
       "        vertical-align: middle;\n",
       "    }\n",
       "\n",
       "    .dataframe tbody tr th {\n",
       "        vertical-align: top;\n",
       "    }\n",
       "\n",
       "    .dataframe thead th {\n",
       "        text-align: right;\n",
       "    }\n",
       "</style>\n",
       "<table border=\"1\" class=\"dataframe\">\n",
       "  <thead>\n",
       "    <tr style=\"text-align: right;\">\n",
       "      <th></th>\n",
       "      <th>CorrD</th>\n",
       "      <th>CorrD(T)</th>\n",
       "    </tr>\n",
       "  </thead>\n",
       "  <tbody>\n",
       "    <tr>\n",
       "      <th>Set I, aV[DT]Z, aV[Q5]Z</th>\n",
       "      <td>0.299293</td>\n",
       "      <td>0.197042</td>\n",
       "    </tr>\n",
       "    <tr>\n",
       "      <th>Set I, aV[TQ]Z, aV[Q5]Z</th>\n",
       "      <td>0.334538</td>\n",
       "      <td>0.276591</td>\n",
       "    </tr>\n",
       "    <tr>\n",
       "      <th>Set II, aV[DT]Z, aV[TQ]Z</th>\n",
       "      <td>0.208453</td>\n",
       "      <td>0.224558</td>\n",
       "    </tr>\n",
       "  </tbody>\n",
       "</table>\n",
       "</div>"
      ],
      "text/plain": [
       "                             CorrD  CorrD(T)\n",
       "Set I, aV[DT]Z, aV[Q5]Z   0.299293  0.197042\n",
       "Set I, aV[TQ]Z, aV[Q5]Z   0.334538  0.276591\n",
       "Set II, aV[DT]Z, aV[TQ]Z  0.208453  0.224558"
      ]
     },
     "execution_count": 41,
     "metadata": {},
     "output_type": "execute_result"
    }
   ],
   "source": [
    "df_aniso_seterr"
   ]
  },
  {
   "cell_type": "markdown",
   "id": "b62769de-ddeb-4a3b-9ef5-d40cb6b58149",
   "metadata": {},
   "source": [
    "## Species Error"
   ]
  },
  {
   "cell_type": "code",
   "execution_count": 42,
   "id": "55da071c-6bc6-43ea-8b86-b791dfb72aef",
   "metadata": {
    "execution": {
     "iopub.execute_input": "2023-12-01T01:38:46.063846Z",
     "iopub.status.busy": "2023-12-01T01:38:46.063684Z",
     "iopub.status.idle": "2023-12-01T01:38:46.066728Z",
     "shell.execute_reply": "2023-12-01T01:38:46.066087Z"
    }
   },
   "outputs": [
    {
     "data": {
      "text/plain": [
       "-13.471854937174788"
      ]
     },
     "execution_count": 42,
     "metadata": {},
     "output_type": "execute_result"
    }
   ],
   "source": [
    "(df_ref_iso.loc[\"oxygen\", \"MP2\"] / df_ref_iso.loc[\"oxygen\", \"CCSD(T)\"] - 1) * 100"
   ]
  },
  {
   "cell_type": "code",
   "execution_count": 43,
   "id": "2b6d33bb-fbe3-4e7f-b417-8fbffd7ee7cc",
   "metadata": {
    "execution": {
     "iopub.execute_input": "2023-12-01T01:38:46.067942Z",
     "iopub.status.busy": "2023-12-01T01:38:46.067783Z",
     "iopub.status.idle": "2023-12-01T01:38:46.070270Z",
     "shell.execute_reply": "2023-12-01T01:38:46.069935Z"
    }
   },
   "outputs": [
    {
     "data": {
      "text/plain": [
       "-6.553919686161624"
      ]
     },
     "execution_count": 43,
     "metadata": {},
     "output_type": "execute_result"
    }
   ],
   "source": [
    "(df_ref_iso.loc[\"nitrogen_monoxide\", \"MP2\"] / df_ref_iso.loc[\"nitrogen_monoxide\", \"CCSD(T)\"] - 1) * 100"
   ]
  },
  {
   "cell_type": "code",
   "execution_count": 44,
   "id": "37a44267-1b42-43ee-a72c-b2eadd3c73f5",
   "metadata": {
    "execution": {
     "iopub.execute_input": "2023-12-01T01:38:46.071737Z",
     "iopub.status.busy": "2023-12-01T01:38:46.071506Z",
     "iopub.status.idle": "2023-12-01T01:38:46.074689Z",
     "shell.execute_reply": "2023-12-01T01:38:46.074039Z"
    }
   },
   "outputs": [
    {
     "data": {
      "text/plain": [
       "-5.320714636207303"
      ]
     },
     "execution_count": 44,
     "metadata": {},
     "output_type": "execute_result"
    }
   ],
   "source": [
    "(df_ref_iso.loc[\"sulfur_monoxide\", \"MP2\"] / df_ref_iso.loc[\"sulfur_monoxide\", \"CCSD(T)\"] - 1) * 100"
   ]
  },
  {
   "cell_type": "code",
   "execution_count": 45,
   "id": "b947e079-c96f-4568-99c5-e2f815ab77b4",
   "metadata": {
    "execution": {
     "iopub.execute_input": "2023-12-01T01:38:46.076117Z",
     "iopub.status.busy": "2023-12-01T01:38:46.075921Z",
     "iopub.status.idle": "2023-12-01T01:38:46.078492Z",
     "shell.execute_reply": "2023-12-01T01:38:46.078195Z"
    }
   },
   "outputs": [
    {
     "data": {
      "text/plain": [
       "-46.41543155772775"
      ]
     },
     "execution_count": 45,
     "metadata": {},
     "output_type": "execute_result"
    }
   ],
   "source": [
    "(df_ref_aniso.loc[\"oxygen\", \"MP2\"] / df_ref_aniso.loc[\"oxygen\", \"CCSD(T)\"] - 1) * 100"
   ]
  },
  {
   "cell_type": "code",
   "execution_count": 46,
   "id": "e69eff09-7fbd-4a85-ba60-95cc1bbf7e90",
   "metadata": {
    "execution": {
     "iopub.execute_input": "2023-12-01T01:38:46.079545Z",
     "iopub.status.busy": "2023-12-01T01:38:46.079385Z",
     "iopub.status.idle": "2023-12-01T01:38:46.081882Z",
     "shell.execute_reply": "2023-12-01T01:38:46.081565Z"
    }
   },
   "outputs": [
    {
     "data": {
      "text/plain": [
       "-32.046388011331686"
      ]
     },
     "execution_count": 46,
     "metadata": {},
     "output_type": "execute_result"
    }
   ],
   "source": [
    "(df_ref_aniso.loc[\"nitrogen_monoxide\", \"MP2\"] / df_ref_aniso.loc[\"nitrogen_monoxide\", \"CCSD(T)\"] - 1) * 100"
   ]
  },
  {
   "cell_type": "code",
   "execution_count": 47,
   "id": "0bc743e6-3feb-4246-b2a3-a98e6cd4f62c",
   "metadata": {
    "execution": {
     "iopub.execute_input": "2023-12-01T01:38:46.084093Z",
     "iopub.status.busy": "2023-12-01T01:38:46.083729Z",
     "iopub.status.idle": "2023-12-01T01:38:46.086735Z",
     "shell.execute_reply": "2023-12-01T01:38:46.086117Z"
    }
   },
   "outputs": [
    {
     "data": {
      "text/plain": [
       "-30.986991522531426"
      ]
     },
     "execution_count": 47,
     "metadata": {},
     "output_type": "execute_result"
    }
   ],
   "source": [
    "(df_ref_aniso.loc[\"sulfur_monoxide\", \"MP2\"] / df_ref_aniso.loc[\"sulfur_monoxide\", \"CCSD(T)\"] - 1) * 100"
   ]
  }
 ],
 "metadata": {
  "kernelspec": {
   "display_name": "Python 3 (ipykernel)",
   "language": "python",
   "name": "python3"
  },
  "language_info": {
   "codemirror_mode": {
    "name": "ipython",
    "version": 3
   },
   "file_extension": ".py",
   "mimetype": "text/x-python",
   "name": "python",
   "nbconvert_exporter": "python",
   "pygments_lexer": "ipython3",
   "version": "3.10.13"
  }
 },
 "nbformat": 4,
 "nbformat_minor": 5
}
