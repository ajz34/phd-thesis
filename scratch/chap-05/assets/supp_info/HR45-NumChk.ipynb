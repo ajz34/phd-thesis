{
 "cells": [
  {
   "cell_type": "markdown",
   "id": "ff49e154-682b-42bd-9b8a-4cfeee521d21",
   "metadata": {
    "tags": []
   },
   "source": [
    "# Relative Error of Numerical Difference"
   ]
  },
  {
   "cell_type": "markdown",
   "id": "02b7f350-0ae5-4ef8-8bd3-56c158e8fd81",
   "metadata": {},
   "source": [
    "Note that \"thymine\" in this dataset should be changed to \"cytosine\", as stated in section 3 in Supporting Information."
   ]
  },
  {
   "cell_type": "code",
   "execution_count": 1,
   "id": "02c07d91-5da5-4190-8ce0-d1f6126e4e0f",
   "metadata": {
    "execution": {
     "iopub.execute_input": "2023-12-01T01:38:43.874981Z",
     "iopub.status.busy": "2023-12-01T01:38:43.874879Z",
     "iopub.status.idle": "2023-12-01T01:38:44.016531Z",
     "shell.execute_reply": "2023-12-01T01:38:44.016117Z"
    }
   },
   "outputs": [],
   "source": [
    "import pandas as pd\n",
    "import numpy as np"
   ]
  },
  {
   "cell_type": "code",
   "execution_count": 2,
   "id": "03746f5c-77ef-47cf-b293-e1520719dbeb",
   "metadata": {
    "execution": {
     "iopub.execute_input": "2023-12-01T01:38:44.018226Z",
     "iopub.status.busy": "2023-12-01T01:38:44.018005Z",
     "iopub.status.idle": "2023-12-01T01:38:44.021217Z",
     "shell.execute_reply": "2023-12-01T01:38:44.020864Z"
    }
   },
   "outputs": [],
   "source": [
    "def get_df_err(df, df_sub, ref=None):\n",
    "    if ref is None:\n",
    "        ref = df_sub\n",
    "    # In case if column headers of reference is not the same to df\n",
    "    if isinstance(df_sub, pd.DataFrame):\n",
    "        df_sub.columns = df.columns\n",
    "        ref.columns = df.columns\n",
    "    df_err_val = df.sub(df_sub, axis=\"index\")\n",
    "    df_err_rel = df_err_val.div(ref, axis=\"index\") * 100\n",
    "    df_z = df - df.mean()\n",
    "    ref_z = df_sub - df_sub.mean()\n",
    "    df_err = {\n",
    "        \"MaxE/A^3\": df_err_val.abs().max(),\n",
    "        \"MAD/A^3\": df_err_val.abs().mean(),\n",
    "        \"RMSD/A^3\": np.sqrt((df_err_val**2).mean()),\n",
    "        \"RelMaxE/%\": df_err_rel.abs().max(),\n",
    "        \"RelMAD/%\": df_err_rel.abs().mean(),\n",
    "        \"RelRMSD/%\": np.sqrt((df_err_rel**2).mean()),\n",
    "    }\n",
    "    # In case df is pd.Series instead of pd.DataFrame \n",
    "    try:\n",
    "        return pd.DataFrame(df_err).T\n",
    "    except ValueError:\n",
    "        return pd.Series(df_err)"
   ]
  },
  {
   "cell_type": "markdown",
   "id": "36617981-bada-47a7-9927-eba4a15d89e9",
   "metadata": {},
   "source": [
    "## Read numerical isotropic polarizability"
   ]
  },
  {
   "cell_type": "code",
   "execution_count": 3,
   "id": "99a0865f-b274-4ea0-b1d5-2aedf9540138",
   "metadata": {
    "execution": {
     "iopub.execute_input": "2023-12-01T01:38:44.022580Z",
     "iopub.status.busy": "2023-12-01T01:38:44.022286Z",
     "iopub.status.idle": "2023-12-01T01:38:44.047411Z",
     "shell.execute_reply": "2023-12-01T01:38:44.047059Z"
    }
   },
   "outputs": [],
   "source": [
    "df_rijk = pd.read_csv(\"original_data/HR45-RIJK-NumChk.csv\", header=[0, 1], index_col=[0])\n",
    "df_rimp2 = pd.read_csv(\"original_data/HR45-RIMP2-NumChk.csv\", header=[0, 1], index_col=[0])\n",
    "df_corr2 = df_rimp2 - df_rijk\n",
    "\n",
    "# change thymine to cytosine\n",
    "df_num_index = list(df_rijk.index)\n",
    "df_num_index[-1] = \"cytosine\"\n",
    "df_rijk.index = df_num_index\n",
    "df_rimp2.index = df_num_index\n",
    "df_corr2.index = df_num_index"
   ]
  },
  {
   "cell_type": "markdown",
   "id": "45bcbf4b-b04c-4276-804f-1a2213c7f0df",
   "metadata": {},
   "source": [
    "## Read analytical polarizability components, and transform to isotropic"
   ]
  },
  {
   "cell_type": "code",
   "execution_count": 4,
   "id": "bc0d8510-d193-4229-9ae4-39d1ab2ebb20",
   "metadata": {
    "execution": {
     "iopub.execute_input": "2023-12-01T01:38:44.048810Z",
     "iopub.status.busy": "2023-12-01T01:38:44.048634Z",
     "iopub.status.idle": "2023-12-01T01:38:44.055384Z",
     "shell.execute_reply": "2023-12-01T01:38:44.054718Z"
    }
   },
   "outputs": [],
   "source": [
    "df_anal = pd.read_csv(\"original_data/HR45-RIMP2-components.csv\", header=[0, 1], index_col=[0, 1])\n",
    "df_anal_rijk = 1 / 3 * (df_anal[(\"RI-JK\", \"xx\")] + df_anal[(\"RI-JK\", \"yy\")] + df_anal[(\"RI-JK\", \"zz\")])\n",
    "df_anal_rimp2 = 1 / 3 * (df_anal[(\"RI-MP2\", \"xx\")] + df_anal[(\"RI-MP2\", \"yy\")] + df_anal[(\"RI-MP2\", \"zz\")])\n",
    "df_anal_corr2 = df_anal_rimp2 - df_anal_rijk"
   ]
  },
  {
   "cell_type": "markdown",
   "id": "cb9d84e1-44e8-41d4-a401-ef568a06c98b",
   "metadata": {},
   "source": [
    "## Analysis of Error Induced by Finite Difference (Table S8)"
   ]
  },
  {
   "cell_type": "code",
   "execution_count": 5,
   "id": "384b3920-7035-490a-aa12-714ea58a0219",
   "metadata": {
    "execution": {
     "iopub.execute_input": "2023-12-01T01:38:44.057139Z",
     "iopub.status.busy": "2023-12-01T01:38:44.056971Z",
     "iopub.status.idle": "2023-12-01T01:38:44.239283Z",
     "shell.execute_reply": "2023-12-01T01:38:44.238928Z"
    }
   },
   "outputs": [
    {
     "data": {
      "text/html": [
       "<style type=\"text/css\">\n",
       "</style>\n",
       "<table id=\"T_081d2\">\n",
       "  <thead>\n",
       "    <tr>\n",
       "      <th class=\"blank level0\" >&nbsp;</th>\n",
       "      <th id=\"T_081d2_level0_col0\" class=\"col_heading level0 col0\" >RI-MP2 loose</th>\n",
       "      <th id=\"T_081d2_level0_col1\" class=\"col_heading level0 col1\" >RI-MP2 tight</th>\n",
       "      <th id=\"T_081d2_level0_col2\" class=\"col_heading level0 col2\" >RI-JK loose</th>\n",
       "      <th id=\"T_081d2_level0_col3\" class=\"col_heading level0 col3\" >RI-JK tight</th>\n",
       "      <th id=\"T_081d2_level0_col4\" class=\"col_heading level0 col4\" >RI-Corr2 loose</th>\n",
       "      <th id=\"T_081d2_level0_col5\" class=\"col_heading level0 col5\" >RI-Corr2 tight</th>\n",
       "    </tr>\n",
       "  </thead>\n",
       "  <tbody>\n",
       "    <tr>\n",
       "      <th id=\"T_081d2_level0_row0\" class=\"row_heading level0 row0\" >5e-4</th>\n",
       "      <td id=\"T_081d2_row0_col0\" class=\"data row0 col0\" >1.625</td>\n",
       "      <td id=\"T_081d2_row0_col1\" class=\"data row0 col1\" >0.000</td>\n",
       "      <td id=\"T_081d2_row0_col2\" class=\"data row0 col2\" >0.000</td>\n",
       "      <td id=\"T_081d2_row0_col3\" class=\"data row0 col3\" >0.000</td>\n",
       "      <td id=\"T_081d2_row0_col4\" class=\"data row0 col4\" >1.625</td>\n",
       "      <td id=\"T_081d2_row0_col5\" class=\"data row0 col5\" >0.000</td>\n",
       "    </tr>\n",
       "    <tr>\n",
       "      <th id=\"T_081d2_level0_row1\" class=\"row_heading level0 row1\" >1e-3</th>\n",
       "      <td id=\"T_081d2_row1_col0\" class=\"data row1 col0\" >0.395</td>\n",
       "      <td id=\"T_081d2_row1_col1\" class=\"data row1 col1\" >0.002</td>\n",
       "      <td id=\"T_081d2_row1_col2\" class=\"data row1 col2\" >0.001</td>\n",
       "      <td id=\"T_081d2_row1_col3\" class=\"data row1 col3\" >0.001</td>\n",
       "      <td id=\"T_081d2_row1_col4\" class=\"data row1 col4\" >0.395</td>\n",
       "      <td id=\"T_081d2_row1_col5\" class=\"data row1 col5\" >0.001</td>\n",
       "    </tr>\n",
       "    <tr>\n",
       "      <th id=\"T_081d2_level0_row2\" class=\"row_heading level0 row2\" >2e-3</th>\n",
       "      <td id=\"T_081d2_row2_col0\" class=\"data row2 col0\" >0.046</td>\n",
       "      <td id=\"T_081d2_row2_col1\" class=\"data row2 col1\" >0.006</td>\n",
       "      <td id=\"T_081d2_row2_col2\" class=\"data row2 col2\" >0.005</td>\n",
       "      <td id=\"T_081d2_row2_col3\" class=\"data row2 col3\" >0.005</td>\n",
       "      <td id=\"T_081d2_row2_col4\" class=\"data row2 col4\" >0.046</td>\n",
       "      <td id=\"T_081d2_row2_col5\" class=\"data row2 col5\" >0.002</td>\n",
       "    </tr>\n",
       "    <tr>\n",
       "      <th id=\"T_081d2_level0_row3\" class=\"row_heading level0 row3\" >4e-3</th>\n",
       "      <td id=\"T_081d2_row3_col0\" class=\"data row3 col0\" >0.031</td>\n",
       "      <td id=\"T_081d2_row3_col1\" class=\"data row3 col1\" >0.025</td>\n",
       "      <td id=\"T_081d2_row3_col2\" class=\"data row3 col2\" >0.019</td>\n",
       "      <td id=\"T_081d2_row3_col3\" class=\"data row3 col3\" >0.019</td>\n",
       "      <td id=\"T_081d2_row3_col4\" class=\"data row3 col4\" >0.020</td>\n",
       "      <td id=\"T_081d2_row3_col5\" class=\"data row3 col5\" >0.008</td>\n",
       "    </tr>\n",
       "    <tr>\n",
       "      <th id=\"T_081d2_level0_row4\" class=\"row_heading level0 row4\" >8e-3</th>\n",
       "      <td id=\"T_081d2_row4_col0\" class=\"data row4 col0\" >0.101</td>\n",
       "      <td id=\"T_081d2_row4_col1\" class=\"data row4 col1\" >0.101</td>\n",
       "      <td id=\"T_081d2_row4_col2\" class=\"data row4 col2\" >0.075</td>\n",
       "      <td id=\"T_081d2_row4_col3\" class=\"data row4 col3\" >0.075</td>\n",
       "      <td id=\"T_081d2_row4_col4\" class=\"data row4 col4\" >0.033</td>\n",
       "      <td id=\"T_081d2_row4_col5\" class=\"data row4 col5\" >0.033</td>\n",
       "    </tr>\n",
       "    <tr>\n",
       "      <th id=\"T_081d2_level0_row5\" class=\"row_heading level0 row5\" >1.6e-2</th>\n",
       "      <td id=\"T_081d2_row5_col0\" class=\"data row5 col0\" >0.415</td>\n",
       "      <td id=\"T_081d2_row5_col1\" class=\"data row5 col1\" >0.415</td>\n",
       "      <td id=\"T_081d2_row5_col2\" class=\"data row5 col2\" >0.309</td>\n",
       "      <td id=\"T_081d2_row5_col3\" class=\"data row5 col3\" >0.309</td>\n",
       "      <td id=\"T_081d2_row5_col4\" class=\"data row5 col4\" >0.138</td>\n",
       "      <td id=\"T_081d2_row5_col5\" class=\"data row5 col5\" >0.138</td>\n",
       "    </tr>\n",
       "  </tbody>\n",
       "</table>\n"
      ],
      "text/plain": [
       "<pandas.io.formats.style.Styler at 0x7f90fc39d240>"
      ]
     },
     "execution_count": 5,
     "metadata": {},
     "output_type": "execute_result"
    }
   ],
   "source": [
    "pd.DataFrame({\n",
    "    \"RI-MP2 loose\": get_df_err(df_rimp2[\"aug-cc-pVTZ-loose\"], df_anal_rimp2[\"aug-cc-pVTZ\"]).loc[\"RelRMSD/%\"],\n",
    "    \"RI-MP2 tight\": get_df_err(df_rimp2[\"aug-cc-pVTZ-tight\"], df_anal_rimp2[\"aug-cc-pVTZ\"]).loc[\"RelRMSD/%\"],\n",
    "    \"RI-JK loose\": get_df_err(df_rijk[\"aug-cc-pVTZ-loose\"], df_anal_rijk[\"aug-cc-pVTZ\"]).loc[\"RelRMSD/%\"],\n",
    "    \"RI-JK tight\": get_df_err(df_rijk[\"aug-cc-pVTZ-tight\"], df_anal_rijk[\"aug-cc-pVTZ\"]).loc[\"RelRMSD/%\"],\n",
    "    \"RI-Corr2 loose\": get_df_err(df_corr2[\"aug-cc-pVTZ-loose\"], df_anal_corr2[\"aug-cc-pVTZ\"], df_anal_rimp2[\"aug-cc-pVTZ\"]).loc[\"RelRMSD/%\"],\n",
    "    \"RI-Corr2 tight\": get_df_err(df_corr2[\"aug-cc-pVTZ-tight\"], df_anal_corr2[\"aug-cc-pVTZ\"], df_anal_rimp2[\"aug-cc-pVTZ\"]).loc[\"RelRMSD/%\"],\n",
    "}).style.format(\"{:.3f}\")"
   ]
  }
 ],
 "metadata": {
  "kernelspec": {
   "display_name": "Python 3 (ipykernel)",
   "language": "python",
   "name": "python3"
  },
  "language_info": {
   "codemirror_mode": {
    "name": "ipython",
    "version": 3
   },
   "file_extension": ".py",
   "mimetype": "text/x-python",
   "name": "python",
   "nbconvert_exporter": "python",
   "pygments_lexer": "ipython3",
   "version": "3.10.13"
  }
 },
 "nbformat": 4,
 "nbformat_minor": 5
}
