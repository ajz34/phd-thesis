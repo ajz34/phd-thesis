{
 "cells": [
  {
   "cell_type": "markdown",
   "id": "ff49e154-682b-42bd-9b8a-4cfeee521d21",
   "metadata": {},
   "source": [
    "# Process of Reference Value of HR46"
   ]
  },
  {
   "cell_type": "code",
   "execution_count": 1,
   "id": "02c07d91-5da5-4190-8ce0-d1f6126e4e0f",
   "metadata": {},
   "outputs": [],
   "source": [
    "import pandas as pd\n",
    "import numpy as np"
   ]
  },
  {
   "cell_type": "code",
   "execution_count": 2,
   "id": "03746f5c-77ef-47cf-b293-e1520719dbeb",
   "metadata": {},
   "outputs": [],
   "source": [
    "def get_df_err(df, df_sub, ref=None):\n",
    "    if ref is None:\n",
    "        ref = df_sub\n",
    "    # In case if column headers of reference is not the same to df\n",
    "    if isinstance(df_sub, pd.DataFrame):\n",
    "        df_sub.columns = df.columns\n",
    "        ref.columns = df.columns\n",
    "    df_err_val = df.sub(df_sub, axis=\"index\")\n",
    "    df_err_rel = df_err_val.div(ref, axis=\"index\") * 100\n",
    "    df_z = df - df.mean()\n",
    "    ref_z = df_sub - df_sub.mean()\n",
    "    df_err = {\n",
    "        \"MaxE/A^3\": df_err_val.abs().max(),\n",
    "        \"MAD/A^3\": df_err_val.abs().mean(),\n",
    "        \"RMSD/A^3\": np.sqrt((df_err_val**2).mean()),\n",
    "        \"RelMaxE/%\": df_err_rel.abs().max(),\n",
    "        \"RelMAD/%\": df_err_rel.abs().mean(),\n",
    "        \"RelRMSD/%\": np.sqrt((df_err_rel**2).mean()),\n",
    "    }\n",
    "    # In case df is pd.Series instead of pd.DataFrame \n",
    "    try:\n",
    "        return pd.DataFrame(df_err).T\n",
    "    except ValueError:\n",
    "        return pd.Series(df_err)"
   ]
  },
  {
   "cell_type": "markdown",
   "id": "dfe553bc-0147-4be0-b982-8aaa8a7926af",
   "metadata": {},
   "source": [
    "## Read Data"
   ]
  },
  {
   "cell_type": "code",
   "execution_count": 3,
   "id": "86f93836-1dc9-43a2-a90f-5a7624077ce0",
   "metadata": {},
   "outputs": [],
   "source": [
    "df_cc_iso = pd.read_csv(\"T144-CCSDt-isotropic.csv\", header=[0], index_col=[0, 1])\n",
    "df_cc_aniso = pd.read_csv(\"T144-CCSDt-anisotropic.csv\", header=[0], index_col=[0, 1])"
   ]
  },
  {
   "cell_type": "code",
   "execution_count": 4,
   "id": "0c49b60b-01df-4571-aea2-999f3b7ba8ce",
   "metadata": {},
   "outputs": [],
   "source": [
    "df_mp_iso = pd.read_csv(\"T144-RIMP2-isotropic.csv\", header=[0], index_col=[0, 1])\n",
    "df_mp_aniso = pd.read_csv(\"T144-RIMP2-anisotropic.csv\", header=[0], index_col=[0, 1])"
   ]
  },
  {
   "cell_type": "code",
   "execution_count": 5,
   "id": "6011a17f-a354-4297-9fcb-67dcec765434",
   "metadata": {},
   "outputs": [],
   "source": [
    "mol_list = list(df_cc_iso.loc[\"aug-cc-pVDZ\"].index)"
   ]
  },
  {
   "cell_type": "code",
   "execution_count": 6,
   "id": "1a3ac95c-9f4b-4e9e-bf30-f460cc5b4d0f",
   "metadata": {},
   "outputs": [],
   "source": [
    "mol_set1 = ['0097', '0654', '0142', '0103', '0757', '0399', '0393', '0580', '0158', '0599', '1193', '0769', '1032', '1475', '0119', '0886', '0351', '0470', '0213', '0093', '0762', '1197', '0655', '0353', '0818', '1207', '1241', '0223', '1194', '1046', '0909', '0205', '0670', '0767']\n",
    "mol_set2 = ['0529', '0533', '1047', '1048', '1049', '1563', '1564', '0556', '1074', '1588', '0056', '1085', '1603', '1604', '1607', '1610', '1617', '1619', '1108', '1109', '1622', '1625', '1626', '1115', '1117', '1119', '1630', '1633', '1634', '0617', '1135', '0112', '0117', '1149', '0129', '0159', '1209', '0710', '0722', '1250', '1251', '1256', '0753', '0245', '0761', '0765', '0256', '0257', '0768', '0267', '0276', '0281', '0282', '0287', '1314', '1315', '0306', '0820', '1332', '0318', '1344', '0833', '0841', '0843', '0332', '0846', '0847', '0336', '1361', '0852', '0342', '1367', '0346', '1378', '1382', '0361', '1391', '1395', '0884', '1396', '0890', '0381', '1406', '1408', '1409', '0390', '0397', '1428', '1429', '1438', '1444', '0936', '0425', '1455', '1457', '0438', '0445', '1479', '0969', '0460', '0974', '0976', '0987', '0989', '1502', '0998', '0489', '1003', '1014', '1019']\n",
    "\n",
    "mol_set1 = [int(i) for i in mol_set1]\n",
    "mol_set2 = [int(i) for i in mol_set2]"
   ]
  },
  {
   "cell_type": "markdown",
   "id": "1eae9acf-8c00-4667-9d36-1b7cd6e1d0fb",
   "metadata": {},
   "source": [
    "## Correlation Data"
   ]
  },
  {
   "cell_type": "code",
   "execution_count": 7,
   "id": "2d4c9690-3c56-4c67-9704-5aded86ac2c7",
   "metadata": {},
   "outputs": [],
   "source": [
    "df_corr2_iso = df_mp_iso[\"RI-MP2\"] - df_mp_iso[\"RI-JK\"]\n",
    "df_corr2_aniso = df_mp_aniso[\"RI-MP2\"] - df_mp_aniso[\"RI-JK\"]"
   ]
  },
  {
   "cell_type": "code",
   "execution_count": 8,
   "id": "8f90e442-9094-4593-8925-7307b004e720",
   "metadata": {},
   "outputs": [],
   "source": [
    "df_corrd_iso = df_cc_iso[\"CCSD\"] - df_cc_iso[\"MP2\"]\n",
    "df_corrd_aniso = df_cc_aniso[\"CCSD\"] - df_cc_aniso[\"MP2\"]"
   ]
  },
  {
   "cell_type": "code",
   "execution_count": 9,
   "id": "bf798298-d80a-442c-867c-b9d740d0b24f",
   "metadata": {},
   "outputs": [],
   "source": [
    "df_corrdt_iso = df_cc_iso[\"CCSD(T)\"] - df_cc_iso[\"MP2\"]\n",
    "df_corrdt_aniso = df_cc_aniso[\"CCSD(T)\"] - df_cc_aniso[\"MP2\"]"
   ]
  },
  {
   "cell_type": "markdown",
   "id": "118767f3-226f-4c70-beec-114c12f97da5",
   "metadata": {},
   "source": [
    "## Isotropic Reference (Table S3)"
   ]
  },
  {
   "cell_type": "code",
   "execution_count": 10,
   "id": "34d6e963-b626-4e26-94b9-18fd5bc24fa3",
   "metadata": {},
   "outputs": [],
   "source": [
    "df_ref_iso = pd.DataFrame(index=mol_list, columns=[\"SCF\", \"Corr2\", \"CorrD\", \"CorrD(T)\", \"MP2\", \"CCSD\", \"CCSD(T)\"], dtype=float)\n",
    "df_ref_iso.loc[:, \"SCF\"] = df_mp_iso.loc[(\"aug-cc-pCV5Z\"), \"RI-JK\"]\n",
    "df_ref_iso.loc[:, \"Corr2\"] = (125 * df_corr2_iso.loc[\"aug-cc-pCV5Z\"] - 64 * df_corr2_iso.loc[\"aug-cc-pCVQZ\"]) / 61"
   ]
  },
  {
   "cell_type": "code",
   "execution_count": 11,
   "id": "4d0f3904-bcbf-4cfd-878d-00f397f69b10",
   "metadata": {},
   "outputs": [],
   "source": [
    "df_ref_iso.loc[mol_set1, \"CorrD\"] = (64 * df_corrd_iso.loc[\"aug-cc-pVQZ\"].loc[mol_set1] - 27 * df_corrd_iso.loc[\"aug-cc-pVTZ\"].loc[mol_set1]) / 37\n",
    "df_ref_iso.loc[mol_set2, \"CorrD\"] = (27 * df_corrd_iso.loc[\"aug-cc-pVTZ\"].loc[mol_set2] - 8 * df_corrd_iso.loc[\"aug-cc-pVDZ\"].loc[mol_set2]) / 19"
   ]
  },
  {
   "cell_type": "code",
   "execution_count": 12,
   "id": "1b2a41f5-b048-4d84-859c-eed29f4fbd79",
   "metadata": {},
   "outputs": [],
   "source": [
    "df_ref_iso.loc[mol_set1, \"CorrD(T)\"] = (64 * df_corrdt_iso.loc[\"aug-cc-pVQZ\"].loc[mol_set1] - 27 * df_corrdt_iso.loc[\"aug-cc-pVTZ\"].loc[mol_set1]) / 37\n",
    "df_ref_iso.loc[mol_set2, \"CorrD(T)\"] = (27 * df_corrdt_iso.loc[\"aug-cc-pVTZ\"].loc[mol_set2] - 8 * df_corrdt_iso.loc[\"aug-cc-pVDZ\"].loc[mol_set2]) / 19"
   ]
  },
  {
   "cell_type": "code",
   "execution_count": 13,
   "id": "469dc401-d0ab-4309-ae2b-f37d3bb62ba6",
   "metadata": {},
   "outputs": [],
   "source": [
    "df_ref_iso.loc[:, \"MP2\"] = df_ref_iso[\"SCF\"] + df_ref_iso[\"Corr2\"]\n",
    "df_ref_iso.loc[:, \"CCSD\"] = df_ref_iso[\"MP2\"] + df_ref_iso[\"CorrD\"]\n",
    "df_ref_iso.loc[:, \"CCSD(T)\"] = df_ref_iso[\"MP2\"] + df_ref_iso[\"CorrD(T)\"]"
   ]
  },
  {
   "cell_type": "code",
   "execution_count": 14,
   "id": "99e4b0be-c3b0-4ce4-895f-a0b51e981831",
   "metadata": {},
   "outputs": [],
   "source": [
    "df_ref_iso.to_csv(\"T144-ref-iso.csv\")"
   ]
  },
  {
   "cell_type": "markdown",
   "id": "300ae83e-4729-4b03-bc42-7f64effc98f7",
   "metadata": {},
   "source": [
    "## Anisotropic Reference (Table S4)"
   ]
  },
  {
   "cell_type": "code",
   "execution_count": 15,
   "id": "eabe41f6-8334-460c-a7a1-889c54b4464d",
   "metadata": {},
   "outputs": [],
   "source": [
    "df_ref_aniso = pd.DataFrame(index=mol_list, columns=[\"SCF\", \"Corr2\", \"CorrD\", \"CorrD(T)\", \"MP2\", \"CCSD\", \"CCSD(T)\"], dtype=float)\n",
    "df_ref_aniso.loc[:, \"SCF\"] = df_mp_aniso.loc[(\"aug-cc-pCV5Z\"), \"RI-JK\"]\n",
    "df_ref_aniso.loc[:, \"Corr2\"] = (125 * df_corr2_aniso.loc[\"aug-cc-pCV5Z\"] - 64 * df_corr2_aniso.loc[\"aug-cc-pCVQZ\"]) / 61"
   ]
  },
  {
   "cell_type": "code",
   "execution_count": 16,
   "id": "484bcd01-5378-4b20-9056-6d7fb19f241d",
   "metadata": {},
   "outputs": [],
   "source": [
    "df_ref_aniso.loc[mol_set1, \"CorrD\"] = (64 * df_corrd_aniso.loc[\"aug-cc-pVQZ\"].loc[mol_set1] - 27 * df_corrd_aniso.loc[\"aug-cc-pVTZ\"].loc[mol_set1]) / 37\n",
    "df_ref_aniso.loc[mol_set2, \"CorrD\"] = (27 * df_corrd_aniso.loc[\"aug-cc-pVTZ\"].loc[mol_set2] - 8 * df_corrd_aniso.loc[\"aug-cc-pVDZ\"].loc[mol_set2]) / 19"
   ]
  },
  {
   "cell_type": "code",
   "execution_count": 17,
   "id": "a0ead8ce-7cad-4845-8232-1d1f983cd879",
   "metadata": {},
   "outputs": [],
   "source": [
    "df_ref_aniso.loc[mol_set1, \"CorrD(T)\"] = (64 * df_corrdt_aniso.loc[\"aug-cc-pVQZ\"].loc[mol_set1] - 27 * df_corrdt_aniso.loc[\"aug-cc-pVTZ\"].loc[mol_set1]) / 37\n",
    "df_ref_aniso.loc[mol_set2, \"CorrD(T)\"] = (27 * df_corrdt_aniso.loc[\"aug-cc-pVTZ\"].loc[mol_set2] - 8 * df_corrdt_aniso.loc[\"aug-cc-pVDZ\"].loc[mol_set2]) / 19"
   ]
  },
  {
   "cell_type": "code",
   "execution_count": 18,
   "id": "1d8350cc-c8cd-48ac-aa35-244eae85c673",
   "metadata": {},
   "outputs": [],
   "source": [
    "df_ref_aniso.loc[:, \"MP2\"] = df_ref_aniso[\"SCF\"] + df_ref_aniso[\"Corr2\"]\n",
    "df_ref_aniso.loc[:, \"CCSD\"] = df_ref_aniso[\"MP2\"] + df_ref_aniso[\"CorrD\"]\n",
    "df_ref_aniso.loc[:, \"CCSD(T)\"] = df_ref_aniso[\"MP2\"] + df_ref_aniso[\"CorrD(T)\"]"
   ]
  },
  {
   "cell_type": "code",
   "execution_count": 19,
   "id": "937a577f-be80-4fbd-9261-40dfded644b8",
   "metadata": {},
   "outputs": [],
   "source": [
    "df_ref_aniso.to_csv(\"T144-ref-aniso.csv\")"
   ]
  },
  {
   "cell_type": "markdown",
   "id": "43fc9c25-4e03-4954-ad93-92989856b79e",
   "metadata": {},
   "source": [
    "## Benchmark"
   ]
  },
  {
   "cell_type": "markdown",
   "id": "b0a13326-3b2b-4290-8530-9276f397a8bb",
   "metadata": {
    "tags": []
   },
   "source": [
    "### Error between RI-JK/RI-Corr2 and numerical SCF/Corr2 (sec 3.1)"
   ]
  },
  {
   "cell_type": "code",
   "execution_count": 26,
   "id": "529fe671-b67e-47bd-a72a-46d72b6a3bf2",
   "metadata": {},
   "outputs": [
    {
     "data": {
      "text/plain": [
       "0.021631569473748294"
      ]
     },
     "execution_count": 26,
     "metadata": {},
     "output_type": "execute_result"
    }
   ],
   "source": [
    "get_df_err(\n",
    "    df_mp_iso.loc[\"aug-cc-pVTZ\"][\"RI-JK\"],\n",
    "    df_cc_iso.loc[\"aug-cc-pVTZ\"][\"SCF\"])[\"RelRMSD/%\"]"
   ]
  },
  {
   "cell_type": "code",
   "execution_count": 27,
   "id": "d49f45bb-f886-4b5a-b32d-263965fea462",
   "metadata": {},
   "outputs": [
    {
     "data": {
      "text/plain": [
       "0.00849995104528952"
      ]
     },
     "execution_count": 27,
     "metadata": {},
     "output_type": "execute_result"
    }
   ],
   "source": [
    "get_df_err(\n",
    "    df_mp_iso.loc[\"aug-cc-pVTZ\"][\"RI-MP2\"] - df_mp_iso.loc[\"aug-cc-pVTZ\"][\"RI-JK\"],\n",
    "    df_cc_iso.loc[\"aug-cc-pVTZ\"][\"MP2\"] - df_cc_iso.loc[\"aug-cc-pVTZ\"][\"SCF\"],\n",
    "    df_cc_iso.loc[\"aug-cc-pVTZ\"][\"MP2\"]\n",
    ")[\"RelRMSD/%\"]"
   ]
  },
  {
   "cell_type": "markdown",
   "id": "5f456d78-e027-4a8a-a9e3-f726542f0022",
   "metadata": {},
   "source": [
    "### Isotropic (Table 7)"
   ]
  },
  {
   "cell_type": "code",
   "execution_count": 20,
   "id": "f5c96743-7933-4c9b-83d0-01d92775d8f1",
   "metadata": {},
   "outputs": [
    {
     "data": {
      "text/html": [
       "<div>\n",
       "<style scoped>\n",
       "    .dataframe tbody tr th:only-of-type {\n",
       "        vertical-align: middle;\n",
       "    }\n",
       "\n",
       "    .dataframe tbody tr th {\n",
       "        vertical-align: top;\n",
       "    }\n",
       "\n",
       "    .dataframe thead th {\n",
       "        text-align: right;\n",
       "    }\n",
       "</style>\n",
       "<table border=\"1\" class=\"dataframe\">\n",
       "  <thead>\n",
       "    <tr style=\"text-align: right;\">\n",
       "      <th></th>\n",
       "      <th>SCF</th>\n",
       "      <th>MP2</th>\n",
       "      <th>CCSD</th>\n",
       "    </tr>\n",
       "  </thead>\n",
       "  <tbody>\n",
       "    <tr>\n",
       "      <th>MaxE/A^3</th>\n",
       "      <td>1.152647</td>\n",
       "      <td>0.272554</td>\n",
       "      <td>0.359205</td>\n",
       "    </tr>\n",
       "    <tr>\n",
       "      <th>MAD/A^3</th>\n",
       "      <td>0.332569</td>\n",
       "      <td>0.066439</td>\n",
       "      <td>0.141797</td>\n",
       "    </tr>\n",
       "    <tr>\n",
       "      <th>RMSD/A^3</th>\n",
       "      <td>0.401391</td>\n",
       "      <td>0.080643</td>\n",
       "      <td>0.158144</td>\n",
       "    </tr>\n",
       "    <tr>\n",
       "      <th>RelMaxE/%</th>\n",
       "      <td>9.344948</td>\n",
       "      <td>2.089501</td>\n",
       "      <td>2.757119</td>\n",
       "    </tr>\n",
       "    <tr>\n",
       "      <th>RelMAD/%</th>\n",
       "      <td>3.569487</td>\n",
       "      <td>0.702777</td>\n",
       "      <td>1.497503</td>\n",
       "    </tr>\n",
       "    <tr>\n",
       "      <th>RelRMSD/%</th>\n",
       "      <td>4.126040</td>\n",
       "      <td>0.812513</td>\n",
       "      <td>1.567345</td>\n",
       "    </tr>\n",
       "  </tbody>\n",
       "</table>\n",
       "</div>"
      ],
      "text/plain": [
       "                SCF       MP2      CCSD\n",
       "MaxE/A^3   1.152647  0.272554  0.359205\n",
       "MAD/A^3    0.332569  0.066439  0.141797\n",
       "RMSD/A^3   0.401391  0.080643  0.158144\n",
       "RelMaxE/%  9.344948  2.089501  2.757119\n",
       "RelMAD/%   3.569487  0.702777  1.497503\n",
       "RelRMSD/%  4.126040  0.812513  1.567345"
      ]
     },
     "execution_count": 20,
     "metadata": {},
     "output_type": "execute_result"
    }
   ],
   "source": [
    "get_df_err(df_ref_iso[[\"SCF\", \"MP2\", \"CCSD\"]], df_ref_iso[\"CCSD(T)\"])"
   ]
  },
  {
   "cell_type": "markdown",
   "id": "562d2ff0-ccea-4992-bddf-5d798f33846f",
   "metadata": {},
   "source": [
    "### Anisotropic (Table 8)"
   ]
  },
  {
   "cell_type": "code",
   "execution_count": 21,
   "id": "944dc645-8bc9-4f12-949e-0a0d844d8fce",
   "metadata": {},
   "outputs": [],
   "source": [
    "mask = df_ref_aniso.index[df_ref_aniso[\"CCSD(T)\"] > 0.5]"
   ]
  },
  {
   "cell_type": "code",
   "execution_count": 22,
   "id": "15b45a4c-307e-498c-b645-033997755b74",
   "metadata": {},
   "outputs": [
    {
     "data": {
      "text/html": [
       "<div>\n",
       "<style scoped>\n",
       "    .dataframe tbody tr th:only-of-type {\n",
       "        vertical-align: middle;\n",
       "    }\n",
       "\n",
       "    .dataframe tbody tr th {\n",
       "        vertical-align: top;\n",
       "    }\n",
       "\n",
       "    .dataframe thead th {\n",
       "        text-align: right;\n",
       "    }\n",
       "</style>\n",
       "<table border=\"1\" class=\"dataframe\">\n",
       "  <thead>\n",
       "    <tr style=\"text-align: right;\">\n",
       "      <th></th>\n",
       "      <th>SCF</th>\n",
       "      <th>MP2</th>\n",
       "      <th>CCSD</th>\n",
       "    </tr>\n",
       "  </thead>\n",
       "  <tbody>\n",
       "    <tr>\n",
       "      <th>MaxE/A^3</th>\n",
       "      <td>2.181284</td>\n",
       "      <td>0.617696</td>\n",
       "      <td>0.815532</td>\n",
       "    </tr>\n",
       "    <tr>\n",
       "      <th>MAD/A^3</th>\n",
       "      <td>0.384829</td>\n",
       "      <td>0.064261</td>\n",
       "      <td>0.128288</td>\n",
       "    </tr>\n",
       "    <tr>\n",
       "      <th>RMSD/A^3</th>\n",
       "      <td>0.592648</td>\n",
       "      <td>0.103108</td>\n",
       "      <td>0.193587</td>\n",
       "    </tr>\n",
       "    <tr>\n",
       "      <th>RelMaxE/%</th>\n",
       "      <td>21.575682</td>\n",
       "      <td>6.294857</td>\n",
       "      <td>4.837798</td>\n",
       "    </tr>\n",
       "    <tr>\n",
       "      <th>RelMAD/%</th>\n",
       "      <td>6.525448</td>\n",
       "      <td>1.202130</td>\n",
       "      <td>1.983073</td>\n",
       "    </tr>\n",
       "    <tr>\n",
       "      <th>RelRMSD/%</th>\n",
       "      <td>8.482593</td>\n",
       "      <td>1.625093</td>\n",
       "      <td>2.312709</td>\n",
       "    </tr>\n",
       "  </tbody>\n",
       "</table>\n",
       "</div>"
      ],
      "text/plain": [
       "                 SCF       MP2      CCSD\n",
       "MaxE/A^3    2.181284  0.617696  0.815532\n",
       "MAD/A^3     0.384829  0.064261  0.128288\n",
       "RMSD/A^3    0.592648  0.103108  0.193587\n",
       "RelMaxE/%  21.575682  6.294857  4.837798\n",
       "RelMAD/%    6.525448  1.202130  1.983073\n",
       "RelRMSD/%   8.482593  1.625093  2.312709"
      ]
     },
     "execution_count": 22,
     "metadata": {},
     "output_type": "execute_result"
    }
   ],
   "source": [
    "get_df_err(df_ref_aniso[[\"SCF\", \"MP2\", \"CCSD\"]].loc[mask], df_ref_aniso[\"CCSD(T)\"].loc[mask])"
   ]
  },
  {
   "cell_type": "markdown",
   "id": "6446d912-71e1-4d59-98b6-8a717ba7a08e",
   "metadata": {},
   "source": [
    "## Set Err"
   ]
  },
  {
   "cell_type": "code",
   "execution_count": 24,
   "id": "93b914c4-1450-4ed8-93b8-f0bb16d6cd59",
   "metadata": {},
   "outputs": [],
   "source": [
    "index_seterr_list = [\n",
    "    \"Set I, aV[DT]Z, aV[TQ]Z\",\n",
    "]"
   ]
  },
  {
   "cell_type": "markdown",
   "id": "d5b8a47d-675a-48ca-a0e6-ffbe152000d5",
   "metadata": {},
   "source": [
    "### Isotropic (Table 5 and Table S5)"
   ]
  },
  {
   "cell_type": "code",
   "execution_count": 25,
   "id": "8e5d0e28-caef-41af-b5f0-89e09ec32f3b",
   "metadata": {},
   "outputs": [],
   "source": [
    "df_iso_seterr = pd.DataFrame(index=index_seterr_list, columns=[\"CorrD\", \"CorrD(T)\"])"
   ]
  },
  {
   "cell_type": "code",
   "execution_count": 26,
   "id": "7be9174f-3e32-4a02-9344-cd62cc1b1bca",
   "metadata": {},
   "outputs": [],
   "source": [
    "df_iso_seterr.loc[\"Set I, aV[DT]Z, aV[TQ]Z\", \"CorrD\"] = get_df_err(\n",
    "    ( 27 * df_corrd_iso.loc[\"aug-cc-pVTZ\"].loc[mol_set1] -  8 * df_corrd_iso.loc[\"aug-cc-pVDZ\"].loc[mol_set1]) / 19,\n",
    "    ( 64 * df_corrd_iso.loc[\"aug-cc-pVQZ\"].loc[mol_set1] - 27 * df_corrd_iso.loc[\"aug-cc-pVTZ\"].loc[mol_set1]) / 37,\n",
    "    df_ref_iso.loc[mol_set1, \"CCSD(T)\"]\n",
    ").loc[\"RelRMSD/%\"]"
   ]
  },
  {
   "cell_type": "code",
   "execution_count": 27,
   "id": "50564885-9d99-4c12-9698-519d2227516d",
   "metadata": {},
   "outputs": [],
   "source": [
    "df_iso_seterr.loc[\"Set I, aV[DT]Z, aV[TQ]Z\", \"CorrD(T)\"] = get_df_err(\n",
    "    ( 27 * df_corrdt_iso.loc[\"aug-cc-pVTZ\"].loc[mol_set1] -  8 * df_corrdt_iso.loc[\"aug-cc-pVDZ\"].loc[mol_set1]) / 19,\n",
    "    ( 64 * df_corrdt_iso.loc[\"aug-cc-pVQZ\"].loc[mol_set1] - 27 * df_corrdt_iso.loc[\"aug-cc-pVTZ\"].loc[mol_set1]) / 37,\n",
    "    df_ref_iso.loc[mol_set1, \"CCSD(T)\"]\n",
    ").loc[\"RelRMSD/%\"]"
   ]
  },
  {
   "cell_type": "code",
   "execution_count": 28,
   "id": "fe9bcab4-8368-44f5-8638-f1b7aed5f266",
   "metadata": {},
   "outputs": [
    {
     "data": {
      "text/html": [
       "<div>\n",
       "<style scoped>\n",
       "    .dataframe tbody tr th:only-of-type {\n",
       "        vertical-align: middle;\n",
       "    }\n",
       "\n",
       "    .dataframe tbody tr th {\n",
       "        vertical-align: top;\n",
       "    }\n",
       "\n",
       "    .dataframe thead th {\n",
       "        text-align: right;\n",
       "    }\n",
       "</style>\n",
       "<table border=\"1\" class=\"dataframe\">\n",
       "  <thead>\n",
       "    <tr style=\"text-align: right;\">\n",
       "      <th></th>\n",
       "      <th>CorrD</th>\n",
       "      <th>CorrD(T)</th>\n",
       "    </tr>\n",
       "  </thead>\n",
       "  <tbody>\n",
       "    <tr>\n",
       "      <th>Set I, aV[DT]Z, aV[TQ]Z</th>\n",
       "      <td>0.140338</td>\n",
       "      <td>0.127455</td>\n",
       "    </tr>\n",
       "  </tbody>\n",
       "</table>\n",
       "</div>"
      ],
      "text/plain": [
       "                            CorrD  CorrD(T)\n",
       "Set I, aV[DT]Z, aV[TQ]Z  0.140338  0.127455"
      ]
     },
     "execution_count": 28,
     "metadata": {},
     "output_type": "execute_result"
    }
   ],
   "source": [
    "df_iso_seterr"
   ]
  },
  {
   "cell_type": "markdown",
   "id": "fb412416-85f1-40fb-8d4c-2d88c69ecae9",
   "metadata": {},
   "source": [
    "### Anisotropic (Table 6 and Table S6)"
   ]
  },
  {
   "cell_type": "code",
   "execution_count": 29,
   "id": "e8402419-ad7f-43b7-8b41-fa5cb3cd2607",
   "metadata": {},
   "outputs": [],
   "source": [
    "df_aniso_seterr = pd.DataFrame(index=index_seterr_list, columns=[\"CorrD\", \"CorrD(T)\"])"
   ]
  },
  {
   "cell_type": "code",
   "execution_count": 30,
   "id": "2f15c0ec-9140-4897-aa54-ad8e1058b859",
   "metadata": {},
   "outputs": [
    {
     "name": "stdout",
     "output_type": "stream",
     "text": [
      "[97, 654, 142, 103, 757, 399, 393, 580, 158, 599, 1193, 769, 1032, 1475, 119, 886, 470, 213, 93, 762, 1197, 655, 818, 1207, 1241, 223, 1194, 1046, 909, 205, 670, 767]\n"
     ]
    }
   ],
   "source": [
    "mol_set1_aniso = list(df_ref_aniso.loc[mol_set1, \"CCSD(T)\"].index[df_ref_aniso.loc[mol_set1, \"CCSD(T)\"] > 0.5])\n",
    "print(mol_set1_aniso)"
   ]
  },
  {
   "cell_type": "code",
   "execution_count": 31,
   "id": "4e7c2a7f-60a7-4645-a261-032477f9ef97",
   "metadata": {},
   "outputs": [
    {
     "data": {
      "text/plain": [
       "32"
      ]
     },
     "execution_count": 31,
     "metadata": {},
     "output_type": "execute_result"
    }
   ],
   "source": [
    "len(mol_set1_aniso)"
   ]
  },
  {
   "cell_type": "code",
   "execution_count": 32,
   "id": "99ba76ed-6407-4e1f-b0bd-8b24c39dc882",
   "metadata": {},
   "outputs": [],
   "source": [
    "df_aniso_seterr.loc[\"Set I, aV[DT]Z, aV[TQ]Z\", \"CorrD\"] = get_df_err(\n",
    "    ( 27 * df_corrd_aniso.loc[\"aug-cc-pVTZ\"].loc[mol_set1_aniso] -  8 * df_corrd_aniso.loc[\"aug-cc-pVDZ\"].loc[mol_set1_aniso]) / 19,\n",
    "    ( 64 * df_corrd_aniso.loc[\"aug-cc-pVQZ\"].loc[mol_set1_aniso] - 27 * df_corrd_aniso.loc[\"aug-cc-pVTZ\"].loc[mol_set1_aniso]) / 37,\n",
    "    df_ref_aniso.loc[mol_set1, \"CCSD(T)\"]\n",
    ").loc[\"RelRMSD/%\"]"
   ]
  },
  {
   "cell_type": "code",
   "execution_count": 33,
   "id": "ffdd1b3e-5647-47a4-a3fc-1e754c3d84d1",
   "metadata": {},
   "outputs": [],
   "source": [
    "df_aniso_seterr.loc[\"Set I, aV[DT]Z, aV[TQ]Z\", \"CorrD(T)\"] = get_df_err(\n",
    "    ( 27 * df_corrdt_aniso.loc[\"aug-cc-pVTZ\"].loc[mol_set1_aniso] -  8 * df_corrdt_aniso.loc[\"aug-cc-pVDZ\"].loc[mol_set1_aniso]) / 19,\n",
    "    ( 64 * df_corrdt_aniso.loc[\"aug-cc-pVQZ\"].loc[mol_set1_aniso] - 27 * df_corrdt_aniso.loc[\"aug-cc-pVTZ\"].loc[mol_set1_aniso]) / 37,\n",
    "    df_ref_aniso.loc[mol_set1, \"CCSD(T)\"]\n",
    ").loc[\"RelRMSD/%\"]"
   ]
  },
  {
   "cell_type": "code",
   "execution_count": 34,
   "id": "47fca835-e7bc-41e7-9188-d2d3fa808e5f",
   "metadata": {},
   "outputs": [
    {
     "data": {
      "text/html": [
       "<div>\n",
       "<style scoped>\n",
       "    .dataframe tbody tr th:only-of-type {\n",
       "        vertical-align: middle;\n",
       "    }\n",
       "\n",
       "    .dataframe tbody tr th {\n",
       "        vertical-align: top;\n",
       "    }\n",
       "\n",
       "    .dataframe thead th {\n",
       "        text-align: right;\n",
       "    }\n",
       "</style>\n",
       "<table border=\"1\" class=\"dataframe\">\n",
       "  <thead>\n",
       "    <tr style=\"text-align: right;\">\n",
       "      <th></th>\n",
       "      <th>CorrD</th>\n",
       "      <th>CorrD(T)</th>\n",
       "    </tr>\n",
       "  </thead>\n",
       "  <tbody>\n",
       "    <tr>\n",
       "      <th>Set I, aV[DT]Z, aV[TQ]Z</th>\n",
       "      <td>0.213987</td>\n",
       "      <td>0.204507</td>\n",
       "    </tr>\n",
       "  </tbody>\n",
       "</table>\n",
       "</div>"
      ],
      "text/plain": [
       "                            CorrD  CorrD(T)\n",
       "Set I, aV[DT]Z, aV[TQ]Z  0.213987  0.204507"
      ]
     },
     "execution_count": 34,
     "metadata": {},
     "output_type": "execute_result"
    }
   ],
   "source": [
    "df_aniso_seterr"
   ]
  }
 ],
 "metadata": {
  "kernelspec": {
   "display_name": "Python 3 (ipykernel)",
   "language": "python",
   "name": "python3"
  },
  "language_info": {
   "codemirror_mode": {
    "name": "ipython",
    "version": 3
   },
   "file_extension": ".py",
   "mimetype": "text/x-python",
   "name": "python",
   "nbconvert_exporter": "python",
   "pygments_lexer": "ipython3",
   "version": "3.8.5"
  }
 },
 "nbformat": 4,
 "nbformat_minor": 5
}
