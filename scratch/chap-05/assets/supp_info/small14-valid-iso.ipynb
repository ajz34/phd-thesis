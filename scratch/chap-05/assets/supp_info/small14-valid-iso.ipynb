{
 "cells": [
  {
   "cell_type": "code",
   "execution_count": 1,
   "id": "e1d75474-5377-48f5-9ba1-9a68e800acd7",
   "metadata": {},
   "outputs": [],
   "source": [
    "import numpy as np\n",
    "import pandas as pd"
   ]
  },
  {
   "cell_type": "code",
   "execution_count": 2,
   "id": "1e0ab2c8-7498-42b4-84fd-6337826c5974",
   "metadata": {},
   "outputs": [],
   "source": [
    "def get_df_err(df, df_sub, ref=None):\n",
    "    if ref is None:\n",
    "        ref = df_sub\n",
    "    # In case if column headers of reference is not the same to df\n",
    "    if isinstance(df_sub, pd.DataFrame):\n",
    "        df_sub.columns = df.columns\n",
    "        ref.columns = df.columns\n",
    "    df_err_val = df.sub(df_sub, axis=\"index\")\n",
    "    df_err_rel = df_err_val.div(ref, axis=\"index\") * 100\n",
    "    df_z = df - df.mean()\n",
    "    ref_z = df_sub - df_sub.mean()\n",
    "    df_err = {\n",
    "        \"MaxE/A^3\": df_err_val.abs().max(),\n",
    "        \"MAD/A^3\": df_err_val.abs().mean(),\n",
    "        \"RMSD/A^3\": np.sqrt((df_err_val**2).mean()),\n",
    "        \"RelMaxE/%\": df_err_rel.abs().max(),\n",
    "        \"RelMAD/%\": df_err_rel.abs().mean(),\n",
    "        \"RelRMSD/%\": np.sqrt((df_err_rel**2).mean()),\n",
    "    }\n",
    "    # In case df is pd.Series instead of pd.DataFrame \n",
    "    try:\n",
    "        return pd.DataFrame(df_err).T\n",
    "    except ValueError:\n",
    "        return pd.Series(df_err)"
   ]
  },
  {
   "cell_type": "markdown",
   "id": "6dae22a7-a89b-4a4d-85e9-1797b39e1a6c",
   "metadata": {},
   "source": [
    "## Table of Small14 (Isotropic)"
   ]
  },
  {
   "cell_type": "code",
   "execution_count": 3,
   "id": "a33dc54a-e005-446b-b843-4fe3166e3040",
   "metadata": {},
   "outputs": [],
   "source": [
    "df_iso_data = pd.read_csv(\"small14-CCSDt-isotropic.csv\", header=[0], index_col=[0, 1])"
   ]
  },
  {
   "cell_type": "code",
   "execution_count": 4,
   "id": "5b1d015a-ec27-4a9e-9458-b462c0bbd93f",
   "metadata": {},
   "outputs": [],
   "source": [
    "basis_list = [\n",
    "    \"aug-cc-pVDZ\", \"aug-cc-pVTZ\", \"aug-cc-pVQZ\", \"aug-cc-pV5Z\",\n",
    "    \"aug-cc-pCVDZ\", \"aug-cc-pCVTZ\", \"aug-cc-pCVQZ\", \"aug-cc-pCV5Z\",\n",
    "    \"aug-cc-pV[DT]Z\", \"aug-cc-pV[TQ]Z\", \"aug-cc-pV[Q5]Z\",\n",
    "    \"aug-cc-pCV[DT]Z\", \"aug-cc-pCV[TQ]Z\", \"aug-cc-pCV[Q5]Z\",\n",
    "]\n",
    "mol_list = ['Cl2', 'CO', 'CO2', 'H2O', 'N2', 'NH3', 'O2', 'PH3', 'SH2', 'SiH4', 'SO-trip', 'SO2', 'FCN', 'HCHS']"
   ]
  },
  {
   "cell_type": "code",
   "execution_count": 5,
   "id": "2353485f-4b5e-4f1c-934c-5b42e16ec39a",
   "metadata": {},
   "outputs": [],
   "source": [
    "contrib_list = [\"SCF\", \"Corr2\", \"CorrD\", \"CorrD(T)\"]\n",
    "contrib_ref_list = [\"SCF\", \"Corr2\", \"CorrD\", \"CorrD(T)\", \"MP2\", \"CCSD\", \"CCSD(T)\"]"
   ]
  },
  {
   "cell_type": "markdown",
   "id": "ed447701-2144-4854-9de0-5cdb0abb48fb",
   "metadata": {},
   "source": [
    "## Generate Data for Validation"
   ]
  },
  {
   "cell_type": "code",
   "execution_count": 6,
   "id": "241fa525-f5c5-42d2-8d28-3e4ce41ff21c",
   "metadata": {},
   "outputs": [],
   "source": [
    "df_iso = pd.DataFrame(index=pd.MultiIndex.from_product([basis_list, mol_list]), columns=contrib_list)"
   ]
  },
  {
   "cell_type": "code",
   "execution_count": 7,
   "id": "e009f792-9ddc-4223-b149-b39a7a28db18",
   "metadata": {},
   "outputs": [],
   "source": [
    "df_iso[\"SCF\"] = df_iso_data[\"SCF\"]\n",
    "df_iso[\"Corr2\"] = df_iso_data[\"MP2\"] - df_iso_data[\"SCF\"]\n",
    "df_iso[\"CorrD\"] = df_iso_data[\"CCSD\"] - df_iso_data[\"MP2\"]\n",
    "df_iso[\"CorrD(T)\"] = df_iso_data[\"CCSD(T)\"] - df_iso_data[\"MP2\"]"
   ]
  },
  {
   "cell_type": "code",
   "execution_count": 8,
   "id": "1a1e3c27-c10f-4bb9-bd4d-46cd275b0ea8",
   "metadata": {},
   "outputs": [],
   "source": [
    "df_iso.loc[\"aug-cc-pV[DT]Z\"] = np.asarray(( 27 * df_iso.loc[\"aug-cc-pVTZ\"] -  8 * df_iso.loc[\"aug-cc-pVDZ\"]) / 19)\n",
    "df_iso.loc[\"aug-cc-pV[TQ]Z\"] = np.asarray(( 64 * df_iso.loc[\"aug-cc-pVQZ\"] - 27 * df_iso.loc[\"aug-cc-pVTZ\"]) / 37)\n",
    "df_iso.loc[\"aug-cc-pV[Q5]Z\"] = np.asarray((125 * df_iso.loc[\"aug-cc-pV5Z\"] - 64 * df_iso.loc[\"aug-cc-pVQZ\"]) / 61)"
   ]
  },
  {
   "cell_type": "code",
   "execution_count": 9,
   "id": "0d823f08-c26d-47b1-b683-efe62e65729e",
   "metadata": {},
   "outputs": [],
   "source": [
    "df_iso.loc[\"aug-cc-pCV[DT]Z\"] = np.asarray(( 27 * df_iso.loc[\"aug-cc-pCVTZ\"] -  8 * df_iso.loc[\"aug-cc-pCVDZ\"]) / 19)\n",
    "df_iso.loc[\"aug-cc-pCV[TQ]Z\"] = np.asarray(( 64 * df_iso.loc[\"aug-cc-pCVQZ\"] - 27 * df_iso.loc[\"aug-cc-pCVTZ\"]) / 37)\n",
    "df_iso.loc[\"aug-cc-pCV[Q5]Z\"] = np.asarray((125 * df_iso.loc[\"aug-cc-pCV5Z\"] - 64 * df_iso.loc[\"aug-cc-pCVQZ\"]) / 61)"
   ]
  },
  {
   "cell_type": "code",
   "execution_count": 10,
   "id": "cac57b38-6ef4-4210-b55c-b123aef54320",
   "metadata": {},
   "outputs": [],
   "source": [
    "df_iso.loc[[\"aug-cc-pV[DT]Z\", \"aug-cc-pV[TQ]Z\", \"aug-cc-pV[Q5]Z\", \"aug-cc-pCV[DT]Z\", \"aug-cc-pCV[TQ]Z\", \"aug-cc-pCV[Q5]Z\"], \"SCF\"] = np.nan"
   ]
  },
  {
   "cell_type": "code",
   "execution_count": 11,
   "id": "57e55ab7-59b6-4882-9045-2a36be2ae7ee",
   "metadata": {},
   "outputs": [],
   "source": [
    "df_iso_ref = pd.DataFrame(index=mol_list, columns=contrib_ref_list)\n",
    "df_iso_ref[\"SCF\"] = df_iso.loc[\"aug-cc-pCV5Z\", \"SCF\"]\n",
    "df_iso_ref[[\"Corr2\", \"CorrD\", \"CorrD(T)\"]] = df_iso.loc[\"aug-cc-pCV[Q5]Z\", [\"Corr2\", \"CorrD\", \"CorrD(T)\"]]\n",
    "df_iso_ref[\"MP2\"] = df_iso_ref[\"SCF\"] + df_iso_ref[\"Corr2\"]\n",
    "df_iso_ref[\"CCSD\"] = df_iso_ref[\"MP2\"] + df_iso_ref[\"CorrD\"]\n",
    "df_iso_ref[\"CCSD(T)\"] = df_iso_ref[\"MP2\"] + df_iso_ref[\"CorrD(T)\"]"
   ]
  },
  {
   "cell_type": "code",
   "execution_count": 12,
   "id": "c2d6941c-d08a-46fe-ad16-a613339a765e",
   "metadata": {},
   "outputs": [],
   "source": [
    "df_iso.to_csv(\"small14-isotropic.csv\")"
   ]
  },
  {
   "cell_type": "markdown",
   "id": "3716f6d4-a32b-4de2-82c2-b7fcae22da09",
   "metadata": {},
   "source": [
    "## Validation Results (Table 2 in main text)"
   ]
  },
  {
   "cell_type": "code",
   "execution_count": 13,
   "id": "e99b8747-c1b4-45d1-b99a-7ca9ff4e0bf7",
   "metadata": {},
   "outputs": [],
   "source": [
    "df_iso_valid = pd.DataFrame(index=basis_list, columns=contrib_list)\n",
    "for basis in basis_list:\n",
    "    df_iso_valid.loc[basis] = get_df_err(df_iso.loc[basis], df_iso_ref[contrib_list], df_iso_ref[\"CCSD(T)\"]).loc[\"RelRMSD/%\"]"
   ]
  },
  {
   "cell_type": "code",
   "execution_count": 14,
   "id": "813b706b-5ab6-4c63-8983-350dfbc36d65",
   "metadata": {},
   "outputs": [
    {
     "data": {
      "text/html": [
       "<style  type=\"text/css\" >\n",
       "</style><table id=\"T_e7de8_\" ><thead>    <tr>        <th class=\"blank level0\" ></th>        <th class=\"col_heading level0 col0\" >SCF</th>        <th class=\"col_heading level0 col1\" >Corr2</th>        <th class=\"col_heading level0 col2\" >CorrD</th>        <th class=\"col_heading level0 col3\" >CorrD(T)</th>    </tr></thead><tbody>\n",
       "                <tr>\n",
       "                        <th id=\"T_e7de8_level0_row0\" class=\"row_heading level0 row0\" >aug-cc-pVDZ</th>\n",
       "                        <td id=\"T_e7de8_row0_col0\" class=\"data row0 col0\" >3.385</td>\n",
       "                        <td id=\"T_e7de8_row0_col1\" class=\"data row0 col1\" >0.853</td>\n",
       "                        <td id=\"T_e7de8_row0_col2\" class=\"data row0 col2\" >1.113</td>\n",
       "                        <td id=\"T_e7de8_row0_col3\" class=\"data row0 col3\" >0.787</td>\n",
       "            </tr>\n",
       "            <tr>\n",
       "                        <th id=\"T_e7de8_level0_row1\" class=\"row_heading level0 row1\" >aug-cc-pCVDZ</th>\n",
       "                        <td id=\"T_e7de8_row1_col0\" class=\"data row1 col0\" >3.376</td>\n",
       "                        <td id=\"T_e7de8_row1_col1\" class=\"data row1 col1\" >0.799</td>\n",
       "                        <td id=\"T_e7de8_row1_col2\" class=\"data row1 col2\" >1.053</td>\n",
       "                        <td id=\"T_e7de8_row1_col3\" class=\"data row1 col3\" >0.748</td>\n",
       "            </tr>\n",
       "            <tr>\n",
       "                        <th id=\"T_e7de8_level0_row2\" class=\"row_heading level0 row2\" >aug-cc-pVTZ</th>\n",
       "                        <td id=\"T_e7de8_row2_col0\" class=\"data row2 col0\" >0.703</td>\n",
       "                        <td id=\"T_e7de8_row2_col1\" class=\"data row2 col1\" >0.516</td>\n",
       "                        <td id=\"T_e7de8_row2_col2\" class=\"data row2 col2\" >0.406</td>\n",
       "                        <td id=\"T_e7de8_row2_col3\" class=\"data row2 col3\" >0.297</td>\n",
       "            </tr>\n",
       "            <tr>\n",
       "                        <th id=\"T_e7de8_level0_row3\" class=\"row_heading level0 row3\" >aug-cc-pCVTZ</th>\n",
       "                        <td id=\"T_e7de8_row3_col0\" class=\"data row3 col0\" >0.671</td>\n",
       "                        <td id=\"T_e7de8_row3_col1\" class=\"data row3 col1\" >0.385</td>\n",
       "                        <td id=\"T_e7de8_row3_col2\" class=\"data row3 col2\" >0.339</td>\n",
       "                        <td id=\"T_e7de8_row3_col3\" class=\"data row3 col3\" >0.270</td>\n",
       "            </tr>\n",
       "            <tr>\n",
       "                        <th id=\"T_e7de8_level0_row4\" class=\"row_heading level0 row4\" >aug-cc-pV[DT]Z</th>\n",
       "                        <td id=\"T_e7de8_row4_col0\" class=\"data row4 col0\" >nan</td>\n",
       "                        <td id=\"T_e7de8_row4_col1\" class=\"data row4 col1\" >0.535</td>\n",
       "                        <td id=\"T_e7de8_row4_col2\" class=\"data row4 col2\" >0.155</td>\n",
       "                        <td id=\"T_e7de8_row4_col3\" class=\"data row4 col3\" >0.144</td>\n",
       "            </tr>\n",
       "            <tr>\n",
       "                        <th id=\"T_e7de8_level0_row5\" class=\"row_heading level0 row5\" >aug-cc-pCV[DT]Z</th>\n",
       "                        <td id=\"T_e7de8_row5_col0\" class=\"data row5 col0\" >nan</td>\n",
       "                        <td id=\"T_e7de8_row5_col1\" class=\"data row5 col1\" >0.373</td>\n",
       "                        <td id=\"T_e7de8_row5_col2\" class=\"data row5 col2\" >0.156</td>\n",
       "                        <td id=\"T_e7de8_row5_col3\" class=\"data row5 col3\" >0.178</td>\n",
       "            </tr>\n",
       "            <tr>\n",
       "                        <th id=\"T_e7de8_level0_row6\" class=\"row_heading level0 row6\" >aug-cc-pVQZ</th>\n",
       "                        <td id=\"T_e7de8_row6_col0\" class=\"data row6 col0\" >0.097</td>\n",
       "                        <td id=\"T_e7de8_row6_col1\" class=\"data row6 col1\" >0.403</td>\n",
       "                        <td id=\"T_e7de8_row6_col2\" class=\"data row6 col2\" >0.168</td>\n",
       "                        <td id=\"T_e7de8_row6_col3\" class=\"data row6 col3\" >0.124</td>\n",
       "            </tr>\n",
       "            <tr>\n",
       "                        <th id=\"T_e7de8_level0_row7\" class=\"row_heading level0 row7\" >aug-cc-pCVQZ</th>\n",
       "                        <td id=\"T_e7de8_row7_col0\" class=\"data row7 col0\" >0.084</td>\n",
       "                        <td id=\"T_e7de8_row7_col1\" class=\"data row7 col1\" >0.244</td>\n",
       "                        <td id=\"T_e7de8_row7_col2\" class=\"data row7 col2\" >0.120</td>\n",
       "                        <td id=\"T_e7de8_row7_col3\" class=\"data row7 col3\" >0.101</td>\n",
       "            </tr>\n",
       "            <tr>\n",
       "                        <th id=\"T_e7de8_level0_row8\" class=\"row_heading level0 row8\" >aug-cc-pV[TQ]Z</th>\n",
       "                        <td id=\"T_e7de8_row8_col0\" class=\"data row8 col0\" >nan</td>\n",
       "                        <td id=\"T_e7de8_row8_col1\" class=\"data row8 col1\" >0.359</td>\n",
       "                        <td id=\"T_e7de8_row8_col2\" class=\"data row8 col2\" >0.111</td>\n",
       "                        <td id=\"T_e7de8_row8_col3\" class=\"data row8 col3\" >0.086</td>\n",
       "            </tr>\n",
       "            <tr>\n",
       "                        <th id=\"T_e7de8_level0_row9\" class=\"row_heading level0 row9\" >aug-cc-pCV[TQ]Z</th>\n",
       "                        <td id=\"T_e7de8_row9_col0\" class=\"data row9 col0\" >nan</td>\n",
       "                        <td id=\"T_e7de8_row9_col1\" class=\"data row9 col1\" >0.179</td>\n",
       "                        <td id=\"T_e7de8_row9_col2\" class=\"data row9 col2\" >0.131</td>\n",
       "                        <td id=\"T_e7de8_row9_col3\" class=\"data row9 col3\" >0.096</td>\n",
       "            </tr>\n",
       "            <tr>\n",
       "                        <th id=\"T_e7de8_level0_row10\" class=\"row_heading level0 row10\" >aug-cc-pV5Z</th>\n",
       "                        <td id=\"T_e7de8_row10_col0\" class=\"data row10 col0\" >0.024</td>\n",
       "                        <td id=\"T_e7de8_row10_col1\" class=\"data row10 col1\" >0.233</td>\n",
       "                        <td id=\"T_e7de8_row10_col2\" class=\"data row10 col2\" >0.082</td>\n",
       "                        <td id=\"T_e7de8_row10_col3\" class=\"data row10 col3\" >0.065</td>\n",
       "            </tr>\n",
       "            <tr>\n",
       "                        <th id=\"T_e7de8_level0_row11\" class=\"row_heading level0 row11\" >aug-cc-pCV5Z</th>\n",
       "                        <td id=\"T_e7de8_row11_col0\" class=\"data row11 col0\" >0.000</td>\n",
       "                        <td id=\"T_e7de8_row11_col1\" class=\"data row11 col1\" >0.125</td>\n",
       "                        <td id=\"T_e7de8_row11_col2\" class=\"data row11 col2\" >0.061</td>\n",
       "                        <td id=\"T_e7de8_row11_col3\" class=\"data row11 col3\" >0.052</td>\n",
       "            </tr>\n",
       "            <tr>\n",
       "                        <th id=\"T_e7de8_level0_row12\" class=\"row_heading level0 row12\" >aug-cc-pV[Q5]Z</th>\n",
       "                        <td id=\"T_e7de8_row12_col0\" class=\"data row12 col0\" >nan</td>\n",
       "                        <td id=\"T_e7de8_row12_col1\" class=\"data row12 col1\" >0.071</td>\n",
       "                        <td id=\"T_e7de8_row12_col2\" class=\"data row12 col2\" >0.013</td>\n",
       "                        <td id=\"T_e7de8_row12_col3\" class=\"data row12 col3\" >0.017</td>\n",
       "            </tr>\n",
       "            <tr>\n",
       "                        <th id=\"T_e7de8_level0_row13\" class=\"row_heading level0 row13\" >aug-cc-pCV[Q5]Z</th>\n",
       "                        <td id=\"T_e7de8_row13_col0\" class=\"data row13 col0\" >nan</td>\n",
       "                        <td id=\"T_e7de8_row13_col1\" class=\"data row13 col1\" >0.000</td>\n",
       "                        <td id=\"T_e7de8_row13_col2\" class=\"data row13 col2\" >0.000</td>\n",
       "                        <td id=\"T_e7de8_row13_col3\" class=\"data row13 col3\" >0.000</td>\n",
       "            </tr>\n",
       "    </tbody></table>"
      ],
      "text/plain": [
       "<pandas.io.formats.style.Styler at 0x2162eae3850>"
      ]
     },
     "execution_count": 14,
     "metadata": {},
     "output_type": "execute_result"
    }
   ],
   "source": [
    "df_iso_valid.loc[[\n",
    "    \"aug-cc-pVDZ\", \"aug-cc-pCVDZ\",\n",
    "    \"aug-cc-pVTZ\", \"aug-cc-pCVTZ\",\n",
    "    \"aug-cc-pV[DT]Z\", \"aug-cc-pCV[DT]Z\",\n",
    "    \"aug-cc-pVQZ\", \"aug-cc-pCVQZ\",\n",
    "    \"aug-cc-pV[TQ]Z\",  \"aug-cc-pCV[TQ]Z\",\n",
    "    \"aug-cc-pV5Z\", \"aug-cc-pCV5Z\",\n",
    "    \"aug-cc-pV[Q5]Z\", \"aug-cc-pCV[Q5]Z\",\n",
    "]].style.format(\"{:.3f}\")"
   ]
  },
  {
   "cell_type": "markdown",
   "id": "9ec96c65-56e5-4d99-a645-10ab93e8af51",
   "metadata": {},
   "source": [
    "## Special Cases (footnotes of Table 2 in main text)"
   ]
  },
  {
   "cell_type": "markdown",
   "id": "8c4f8a16-52d5-4858-8ea2-dbc9ad3d5de7",
   "metadata": {},
   "source": [
    "aCV[DT]Z: excluding O2, SO"
   ]
  },
  {
   "cell_type": "code",
   "execution_count": 15,
   "id": "cca5832a-b46b-464e-9891-a3e1bf6ad51b",
   "metadata": {},
   "outputs": [],
   "source": [
    "mol_list_exclude_sp = ['Cl2', 'CO', 'CO2', 'H2O', 'N2', 'NH3', 'PH3', 'SH2', 'SiH4', 'SO2', 'FCN', 'HCHS']"
   ]
  },
  {
   "cell_type": "code",
   "execution_count": 16,
   "id": "04278f11-0e12-4a8b-9ca1-d14866f4afed",
   "metadata": {},
   "outputs": [
    {
     "data": {
      "text/plain": [
       "SCF              NaN\n",
       "Corr2       0.355010\n",
       "CorrD       0.126222\n",
       "CorrD(T)    0.135834\n",
       "Name: RelRMSD/%, dtype: float64"
      ]
     },
     "execution_count": 16,
     "metadata": {},
     "output_type": "execute_result"
    }
   ],
   "source": [
    "get_df_err(\n",
    "    df_iso.loc[\"aug-cc-pCV[DT]Z\"].loc[mol_list_exclude_sp],\n",
    "    df_iso_ref[contrib_list].loc[mol_list_exclude_sp],\n",
    "    df_iso_ref[\"CCSD(T)\"].loc[mol_list_exclude_sp]).loc[\"RelRMSD/%\"]"
   ]
  },
  {
   "cell_type": "markdown",
   "id": "5eb7348b-1314-4d43-8ab1-b14a45f38e5d",
   "metadata": {},
   "source": [
    "aCV[TQ]Z: excluding Cl2"
   ]
  },
  {
   "cell_type": "code",
   "execution_count": 17,
   "id": "cafbf81b-3be7-4260-a82c-a43fe1ed778b",
   "metadata": {},
   "outputs": [],
   "source": [
    "mol_list_exclude_cl2 = ['CO', 'CO2', 'H2O', 'N2', 'NH3', 'O2', 'PH3', 'SH2', 'SiH4', 'SO-trip', 'SO2', 'FCN', 'HCHS']"
   ]
  },
  {
   "cell_type": "code",
   "execution_count": 18,
   "id": "140263c4-d32f-4458-ac83-f951bc55a00f",
   "metadata": {},
   "outputs": [
    {
     "data": {
      "text/plain": [
       "SCF              NaN\n",
       "Corr2       0.145040\n",
       "CorrD       0.088966\n",
       "CorrD(T)    0.069069\n",
       "Name: RelRMSD/%, dtype: float64"
      ]
     },
     "execution_count": 18,
     "metadata": {},
     "output_type": "execute_result"
    }
   ],
   "source": [
    "get_df_err(\n",
    "    df_iso.loc[\"aug-cc-pCV[TQ]Z\"].loc[mol_list_exclude_cl2],\n",
    "    df_iso_ref[contrib_list].loc[mol_list_exclude_cl2],\n",
    "    df_iso_ref[\"CCSD(T)\"].loc[mol_list_exclude_cl2]).loc[\"RelRMSD/%\"]"
   ]
  }
 ],
 "metadata": {
  "kernelspec": {
   "display_name": "Python 3 (ipykernel)",
   "language": "python",
   "name": "python3"
  },
  "language_info": {
   "codemirror_mode": {
    "name": "ipython",
    "version": 3
   },
   "file_extension": ".py",
   "mimetype": "text/x-python",
   "name": "python",
   "nbconvert_exporter": "python",
   "pygments_lexer": "ipython3",
   "version": "3.8.5"
  }
 },
 "nbformat": 4,
 "nbformat_minor": 5
}
